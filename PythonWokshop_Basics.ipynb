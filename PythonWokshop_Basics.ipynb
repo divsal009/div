{
  "nbformat": 4,
  "nbformat_minor": 0,
  "metadata": {
    "colab": {
      "name": "PythonWokshop_Basics.ipynb",
      "provenance": [],
      "authorship_tag": "ABX9TyPv4vxJwLFaLPeIcBEsE232",
      "include_colab_link": true
    },
    "kernelspec": {
      "name": "python3",
      "display_name": "Python 3"
    },
    "language_info": {
      "name": "python"
    },
    "accelerator": "GPU"
  },
  "cells": [
    {
      "cell_type": "markdown",
      "metadata": {
        "id": "view-in-github",
        "colab_type": "text"
      },
      "source": [
        "<a href=\"https://colab.research.google.com/github/divsal009/div/blob/master/PythonWokshop_Basics.ipynb\" target=\"_parent\"><img src=\"https://colab.research.google.com/assets/colab-badge.svg\" alt=\"Open In Colab\"/></a>"
      ]
    },
    {
      "cell_type": "markdown",
      "metadata": {
        "id": "DaPSiDGIr41g"
      },
      "source": [
        "# **My Python Notebook**"
      ]
    },
    {
      "cell_type": "code",
      "metadata": {
        "colab": {
          "base_uri": "https://localhost:8080/"
        },
        "id": "SJafgpm6r_92",
        "outputId": "e32d3301-f8e6-4bf4-b88a-adf8986d191a"
      },
      "source": [
        "print(\"Hello World\")"
      ],
      "execution_count": null,
      "outputs": [
        {
          "output_type": "stream",
          "text": [
            "Hello World\n"
          ],
          "name": "stdout"
        }
      ]
    },
    {
      "cell_type": "markdown",
      "metadata": {
        "id": "Oom9jKE_q7xo"
      },
      "source": [
        ""
      ]
    },
    {
      "cell_type": "code",
      "metadata": {
        "colab": {
          "base_uri": "https://localhost:8080/"
        },
        "id": "UIRHI1YNr8VE",
        "outputId": "3216b3cc-73eb-4e4b-8f4b-3ecbb9adc334"
      },
      "source": [
        "a=5\n",
        "print(a)\n",
        "print(type(a))"
      ],
      "execution_count": null,
      "outputs": [
        {
          "output_type": "stream",
          "text": [
            "5\n",
            "<class 'int'>\n"
          ],
          "name": "stdout"
        }
      ]
    },
    {
      "cell_type": "code",
      "metadata": {
        "colab": {
          "base_uri": "https://localhost:8080/"
        },
        "id": "w-6NYfgsslKz",
        "outputId": "cdb26842-c59c-4d79-b4dc-9fbde5cca15f"
      },
      "source": [
        "a=5.8\n",
        "print(a)\n",
        "print(type(a))"
      ],
      "execution_count": null,
      "outputs": [
        {
          "output_type": "stream",
          "text": [
            "5.8\n",
            "<class 'float'>\n"
          ],
          "name": "stdout"
        }
      ]
    },
    {
      "cell_type": "code",
      "metadata": {
        "colab": {
          "base_uri": "https://localhost:8080/"
        },
        "id": "yxdo1UNksvvH",
        "outputId": "9075a0b3-a404-487a-ffbe-2bc639638642"
      },
      "source": [
        "a='hello'\n",
        "print(a)\n",
        "print(type(a))"
      ],
      "execution_count": null,
      "outputs": [
        {
          "output_type": "stream",
          "text": [
            "hello\n",
            "<class 'str'>\n"
          ],
          "name": "stdout"
        }
      ]
    },
    {
      "cell_type": "code",
      "metadata": {
        "colab": {
          "base_uri": "https://localhost:8080/"
        },
        "id": "Tuli2zrKs7pc",
        "outputId": "2f8e8087-6246-4229-ef3c-d6f0f8f69c93"
      },
      "source": [
        "a=True\n",
        "print(a)\n",
        "print(type(a))"
      ],
      "execution_count": null,
      "outputs": [
        {
          "output_type": "stream",
          "text": [
            "True\n",
            "<class 'bool'>\n"
          ],
          "name": "stdout"
        }
      ]
    },
    {
      "cell_type": "code",
      "metadata": {
        "colab": {
          "base_uri": "https://localhost:8080/"
        },
        "id": "99GsdQ-9tCzY",
        "outputId": "897963d1-45a8-4033-a096-289aa1ffc043"
      },
      "source": [
        "a=5+4j\n",
        "print(a)\n",
        "print(type(a))"
      ],
      "execution_count": null,
      "outputs": [
        {
          "output_type": "stream",
          "text": [
            "(5+4j)\n",
            "<class 'complex'>\n"
          ],
          "name": "stdout"
        }
      ]
    },
    {
      "cell_type": "code",
      "metadata": {
        "colab": {
          "base_uri": "https://localhost:8080/"
        },
        "id": "F9A-gZ7buDnO",
        "outputId": "bec10c9f-7711-47c4-8799-2008251bc75c"
      },
      "source": [
        "a=7\n",
        "b=3\n",
        "print(a/b)"
      ],
      "execution_count": null,
      "outputs": [
        {
          "output_type": "stream",
          "text": [
            "2.3333333333333335\n"
          ],
          "name": "stdout"
        }
      ]
    },
    {
      "cell_type": "code",
      "metadata": {
        "colab": {
          "base_uri": "https://localhost:8080/"
        },
        "id": "Mz_esxCFuMrj",
        "outputId": "bd4e831e-d15e-4860-d9cd-be562bbe90cb"
      },
      "source": [
        "a=7\n",
        "b=3\n",
        "print(a//b)"
      ],
      "execution_count": null,
      "outputs": [
        {
          "output_type": "stream",
          "text": [
            "2\n"
          ],
          "name": "stdout"
        }
      ]
    },
    {
      "cell_type": "code",
      "metadata": {
        "colab": {
          "base_uri": "https://localhost:8080/"
        },
        "id": "9dZEBVo1uPOf",
        "outputId": "84eacead-1173-4f79-9c98-57279f82c0e5"
      },
      "source": [
        "a=7\n",
        "b=3\n",
        "print(a%b)"
      ],
      "execution_count": null,
      "outputs": [
        {
          "output_type": "stream",
          "text": [
            "1\n"
          ],
          "name": "stdout"
        }
      ]
    },
    {
      "cell_type": "code",
      "metadata": {
        "colab": {
          "base_uri": "https://localhost:8080/"
        },
        "id": "Jn6ndanluUlV",
        "outputId": "5224a269-eaf6-4e41-d093-62b7617ad6f9"
      },
      "source": [
        "#power\n",
        "a=2\n",
        "b=3\n",
        "print(a**b)"
      ],
      "execution_count": null,
      "outputs": [
        {
          "output_type": "stream",
          "text": [
            "8\n"
          ],
          "name": "stdout"
        }
      ]
    },
    {
      "cell_type": "code",
      "metadata": {
        "colab": {
          "base_uri": "https://localhost:8080/"
        },
        "id": "XiVGuWesuftv",
        "outputId": "d3d28d2e-29f2-41db-f430-5ee7443bcc3d"
      },
      "source": [
        "T=True\n",
        "F=False\n",
        "print(T,F)"
      ],
      "execution_count": null,
      "outputs": [
        {
          "output_type": "stream",
          "text": [
            "True False\n"
          ],
          "name": "stdout"
        }
      ]
    },
    {
      "cell_type": "code",
      "metadata": {
        "colab": {
          "base_uri": "https://localhost:8080/"
        },
        "id": "TOecc5-_u58b",
        "outputId": "a153c7de-1428-44d4-86d6-faaa4fab2c5c"
      },
      "source": [
        "p=5>3\n",
        "print(p)"
      ],
      "execution_count": null,
      "outputs": [
        {
          "output_type": "stream",
          "text": [
            "True\n"
          ],
          "name": "stdout"
        }
      ]
    },
    {
      "cell_type": "code",
      "metadata": {
        "colab": {
          "base_uri": "https://localhost:8080/"
        },
        "id": "JWU1FWu8vLbg",
        "outputId": "67ca2713-834f-4b56-aae7-cf2d39e2d29e"
      },
      "source": [
        "q=-3>0\n",
        "print(q)"
      ],
      "execution_count": null,
      "outputs": [
        {
          "output_type": "stream",
          "text": [
            "False\n"
          ],
          "name": "stdout"
        }
      ]
    },
    {
      "cell_type": "code",
      "metadata": {
        "colab": {
          "base_uri": "https://localhost:8080/"
        },
        "id": "IgQyTULBvBWG",
        "outputId": "7b7d23af-ec25-49ae-cdb2-a5bf8083ba6c"
      },
      "source": [
        "print(p and q)"
      ],
      "execution_count": null,
      "outputs": [
        {
          "output_type": "stream",
          "text": [
            "False\n"
          ],
          "name": "stdout"
        }
      ]
    },
    {
      "cell_type": "code",
      "metadata": {
        "colab": {
          "base_uri": "https://localhost:8080/"
        },
        "id": "bM-CecoQvWLu",
        "outputId": "c8707ce7-8da5-4627-edee-45f4da32821f"
      },
      "source": [
        "s='hello'\n",
        "print(s)"
      ],
      "execution_count": null,
      "outputs": [
        {
          "output_type": "stream",
          "text": [
            "hello\n"
          ],
          "name": "stdout"
        }
      ]
    },
    {
      "cell_type": "code",
      "metadata": {
        "colab": {
          "base_uri": "https://localhost:8080/"
        },
        "id": "IWiZFu-zwK0R",
        "outputId": "84c09792-dd7d-4044-d518-8a9ade9092ee"
      },
      "source": [
        "s1='world'\n",
        "print(s1)"
      ],
      "execution_count": null,
      "outputs": [
        {
          "output_type": "stream",
          "text": [
            "world\n"
          ],
          "name": "stdout"
        }
      ]
    },
    {
      "cell_type": "code",
      "metadata": {
        "colab": {
          "base_uri": "https://localhost:8080/"
        },
        "id": "1YlJtscnvTMn",
        "outputId": "d8cc27db-5b96-4f27-b5b1-763a345191de"
      },
      "source": [
        "\n",
        "s3=s + ' ' +s1\n",
        "print(s3)"
      ],
      "execution_count": null,
      "outputs": [
        {
          "output_type": "stream",
          "text": [
            "hello world\n"
          ],
          "name": "stdout"
        }
      ]
    },
    {
      "cell_type": "code",
      "metadata": {
        "colab": {
          "base_uri": "https://localhost:8080/"
        },
        "id": "m14czFCSwW6N",
        "outputId": "ec6800ec-7506-40ec-a034-a16d17adb397"
      },
      "source": [
        "s5='%s %s %d' %(s,s1,1011)\n",
        "print(s5)"
      ],
      "execution_count": null,
      "outputs": [
        {
          "output_type": "stream",
          "text": [
            "hello world 1011\n"
          ],
          "name": "stdout"
        }
      ]
    },
    {
      "cell_type": "code",
      "metadata": {
        "id": "_TL2f-ehwsRY"
      },
      "source": [
        ""
      ],
      "execution_count": null,
      "outputs": []
    },
    {
      "cell_type": "code",
      "metadata": {
        "id": "lrkyX59pwse9"
      },
      "source": [
        ""
      ],
      "execution_count": null,
      "outputs": []
    },
    {
      "cell_type": "code",
      "metadata": {
        "colab": {
          "base_uri": "https://localhost:8080/"
        },
        "id": "YfG8lKNZwspt",
        "outputId": "754eae24-878d-4094-d058-9a01efe7cd03"
      },
      "source": [
        "number=888\n",
        "if number > 99 and number < 1000:\n",
        "  print('3 digit')\n",
        "else:\n",
        "  print('Not 3 digit')\n",
        "\n"
      ],
      "execution_count": null,
      "outputs": [
        {
          "output_type": "stream",
          "text": [
            "3 digit\n"
          ],
          "name": "stdout"
        }
      ]
    },
    {
      "cell_type": "code",
      "metadata": {
        "colab": {
          "base_uri": "https://localhost:8080/"
        },
        "id": "eX-H0tsIxX3G",
        "outputId": "1da23704-f0a3-43ca-e47d-0145d34f1c0d"
      },
      "source": [
        "response=input()\n",
        "if response.upper()=='YES':\n",
        "  print(\"hai\")\n",
        "elif response.upper()=='NO':\n",
        "  print(\"hello\")\n",
        "else:\n",
        "  print(\"world\")\n"
      ],
      "execution_count": null,
      "outputs": [
        {
          "output_type": "stream",
          "text": [
            "YES\n",
            "hai\n"
          ],
          "name": "stdout"
        }
      ]
    },
    {
      "cell_type": "code",
      "metadata": {
        "colab": {
          "base_uri": "https://localhost:8080/"
        },
        "id": "jiNbBW4kyNya",
        "outputId": "dcc357e4-26bd-4f94-c2ea-f49d82cd12ce"
      },
      "source": [
        "response=input('ENTER YES OR NO: ')\n",
        "if response.upper()=='YES':\n",
        "  print(\"hai\")\n",
        "elif response.upper()=='NO':\n",
        "  print(\"hello\")\n",
        "else:\n",
        "  print(\"world\")"
      ],
      "execution_count": null,
      "outputs": [
        {
          "output_type": "stream",
          "text": [
            "ENTER YES OR NO: NO\n",
            "hello\n"
          ],
          "name": "stdout"
        }
      ]
    },
    {
      "cell_type": "code",
      "metadata": {
        "colab": {
          "base_uri": "https://localhost:8080/"
        },
        "id": "ja6Xx4JJyehd",
        "outputId": "4c15a817-58a3-4b8f-ab30-54143b5c5d02"
      },
      "source": [
        "for x in range(10):\n",
        "  print(x,end=' ')"
      ],
      "execution_count": null,
      "outputs": [
        {
          "output_type": "stream",
          "text": [
            "0 1 2 3 4 5 6 7 8 9 "
          ],
          "name": "stdout"
        }
      ]
    },
    {
      "cell_type": "code",
      "metadata": {
        "colab": {
          "base_uri": "https://localhost:8080/"
        },
        "id": "Gd-6zF9fy5To",
        "outputId": "c986fd4d-1104-4f33-982b-41b5257488ba"
      },
      "source": [
        "\n",
        "print(list(range(10)))"
      ],
      "execution_count": null,
      "outputs": [
        {
          "output_type": "stream",
          "text": [
            "[0, 1, 2, 3, 4, 5, 6, 7, 8, 9]\n"
          ],
          "name": "stdout"
        }
      ]
    },
    {
      "cell_type": "code",
      "metadata": {
        "colab": {
          "base_uri": "https://localhost:8080/"
        },
        "id": "VEAsL0W0zIsm",
        "outputId": "d0b9a69c-0fda-4dee-fa81-45c940093c74"
      },
      "source": [
        "print(list(range(1,10)))"
      ],
      "execution_count": null,
      "outputs": [
        {
          "output_type": "stream",
          "text": [
            "[1, 2, 3, 4, 5, 6, 7, 8, 9]\n"
          ],
          "name": "stdout"
        }
      ]
    },
    {
      "cell_type": "code",
      "metadata": {
        "colab": {
          "base_uri": "https://localhost:8080/"
        },
        "id": "uko1D3yRzSof",
        "outputId": "226efef5-3641-4269-ef6d-4cc8419c9a2b"
      },
      "source": [
        "print(list(range(1,10,2)))"
      ],
      "execution_count": null,
      "outputs": [
        {
          "output_type": "stream",
          "text": [
            "[1, 3, 5, 7, 9]\n"
          ],
          "name": "stdout"
        }
      ]
    },
    {
      "cell_type": "code",
      "metadata": {
        "colab": {
          "base_uri": "https://localhost:8080/"
        },
        "id": "heAMIvSDzVXs",
        "outputId": "bc30ed75-6255-4540-88be-295a15091fae"
      },
      "source": [
        "limit=int(input('Enter a limit:'))\n",
        "sum=0\n",
        "for i in range(1,limit+1):\n",
        "  if i%2!=0:\n",
        "    sum+=i\n",
        "print(\"Odd sum=\"+str(sum))\n",
        "\n"
      ],
      "execution_count": null,
      "outputs": [
        {
          "output_type": "stream",
          "text": [
            "Enter a limit:10\n",
            "Odd sum=25\n"
          ],
          "name": "stdout"
        }
      ]
    },
    {
      "cell_type": "code",
      "metadata": {
        "colab": {
          "base_uri": "https://localhost:8080/"
        },
        "id": "HXxDr1-sz6bh",
        "outputId": "4dc2cada-618d-4f96-cbac-2125068d5257"
      },
      "source": [
        "number=int(input('Enter a number:'))\n",
        "sum=0\n",
        "while number > 0 :\n",
        "  sum += number%10\n",
        "  number=number//10\n",
        "print(sum)"
      ],
      "execution_count": null,
      "outputs": [
        {
          "output_type": "stream",
          "text": [
            "Enter a number:1254\n",
            "12\n"
          ],
          "name": "stdout"
        }
      ]
    },
    {
      "cell_type": "code",
      "metadata": {
        "id": "rTqr2J8l1GiT"
      },
      "source": [
        ""
      ],
      "execution_count": null,
      "outputs": []
    },
    {
      "cell_type": "markdown",
      "metadata": {
        "id": "TN8lsfnd1YHg"
      },
      "source": [
        "## Containers\n"
      ]
    },
    {
      "cell_type": "code",
      "metadata": {
        "colab": {
          "base_uri": "https://localhost:8080/"
        },
        "id": "mUitDvb91V02",
        "outputId": "e860098a-e015-4686-a8e2-3bab9c12047d"
      },
      "source": [
        "mylist=['a',1,1.2,True]\n",
        "print(mylist)\n",
        "print(type(mylist))"
      ],
      "execution_count": null,
      "outputs": [
        {
          "output_type": "stream",
          "text": [
            "['a', 1, 1.2, True]\n",
            "<class 'list'>\n"
          ],
          "name": "stdout"
        }
      ]
    },
    {
      "cell_type": "code",
      "metadata": {
        "colab": {
          "base_uri": "https://localhost:8080/"
        },
        "id": "M1Hx4Cdk1z_5",
        "outputId": "0ed908d9-fb4b-434b-dcb1-58a95488d3e7"
      },
      "source": [
        "mylist.append('new')\n",
        "print(mylist)\n",
        "\n"
      ],
      "execution_count": null,
      "outputs": [
        {
          "output_type": "stream",
          "text": [
            "['a', 1, 1.2, True, 'new', 'new']\n"
          ],
          "name": "stdout"
        }
      ]
    },
    {
      "cell_type": "code",
      "metadata": {
        "colab": {
          "base_uri": "https://localhost:8080/"
        },
        "id": "uEg-aBR819kc",
        "outputId": "20bcf11c-2a8d-4667-ea65-536fc2ef7597"
      },
      "source": [
        "print(mylist.pop())\n"
      ],
      "execution_count": null,
      "outputs": [
        {
          "output_type": "stream",
          "text": [
            "new\n"
          ],
          "name": "stdout"
        }
      ]
    },
    {
      "cell_type": "code",
      "metadata": {
        "colab": {
          "base_uri": "https://localhost:8080/"
        },
        "id": "Hl5wuQvm2IFo",
        "outputId": "3835a78a-04e0-4ee0-d5a8-fc1a931d341e"
      },
      "source": [
        "print(mylist)\n"
      ],
      "execution_count": null,
      "outputs": [
        {
          "output_type": "stream",
          "text": [
            "['a', 1, 1.2, True, 'new']\n"
          ],
          "name": "stdout"
        }
      ]
    },
    {
      "cell_type": "code",
      "metadata": {
        "colab": {
          "base_uri": "https://localhost:8080/"
        },
        "id": "rWrVQJvF2KCr",
        "outputId": "31694bbd-0197-4769-f73a-ff4d0ce04472"
      },
      "source": [
        "mylist.insert(2,'hai')\n",
        "print(mylist)\n"
      ],
      "execution_count": null,
      "outputs": [
        {
          "output_type": "stream",
          "text": [
            "['a', 1, 'hai', 1.2, True, 'new']\n"
          ],
          "name": "stdout"
        }
      ]
    },
    {
      "cell_type": "code",
      "metadata": {
        "colab": {
          "base_uri": "https://localhost:8080/"
        },
        "id": "QGKjTCft2U1J",
        "outputId": "ea738866-a284-470a-97f7-d55eb6f5bf68"
      },
      "source": [
        "mylist.remove('hai')\n",
        "print(mylist)\n"
      ],
      "execution_count": null,
      "outputs": [
        {
          "output_type": "stream",
          "text": [
            "['a', 1, 1.2, True, 'new']\n"
          ],
          "name": "stdout"
        }
      ]
    },
    {
      "cell_type": "code",
      "metadata": {
        "colab": {
          "base_uri": "https://localhost:8080/"
        },
        "id": "HpcO-RPH2fd3",
        "outputId": "93459b54-1673-4ec9-900a-9fedcc1e0678"
      },
      "source": [
        "b=[1,2,3]\n",
        "mylist.append(b)\n",
        "print(mylist)\n"
      ],
      "execution_count": null,
      "outputs": [
        {
          "output_type": "stream",
          "text": [
            "['a', 1, 1.2, True, 'new', [1, 2, 3]]\n"
          ],
          "name": "stdout"
        }
      ]
    },
    {
      "cell_type": "code",
      "metadata": {
        "colab": {
          "base_uri": "https://localhost:8080/"
        },
        "id": "CJPO1wNt2pqu",
        "outputId": "593ddd7d-f319-484c-ed86-faa6f3cb865f"
      },
      "source": [
        "mylist.remove(b)\n",
        "print(mylist)\n",
        "\n"
      ],
      "execution_count": null,
      "outputs": [
        {
          "output_type": "stream",
          "text": [
            "['a', 1, 1.2, True, 'new']\n"
          ],
          "name": "stdout"
        }
      ]
    },
    {
      "cell_type": "code",
      "metadata": {
        "colab": {
          "base_uri": "https://localhost:8080/"
        },
        "id": "aPiJt5eM21Xu",
        "outputId": "3360b942-8a49-46fd-c8d3-c6fe825807ed"
      },
      "source": [
        "mylist.extend(b)\n",
        "print(mylist)"
      ],
      "execution_count": null,
      "outputs": [
        {
          "output_type": "stream",
          "text": [
            "['a', 1, 1.2, True, 'new', 1, 2, 3]\n"
          ],
          "name": "stdout"
        }
      ]
    },
    {
      "cell_type": "code",
      "metadata": {
        "colab": {
          "base_uri": "https://localhost:8080/"
        },
        "id": "2hMzrMJa29rt",
        "outputId": "083096d6-7225-4e9d-912f-1ba811e6d4b3"
      },
      "source": [
        "a=[2,1]\n",
        "a.sort()\n",
        "print(a)"
      ],
      "execution_count": null,
      "outputs": [
        {
          "output_type": "stream",
          "text": [
            "[1, 2]\n"
          ],
          "name": "stdout"
        }
      ]
    },
    {
      "cell_type": "code",
      "metadata": {
        "colab": {
          "base_uri": "https://localhost:8080/"
        },
        "id": "y2wpQPin3HzV",
        "outputId": "fd3e627e-5e06-43a5-93a1-6d768720b96f"
      },
      "source": [
        "print(list('hello'))"
      ],
      "execution_count": null,
      "outputs": [
        {
          "output_type": "stream",
          "text": [
            "['h', 'e', 'l', 'l', 'o']\n"
          ],
          "name": "stdout"
        }
      ]
    },
    {
      "cell_type": "markdown",
      "metadata": {
        "id": "v2lzc2jt3fzN"
      },
      "source": [
        "# Slicing"
      ]
    },
    {
      "cell_type": "code",
      "metadata": {
        "colab": {
          "base_uri": "https://localhost:8080/"
        },
        "id": "Dcq8xsFj3wwf",
        "outputId": "2f9a929e-e7d2-4d38-b4c6-eff21e8b5505"
      },
      "source": [
        "print(mylist)"
      ],
      "execution_count": null,
      "outputs": [
        {
          "output_type": "stream",
          "text": [
            "['a', 1, 1.2, True, 'new', 1, 2, 3]\n"
          ],
          "name": "stdout"
        }
      ]
    },
    {
      "cell_type": "code",
      "metadata": {
        "colab": {
          "base_uri": "https://localhost:8080/"
        },
        "id": "eM9KsnxZ3UyN",
        "outputId": "a2c20c88-f299-4b6d-dcb6-d6c3f44f74c0"
      },
      "source": [
        "print(mylist[0],mylist[-1])"
      ],
      "execution_count": null,
      "outputs": [
        {
          "output_type": "stream",
          "text": [
            "a 3\n"
          ],
          "name": "stdout"
        }
      ]
    },
    {
      "cell_type": "code",
      "metadata": {
        "colab": {
          "base_uri": "https://localhost:8080/"
        },
        "id": "b-9SIYFD30gC",
        "outputId": "8498f891-86b1-479e-bc16-70a9479d159b"
      },
      "source": [
        "numbers=list(range(1,10))\n",
        "print(numbers)"
      ],
      "execution_count": null,
      "outputs": [
        {
          "output_type": "stream",
          "text": [
            "[1, 2, 3, 4, 5, 6, 7, 8, 9]\n"
          ],
          "name": "stdout"
        }
      ]
    },
    {
      "cell_type": "code",
      "metadata": {
        "colab": {
          "base_uri": "https://localhost:8080/"
        },
        "id": "UR9cMsg-4LRm",
        "outputId": "42759114-f91c-43f0-9440-05607fe9ff43"
      },
      "source": [
        "sliced=numbers[5:11]\n",
        "print(sliced)"
      ],
      "execution_count": null,
      "outputs": [
        {
          "output_type": "stream",
          "text": [
            "[6, 7, 8, 9]\n"
          ],
          "name": "stdout"
        }
      ]
    },
    {
      "cell_type": "code",
      "metadata": {
        "colab": {
          "base_uri": "https://localhost:8080/"
        },
        "id": "mo5_4zFv4jUq",
        "outputId": "c0eb85e1-f79d-4c30-f468-9440d8754821"
      },
      "source": [
        "numbers=list(range(1,10))\n",
        "print(numbers)"
      ],
      "execution_count": null,
      "outputs": [
        {
          "output_type": "stream",
          "text": [
            "[1, 2, 3, 4, 5, 6, 7, 8, 9]\n"
          ],
          "name": "stdout"
        }
      ]
    },
    {
      "cell_type": "code",
      "metadata": {
        "colab": {
          "base_uri": "https://localhost:8080/"
        },
        "id": "yXSjwyNO4caZ",
        "outputId": "56398073-32c5-43f8-9c8f-856907ada2d6"
      },
      "source": [
        "sliced=numbers[5:]\n",
        "print(sliced)"
      ],
      "execution_count": null,
      "outputs": [
        {
          "output_type": "stream",
          "text": [
            "[6, 7, 8, 9]\n"
          ],
          "name": "stdout"
        }
      ]
    },
    {
      "cell_type": "code",
      "metadata": {
        "colab": {
          "base_uri": "https://localhost:8080/"
        },
        "id": "9cESAARb4ecW",
        "outputId": "a269ae81-f9da-4372-ab44-bee47a05a12d"
      },
      "source": [
        "numbers=list(range(1,10))\n",
        "print(numbers)"
      ],
      "execution_count": null,
      "outputs": [
        {
          "output_type": "stream",
          "text": [
            "[1, 2, 3, 4, 5, 6, 7, 8, 9]\n"
          ],
          "name": "stdout"
        }
      ]
    },
    {
      "cell_type": "code",
      "metadata": {
        "colab": {
          "base_uri": "https://localhost:8080/"
        },
        "id": "vdsp4ZnR4p1n",
        "outputId": "6d280ff1-4ca9-4b8e-f3c8-808998a16238"
      },
      "source": [
        "sliced=numbers[:8]\n",
        "print(sliced)"
      ],
      "execution_count": null,
      "outputs": [
        {
          "output_type": "stream",
          "text": [
            "[1, 2, 3, 4, 5, 6, 7, 8]\n"
          ],
          "name": "stdout"
        }
      ]
    },
    {
      "cell_type": "code",
      "metadata": {
        "colab": {
          "base_uri": "https://localhost:8080/"
        },
        "id": "15_Ua4Sl4xBB",
        "outputId": "c69d7273-c358-4f45-91ac-190d50d2ced8"
      },
      "source": [
        "numbers=list(range(1,10))\n",
        "print(numbers)"
      ],
      "execution_count": null,
      "outputs": [
        {
          "output_type": "stream",
          "text": [
            "[1, 2, 3, 4, 5, 6, 7, 8, 9]\n"
          ],
          "name": "stdout"
        }
      ]
    },
    {
      "cell_type": "code",
      "metadata": {
        "colab": {
          "base_uri": "https://localhost:8080/"
        },
        "id": "GDMfG4Fc5GA2",
        "outputId": "ee21c444-c2d9-4a61-e4b3-9cd9f311ca27"
      },
      "source": [
        "square=[x**2 for x in numbers]\n",
        "print(square)"
      ],
      "execution_count": null,
      "outputs": [
        {
          "output_type": "stream",
          "text": [
            "[1, 4, 9, 16, 25, 36, 49, 64, 81]\n"
          ],
          "name": "stdout"
        }
      ]
    },
    {
      "cell_type": "code",
      "metadata": {
        "colab": {
          "base_uri": "https://localhost:8080/"
        },
        "id": "3gBXKc7G5N0M",
        "outputId": "0fa81fdc-3b07-4ea1-9f77-8e7f187606a4"
      },
      "source": [
        "odd_square=[x**2 for x in numbers if x%2 !=0]\n",
        "print(odd_square)"
      ],
      "execution_count": null,
      "outputs": [
        {
          "output_type": "stream",
          "text": [
            "[1, 9, 25, 49, 81]\n"
          ],
          "name": "stdout"
        }
      ]
    },
    {
      "cell_type": "code",
      "metadata": {
        "colab": {
          "base_uri": "https://localhost:8080/"
        },
        "id": "1u2de6gt5fFL",
        "outputId": "8bf5b746-5fe4-4226-ece8-7f4f9f7dea35"
      },
      "source": [
        "A=[4,6,8,9]\n",
        "AXA=[(a,b) for a in A for b in A if a!=b]\n",
        "print(AXA)"
      ],
      "execution_count": null,
      "outputs": [
        {
          "output_type": "stream",
          "text": [
            "[(4, 6), (4, 8), (4, 9), (6, 4), (6, 8), (6, 9), (8, 4), (8, 6), (8, 9), (9, 4), (9, 6), (9, 8)]\n"
          ],
          "name": "stdout"
        }
      ]
    },
    {
      "cell_type": "markdown",
      "metadata": {
        "id": "QUzGBb-S54IW"
      },
      "source": [
        "### **Dictionary**"
      ]
    },
    {
      "cell_type": "code",
      "metadata": {
        "colab": {
          "base_uri": "https://localhost:8080/"
        },
        "id": "dneppkNC57_c",
        "outputId": "037ba813-1136-4a41-ee3a-f6ca2f9ba2c6"
      },
      "source": [
        "person={'name': 'Manu', 'age' : 28}\n",
        "print(person['name'])"
      ],
      "execution_count": null,
      "outputs": [
        {
          "output_type": "stream",
          "text": [
            "Manu\n"
          ],
          "name": "stdout"
        }
      ]
    },
    {
      "cell_type": "code",
      "metadata": {
        "colab": {
          "base_uri": "https://localhost:8080/"
        },
        "id": "wtXB2-Fv6QIm",
        "outputId": "fa9797c0-ffa0-4394-b65e-21bec1d7c34e"
      },
      "source": [
        "print('name' in person)"
      ],
      "execution_count": null,
      "outputs": [
        {
          "output_type": "stream",
          "text": [
            "True\n"
          ],
          "name": "stdout"
        }
      ]
    },
    {
      "cell_type": "code",
      "metadata": {
        "colab": {
          "base_uri": "https://localhost:8080/"
        },
        "id": "gh7_QNNh6XBH",
        "outputId": "7a8e0990-bfa3-4478-d11f-b3460636dffb"
      },
      "source": [
        "print('sex' in person)"
      ],
      "execution_count": null,
      "outputs": [
        {
          "output_type": "stream",
          "text": [
            "False\n"
          ],
          "name": "stdout"
        }
      ]
    },
    {
      "cell_type": "code",
      "metadata": {
        "colab": {
          "base_uri": "https://localhost:8080/"
        },
        "id": "shY-VKRk6bvL",
        "outputId": "ee151398-fff8-41a4-a342-e97339655b50"
      },
      "source": [
        "person['sex'] = 'male'\n",
        "print(person)"
      ],
      "execution_count": null,
      "outputs": [
        {
          "output_type": "stream",
          "text": [
            "{'name': 'Manu', 'age': 28, 'sex': 'male'}\n"
          ],
          "name": "stdout"
        }
      ]
    },
    {
      "cell_type": "code",
      "metadata": {
        "colab": {
          "base_uri": "https://localhost:8080/"
        },
        "id": "NrMRJnFr61lX",
        "outputId": "18ac216a-65e9-4e34-e366-ad4bd3b5b829"
      },
      "source": [
        "for item in person:\n",
        "  print(item,person[item])"
      ],
      "execution_count": null,
      "outputs": [
        {
          "output_type": "stream",
          "text": [
            "name Manu\n",
            "age 28\n",
            "sex male\n"
          ],
          "name": "stdout"
        }
      ]
    },
    {
      "cell_type": "code",
      "metadata": {
        "id": "J_VxH17O7Ad0"
      },
      "source": [
        ""
      ],
      "execution_count": null,
      "outputs": []
    },
    {
      "cell_type": "markdown",
      "metadata": {
        "id": "KKIzJE_T7BK8"
      },
      "source": [
        "Tuples"
      ]
    }
  ]
}