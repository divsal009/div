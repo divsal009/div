{
  "nbformat": 4,
  "nbformat_minor": 0,
  "metadata": {
    "kernelspec": {
      "display_name": "Python 3",
      "language": "python",
      "name": "python3"
    },
    "language_info": {
      "codemirror_mode": {
        "name": "ipython",
        "version": 3
      },
      "file_extension": ".py",
      "mimetype": "text/x-python",
      "name": "python",
      "nbconvert_exporter": "python",
      "pygments_lexer": "ipython3",
      "version": "3.8.5"
    },
    "colab": {
      "name": "TransferLearning (2).ipynb",
      "provenance": [],
      "include_colab_link": true
    },
    "accelerator": "GPU"
  },
  "cells": [
    {
      "cell_type": "markdown",
      "metadata": {
        "id": "view-in-github",
        "colab_type": "text"
      },
      "source": [
        "<a href=\"https://colab.research.google.com/github/divsal009/div/blob/master/TransferLearning.ipynb\" target=\"_parent\"><img src=\"https://colab.research.google.com/assets/colab-badge.svg\" alt=\"Open In Colab\"/></a>"
      ]
    },
    {
      "cell_type": "code",
      "metadata": {
        "id": "FpWVJfh39Jvk",
        "colab": {
          "base_uri": "https://localhost:8080/"
        },
        "outputId": "eae78339-d75e-4696-dde5-ad9c8e21d5e6"
      },
      "source": [
        "import os\n",
        "from PIL import Image\n",
        "import numpy as np\n",
        "import keras\n",
        "import os\n",
        "import cv2\n",
        "from matplotlib import pyplot as plt\n",
        "from keras.applications.vgg16 import VGG16\n",
        "from keras.applications.resnet50 import ResNet50\n",
        "from keras.applications.xception import Xception\n",
        "from keras.applications.mobilenet_v2 import MobileNetV2\n",
        "from keras.applications.inception_v3 import InceptionV3\n",
        "from keras.applications.densenet import DenseNet121\n",
        "from keras.preprocessing import image\n",
        "from keras.applications.vgg16 import preprocess_input\n",
        "import numpy as np\n",
        "from keras.applications.vgg16 import decode_predictions\n",
        "import tensorflow as tf\n",
        "from tensorflow.python.keras import layers\n",
        "from tensorflow.python.keras import models\n",
        "import random\n",
        "\n",
        "\n",
        "\n",
        "vggModel = VGG16(weights='imagenet', include_top=False)\n",
        "resModel = ResNet50(weights='imagenet',include_top=False)\n",
        "xceptionModel = Xception(weights='imagenet',include_top=False)\n",
        "mobilenetModel = MobileNetV2(weights='imagenet',include_top=False)\n",
        "inceptionModel = InceptionV3(weights='imagenet',include_top=False)\n",
        "densenetModel = DenseNet121(weights='imagenet',include_top=False)\n",
        "\n",
        "model = resModel\n",
        "\n",
        "X = []\n",
        "Y = []\n",
        "classCount = 0\n",
        "\n",
        "base_path='./dataset'\n",
        "\n",
        "source_path=base_path\n",
        "for child in os.listdir(source_path):\n",
        "    classCount +=1\n",
        "    print(child)\n",
        "    sub_path = os.path.join(source_path, child)\n",
        "    if os.path.isdir(sub_path):\n",
        "        for data_file in os.listdir(sub_path):\n",
        "            Qry = Image.open(os.path.join(sub_path, data_file))\n",
        "            Qry = Qry.convert(\"RGB\")\n",
        "            Qry = np.array(Qry.resize((224,224)))\n",
        "            Qry = Qry.reshape([-1,224,224,3])\n",
        "            feature=(model.predict([Qry])).flatten()\n",
        "            #print(feature_set)\n",
        "            X.append(feature)\n",
        "            Y.append(child)\n",
        "    \n",
        "#print(X)\n",
        "#print(Y)\n",
        "print('No of classes : ',classCount)\n"
      ],
      "execution_count": 4,
      "outputs": [
        {
          "output_type": "stream",
          "text": [
            "WARNING:tensorflow:`input_shape` is undefined or non-square, or `rows` is not in [96, 128, 160, 192, 224]. Weights for input shape (224, 224) will be loaded as the default.\n",
            "lemon\n",
            "melon\n",
            "No of classes :  2\n"
          ],
          "name": "stdout"
        }
      ]
    },
    {
      "cell_type": "code",
      "metadata": {
        "colab": {
          "base_uri": "https://localhost:8080/"
        },
        "id": "2Y7mbb-I9b_f",
        "outputId": "1d5f08b3-a6eb-43e3-9a3e-31f29f1bdcf0"
      },
      "source": [
        "from google.colab import drive\n",
        "drive.mount('/content/drive')"
      ],
      "execution_count": 5,
      "outputs": [
        {
          "output_type": "stream",
          "text": [
            "Drive already mounted at /content/drive; to attempt to forcibly remount, call drive.mount(\"/content/drive\", force_remount=True).\n"
          ],
          "name": "stdout"
        }
      ]
    },
    {
      "cell_type": "code",
      "metadata": {
        "colab": {
          "base_uri": "https://localhost:8080/"
        },
        "id": "YHgFvnuM9s4R",
        "outputId": "2815972d-ec5c-4d27-e2a6-da59d63c7797"
      },
      "source": [
        "cd /content/drive/MyDrive/"
      ],
      "execution_count": 6,
      "outputs": [
        {
          "output_type": "stream",
          "text": [
            "/content/drive/MyDrive\n"
          ],
          "name": "stdout"
        }
      ]
    },
    {
      "cell_type": "code",
      "metadata": {
        "id": "63vtLszr9Jvp",
        "colab": {
          "base_uri": "https://localhost:8080/"
        },
        "outputId": "85900954-1d1e-447b-a4fe-8c89e65becdb"
      },
      "source": [
        "print(np.shape(X))\n",
        "print(np.shape(Y))"
      ],
      "execution_count": 7,
      "outputs": [
        {
          "output_type": "stream",
          "text": [
            "(42, 100352)\n",
            "(42,)\n"
          ],
          "name": "stdout"
        }
      ]
    },
    {
      "cell_type": "code",
      "metadata": {
        "id": "uo3GkUWm9Jvq",
        "colab": {
          "base_uri": "https://localhost:8080/"
        },
        "outputId": "9e85ac63-d1cd-4048-a185-310935898639"
      },
      "source": [
        "from sklearn.ensemble import ExtraTreesClassifier\n",
        "from sklearn.feature_selection import SelectFromModel\n",
        "\n",
        "clf = ExtraTreesClassifier(n_estimators=50)\n",
        "clf = clf.fit(X, Y)\n",
        "model = SelectFromModel(clf, prefit=True)\n",
        "X = model.transform(X)\n",
        "\n",
        "print(np.shape(X))\n",
        "print(np.shape(Y))"
      ],
      "execution_count": 8,
      "outputs": [
        {
          "output_type": "stream",
          "text": [
            "(42, 239)\n",
            "(42,)\n"
          ],
          "name": "stdout"
        }
      ]
    },
    {
      "cell_type": "code",
      "metadata": {
        "id": "JIrv5SSa9Jvq",
        "colab": {
          "base_uri": "https://localhost:8080/"
        },
        "outputId": "57b9fc85-7053-499c-c3a1-08205da42028"
      },
      "source": [
        "from sklearn.preprocessing import LabelEncoder\n",
        "from sklearn.model_selection import train_test_split\n",
        "\n",
        "encoder = LabelEncoder()\n",
        "y = encoder.fit_transform(Y)\n",
        "print(y)        \n",
        "X_train, X_test, y_train, y_test = train_test_split(np.array(X), np.array(y), \n",
        "                                                    test_size=0.3, random_state=42)\n",
        "\n",
        "random.seed(42)\n",
        "np.random.seed(42)\n",
        "tf.random.set_seed(42)\n",
        "\n",
        "\n",
        "dnnModel=models.Sequential()\n",
        "dnnModel.add(layers.Dense(10000,activation=\"relu\",input_shape=(np.shape(X)[1],)))\n",
        "dnnModel.add(layers.Dense(5000,activation=\"relu\"))\n",
        "dnnModel.add(layers.Dense(2000,activation=\"relu\"))\n",
        "dnnModel.add(layers.Dense(500,activation=\"relu\"))\n",
        "dnnModel.add(layers.Dense(300,activation=\"relu\"))\n",
        "dnnModel.add(layers.Dense(200,activation=\"relu\"))\n",
        "dnnModel.add(layers.Dense(120,activation=\"relu\"))\n",
        "dnnModel.add(layers.Dense(30,activation=\"relu\"))\n",
        "dnnModel.add(layers.Dense(30,activation=\"relu\"))\n",
        "dnnModel.add(layers.Dense(1,activation=\"sigmoid\"))\n",
        "dnnModel.summary()\n",
        "\n",
        "\n",
        "dnnModel.compile(optimizer=\"adam\",loss=\"binary_crossentropy\",metrics=[\"accuracy\"])\n",
        "\n",
        "\n",
        "dnnModel.fit(X_train,y_train,epochs=25,batch_size=4)\n",
        "\n",
        "testloss, testAccuracy=dnnModel.evaluate(X_test,y_test)\n",
        "\n",
        "print(testAccuracy)\n"
      ],
      "execution_count": 9,
      "outputs": [
        {
          "output_type": "stream",
          "text": [
            "[0 0 0 0 0 0 0 0 0 0 0 0 0 0 0 0 0 0 0 0 0 0 1 1 1 1 1 1 1 1 1 1 1 1 1 1 1\n",
            " 1 1 1 1 1]\n",
            "Model: \"sequential\"\n",
            "_________________________________________________________________\n",
            "Layer (type)                 Output Shape              Param #   \n",
            "=================================================================\n",
            "dense (Dense)                (None, 10000)             2400000   \n",
            "_________________________________________________________________\n",
            "dense_1 (Dense)              (None, 5000)              50005000  \n",
            "_________________________________________________________________\n",
            "dense_2 (Dense)              (None, 2000)              10002000  \n",
            "_________________________________________________________________\n",
            "dense_3 (Dense)              (None, 500)               1000500   \n",
            "_________________________________________________________________\n",
            "dense_4 (Dense)              (None, 300)               150300    \n",
            "_________________________________________________________________\n",
            "dense_5 (Dense)              (None, 200)               60200     \n",
            "_________________________________________________________________\n",
            "dense_6 (Dense)              (None, 120)               24120     \n",
            "_________________________________________________________________\n",
            "dense_7 (Dense)              (None, 30)                3630      \n",
            "_________________________________________________________________\n",
            "dense_8 (Dense)              (None, 30)                930       \n",
            "_________________________________________________________________\n",
            "dense_9 (Dense)              (None, 1)                 31        \n",
            "=================================================================\n",
            "Total params: 63,646,711\n",
            "Trainable params: 63,646,711\n",
            "Non-trainable params: 0\n",
            "_________________________________________________________________\n",
            "Epoch 1/25\n",
            "8/8 [==============================] - 1s 34ms/step - loss: 1.6080 - accuracy: 0.6207\n",
            "Epoch 2/25\n",
            "8/8 [==============================] - 0s 30ms/step - loss: 0.0475 - accuracy: 0.9655\n",
            "Epoch 3/25\n",
            "8/8 [==============================] - 0s 27ms/step - loss: 7.7666e-05 - accuracy: 1.0000\n",
            "Epoch 4/25\n",
            "8/8 [==============================] - 0s 28ms/step - loss: 6.3239e-07 - accuracy: 1.0000\n",
            "Epoch 5/25\n",
            "8/8 [==============================] - 0s 27ms/step - loss: 1.5823e-07 - accuracy: 1.0000\n",
            "Epoch 6/25\n",
            "8/8 [==============================] - 0s 27ms/step - loss: 9.6625e-08 - accuracy: 1.0000\n",
            "Epoch 7/25\n",
            "8/8 [==============================] - 0s 26ms/step - loss: 3.6394e-08 - accuracy: 1.0000\n",
            "Epoch 8/25\n",
            "8/8 [==============================] - 0s 27ms/step - loss: 2.7675e-08 - accuracy: 1.0000\n",
            "Epoch 9/25\n",
            "8/8 [==============================] - 0s 27ms/step - loss: 2.1868e-08 - accuracy: 1.0000\n",
            "Epoch 10/25\n",
            "8/8 [==============================] - 0s 27ms/step - loss: 1.9689e-08 - accuracy: 1.0000\n",
            "Epoch 11/25\n",
            "8/8 [==============================] - 0s 27ms/step - loss: 1.8972e-08 - accuracy: 1.0000\n",
            "Epoch 12/25\n",
            "8/8 [==============================] - 0s 27ms/step - loss: 1.8067e-08 - accuracy: 1.0000\n",
            "Epoch 13/25\n",
            "8/8 [==============================] - 0s 28ms/step - loss: 1.7653e-08 - accuracy: 1.0000\n",
            "Epoch 14/25\n",
            "8/8 [==============================] - 0s 27ms/step - loss: 1.7040e-08 - accuracy: 1.0000\n",
            "Epoch 15/25\n",
            "8/8 [==============================] - 0s 27ms/step - loss: 1.6741e-08 - accuracy: 1.0000\n",
            "Epoch 16/25\n",
            "8/8 [==============================] - 0s 27ms/step - loss: 1.6235e-08 - accuracy: 1.0000\n",
            "Epoch 17/25\n",
            "8/8 [==============================] - 0s 27ms/step - loss: 1.5936e-08 - accuracy: 1.0000\n",
            "Epoch 18/25\n",
            "8/8 [==============================] - 0s 27ms/step - loss: 1.4913e-08 - accuracy: 1.0000\n",
            "Epoch 19/25\n",
            "8/8 [==============================] - 0s 26ms/step - loss: 1.4700e-08 - accuracy: 1.0000\n",
            "Epoch 20/25\n",
            "8/8 [==============================] - 0s 26ms/step - loss: 1.4261e-08 - accuracy: 1.0000\n",
            "Epoch 21/25\n",
            "8/8 [==============================] - 0s 27ms/step - loss: 1.3991e-08 - accuracy: 1.0000\n",
            "Epoch 22/25\n",
            "8/8 [==============================] - 0s 26ms/step - loss: 1.3773e-08 - accuracy: 1.0000\n",
            "Epoch 23/25\n",
            "8/8 [==============================] - 0s 26ms/step - loss: 1.3527e-08 - accuracy: 1.0000\n",
            "Epoch 24/25\n",
            "8/8 [==============================] - 0s 27ms/step - loss: 1.3221e-08 - accuracy: 1.0000\n",
            "Epoch 25/25\n",
            "8/8 [==============================] - 0s 27ms/step - loss: 1.3026e-08 - accuracy: 1.0000\n",
            "1/1 [==============================] - 0s 201ms/step - loss: 4.2498e-08 - accuracy: 1.0000\n",
            "1.0\n"
          ],
          "name": "stdout"
        }
      ]
    },
    {
      "cell_type": "code",
      "metadata": {
        "id": "X4Ml78Dz9Jvr"
      },
      "source": [
        "from sklearn.model_selection import cross_val_score\n",
        "from sklearn.linear_model import LogisticRegression\n",
        "from sklearn.naive_bayes import GaussianNB\n",
        "from sklearn.svm import SVC\n",
        "from sklearn.ensemble import RandomForestClassifier\n",
        "from sklearn.ensemble import VotingClassifier\n",
        "import seaborn as sns\n",
        "from sklearn.metrics import confusion_matrix"
      ],
      "execution_count": 10,
      "outputs": []
    },
    {
      "cell_type": "code",
      "metadata": {
        "id": "4VAtskse9Jvs",
        "colab": {
          "base_uri": "https://localhost:8080/",
          "height": 421
        },
        "outputId": "8da14e85-8dde-4c0b-ae28-cd114503914f"
      },
      "source": [
        "\n",
        "clf1 = LogisticRegression(random_state=1)\n",
        "clf2 = RandomForestClassifier(n_estimators=50, random_state=1)\n",
        "clf3 = GaussianNB()\n",
        "clf4 = SVC()\n",
        "\n",
        "eclf = VotingClassifier(\n",
        "    estimators=[('lr', clf1), ('rf', clf2), ('gnb', clf3), ('svm', clf4)],\n",
        "    voting='hard')\n",
        "\n",
        "acc=[]\n",
        "for clf, label in zip([clf1, clf2, clf3,clf4, eclf], ['Logistic Regression', 'Random Forest', 'Naive Bayes', 'SVM','Ensemble']):\n",
        "    scores = cross_val_score(clf, X, y, scoring='accuracy', cv=2)\n",
        "    print(\"Accuracy: %0.2f (+/- %0.2f) [%s]\" % (scores.mean(), scores.std(), label))\n",
        "    acc.append(scores.mean())\n",
        "sns.barplot(['Logistic Regression', 'Random Forest', 'Naive Bayes', 'SVM','Ensemble'],acc)"
      ],
      "execution_count": 11,
      "outputs": [
        {
          "output_type": "stream",
          "text": [
            "Accuracy: 0.98 (+/- 0.02) [Logistic Regression]\n",
            "Accuracy: 0.93 (+/- 0.02) [Random Forest]\n",
            "Accuracy: 0.90 (+/- 0.10) [Naive Bayes]\n",
            "Accuracy: 1.00 (+/- 0.00) [SVM]\n",
            "Accuracy: 0.98 (+/- 0.02) [Ensemble]\n"
          ],
          "name": "stdout"
        },
        {
          "output_type": "stream",
          "text": [
            "/usr/local/lib/python3.7/dist-packages/seaborn/_decorators.py:43: FutureWarning: Pass the following variables as keyword args: x, y. From version 0.12, the only valid positional argument will be `data`, and passing other arguments without an explicit keyword will result in an error or misinterpretation.\n",
            "  FutureWarning\n"
          ],
          "name": "stderr"
        },
        {
          "output_type": "execute_result",
          "data": {
            "text/plain": [
              "<matplotlib.axes._subplots.AxesSubplot at 0x7fab217b5e90>"
            ]
          },
          "metadata": {
            "tags": []
          },
          "execution_count": 11
        },
        {
          "output_type": "display_data",
          "data": {
            "image/png": "[encoded data removed]",
            "text/plain": [
              "<Figure size 432x288 with 1 Axes>"
            ]
          },
          "metadata": {
            "tags": [],
            "needs_background": "light"
          }
        }
      ]
    },
    {
      "cell_type": "code",
      "metadata": {
        "id": "3pOwhgg99Jvs",
        "colab": {
          "base_uri": "https://localhost:8080/",
          "height": 286
        },
        "outputId": "a076634e-2c16-4e67-90b9-a654a2d16213"
      },
      "source": [
        "clf1.fit(X_train,y_train)\n",
        "cm = confusion_matrix(y_test,clf1.predict(X_test))\n",
        "sns.heatmap(cm,annot=True,xticklabels=encoder.inverse_transform([0,1]),yticklabels=encoder.inverse_transform([0,1]),cmap='Greens')"
      ],
      "execution_count": 12,
      "outputs": [
        {
          "output_type": "execute_result",
          "data": {
            "text/plain": [
              "<matplotlib.axes._subplots.AxesSubplot at 0x7fab87ebb7d0>"
            ]
          },
          "metadata": {
            "tags": []
          },
          "execution_count": 12
        },
        {
          "output_type": "display_data",
          "data": {
            "image/png": "[encoded data removed]",
            "text/plain": [
              "<Figure size 432x288 with 2 Axes>"
            ]
          },
          "metadata": {
            "tags": [],
            "needs_background": "light"
          }
        }
      ]
    },
    {
      "cell_type": "code",
      "metadata": {
        "id": "hkNP2eK99Jvt",
        "colab": {
          "base_uri": "https://localhost:8080/",
          "height": 286
        },
        "outputId": "de2f0eff-de0d-456d-b3bd-2b819be62d4f"
      },
      "source": [
        "clf2.fit(X_train,y_train)\n",
        "cm = confusion_matrix(y_test,clf2.predict(X_test))\n",
        "sns.heatmap(cm,annot=True,xticklabels=encoder.inverse_transform([0,1]),yticklabels=encoder.inverse_transform([0,1]),cmap='Blues')"
      ],
      "execution_count": 13,
      "outputs": [
        {
          "output_type": "execute_result",
          "data": {
            "text/plain": [
              "<matplotlib.axes._subplots.AxesSubplot at 0x7fab2114e990>"
            ]
          },
          "metadata": {
            "tags": []
          },
          "execution_count": 13
        },
        {
          "output_type": "display_data",
          "data": {
            "image/png": "[encoded data removed]",
            "text/plain": [
              "<Figure size 432x288 with 2 Axes>"
            ]
          },
          "metadata": {
            "tags": [],
            "needs_background": "light"
          }
        }
      ]
    },
    {
      "cell_type": "code",
      "metadata": {
        "id": "WeI7DwXf9Jvu",
        "colab": {
          "base_uri": "https://localhost:8080/",
          "height": 286
        },
        "outputId": "f8809550-7a21-410c-d93d-4d17aafa0d01"
      },
      "source": [
        "clf3.fit(X_train,y_train)\n",
        "cm = confusion_matrix(y_test,clf3.predict(X_test))\n",
        "sns.heatmap(cm,annot=True,xticklabels=encoder.inverse_transform([0,1]),yticklabels=encoder.inverse_transform([0,1]),cmap='Oranges')"
      ],
      "execution_count": 14,
      "outputs": [
        {
          "output_type": "execute_result",
          "data": {
            "text/plain": [
              "<matplotlib.axes._subplots.AxesSubplot at 0x7fab21105c50>"
            ]
          },
          "metadata": {
            "tags": []
          },
          "execution_count": 14
        },
        {
          "output_type": "display_data",
          "data": {
            "image/png": "[encoded data removed]",
            "text/plain": [
              "<Figure size 432x288 with 2 Axes>"
            ]
          },
          "metadata": {
            "tags": [],
            "needs_background": "light"
          }
        }
      ]
    },
    {
      "cell_type": "code",
      "metadata": {
        "id": "ncMRkChG9Jvv",
        "colab": {
          "base_uri": "https://localhost:8080/",
          "height": 286
        },
        "outputId": "5530186e-e301-4ed5-a4fa-a76c78717b5a"
      },
      "source": [
        "clf4.fit(X_train,y_train)\n",
        "cm = confusion_matrix(y_test,clf4.predict(X_test))\n",
        "sns.heatmap(cm,annot=True,xticklabels=encoder.inverse_transform([0,1]),yticklabels=encoder.inverse_transform([0,1]), cmap='Reds')"
      ],
      "execution_count": 15,
      "outputs": [
        {
          "output_type": "execute_result",
          "data": {
            "text/plain": [
              "<matplotlib.axes._subplots.AxesSubplot at 0x7fab87c37f90>"
            ]
          },
          "metadata": {
            "tags": []
          },
          "execution_count": 15
        },
        {
          "output_type": "display_data",
          "data": {
            "image/png": "[encoded data removed]",
            "text/plain": [
              "<Figure size 432x288 with 2 Axes>"
            ]
          },
          "metadata": {
            "tags": [],
            "needs_background": "light"
          }
        }
      ]
    },
    {
      "cell_type": "code",
      "metadata": {
        "id": "h8sS8FeY9Jvw",
        "colab": {
          "base_uri": "https://localhost:8080/",
          "height": 286
        },
        "outputId": "73f7afb5-0cfd-4e10-9770-4a788f71c8cb"
      },
      "source": [
        "eclf.fit(X_train,y_train)\n",
        "cm = confusion_matrix(y_test,eclf.predict(X_test))\n",
        "sns.heatmap(cm,annot=True,xticklabels=encoder.inverse_transform([0,1]),yticklabels=encoder.inverse_transform([0,1]),cmap='Greys')"
      ],
      "execution_count": 16,
      "outputs": [
        {
          "output_type": "execute_result",
          "data": {
            "text/plain": [
              "<matplotlib.axes._subplots.AxesSubplot at 0x7fab87deafd0>"
            ]
          },
          "metadata": {
            "tags": []
          },
          "execution_count": 16
        },
        {
          "output_type": "display_data",
          "data": {
            "image/png": "[encoded data removed]",
            "text/plain": [
              "<Figure size 432x288 with 2 Axes>"
            ]
          },
          "metadata": {
            "tags": [],
            "needs_background": "light"
          }
        }
      ]
    },
    {
      "cell_type": "code",
      "metadata": {
        "id": "X-cn-_mE9Jvw"
      },
      "source": [
        ""
      ],
      "execution_count": 16,
      "outputs": []
    }
  ]
}