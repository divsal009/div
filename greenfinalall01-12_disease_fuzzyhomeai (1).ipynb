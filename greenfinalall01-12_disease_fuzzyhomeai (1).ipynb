{
 "cells": [
  {
   "cell_type": "code",
   "execution_count": 1,
   "id": "e07f2eef-22f4-4674-ad9d-e72280855f6a",
   "metadata": {},
   "outputs": [
    {
     "name": "stdout",
     "output_type": "stream",
     "text": [
      "Requirement already satisfied: nltk in c:\\python311\\lib\\site-packages (3.9.1)\n",
      "Requirement already satisfied: click in c:\\users\\saleel01\\appdata\\roaming\\python\\python311\\site-packages (from nltk) (8.1.7)\n",
      "Requirement already satisfied: joblib in c:\\python311\\lib\\site-packages (from nltk) (1.3.2)\n",
      "Requirement already satisfied: regex>=2021.8.3 in c:\\python311\\lib\\site-packages (from nltk) (2024.11.6)\n",
      "Requirement already satisfied: tqdm in c:\\users\\saleel01\\appdata\\roaming\\python\\python311\\site-packages (from nltk) (4.67.1)\n",
      "Requirement already satisfied: colorama in c:\\users\\saleel01\\appdata\\roaming\\python\\python311\\site-packages (from click->nltk) (0.4.6)\n"
     ]
    },
    {
     "name": "stderr",
     "output_type": "stream",
     "text": [
      "WARNING: Ignoring invalid distribution ~ (C:\\Python311\\Lib\\site-packages)\n",
      "WARNING: Ignoring invalid distribution ~-p (C:\\Python311\\Lib\\site-packages)\n",
      "WARNING: Ignoring invalid distribution ~=p (C:\\Python311\\Lib\\site-packages)\n",
      "WARNING: Ignoring invalid distribution ~ip (C:\\Python311\\Lib\\site-packages)\n",
      "WARNING: Ignoring invalid distribution ~~p (C:\\Python311\\Lib\\site-packages)\n",
      "WARNING: Ignoring invalid distribution ~ (C:\\Python311\\Lib\\site-packages)\n",
      "WARNING: Ignoring invalid distribution ~-p (C:\\Python311\\Lib\\site-packages)\n",
      "WARNING: Ignoring invalid distribution ~=p (C:\\Python311\\Lib\\site-packages)\n",
      "WARNING: Ignoring invalid distribution ~ip (C:\\Python311\\Lib\\site-packages)\n",
      "WARNING: Ignoring invalid distribution ~~p (C:\\Python311\\Lib\\site-packages)\n",
      "WARNING: Ignoring invalid distribution ~ (C:\\Python311\\Lib\\site-packages)\n",
      "WARNING: Ignoring invalid distribution ~-p (C:\\Python311\\Lib\\site-packages)\n",
      "WARNING: Ignoring invalid distribution ~=p (C:\\Python311\\Lib\\site-packages)\n",
      "WARNING: Ignoring invalid distribution ~ip (C:\\Python311\\Lib\\site-packages)\n",
      "WARNING: Ignoring invalid distribution ~~p (C:\\Python311\\Lib\\site-packages)\n"
     ]
    }
   ],
   "source": [
    "!pip install nltk"
   ]
  },
  {
   "cell_type": "code",
   "execution_count": 2,
   "id": "425e8d0b-4b19-4425-849a-a3fe72fb7643",
   "metadata": {},
   "outputs": [
    {
     "name": "stdout",
     "output_type": "stream",
     "text": [
      "Requirement already satisfied: pip in c:\\users\\saleel01\\appdata\\roaming\\python\\python311\\site-packages (24.3.1)\n"
     ]
    },
    {
     "name": "stderr",
     "output_type": "stream",
     "text": [
      "WARNING: Ignoring invalid distribution ~ (C:\\Python311\\Lib\\site-packages)\n",
      "WARNING: Ignoring invalid distribution ~-p (C:\\Python311\\Lib\\site-packages)\n",
      "WARNING: Ignoring invalid distribution ~=p (C:\\Python311\\Lib\\site-packages)\n",
      "WARNING: Ignoring invalid distribution ~ip (C:\\Python311\\Lib\\site-packages)\n",
      "WARNING: Ignoring invalid distribution ~~p (C:\\Python311\\Lib\\site-packages)\n",
      "WARNING: Ignoring invalid distribution ~ (C:\\Python311\\Lib\\site-packages)\n",
      "WARNING: Ignoring invalid distribution ~-p (C:\\Python311\\Lib\\site-packages)\n",
      "WARNING: Ignoring invalid distribution ~=p (C:\\Python311\\Lib\\site-packages)\n",
      "WARNING: Ignoring invalid distribution ~ip (C:\\Python311\\Lib\\site-packages)\n",
      "WARNING: Ignoring invalid distribution ~~p (C:\\Python311\\Lib\\site-packages)\n",
      "WARNING: Ignoring invalid distribution ~ (C:\\Python311\\Lib\\site-packages)\n",
      "WARNING: Ignoring invalid distribution ~-p (C:\\Python311\\Lib\\site-packages)\n",
      "WARNING: Ignoring invalid distribution ~=p (C:\\Python311\\Lib\\site-packages)\n",
      "WARNING: Ignoring invalid distribution ~ip (C:\\Python311\\Lib\\site-packages)\n",
      "WARNING: Ignoring invalid distribution ~~p (C:\\Python311\\Lib\\site-packages)\n"
     ]
    }
   ],
   "source": [
    "!python -m pip install --upgrade pip\n"
   ]
  },
  {
   "cell_type": "code",
   "execution_count": 3,
   "id": "a0814706-f6b2-4c1c-a626-cee8f1ebf0f0",
   "metadata": {},
   "outputs": [
    {
     "name": "stdout",
     "output_type": "stream",
     "text": [
      "Requirement already satisfied: flask in c:\\python311\\lib\\site-packages (2.2.1)\n",
      "Requirement already satisfied: Werkzeug>=2.2.0 in c:\\python311\\lib\\site-packages (from flask) (2.2.1)\n",
      "Requirement already satisfied: Jinja2>=3.0 in c:\\users\\saleel01\\appdata\\roaming\\python\\python311\\site-packages (from flask) (3.1.4)\n",
      "Requirement already satisfied: itsdangerous>=2.0 in c:\\python311\\lib\\site-packages (from flask) (2.1.1)\n",
      "Requirement already satisfied: click>=8.0 in c:\\users\\saleel01\\appdata\\roaming\\python\\python311\\site-packages (from flask) (8.1.7)\n",
      "Requirement already satisfied: colorama in c:\\users\\saleel01\\appdata\\roaming\\python\\python311\\site-packages (from click>=8.0->flask) (0.4.6)\n",
      "Requirement already satisfied: MarkupSafe>=2.0 in c:\\users\\saleel01\\appdata\\roaming\\python\\python311\\site-packages (from Jinja2>=3.0->flask) (3.0.2)\n"
     ]
    },
    {
     "name": "stderr",
     "output_type": "stream",
     "text": [
      "WARNING: Ignoring invalid distribution ~ (C:\\Python311\\Lib\\site-packages)\n",
      "WARNING: Ignoring invalid distribution ~-p (C:\\Python311\\Lib\\site-packages)\n",
      "WARNING: Ignoring invalid distribution ~=p (C:\\Python311\\Lib\\site-packages)\n",
      "WARNING: Ignoring invalid distribution ~ip (C:\\Python311\\Lib\\site-packages)\n",
      "WARNING: Ignoring invalid distribution ~~p (C:\\Python311\\Lib\\site-packages)\n",
      "WARNING: Ignoring invalid distribution ~ (C:\\Python311\\Lib\\site-packages)\n",
      "WARNING: Ignoring invalid distribution ~-p (C:\\Python311\\Lib\\site-packages)\n",
      "WARNING: Ignoring invalid distribution ~=p (C:\\Python311\\Lib\\site-packages)\n",
      "WARNING: Ignoring invalid distribution ~ip (C:\\Python311\\Lib\\site-packages)\n",
      "WARNING: Ignoring invalid distribution ~~p (C:\\Python311\\Lib\\site-packages)\n",
      "WARNING: Ignoring invalid distribution ~ (C:\\Python311\\Lib\\site-packages)\n",
      "WARNING: Ignoring invalid distribution ~-p (C:\\Python311\\Lib\\site-packages)\n",
      "WARNING: Ignoring invalid distribution ~=p (C:\\Python311\\Lib\\site-packages)\n",
      "WARNING: Ignoring invalid distribution ~ip (C:\\Python311\\Lib\\site-packages)\n",
      "WARNING: Ignoring invalid distribution ~~p (C:\\Python311\\Lib\\site-packages)\n"
     ]
    }
   ],
   "source": [
    "!pip install flask"
   ]
  },
  {
   "cell_type": "code",
   "execution_count": 4,
   "id": "b8e8198d-d5db-4810-8499-14a22fd730a4",
   "metadata": {},
   "outputs": [
    {
     "name": "stdout",
     "output_type": "stream",
     "text": [
      "Requirement already satisfied: flask in c:\\python311\\lib\\site-packages (2.2.1)\n",
      "Requirement already satisfied: fuzzywuzzy in c:\\python311\\lib\\site-packages (0.18.0)\n",
      "Requirement already satisfied: pandas in c:\\python311\\lib\\site-packages (2.2.3)\n",
      "Requirement already satisfied: Werkzeug>=2.2.0 in c:\\python311\\lib\\site-packages (from flask) (2.2.1)\n",
      "Requirement already satisfied: Jinja2>=3.0 in c:\\users\\saleel01\\appdata\\roaming\\python\\python311\\site-packages (from flask) (3.1.4)\n",
      "Requirement already satisfied: itsdangerous>=2.0 in c:\\python311\\lib\\site-packages (from flask) (2.1.1)\n",
      "Requirement already satisfied: click>=8.0 in c:\\users\\saleel01\\appdata\\roaming\\python\\python311\\site-packages (from flask) (8.1.7)\n",
      "Requirement already satisfied: numpy>=1.23.2 in c:\\users\\saleel01\\appdata\\roaming\\python\\python311\\site-packages (from pandas) (2.0.2)\n",
      "Requirement already satisfied: python-dateutil>=2.8.2 in c:\\python311\\lib\\site-packages (from pandas) (2.8.2)\n",
      "Requirement already satisfied: pytz>=2020.1 in c:\\python311\\lib\\site-packages (from pandas) (2023.3.post1)\n",
      "Requirement already satisfied: tzdata>=2022.7 in c:\\python311\\lib\\site-packages (from pandas) (2023.3)\n",
      "Requirement already satisfied: colorama in c:\\users\\saleel01\\appdata\\roaming\\python\\python311\\site-packages (from click>=8.0->flask) (0.4.6)\n",
      "Requirement already satisfied: MarkupSafe>=2.0 in c:\\users\\saleel01\\appdata\\roaming\\python\\python311\\site-packages (from Jinja2>=3.0->flask) (3.0.2)\n",
      "Requirement already satisfied: six>=1.5 in c:\\python311\\lib\\site-packages (from python-dateutil>=2.8.2->pandas) (1.16.0)\n"
     ]
    },
    {
     "name": "stderr",
     "output_type": "stream",
     "text": [
      "WARNING: Ignoring invalid distribution ~ (C:\\Python311\\Lib\\site-packages)\n",
      "WARNING: Ignoring invalid distribution ~-p (C:\\Python311\\Lib\\site-packages)\n",
      "WARNING: Ignoring invalid distribution ~=p (C:\\Python311\\Lib\\site-packages)\n",
      "WARNING: Ignoring invalid distribution ~ip (C:\\Python311\\Lib\\site-packages)\n",
      "WARNING: Ignoring invalid distribution ~~p (C:\\Python311\\Lib\\site-packages)\n",
      "WARNING: Ignoring invalid distribution ~ (C:\\Python311\\Lib\\site-packages)\n",
      "WARNING: Ignoring invalid distribution ~-p (C:\\Python311\\Lib\\site-packages)\n",
      "WARNING: Ignoring invalid distribution ~=p (C:\\Python311\\Lib\\site-packages)\n",
      "WARNING: Ignoring invalid distribution ~ip (C:\\Python311\\Lib\\site-packages)\n",
      "WARNING: Ignoring invalid distribution ~~p (C:\\Python311\\Lib\\site-packages)\n",
      "WARNING: Ignoring invalid distribution ~ (C:\\Python311\\Lib\\site-packages)\n",
      "WARNING: Ignoring invalid distribution ~-p (C:\\Python311\\Lib\\site-packages)\n",
      "WARNING: Ignoring invalid distribution ~=p (C:\\Python311\\Lib\\site-packages)\n",
      "WARNING: Ignoring invalid distribution ~ip (C:\\Python311\\Lib\\site-packages)\n",
      "WARNING: Ignoring invalid distribution ~~p (C:\\Python311\\Lib\\site-packages)\n"
     ]
    }
   ],
   "source": [
    "!pip install flask fuzzywuzzy pandas"
   ]
  },
  {
   "cell_type": "code",
   "execution_count": 5,
   "id": "48f4e53a-71a1-40da-9c26-5df7f93685ca",
   "metadata": {},
   "outputs": [
    {
     "name": "stdout",
     "output_type": "stream",
     "text": [
      "Requirement already satisfied: flask in c:\\python311\\lib\\site-packages (2.2.1)\n",
      "Requirement already satisfied: pandas in c:\\python311\\lib\\site-packages (2.2.3)\n",
      "Requirement already satisfied: nltk in c:\\python311\\lib\\site-packages (3.9.1)\n",
      "Requirement already satisfied: fuzzywuzzy in c:\\python311\\lib\\site-packages (0.18.0)\n",
      "Requirement already satisfied: openpyxl in c:\\python311\\lib\\site-packages (3.1.5)\n",
      "Requirement already satisfied: Werkzeug>=2.2.0 in c:\\python311\\lib\\site-packages (from flask) (2.2.1)\n",
      "Requirement already satisfied: Jinja2>=3.0 in c:\\users\\saleel01\\appdata\\roaming\\python\\python311\\site-packages (from flask) (3.1.4)\n",
      "Requirement already satisfied: itsdangerous>=2.0 in c:\\python311\\lib\\site-packages (from flask) (2.1.1)\n",
      "Requirement already satisfied: click>=8.0 in c:\\users\\saleel01\\appdata\\roaming\\python\\python311\\site-packages (from flask) (8.1.7)\n",
      "Requirement already satisfied: numpy>=1.23.2 in c:\\users\\saleel01\\appdata\\roaming\\python\\python311\\site-packages (from pandas) (2.0.2)\n",
      "Requirement already satisfied: python-dateutil>=2.8.2 in c:\\python311\\lib\\site-packages (from pandas) (2.8.2)\n",
      "Requirement already satisfied: pytz>=2020.1 in c:\\python311\\lib\\site-packages (from pandas) (2023.3.post1)\n",
      "Requirement already satisfied: tzdata>=2022.7 in c:\\python311\\lib\\site-packages (from pandas) (2023.3)\n",
      "Requirement already satisfied: joblib in c:\\python311\\lib\\site-packages (from nltk) (1.3.2)\n",
      "Requirement already satisfied: regex>=2021.8.3 in c:\\python311\\lib\\site-packages (from nltk) (2024.11.6)\n",
      "Requirement already satisfied: tqdm in c:\\users\\saleel01\\appdata\\roaming\\python\\python311\\site-packages (from nltk) (4.67.1)\n",
      "Requirement already satisfied: et-xmlfile in c:\\python311\\lib\\site-packages (from openpyxl) (2.0.0)\n",
      "Requirement already satisfied: colorama in c:\\users\\saleel01\\appdata\\roaming\\python\\python311\\site-packages (from click>=8.0->flask) (0.4.6)\n",
      "Requirement already satisfied: MarkupSafe>=2.0 in c:\\users\\saleel01\\appdata\\roaming\\python\\python311\\site-packages (from Jinja2>=3.0->flask) (3.0.2)\n",
      "Requirement already satisfied: six>=1.5 in c:\\python311\\lib\\site-packages (from python-dateutil>=2.8.2->pandas) (1.16.0)\n"
     ]
    },
    {
     "name": "stderr",
     "output_type": "stream",
     "text": [
      "WARNING: Ignoring invalid distribution ~ (C:\\Python311\\Lib\\site-packages)\n",
      "WARNING: Ignoring invalid distribution ~-p (C:\\Python311\\Lib\\site-packages)\n",
      "WARNING: Ignoring invalid distribution ~=p (C:\\Python311\\Lib\\site-packages)\n",
      "WARNING: Ignoring invalid distribution ~ip (C:\\Python311\\Lib\\site-packages)\n",
      "WARNING: Ignoring invalid distribution ~~p (C:\\Python311\\Lib\\site-packages)\n",
      "WARNING: Ignoring invalid distribution ~ (C:\\Python311\\Lib\\site-packages)\n",
      "WARNING: Ignoring invalid distribution ~-p (C:\\Python311\\Lib\\site-packages)\n",
      "WARNING: Ignoring invalid distribution ~=p (C:\\Python311\\Lib\\site-packages)\n",
      "WARNING: Ignoring invalid distribution ~ip (C:\\Python311\\Lib\\site-packages)\n",
      "WARNING: Ignoring invalid distribution ~~p (C:\\Python311\\Lib\\site-packages)\n",
      "WARNING: Ignoring invalid distribution ~ (C:\\Python311\\Lib\\site-packages)\n",
      "WARNING: Ignoring invalid distribution ~-p (C:\\Python311\\Lib\\site-packages)\n",
      "WARNING: Ignoring invalid distribution ~=p (C:\\Python311\\Lib\\site-packages)\n",
      "WARNING: Ignoring invalid distribution ~ip (C:\\Python311\\Lib\\site-packages)\n",
      "WARNING: Ignoring invalid distribution ~~p (C:\\Python311\\Lib\\site-packages)\n"
     ]
    }
   ],
   "source": [
    "!pip install flask pandas nltk fuzzywuzzy openpyxl"
   ]
  },
  {
   "cell_type": "code",
   "execution_count": 6,
   "id": "1c338e95-7c5f-480e-9c9a-8298fb448bef",
   "metadata": {},
   "outputs": [
    {
     "name": "stdout",
     "output_type": "stream",
     "text": [
      "Requirement already satisfied: pandas in c:\\python311\\lib\\site-packages (2.2.3)\n",
      "Requirement already satisfied: nltk in c:\\python311\\lib\\site-packages (3.9.1)\n",
      "Requirement already satisfied: fuzzywuzzy in c:\\python311\\lib\\site-packages (0.18.0)\n",
      "Requirement already satisfied: Flask in c:\\python311\\lib\\site-packages (2.2.1)\n",
      "Requirement already satisfied: numpy>=1.23.2 in c:\\users\\saleel01\\appdata\\roaming\\python\\python311\\site-packages (from pandas) (2.0.2)\n",
      "Requirement already satisfied: python-dateutil>=2.8.2 in c:\\python311\\lib\\site-packages (from pandas) (2.8.2)\n",
      "Requirement already satisfied: pytz>=2020.1 in c:\\python311\\lib\\site-packages (from pandas) (2023.3.post1)\n",
      "Requirement already satisfied: tzdata>=2022.7 in c:\\python311\\lib\\site-packages (from pandas) (2023.3)\n",
      "Requirement already satisfied: click in c:\\users\\saleel01\\appdata\\roaming\\python\\python311\\site-packages (from nltk) (8.1.7)\n",
      "Requirement already satisfied: joblib in c:\\python311\\lib\\site-packages (from nltk) (1.3.2)\n",
      "Requirement already satisfied: regex>=2021.8.3 in c:\\python311\\lib\\site-packages (from nltk) (2024.11.6)\n",
      "Requirement already satisfied: tqdm in c:\\users\\saleel01\\appdata\\roaming\\python\\python311\\site-packages (from nltk) (4.67.1)\n",
      "Requirement already satisfied: Werkzeug>=2.2.0 in c:\\python311\\lib\\site-packages (from Flask) (2.2.1)\n",
      "Requirement already satisfied: Jinja2>=3.0 in c:\\users\\saleel01\\appdata\\roaming\\python\\python311\\site-packages (from Flask) (3.1.4)\n",
      "Requirement already satisfied: itsdangerous>=2.0 in c:\\python311\\lib\\site-packages (from Flask) (2.1.1)\n",
      "Requirement already satisfied: colorama in c:\\users\\saleel01\\appdata\\roaming\\python\\python311\\site-packages (from click->nltk) (0.4.6)\n",
      "Requirement already satisfied: MarkupSafe>=2.0 in c:\\users\\saleel01\\appdata\\roaming\\python\\python311\\site-packages (from Jinja2>=3.0->Flask) (3.0.2)\n",
      "Requirement already satisfied: six>=1.5 in c:\\python311\\lib\\site-packages (from python-dateutil>=2.8.2->pandas) (1.16.0)\n"
     ]
    },
    {
     "name": "stderr",
     "output_type": "stream",
     "text": [
      "WARNING: Ignoring invalid distribution ~ (C:\\Python311\\Lib\\site-packages)\n",
      "WARNING: Ignoring invalid distribution ~-p (C:\\Python311\\Lib\\site-packages)\n",
      "WARNING: Ignoring invalid distribution ~=p (C:\\Python311\\Lib\\site-packages)\n",
      "WARNING: Ignoring invalid distribution ~ip (C:\\Python311\\Lib\\site-packages)\n",
      "WARNING: Ignoring invalid distribution ~~p (C:\\Python311\\Lib\\site-packages)\n",
      "WARNING: Ignoring invalid distribution ~ (C:\\Python311\\Lib\\site-packages)\n",
      "WARNING: Ignoring invalid distribution ~-p (C:\\Python311\\Lib\\site-packages)\n",
      "WARNING: Ignoring invalid distribution ~=p (C:\\Python311\\Lib\\site-packages)\n",
      "WARNING: Ignoring invalid distribution ~ip (C:\\Python311\\Lib\\site-packages)\n",
      "WARNING: Ignoring invalid distribution ~~p (C:\\Python311\\Lib\\site-packages)\n",
      "WARNING: Ignoring invalid distribution ~ (C:\\Python311\\Lib\\site-packages)\n",
      "WARNING: Ignoring invalid distribution ~-p (C:\\Python311\\Lib\\site-packages)\n",
      "WARNING: Ignoring invalid distribution ~=p (C:\\Python311\\Lib\\site-packages)\n",
      "WARNING: Ignoring invalid distribution ~ip (C:\\Python311\\Lib\\site-packages)\n",
      "WARNING: Ignoring invalid distribution ~~p (C:\\Python311\\Lib\\site-packages)\n"
     ]
    }
   ],
   "source": [
    "!pip install pandas nltk fuzzywuzzy Flask"
   ]
  },
  {
   "cell_type": "code",
   "execution_count": 7,
   "id": "f8328a8a-d851-4ac2-87ad-bb72d2a47ebb",
   "metadata": {},
   "outputs": [
    {
     "name": "stdout",
     "output_type": "stream",
     "text": [
      "Requirement already satisfied: fastapi in c:\\python311\\lib\\site-packages (0.115.5)\n",
      "Requirement already satisfied: uvicorn in c:\\python311\\lib\\site-packages (0.32.1)\n",
      "Requirement already satisfied: nest-asyncio in c:\\users\\saleel01\\appdata\\roaming\\python\\python311\\site-packages (1.6.0)\n",
      "Requirement already satisfied: pandas in c:\\python311\\lib\\site-packages (2.2.3)\n",
      "Requirement already satisfied: nltk in c:\\python311\\lib\\site-packages (3.9.1)\n",
      "Requirement already satisfied: fuzzywuzzy in c:\\python311\\lib\\site-packages (0.18.0)\n",
      "Requirement already satisfied: starlette<0.42.0,>=0.40.0 in c:\\python311\\lib\\site-packages (from fastapi) (0.41.3)\n",
      "Requirement already satisfied: pydantic!=1.8,!=1.8.1,!=2.0.0,!=2.0.1,!=2.1.0,<3.0.0,>=1.7.4 in c:\\users\\saleel01\\appdata\\roaming\\python\\python311\\site-packages (from fastapi) (2.10.2)\n",
      "Requirement already satisfied: typing-extensions>=4.8.0 in c:\\users\\saleel01\\appdata\\roaming\\python\\python311\\site-packages (from fastapi) (4.12.2)\n",
      "Requirement already satisfied: click>=7.0 in c:\\users\\saleel01\\appdata\\roaming\\python\\python311\\site-packages (from uvicorn) (8.1.7)\n",
      "Requirement already satisfied: h11>=0.8 in c:\\users\\saleel01\\appdata\\roaming\\python\\python311\\site-packages (from uvicorn) (0.14.0)\n",
      "Requirement already satisfied: numpy>=1.23.2 in c:\\users\\saleel01\\appdata\\roaming\\python\\python311\\site-packages (from pandas) (2.0.2)\n",
      "Requirement already satisfied: python-dateutil>=2.8.2 in c:\\python311\\lib\\site-packages (from pandas) (2.8.2)\n",
      "Requirement already satisfied: pytz>=2020.1 in c:\\python311\\lib\\site-packages (from pandas) (2023.3.post1)\n",
      "Requirement already satisfied: tzdata>=2022.7 in c:\\python311\\lib\\site-packages (from pandas) (2023.3)\n",
      "Requirement already satisfied: joblib in c:\\python311\\lib\\site-packages (from nltk) (1.3.2)\n",
      "Requirement already satisfied: regex>=2021.8.3 in c:\\python311\\lib\\site-packages (from nltk) (2024.11.6)\n",
      "Requirement already satisfied: tqdm in c:\\users\\saleel01\\appdata\\roaming\\python\\python311\\site-packages (from nltk) (4.67.1)\n",
      "Requirement already satisfied: colorama in c:\\users\\saleel01\\appdata\\roaming\\python\\python311\\site-packages (from click>=7.0->uvicorn) (0.4.6)\n",
      "Requirement already satisfied: annotated-types>=0.6.0 in c:\\users\\saleel01\\appdata\\roaming\\python\\python311\\site-packages (from pydantic!=1.8,!=1.8.1,!=2.0.0,!=2.0.1,!=2.1.0,<3.0.0,>=1.7.4->fastapi) (0.7.0)\n",
      "Requirement already satisfied: pydantic-core==2.27.1 in c:\\users\\saleel01\\appdata\\roaming\\python\\python311\\site-packages (from pydantic!=1.8,!=1.8.1,!=2.0.0,!=2.0.1,!=2.1.0,<3.0.0,>=1.7.4->fastapi) (2.27.1)\n",
      "Requirement already satisfied: six>=1.5 in c:\\python311\\lib\\site-packages (from python-dateutil>=2.8.2->pandas) (1.16.0)\n",
      "Requirement already satisfied: anyio<5,>=3.4.0 in c:\\users\\saleel01\\appdata\\roaming\\python\\python311\\site-packages (from starlette<0.42.0,>=0.40.0->fastapi) (4.6.2.post1)\n",
      "Requirement already satisfied: idna>=2.8 in c:\\users\\saleel01\\appdata\\roaming\\python\\python311\\site-packages (from anyio<5,>=3.4.0->starlette<0.42.0,>=0.40.0->fastapi) (3.10)\n",
      "Requirement already satisfied: sniffio>=1.1 in c:\\users\\saleel01\\appdata\\roaming\\python\\python311\\site-packages (from anyio<5,>=3.4.0->starlette<0.42.0,>=0.40.0->fastapi) (1.3.1)\n"
     ]
    },
    {
     "name": "stderr",
     "output_type": "stream",
     "text": [
      "WARNING: Ignoring invalid distribution ~ (C:\\Python311\\Lib\\site-packages)\n",
      "WARNING: Ignoring invalid distribution ~-p (C:\\Python311\\Lib\\site-packages)\n",
      "WARNING: Ignoring invalid distribution ~=p (C:\\Python311\\Lib\\site-packages)\n",
      "WARNING: Ignoring invalid distribution ~ip (C:\\Python311\\Lib\\site-packages)\n",
      "WARNING: Ignoring invalid distribution ~~p (C:\\Python311\\Lib\\site-packages)\n",
      "WARNING: Ignoring invalid distribution ~ (C:\\Python311\\Lib\\site-packages)\n",
      "WARNING: Ignoring invalid distribution ~-p (C:\\Python311\\Lib\\site-packages)\n",
      "WARNING: Ignoring invalid distribution ~=p (C:\\Python311\\Lib\\site-packages)\n",
      "WARNING: Ignoring invalid distribution ~ip (C:\\Python311\\Lib\\site-packages)\n",
      "WARNING: Ignoring invalid distribution ~~p (C:\\Python311\\Lib\\site-packages)\n",
      "WARNING: Ignoring invalid distribution ~ (C:\\Python311\\Lib\\site-packages)\n",
      "WARNING: Ignoring invalid distribution ~-p (C:\\Python311\\Lib\\site-packages)\n",
      "WARNING: Ignoring invalid distribution ~=p (C:\\Python311\\Lib\\site-packages)\n",
      "WARNING: Ignoring invalid distribution ~ip (C:\\Python311\\Lib\\site-packages)\n",
      "WARNING: Ignoring invalid distribution ~~p (C:\\Python311\\Lib\\site-packages)\n"
     ]
    }
   ],
   "source": [
    "!pip install fastapi uvicorn nest-asyncio pandas nltk fuzzywuzzy"
   ]
  },
  {
   "cell_type": "code",
   "execution_count": 8,
   "id": "47edc66d-0989-4ebe-8542-d01075d8533d",
   "metadata": {},
   "outputs": [
    {
     "name": "stdout",
     "output_type": "stream",
     "text": [
      "Requirement already satisfied: python-multipart in c:\\python311\\lib\\site-packages (0.0.17)\n"
     ]
    },
    {
     "name": "stderr",
     "output_type": "stream",
     "text": [
      "WARNING: Ignoring invalid distribution ~ (C:\\Python311\\Lib\\site-packages)\n",
      "WARNING: Ignoring invalid distribution ~-p (C:\\Python311\\Lib\\site-packages)\n",
      "WARNING: Ignoring invalid distribution ~=p (C:\\Python311\\Lib\\site-packages)\n",
      "WARNING: Ignoring invalid distribution ~ip (C:\\Python311\\Lib\\site-packages)\n",
      "WARNING: Ignoring invalid distribution ~~p (C:\\Python311\\Lib\\site-packages)\n",
      "WARNING: Ignoring invalid distribution ~ (C:\\Python311\\Lib\\site-packages)\n",
      "WARNING: Ignoring invalid distribution ~-p (C:\\Python311\\Lib\\site-packages)\n",
      "WARNING: Ignoring invalid distribution ~=p (C:\\Python311\\Lib\\site-packages)\n",
      "WARNING: Ignoring invalid distribution ~ip (C:\\Python311\\Lib\\site-packages)\n",
      "WARNING: Ignoring invalid distribution ~~p (C:\\Python311\\Lib\\site-packages)\n",
      "WARNING: Ignoring invalid distribution ~ (C:\\Python311\\Lib\\site-packages)\n",
      "WARNING: Ignoring invalid distribution ~-p (C:\\Python311\\Lib\\site-packages)\n",
      "WARNING: Ignoring invalid distribution ~=p (C:\\Python311\\Lib\\site-packages)\n",
      "WARNING: Ignoring invalid distribution ~ip (C:\\Python311\\Lib\\site-packages)\n",
      "WARNING: Ignoring invalid distribution ~~p (C:\\Python311\\Lib\\site-packages)\n"
     ]
    }
   ],
   "source": [
    "!pip install python-multipart"
   ]
  },
  {
   "cell_type": "code",
   "execution_count": 9,
   "id": "87d0c77b-51a7-4f0d-8964-3e02525ca980",
   "metadata": {},
   "outputs": [
    {
     "name": "stdout",
     "output_type": "stream",
     "text": [
      "Requirement already satisfied: fastapi in c:\\python311\\lib\\site-packages (0.115.5)\n",
      "Requirement already satisfied: uvicorn in c:\\python311\\lib\\site-packages (0.32.1)\n",
      "Requirement already satisfied: nest-asyncio in c:\\users\\saleel01\\appdata\\roaming\\python\\python311\\site-packages (1.6.0)\n",
      "Requirement already satisfied: pandas in c:\\python311\\lib\\site-packages (2.2.3)\n",
      "Requirement already satisfied: nltk in c:\\python311\\lib\\site-packages (3.9.1)\n",
      "Requirement already satisfied: fuzzywuzzy in c:\\python311\\lib\\site-packages (0.18.0)\n",
      "Requirement already satisfied: starlette<0.42.0,>=0.40.0 in c:\\python311\\lib\\site-packages (from fastapi) (0.41.3)\n",
      "Requirement already satisfied: pydantic!=1.8,!=1.8.1,!=2.0.0,!=2.0.1,!=2.1.0,<3.0.0,>=1.7.4 in c:\\users\\saleel01\\appdata\\roaming\\python\\python311\\site-packages (from fastapi) (2.10.2)\n",
      "Requirement already satisfied: typing-extensions>=4.8.0 in c:\\users\\saleel01\\appdata\\roaming\\python\\python311\\site-packages (from fastapi) (4.12.2)\n",
      "Requirement already satisfied: click>=7.0 in c:\\users\\saleel01\\appdata\\roaming\\python\\python311\\site-packages (from uvicorn) (8.1.7)\n",
      "Requirement already satisfied: h11>=0.8 in c:\\users\\saleel01\\appdata\\roaming\\python\\python311\\site-packages (from uvicorn) (0.14.0)\n",
      "Requirement already satisfied: numpy>=1.23.2 in c:\\users\\saleel01\\appdata\\roaming\\python\\python311\\site-packages (from pandas) (2.0.2)\n",
      "Requirement already satisfied: python-dateutil>=2.8.2 in c:\\python311\\lib\\site-packages (from pandas) (2.8.2)\n",
      "Requirement already satisfied: pytz>=2020.1 in c:\\python311\\lib\\site-packages (from pandas) (2023.3.post1)\n",
      "Requirement already satisfied: tzdata>=2022.7 in c:\\python311\\lib\\site-packages (from pandas) (2023.3)\n",
      "Requirement already satisfied: joblib in c:\\python311\\lib\\site-packages (from nltk) (1.3.2)\n",
      "Requirement already satisfied: regex>=2021.8.3 in c:\\python311\\lib\\site-packages (from nltk) (2024.11.6)\n",
      "Requirement already satisfied: tqdm in c:\\users\\saleel01\\appdata\\roaming\\python\\python311\\site-packages (from nltk) (4.67.1)\n",
      "Requirement already satisfied: colorama in c:\\users\\saleel01\\appdata\\roaming\\python\\python311\\site-packages (from click>=7.0->uvicorn) (0.4.6)\n",
      "Requirement already satisfied: annotated-types>=0.6.0 in c:\\users\\saleel01\\appdata\\roaming\\python\\python311\\site-packages (from pydantic!=1.8,!=1.8.1,!=2.0.0,!=2.0.1,!=2.1.0,<3.0.0,>=1.7.4->fastapi) (0.7.0)\n",
      "Requirement already satisfied: pydantic-core==2.27.1 in c:\\users\\saleel01\\appdata\\roaming\\python\\python311\\site-packages (from pydantic!=1.8,!=1.8.1,!=2.0.0,!=2.0.1,!=2.1.0,<3.0.0,>=1.7.4->fastapi) (2.27.1)\n",
      "Requirement already satisfied: six>=1.5 in c:\\python311\\lib\\site-packages (from python-dateutil>=2.8.2->pandas) (1.16.0)\n",
      "Requirement already satisfied: anyio<5,>=3.4.0 in c:\\users\\saleel01\\appdata\\roaming\\python\\python311\\site-packages (from starlette<0.42.0,>=0.40.0->fastapi) (4.6.2.post1)\n",
      "Requirement already satisfied: idna>=2.8 in c:\\users\\saleel01\\appdata\\roaming\\python\\python311\\site-packages (from anyio<5,>=3.4.0->starlette<0.42.0,>=0.40.0->fastapi) (3.10)\n",
      "Requirement already satisfied: sniffio>=1.1 in c:\\users\\saleel01\\appdata\\roaming\\python\\python311\\site-packages (from anyio<5,>=3.4.0->starlette<0.42.0,>=0.40.0->fastapi) (1.3.1)\n"
     ]
    },
    {
     "name": "stderr",
     "output_type": "stream",
     "text": [
      "WARNING: Ignoring invalid distribution ~ (C:\\Python311\\Lib\\site-packages)\n",
      "WARNING: Ignoring invalid distribution ~-p (C:\\Python311\\Lib\\site-packages)\n",
      "WARNING: Ignoring invalid distribution ~=p (C:\\Python311\\Lib\\site-packages)\n",
      "WARNING: Ignoring invalid distribution ~ip (C:\\Python311\\Lib\\site-packages)\n",
      "WARNING: Ignoring invalid distribution ~~p (C:\\Python311\\Lib\\site-packages)\n",
      "WARNING: Ignoring invalid distribution ~ (C:\\Python311\\Lib\\site-packages)\n",
      "WARNING: Ignoring invalid distribution ~-p (C:\\Python311\\Lib\\site-packages)\n",
      "WARNING: Ignoring invalid distribution ~=p (C:\\Python311\\Lib\\site-packages)\n",
      "WARNING: Ignoring invalid distribution ~ip (C:\\Python311\\Lib\\site-packages)\n",
      "WARNING: Ignoring invalid distribution ~~p (C:\\Python311\\Lib\\site-packages)\n",
      "WARNING: Ignoring invalid distribution ~ (C:\\Python311\\Lib\\site-packages)\n",
      "WARNING: Ignoring invalid distribution ~-p (C:\\Python311\\Lib\\site-packages)\n",
      "WARNING: Ignoring invalid distribution ~=p (C:\\Python311\\Lib\\site-packages)\n",
      "WARNING: Ignoring invalid distribution ~ip (C:\\Python311\\Lib\\site-packages)\n",
      "WARNING: Ignoring invalid distribution ~~p (C:\\Python311\\Lib\\site-packages)\n"
     ]
    }
   ],
   "source": [
    "!pip install fastapi uvicorn nest-asyncio pandas nltk fuzzywuzzy"
   ]
  },
  {
   "cell_type": "code",
   "execution_count": 10,
   "id": "13805b90-c262-4018-a169-186453380edf",
   "metadata": {},
   "outputs": [
    {
     "name": "stdout",
     "output_type": "stream",
     "text": [
      "Requirement already satisfied: pip in c:\\users\\saleel01\\appdata\\roaming\\python\\python311\\site-packages (24.3.1)\n",
      "Requirement already satisfied: setuptools in c:\\users\\saleel01\\appdata\\roaming\\python\\python311\\site-packages (75.6.0)\n",
      "Requirement already satisfied: wheel in c:\\python311\\lib\\site-packages (0.45.1)\n"
     ]
    },
    {
     "name": "stderr",
     "output_type": "stream",
     "text": [
      "WARNING: Ignoring invalid distribution ~ (C:\\Python311\\Lib\\site-packages)\n",
      "WARNING: Ignoring invalid distribution ~-p (C:\\Python311\\Lib\\site-packages)\n",
      "WARNING: Ignoring invalid distribution ~=p (C:\\Python311\\Lib\\site-packages)\n",
      "WARNING: Ignoring invalid distribution ~ip (C:\\Python311\\Lib\\site-packages)\n",
      "WARNING: Ignoring invalid distribution ~~p (C:\\Python311\\Lib\\site-packages)\n",
      "WARNING: Ignoring invalid distribution ~ (C:\\Python311\\Lib\\site-packages)\n",
      "WARNING: Ignoring invalid distribution ~-p (C:\\Python311\\Lib\\site-packages)\n",
      "WARNING: Ignoring invalid distribution ~=p (C:\\Python311\\Lib\\site-packages)\n",
      "WARNING: Ignoring invalid distribution ~ip (C:\\Python311\\Lib\\site-packages)\n",
      "WARNING: Ignoring invalid distribution ~~p (C:\\Python311\\Lib\\site-packages)\n",
      "WARNING: Ignoring invalid distribution ~ (C:\\Python311\\Lib\\site-packages)\n",
      "WARNING: Ignoring invalid distribution ~-p (C:\\Python311\\Lib\\site-packages)\n",
      "WARNING: Ignoring invalid distribution ~=p (C:\\Python311\\Lib\\site-packages)\n",
      "WARNING: Ignoring invalid distribution ~ip (C:\\Python311\\Lib\\site-packages)\n",
      "WARNING: Ignoring invalid distribution ~~p (C:\\Python311\\Lib\\site-packages)\n"
     ]
    }
   ],
   "source": [
    "!python -m pip install --upgrade pip setuptools wheel"
   ]
  },
  {
   "cell_type": "code",
   "execution_count": 11,
   "id": "87384bf2-70f8-494c-89fb-e962567e76bb",
   "metadata": {},
   "outputs": [
    {
     "name": "stdout",
     "output_type": "stream",
     "text": [
      "Requirement already satisfied: spacy in c:\\users\\saleel01\\appdata\\roaming\\python\\python311\\site-packages (3.8.2)\n"
     ]
    },
    {
     "name": "stderr",
     "output_type": "stream",
     "text": [
      "WARNING: Ignoring invalid distribution ~ (C:\\Python311\\Lib\\site-packages)\n",
      "WARNING: Ignoring invalid distribution ~-p (C:\\Python311\\Lib\\site-packages)\n",
      "WARNING: Ignoring invalid distribution ~=p (C:\\Python311\\Lib\\site-packages)\n",
      "WARNING: Ignoring invalid distribution ~ip (C:\\Python311\\Lib\\site-packages)\n",
      "WARNING: Ignoring invalid distribution ~~p (C:\\Python311\\Lib\\site-packages)\n",
      "WARNING: Ignoring invalid distribution ~ (C:\\Python311\\Lib\\site-packages)\n",
      "WARNING: Ignoring invalid distribution ~-p (C:\\Python311\\Lib\\site-packages)\n",
      "WARNING: Ignoring invalid distribution ~=p (C:\\Python311\\Lib\\site-packages)\n",
      "WARNING: Ignoring invalid distribution ~ip (C:\\Python311\\Lib\\site-packages)\n",
      "WARNING: Ignoring invalid distribution ~~p (C:\\Python311\\Lib\\site-packages)\n"
     ]
    }
   ],
   "source": [
    "!pip install spacy --no-deps"
   ]
  },
  {
   "cell_type": "code",
   "execution_count": 12,
   "id": "851ea1a5-7971-4cb7-ad34-dddf1d50b838",
   "metadata": {},
   "outputs": [
    {
     "name": "stdout",
     "output_type": "stream",
     "text": [
      "Collecting en-core-web-sm==3.8.0\n",
      "  Using cached https://github.com/explosion/spacy-models/releases/download/en_core_web_sm-3.8.0/en_core_web_sm-3.8.0-py3-none-any.whl (12.8 MB)\n",
      "\u001b[38;5;2m[+] Download and installation successful\u001b[0m\n",
      "You can now load the package via spacy.load('en_core_web_sm')\n"
     ]
    },
    {
     "name": "stderr",
     "output_type": "stream",
     "text": [
      "WARNING: Ignoring invalid distribution ~ (C:\\Python311\\Lib\\site-packages)\n",
      "WARNING: Ignoring invalid distribution ~-p (C:\\Python311\\Lib\\site-packages)\n",
      "WARNING: Ignoring invalid distribution ~=p (C:\\Python311\\Lib\\site-packages)\n",
      "WARNING: Ignoring invalid distribution ~ip (C:\\Python311\\Lib\\site-packages)\n",
      "WARNING: Ignoring invalid distribution ~~p (C:\\Python311\\Lib\\site-packages)\n",
      "WARNING: Ignoring invalid distribution ~ (C:\\Python311\\Lib\\site-packages)\n",
      "WARNING: Ignoring invalid distribution ~-p (C:\\Python311\\Lib\\site-packages)\n",
      "WARNING: Ignoring invalid distribution ~=p (C:\\Python311\\Lib\\site-packages)\n",
      "WARNING: Ignoring invalid distribution ~ip (C:\\Python311\\Lib\\site-packages)\n",
      "WARNING: Ignoring invalid distribution ~~p (C:\\Python311\\Lib\\site-packages)\n",
      "WARNING: Ignoring invalid distribution ~ (C:\\Python311\\Lib\\site-packages)\n",
      "WARNING: Ignoring invalid distribution ~-p (C:\\Python311\\Lib\\site-packages)\n",
      "WARNING: Ignoring invalid distribution ~=p (C:\\Python311\\Lib\\site-packages)\n",
      "WARNING: Ignoring invalid distribution ~ip (C:\\Python311\\Lib\\site-packages)\n",
      "WARNING: Ignoring invalid distribution ~~p (C:\\Python311\\Lib\\site-packages)\n"
     ]
    }
   ],
   "source": [
    "!python -m spacy download en_core_web_sm"
   ]
  },
  {
   "cell_type": "code",
   "execution_count": null,
   "id": "5ac0435a-2046-4b2f-8d46-9414ce4c647e",
   "metadata": {},
   "outputs": [],
   "source": []
  },
  {
   "cell_type": "code",
   "execution_count": null,
   "id": "47a35943-68d3-485b-be51-25555af7eca4",
   "metadata": {},
   "outputs": [
    {
     "name": "stdout",
     "output_type": "stream",
     "text": [
      "\u001b[31m\u001b[1mWARNING: This is a development server. Do not use it in a production deployment. Use a production WSGI server instead.\u001b[0m\n",
      " * Serving Flask app '__main__'\n",
      " * Debug mode: on\n"
     ]
    },
    {
     "name": "stderr",
     "output_type": "stream",
     "text": [
      " * Running on http://127.0.0.1:5015 (Press CTRL+C to quit)\n",
      "127.0.0.1 - - [17/Dec/2024 13:02:39] \"GET / HTTP/1.1\" 200 -\n",
      "127.0.0.1 - - [17/Dec/2024 13:02:39] \"GET /favicon.ico HTTP/1.1\" 404 -\n",
      "127.0.0.1 - - [17/Dec/2024 13:02:42] \"GET /disease HTTP/1.1\" 200 -\n",
      "127.0.0.1 - - [17/Dec/2024 13:02:45] \"POST /disease HTTP/1.1\" 200 -\n",
      "127.0.0.1 - - [17/Dec/2024 13:02:47] \"GET /disease HTTP/1.1\" 200 -\n",
      "127.0.0.1 - - [17/Dec/2024 13:02:57] \"POST /disease HTTP/1.1\" 200 -\n",
      "127.0.0.1 - - [17/Dec/2024 13:10:01] \"POST /disease HTTP/1.1\" 200 -\n",
      "127.0.0.1 - - [17/Dec/2024 13:11:05] \"POST /disease HTTP/1.1\" 200 -\n",
      "127.0.0.1 - - [17/Dec/2024 13:13:21] \"POST /disease HTTP/1.1\" 200 -\n"
     ]
    }
   ],
   "source": [
    "import pandas as pd\n",
    "from fuzzywuzzy import fuzz, process\n",
    "from flask import Flask, request, render_template_string\n",
    "import re\n",
    "\n",
    "# Initialize the Flask app\n",
    "app = Flask(__name__)\n",
    "\n",
    "# Load the data from Excel\n",
    "file_path = r\"C:\\Users\\Saleel01\\Downloads\\Leeds-20241110T220642Z-001\\Leeds\\Work Done\\New folder\\datasets\\Datasetfinal12_11.xlsx\"\n",
    "excel_data = pd.ExcelFile(file_path)\n",
    "\n",
    "# Load each sheet into a DataFrame\n",
    "disease_bodyfn_df = excel_data.parse('30-10-DISEASE VS BODYFN')\n",
    "bodyfn_assistive_df = excel_data.parse('31-10 BODYFN vs assistive techn')\n",
    "bodyfn_home_icf_df = excel_data.parse('31-10 BODYFN vs HOME ICF')\n",
    "\n",
    "# Preprocessing helper function\n",
    "def preprocess_text(text):\n",
    "    \"\"\"Normalize the text: remove special characters, extra spaces, and convert to lowercase.\"\"\"\n",
    "    if text is None:\n",
    "        return \"\"\n",
    "    return re.sub(r'[^a-zA-Z0-9\\s]', '', text.strip().lower())\n",
    "\n",
    "# Normalize the dataset for fuzzy matching\n",
    "disease_bodyfn_df['Disease'] = disease_bodyfn_df['Disease'].apply(preprocess_text)\n",
    "bodyfn_assistive_df['Symptoms'] = bodyfn_assistive_df['Symptoms'].apply(preprocess_text)\n",
    "bodyfn_home_icf_df['Symptoms'] = bodyfn_home_icf_df['Symptoms'].apply(preprocess_text)\n",
    "\n",
    "# Helper function to find the closest match with fuzzy matching\n",
    "def find_closest_match(input_text, text_list, threshold=80):\n",
    "    \"\"\"Find the closest match for the input text within the text list, using fuzzy matching.\"\"\"\n",
    "    # First check for exact match\n",
    "    if input_text in text_list:\n",
    "        return input_text\n",
    "\n",
    "    # Fallback to fuzzy match\n",
    "    match = process.extractOne(input_text, text_list, scorer=fuzz.partial_ratio)\n",
    "    return match[0] if match and match[1] >= threshold else None\n",
    "\n",
    "# Function to retrieve details based on disease input\n",
    "def get_disease_details(disease_name):\n",
    "    disease_name = preprocess_text(disease_name)\n",
    "    disease_list = disease_bodyfn_df['Disease'].tolist()\n",
    "    matched_disease = find_closest_match(disease_name, disease_list)\n",
    "    if matched_disease is None:\n",
    "        return None, [], [], False  # Add a boolean to indicate if it's a disease\n",
    "\n",
    "    disease_info = disease_bodyfn_df[disease_bodyfn_df['Disease'] == matched_disease]\n",
    "    symptoms = disease_info['Symptoms'].values[0].split(', ') if not disease_info.empty else []\n",
    "    assistive_mapping, home_function_mapping = [], []\n",
    "\n",
    "    all_symptoms_assistive = bodyfn_assistive_df['Symptoms'].tolist()\n",
    "    all_symptoms_home = bodyfn_home_icf_df['Symptoms'].tolist()\n",
    "\n",
    "    for symptom in symptoms:\n",
    "        symptom = preprocess_text(symptom)\n",
    "        assistive_tech = \"No assistive technology found\"\n",
    "        home_functions = \"No home adaptations found\"\n",
    "\n",
    "        # Match symptoms to assistive technology from Sheet 2\n",
    "        matched_symptom_assistive = find_closest_match(symptom, all_symptoms_assistive, threshold=80)\n",
    "        if matched_symptom_assistive:\n",
    "            tech_info = bodyfn_assistive_df[bodyfn_assistive_df['Symptoms'] == matched_symptom_assistive]\n",
    "            assistive_tech = tech_info['Assistive Technology'].values[0] if not tech_info.empty else assistive_tech\n",
    "\n",
    "        # Match symptoms to home functions from Sheet 3\n",
    "        matched_symptom_home = find_closest_match(symptom, all_symptoms_home, threshold=80)\n",
    "        if matched_symptom_home:\n",
    "            home_info = bodyfn_home_icf_df[bodyfn_home_icf_df['Symptoms'] == matched_symptom_home]\n",
    "            home_functions = \", \".join(home_info['Home functions'].dropna().tolist()) or home_functions\n",
    "\n",
    "        assistive_mapping.append((symptom, assistive_tech))\n",
    "        home_function_mapping.append((symptom, home_functions))\n",
    "\n",
    "    return matched_disease, assistive_mapping, home_function_mapping, symptoms, True  # Return symptoms as well\n",
    "\n",
    "# Function to check if the input matches a symptom from the list\n",
    "def check_if_symptom(input_text):\n",
    "    \"\"\"Check if the input text matches any symptom in the symptoms list.\"\"\"\n",
    "    symptoms_list = bodyfn_assistive_df['Symptoms'].tolist() + bodyfn_home_icf_df['Symptoms'].tolist()\n",
    "    input_text = preprocess_text(input_text)\n",
    "    matched_symptom = find_closest_match(input_text, symptoms_list)\n",
    "    return matched_symptom\n",
    "\n",
    "# HTML Templates (with requested changes)\n",
    "home_template = \"\"\"\n",
    "<!DOCTYPE html>\n",
    "<html lang=\"en\">\n",
    "<head>\n",
    "    <meta charset=\"UTF-8\">\n",
    "    <meta name=\"viewport\" content=\"width=device-width, initial-scale=1.0\">\n",
    "    <title>HOMEAI-ENABLE</title>\n",
    "    <style>\n",
    "        body {\n",
    "            font-family: 'Arial', sans-serif;\n",
    "            background-color: #d4f7d4; /* Light Green Background */\n",
    "            color: #333;\n",
    "            margin: 0;\n",
    "            padding: 0;\n",
    "        }\n",
    "        .navbar {\n",
    "            background: #0056b3;\n",
    "            padding: 15px 0;\n",
    "            display: flex;\n",
    "            justify-content: center;\n",
    "            align-items: center;\n",
    "            text-align: center;\n",
    "        }\n",
    "        .navbar a {\n",
    "            color: white;\n",
    "            text-decoration: none;\n",
    "            font-weight: bold;\n",
    "            margin: 0 15px;\n",
    "            font-size: 18px;\n",
    "        }\n",
    "        .navbar a:hover {\n",
    "            text-decoration: underline;\n",
    "            color: #ffdd57;\n",
    "        }\n",
    "        .container {\n",
    "            max-width: 800px;\n",
    "            margin: 50px auto;\n",
    "            text-align: center;\n",
    "            color: #333;\n",
    "        }\n",
    "        h1 {\n",
    "            color: #0056b3;\n",
    "        }\n",
    "        p {\n",
    "            font-size: 20px;\n",
    "        }\n",
    "        ul {\n",
    "            text-align: left;\n",
    "            font-size: 18px;\n",
    "        }\n",
    "    </style>\n",
    "</head>\n",
    "<body>\n",
    "    <div class=\"navbar\">\n",
    "        <a href=\"/\">Home</a>\n",
    "        <a href=\"/disease\">Enter Disease Details</a>\n",
    "        <a href=\"/contact\">Contact Us</a>\n",
    "    </div>\n",
    "    <div class=\"container\">\n",
    "        <h1>Welcome to HOMEAI-ENABLE</h1>\n",
    "        <h2>Empowering lives through smart assistive solutions</h2>\n",
    "        <p>At HOMEAI-ENABLE, we make your home a haven of comfort, safety, and independence. Whether you or a loved one are living with a specific condition or seeking to enhance accessibility, our platform connects you to the latest assistive technologies and customized home adaptations.</p>\n",
    "        <ul>\n",
    "            <li><strong>Search for assistive technologies:</strong> Discover innovative tools designed to support various diseases and symptoms.</li>\n",
    "            <li><strong>Explore home adaptations:</strong> Find tailored solutions to create a safe, accessible, and comfortable living environment.</li>\n",
    "            <li><strong>Personalized guidance:</strong> Get expert recommendations for integrating technology and design that meet your unique needs.</li>\n",
    "        </ul>\n",
    "        <p>Start your journey to a smarter, more inclusive home today.</p>\n",
    "    </div>\n",
    "</body>\n",
    "</html>\n",
    "\"\"\"\n",
    "\n",
    "disease_template = \"\"\"\n",
    "<!DOCTYPE html>\n",
    "<html lang=\"en\">\n",
    "<head>\n",
    "    <meta charset=\"UTF-8\">\n",
    "    <meta name=\"viewport\" content=\"width=device-width, initial-scale=1.0\">\n",
    "    <title>HOMEAI-ENABLE</title>\n",
    "    <style>\n",
    "        body {\n",
    "            font-family: 'Arial', sans-serif;\n",
    "            background-color: #d4f7d4; /* Light Green Background */\n",
    "            color: #333;\n",
    "            margin: 0;\n",
    "            padding: 0;\n",
    "        }\n",
    "        .navbar {\n",
    "            background: #0056b3;\n",
    "            padding: 15px 0;\n",
    "            display: flex;\n",
    "            justify-content: center;\n",
    "            align-items: center;\n",
    "            text-align: center;\n",
    "        }\n",
    "        .navbar a {\n",
    "            color: white;\n",
    "            text-decoration: none;\n",
    "            font-weight: bold;\n",
    "            margin: 0 15px;\n",
    "            font-size: 18px;\n",
    "        }\n",
    "        .navbar a:hover {\n",
    "            text-decoration: underline;\n",
    "            color: #ffdd57;\n",
    "        }\n",
    "        .container {\n",
    "            max-width: 800px;\n",
    "            margin: 30px auto;\n",
    "            background: #ffffff;\n",
    "            border-radius: 15px;\n",
    "            box-shadow: 0px 4px 10px rgba(0, 0, 0, 0.1);\n",
    "            padding: 20px;\n",
    "        }\n",
    "        h1 {\n",
    "            text-align: center;\n",
    "            color: #0056b3;\n",
    "        }\n",
    "        input[type=\"text\"] {\n",
    "            width: 100%;\n",
    "            padding: 25px;\n",
    "            font-size: 22px; /* Increased font size for better readability */\n",
    "            margin: 15px 0;\n",
    "            border: 2px solid #ddd;\n",
    "            border-radius: 5px;\n",
    "        }\n",
    "        button {\n",
    "            padding: 15px 30px;\n",
    "            font-size: 22px;\n",
    "            background-color: #0056b3;\n",
    "            color: white;\n",
    "            border: none;\n",
    "            border-radius: 5px;\n",
    "            cursor: pointer;\n",
    "        }\n",
    "        button:hover {\n",
    "            background-color: #003d75;\n",
    "        }\n",
    "        .output {\n",
    "            font-size: 22px;\n",
    "            color: #333;\n",
    "            margin: 20px 0;\n",
    "        }\n",
    "        .output ul {\n",
    "            list-style-type: none;\n",
    "            padding-left: 0;\n",
    "        }\n",
    "        .output li {\n",
    "            margin-bottom: 10px;\n",
    "        }\n",
    "    </style>\n",
    "</head>\n",
    "<body>\n",
    "    <div class=\"navbar\">\n",
    "        <a href=\"/\">Home</a>\n",
    "        <a href=\"/disease\">Enter Disease Details</a>\n",
    "        <a href=\"/contact\">Contact Us</a>\n",
    "    </div>\n",
    "    <div class=\"container\">\n",
    "        <h1>Enter Disease or Symptom</h1>\n",
    "        <form method=\"POST\">\n",
    "            <input type=\"text\" name=\"disease_name\" placeholder=\"Enter disease or symptom (e.g., Stroke, Cough)\" required>\n",
    "            <button type=\"submit\">Search</button>\n",
    "        </form>\n",
    "        {% if message %}\n",
    "            <p class=\"output\">{{ message }}</p>\n",
    "        {% endif %}\n",
    "        {% if disease %}\n",
    "            <p class=\"output\">\n",
    "                Symptoms: <strong>{{ symptoms|join(', ') }}</strong>\n",
    "            </p>\n",
    "            <ul class=\"output\">\n",
    "                {% for symptom, tech in assistive_mapping %}\n",
    "                    <li>For <strong>{{ symptom }}</strong>, consider using <em>{{ tech }}</em>.</li>\n",
    "                {% endfor %}\n",
    "            </ul>\n",
    "            <ul class=\"output\">\n",
    "                {% for symptom, adaptation in home_function_mapping %}\n",
    "                    <li>For <strong>{{ symptom }}</strong>, consider: <em>{{ adaptation }}</em>.</li>\n",
    "                {% endfor %}\n",
    "            </ul>\n",
    "        {% endif %}\n",
    "    </div>\n",
    "</body>\n",
    "</html>\n",
    "\"\"\"\n",
    "\n",
    "@app.route('/')\n",
    "def home():\n",
    "    return render_template_string(home_template)\n",
    "\n",
    "@app.route('/disease', methods=['GET', 'POST'])\n",
    "def disease():\n",
    "    disease_name = None\n",
    "    assistive_mapping = []\n",
    "    home_function_mapping = []\n",
    "    message = None\n",
    "    symptoms = []\n",
    "    is_disease = False\n",
    "\n",
    "    if request.method == 'POST':\n",
    "        disease_name = request.form['disease_name']\n",
    "        matched_symptom = check_if_symptom(disease_name)\n",
    "\n",
    "        if matched_symptom:\n",
    "            assistive_tech = \"No assistive technology found\"\n",
    "            home_functions = \"No home adaptations found\"\n",
    "\n",
    "            matched_symptom_assistive = find_closest_match(matched_symptom, bodyfn_assistive_df['Symptoms'].tolist())\n",
    "            if matched_symptom_assistive:\n",
    "                assistive_tech = bodyfn_assistive_df[bodyfn_assistive_df['Symptoms'] == matched_symptom_assistive]['Assistive Technology'].values[0]\n",
    "\n",
    "            matched_symptom_home = find_closest_match(matched_symptom, bodyfn_home_icf_df['Symptoms'].tolist())\n",
    "            if matched_symptom_home:\n",
    "                home_functions = \", \".join(bodyfn_home_icf_df[bodyfn_home_icf_df['Symptoms'] == matched_symptom_home]['Home functions'].dropna().tolist())\n",
    "\n",
    "            assistive_mapping.append((matched_symptom, assistive_tech))\n",
    "            home_function_mapping.append((matched_symptom, home_functions))\n",
    "\n",
    "            message = f\"Got it! {matched_symptom.capitalize()} is a symptom. You can consider the following assistive technologies and home adaptations for better management.\"\n",
    "\n",
    "        else:\n",
    "            disease_info, assistive_mapping, home_function_mapping, symptoms, is_disease = get_disease_details(disease_name)\n",
    "\n",
    "            if disease_info is None:\n",
    "                message = \"No disease found. Please enter a valid disease name or symptom.\"\n",
    "            else:\n",
    "                message = \"Here are some assistive technologies and home adaptations for this disease.\"\n",
    "\n",
    "    return render_template_string(disease_template, disease=disease_name, assistive_mapping=assistive_mapping,\n",
    "                                  home_function_mapping=home_function_mapping, message=message, symptoms=symptoms, is_disease=is_disease)\n",
    "\n",
    "if __name__ == '__main__':\n",
    "    app.run(debug=True, use_reloader=False, port=5015)\n"
   ]
  }
 ],
 "metadata": {
  "kernelspec": {
   "display_name": "Python 3 (ipykernel)",
   "language": "python",
   "name": "python3"
  },
  "language_info": {
   "codemirror_mode": {
    "name": "ipython",
    "version": 3
   },
   "file_extension": ".py",
   "mimetype": "text/x-python",
   "name": "python",
   "nbconvert_exporter": "python",
   "pygments_lexer": "ipython3",
   "version": "3.11.3"
  }
 },
 "nbformat": 4,
 "nbformat_minor": 5
}
