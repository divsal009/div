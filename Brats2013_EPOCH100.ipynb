{
  "nbformat": 4,
  "nbformat_minor": 0,
  "metadata": {
    "colab": {
      "name": "Brats.ipynb",
      "provenance": [],
      "mount_file_id": "1FefRRcYRNt6ZKGzSlB_EcLhn2JgScVqg",
      "authorship_tag": "ABX9TyOiP73nCT5y9JVyd/GIwOFE",
      "include_colab_link": true
    },
    "kernelspec": {
      "name": "python3",
      "display_name": "Python 3"
    },
    "language_info": {
      "name": "python"
    },
    "accelerator": "GPU"
  },
  "cells": [
    {
      "cell_type": "markdown",
      "metadata": {
        "id": "view-in-github",
        "colab_type": "text"
      },
      "source": [
        "<a href=\"https://colab.research.google.com/github/divsal009/div/blob/master/Brats2013_EPOCH100.ipynb\" target=\"_parent\"><img src=\"https://colab.research.google.com/assets/colab-badge.svg\" alt=\"Open In Colab\"/></a>"
      ]
    },
    {
      "cell_type": "code",
      "metadata": {
        "id": "ih5-UKw_G99o"
      },
      "source": [
        "\n",
        "import numpy as np\n",
        "import pandas as pd\n",
        "import matplotlib.pyplot as plt\n",
        "import skimage.io as io\n",
        "import skimage.transform as trans\n",
        "import random as r\n",
        "from keras.optimizers import Adam"
      ],
      "execution_count": 25,
      "outputs": []
    },
    {
      "cell_type": "code",
      "metadata": {
        "id": "xv1sEn9EHFWc"
      },
      "source": [
        "import glob\n",
        "def create_data(src, mask, label=False, resize=(128,128,128)):\n",
        "    files = glob.glob(src + mask, recursive=True)\n",
        "    imgs = []\n",
        "    for file in files:\n",
        "        img = io.imread(file, plugin='simpleitk')\n",
        "        if label:\n",
        "            img[img == 4] = 1\n",
        "            img[img != 1] = 0\n",
        "            img = img.astype('float32')\n",
        "        else:\n",
        "            img = (img-img.mean()) / img.std()\n",
        "        img = trans.resize(img, resize, mode='constant')\n",
        "        imgs.append(img)\n",
        "    name = 'y' if label else 'x'\n",
        "    np.save(name, np.array(imgs)[..., np.newaxis].astype('float32'))\n",
        "    print('Saved', len(files), 'to', name)"
      ],
      "execution_count": 26,
      "outputs": []
    },
    {
      "cell_type": "code",
      "metadata": {
        "id": "tdvg4MiwHLhU"
      },
      "source": [
        "from keras.models import Input, Model\n",
        "from keras.layers import Conv2D, Concatenate, MaxPooling2D, Reshape\n",
        "from keras.layers import UpSampling2D, Activation, Permute\n",
        "\n",
        "def level_block(m, dim, depth, factor, acti):\n",
        "    if depth > 0:\n",
        "        n = Conv2D(dim, 3, activation=acti, padding='same')(m)\n",
        "        n = Conv2D(dim, 3, activation=acti, padding='same')(n)\n",
        "        m = MaxPooling2D()(n)\n",
        "        m = level_block(m, int(factor*dim), depth-1, factor, acti)\n",
        "        m = UpSampling2D()(m)\n",
        "        m = Conv2D(dim, 2, activation=acti, padding='same')(m)\n",
        "        m = Concatenate(axis=3)([n, m])\n",
        "    m = Conv2D(dim, 3, activation=acti, padding='same')(m)\n",
        "    return Conv2D(dim, 3, activation=acti, padding='same')(m)\n",
        "\n",
        "def UNet(img_shape, n_out=1, dim=64, depth=4, factor=2, acti='elu', flatten=False):\n",
        "    i = Input(shape=img_shape)\n",
        "    o = level_block(i, dim, depth, factor, acti)\n",
        "    o = Conv2D(n_out, (1, 1))(o)\n",
        "    if flatten:\n",
        "        o = Reshape(n_out, img_shape[0] * img_shape[1])(o)\n",
        "        o = Permute((2, 1))(o)\n",
        "    o = Activation('sigmoid')(o)\n",
        "    return Model(inputs=i, outputs=o)"
      ],
      "execution_count": 27,
      "outputs": []
    },
    {
      "cell_type": "code",
      "metadata": {
        "id": "PnUT7n4ZHPtl"
      },
      "source": [
        "from keras.models import Input, Model\n",
        "from keras.layers import Conv3D, Concatenate, MaxPooling3D, Reshape\n",
        "from keras.layers import UpSampling3D, Activation, Permute\n",
        "\n",
        "def level_block_3d(m, dim, depth, factor, acti):\n",
        "    if depth > 0:\n",
        "        n = Conv3D(dim, 3, activation=acti, padding='same')(m)\n",
        "        m = MaxPooling3D()(n)\n",
        "        m = level_block_3d(m, int(factor*dim), depth-1, factor, acti)\n",
        "        m = UpSampling3D()(m)\n",
        "        m = Concatenate(axis=4)([n, m])\n",
        "    return Conv3D(dim, 3, activation=acti, padding='same')(m)\n",
        "\n",
        "def UNet_3D(img_shape, n_out=1, dim=64, depth=4, factor=2, acti='elu'):\n",
        "    i = Input(shape=img_shape)\n",
        "    o = level_block_3d(i, dim, depth, factor, acti)\n",
        "    o = Conv3D(n_out, 1, activation='sigmoid')(o)\n",
        "    return Model(inputs=i, outputs=o)"
      ],
      "execution_count": 28,
      "outputs": []
    },
    {
      "cell_type": "code",
      "metadata": {
        "id": "pr7cHIGNHUxR"
      },
      "source": [
        "import keras.backend as K\n",
        "def f1_score(y_true, y_pred):\n",
        "    y_true_f = K.flatten(y_true)\n",
        "    y_pred_f = K.flatten(y_pred)\n",
        "    intersection = K.sum(y_true_f * y_pred_f)\n",
        "    return (2. * intersection + 1.) / (K.sum(y_true_f) + K.sum(y_pred_f) + 1.)\n",
        "\n",
        "def f1_loss(y_true, y_pred):\n",
        "    return -f1_score(y_true, y_pred)"
      ],
      "execution_count": 29,
      "outputs": []
    },
    {
      "cell_type": "code",
      "metadata": {
        "colab": {
          "base_uri": "https://localhost:8080/"
        },
        "id": "NonSFPmZOvmB",
        "outputId": "269f00c2-ff41-457a-9fd5-8e1279519166"
      },
      "source": [
        "pip install simpleitk"
      ],
      "execution_count": 30,
      "outputs": [
        {
          "output_type": "stream",
          "text": [
            "Requirement already satisfied: simpleitk in /usr/local/lib/python3.7/dist-packages (2.0.2)\n"
          ],
          "name": "stdout"
        }
      ]
    },
    {
      "cell_type": "code",
      "metadata": {
        "colab": {
          "base_uri": "https://localhost:8080/"
        },
        "id": "YnjE8YHIHYbd",
        "outputId": "4fcc62ca-6c6b-42f8-a1da-35fb57f8cf6e"
      },
      "source": [
        "create_data('/content/drive/MyDrive/HGG/', '**/*T1c*.mha', label=False, resize=(32,32,32))\n",
        "create_data('/content/drive/MyDrive/HGG/', '**/*OT*.mha', label=True, resize=(32,32,32))"
      ],
      "execution_count": 31,
      "outputs": [
        {
          "output_type": "stream",
          "text": [
            "Saved 220 to x\n",
            "Saved 220 to y\n"
          ],
          "name": "stdout"
        }
      ]
    },
    {
      "cell_type": "code",
      "metadata": {
        "colab": {
          "base_uri": "https://localhost:8080/"
        },
        "id": "S6m9qMbEI6VF",
        "outputId": "75b710aa-5d57-4e79-ac31-110a32c5a397"
      },
      "source": [
        "x = np.load('x.npy')\n",
        "print('x: ', x.shape)\n",
        "y = np.load('y.npy')\n",
        "print('y:', y.shape)"
      ],
      "execution_count": 32,
      "outputs": [
        {
          "output_type": "stream",
          "text": [
            "x:  (220, 32, 32, 32, 1)\n",
            "y: (220, 32, 32, 32, 1)\n"
          ],
          "name": "stdout"
        }
      ]
    },
    {
      "cell_type": "code",
      "metadata": {
        "colab": {
          "base_uri": "https://localhost:8080/",
          "height": 318
        },
        "id": "Rvz089fxI8Fv",
        "outputId": "5c494c24-7ce3-4322-e6c1-93f7636dbeda"
      },
      "source": [
        "\n",
        "import random as r\n",
        "i = int(r.random() * x.shape[0])\n",
        "plt.figure(figsize=(10,10))\n",
        "plt.subplot(121)\n",
        "plt.imshow(x[i, int(x.shape[1]/2), :, :, 0])\n"
      ],
      "execution_count": 33,
      "outputs": [
        {
          "output_type": "execute_result",
          "data": {
            "text/plain": [
              "<matplotlib.image.AxesImage at 0x7f0796c39e10>"
            ]
          },
          "metadata": {
            "tags": []
          },
          "execution_count": 33
        },
        {
          "output_type": "display_data",
          "data": {
            "image/png": "[encoded data removed]",
            "text/plain": [
              "<Figure size 720x720 with 1 Axes>"
            ]
          },
          "metadata": {
            "tags": [],
            "needs_background": "light"
          }
        }
      ]
    },
    {
      "cell_type": "code",
      "metadata": {
        "colab": {
          "base_uri": "https://localhost:8080/",
          "height": 202
        },
        "id": "Hv_SYB5VPXov",
        "outputId": "4a21bf6e-552d-4029-a5c9-222ca244f57e"
      },
      "source": [
        "plt.subplot(122)\n",
        "plt.imshow(y[i, int(y.shape[1]/2), :, :, 0])\n",
        "plt.show()"
      ],
      "execution_count": 34,
      "outputs": [
        {
          "output_type": "display_data",
          "data": {
            "image/png": "[encoded data removed]",
            "text/plain": [
              "<Figure size 432x288 with 1 Axes>"
            ]
          },
          "metadata": {
            "tags": [],
            "needs_background": "light"
          }
        }
      ]
    },
    {
      "cell_type": "code",
      "metadata": {
        "id": "JPSOT1WYJC77"
      },
      "source": [
        "model = UNet_3D(x.shape[1:], dim=16, factor=1)\n"
      ],
      "execution_count": 35,
      "outputs": []
    },
    {
      "cell_type": "code",
      "metadata": {
        "id": "opvxKZZMVv-j"
      },
      "source": [
        "model.load_weights('/content/weights.h5')\n"
      ],
      "execution_count": 36,
      "outputs": []
    },
    {
      "cell_type": "code",
      "metadata": {
        "id": "6D9zagwjXHq9"
      },
      "source": [
        "model.compile(optimizer=Adam(lr=0.000001), loss=f1_loss)\n"
      ],
      "execution_count": 37,
      "outputs": []
    },
    {
      "cell_type": "code",
      "metadata": {
        "colab": {
          "base_uri": "https://localhost:8080/"
        },
        "id": "17kgi_pSYU6s",
        "outputId": "b732ae3e-30d6-4095-ea57-ba60d2122aa7"
      },
      "source": [
        "model.fit(x, y, validation_split=0.2, epochs=100, batch_size=8)\n"
      ],
      "execution_count": 42,
      "outputs": [
        {
          "output_type": "stream",
          "text": [
            "Epoch 1/100\n",
            "22/22 [==============================] - 1s 32ms/step - loss: -0.4165 - val_loss: -0.4355\n",
            "Epoch 2/100\n",
            "22/22 [==============================] - 1s 30ms/step - loss: -0.4391 - val_loss: -0.4450\n",
            "Epoch 3/100\n",
            "22/22 [==============================] - 1s 30ms/step - loss: -0.4416 - val_loss: -0.4490\n",
            "Epoch 4/100\n",
            "22/22 [==============================] - 1s 30ms/step - loss: -0.4508 - val_loss: -0.4509\n",
            "Epoch 5/100\n",
            "22/22 [==============================] - 1s 30ms/step - loss: -0.4581 - val_loss: -0.4522\n",
            "Epoch 6/100\n",
            "22/22 [==============================] - 1s 30ms/step - loss: -0.4688 - val_loss: -0.4532\n",
            "Epoch 7/100\n",
            "22/22 [==============================] - 1s 30ms/step - loss: -0.4526 - val_loss: -0.4541\n",
            "Epoch 8/100\n",
            "22/22 [==============================] - 1s 30ms/step - loss: -0.4550 - val_loss: -0.4549\n",
            "Epoch 9/100\n",
            "22/22 [==============================] - 1s 30ms/step - loss: -0.4631 - val_loss: -0.4558\n",
            "Epoch 10/100\n",
            "22/22 [==============================] - 1s 29ms/step - loss: -0.4569 - val_loss: -0.4568\n",
            "Epoch 11/100\n",
            "22/22 [==============================] - 1s 30ms/step - loss: -0.4451 - val_loss: -0.4579\n",
            "Epoch 12/100\n",
            "22/22 [==============================] - 1s 30ms/step - loss: -0.4680 - val_loss: -0.4585\n",
            "Epoch 13/100\n",
            "22/22 [==============================] - 1s 30ms/step - loss: -0.4640 - val_loss: -0.4590\n",
            "Epoch 14/100\n",
            "22/22 [==============================] - 1s 30ms/step - loss: -0.4552 - val_loss: -0.4597\n",
            "Epoch 15/100\n",
            "22/22 [==============================] - 1s 29ms/step - loss: -0.4509 - val_loss: -0.4602\n",
            "Epoch 16/100\n",
            "22/22 [==============================] - 1s 30ms/step - loss: -0.4556 - val_loss: -0.4606\n",
            "Epoch 17/100\n",
            "22/22 [==============================] - 1s 30ms/step - loss: -0.4606 - val_loss: -0.4611\n",
            "Epoch 18/100\n",
            "22/22 [==============================] - 1s 29ms/step - loss: -0.4652 - val_loss: -0.4615\n",
            "Epoch 19/100\n",
            "22/22 [==============================] - 1s 29ms/step - loss: -0.4664 - val_loss: -0.4615\n",
            "Epoch 20/100\n",
            "22/22 [==============================] - 1s 30ms/step - loss: -0.4665 - val_loss: -0.4619\n",
            "Epoch 21/100\n",
            "22/22 [==============================] - 1s 29ms/step - loss: -0.4722 - val_loss: -0.4622\n",
            "Epoch 22/100\n",
            "22/22 [==============================] - 1s 30ms/step - loss: -0.4641 - val_loss: -0.4625\n",
            "Epoch 23/100\n",
            "22/22 [==============================] - 1s 30ms/step - loss: -0.4651 - val_loss: -0.4629\n",
            "Epoch 24/100\n",
            "22/22 [==============================] - 1s 29ms/step - loss: -0.4687 - val_loss: -0.4631\n",
            "Epoch 25/100\n",
            "22/22 [==============================] - 1s 30ms/step - loss: -0.4497 - val_loss: -0.4633\n",
            "Epoch 26/100\n",
            "22/22 [==============================] - 1s 30ms/step - loss: -0.4669 - val_loss: -0.4637\n",
            "Epoch 27/100\n",
            "22/22 [==============================] - 1s 30ms/step - loss: -0.4496 - val_loss: -0.4638\n",
            "Epoch 28/100\n",
            "22/22 [==============================] - 1s 30ms/step - loss: -0.4689 - val_loss: -0.4643\n",
            "Epoch 29/100\n",
            "22/22 [==============================] - 1s 30ms/step - loss: -0.4693 - val_loss: -0.4648\n",
            "Epoch 30/100\n",
            "22/22 [==============================] - 1s 30ms/step - loss: -0.4667 - val_loss: -0.4653\n",
            "Epoch 31/100\n",
            "22/22 [==============================] - 1s 30ms/step - loss: -0.4664 - val_loss: -0.4653\n",
            "Epoch 32/100\n",
            "22/22 [==============================] - 1s 29ms/step - loss: -0.4708 - val_loss: -0.4653\n",
            "Epoch 33/100\n",
            "22/22 [==============================] - 1s 29ms/step - loss: -0.4627 - val_loss: -0.4656\n",
            "Epoch 34/100\n",
            "22/22 [==============================] - 1s 30ms/step - loss: -0.4714 - val_loss: -0.4660\n",
            "Epoch 35/100\n",
            "22/22 [==============================] - 1s 30ms/step - loss: -0.4788 - val_loss: -0.4659\n",
            "Epoch 36/100\n",
            "22/22 [==============================] - 1s 30ms/step - loss: -0.4794 - val_loss: -0.4660\n",
            "Epoch 37/100\n",
            "22/22 [==============================] - 1s 30ms/step - loss: -0.4761 - val_loss: -0.4663\n",
            "Epoch 38/100\n",
            "22/22 [==============================] - 1s 30ms/step - loss: -0.4681 - val_loss: -0.4662\n",
            "Epoch 39/100\n",
            "22/22 [==============================] - 1s 30ms/step - loss: -0.4653 - val_loss: -0.4666\n",
            "Epoch 40/100\n",
            "22/22 [==============================] - 1s 30ms/step - loss: -0.4462 - val_loss: -0.4667\n",
            "Epoch 41/100\n",
            "22/22 [==============================] - 1s 30ms/step - loss: -0.4727 - val_loss: -0.4671\n",
            "Epoch 42/100\n",
            "22/22 [==============================] - 1s 30ms/step - loss: -0.4753 - val_loss: -0.4668\n",
            "Epoch 43/100\n",
            "22/22 [==============================] - 1s 30ms/step - loss: -0.4789 - val_loss: -0.4668\n",
            "Epoch 44/100\n",
            "22/22 [==============================] - 1s 30ms/step - loss: -0.4723 - val_loss: -0.4673\n",
            "Epoch 45/100\n",
            "22/22 [==============================] - 1s 30ms/step - loss: -0.4680 - val_loss: -0.4676\n",
            "Epoch 46/100\n",
            "22/22 [==============================] - 1s 30ms/step - loss: -0.4636 - val_loss: -0.4677\n",
            "Epoch 47/100\n",
            "22/22 [==============================] - 1s 30ms/step - loss: -0.4733 - val_loss: -0.4676\n",
            "Epoch 48/100\n",
            "22/22 [==============================] - 1s 30ms/step - loss: -0.4783 - val_loss: -0.4680\n",
            "Epoch 49/100\n",
            "22/22 [==============================] - 1s 30ms/step - loss: -0.4757 - val_loss: -0.4680\n",
            "Epoch 50/100\n",
            "22/22 [==============================] - 1s 30ms/step - loss: -0.4723 - val_loss: -0.4684\n",
            "Epoch 51/100\n",
            "22/22 [==============================] - 1s 30ms/step - loss: -0.4785 - val_loss: -0.4679\n",
            "Epoch 52/100\n",
            "22/22 [==============================] - 1s 30ms/step - loss: -0.4773 - val_loss: -0.4681\n",
            "Epoch 53/100\n",
            "22/22 [==============================] - 1s 30ms/step - loss: -0.4756 - val_loss: -0.4687\n",
            "Epoch 54/100\n",
            "22/22 [==============================] - 1s 29ms/step - loss: -0.4744 - val_loss: -0.4686\n",
            "Epoch 55/100\n",
            "22/22 [==============================] - 1s 29ms/step - loss: -0.4722 - val_loss: -0.4689\n",
            "Epoch 56/100\n",
            "22/22 [==============================] - 1s 30ms/step - loss: -0.4781 - val_loss: -0.4695\n",
            "Epoch 57/100\n",
            "22/22 [==============================] - 1s 30ms/step - loss: -0.4799 - val_loss: -0.4694\n",
            "Epoch 58/100\n",
            "22/22 [==============================] - 1s 30ms/step - loss: -0.4665 - val_loss: -0.4700\n",
            "Epoch 59/100\n",
            "22/22 [==============================] - 1s 30ms/step - loss: -0.4819 - val_loss: -0.4695\n",
            "Epoch 60/100\n",
            "22/22 [==============================] - 1s 30ms/step - loss: -0.4598 - val_loss: -0.4700\n",
            "Epoch 61/100\n",
            "22/22 [==============================] - 1s 30ms/step - loss: -0.4807 - val_loss: -0.4702\n",
            "Epoch 62/100\n",
            "22/22 [==============================] - 1s 30ms/step - loss: -0.4734 - val_loss: -0.4703\n",
            "Epoch 63/100\n",
            "22/22 [==============================] - 1s 29ms/step - loss: -0.4785 - val_loss: -0.4702\n",
            "Epoch 64/100\n",
            "22/22 [==============================] - 1s 30ms/step - loss: -0.4802 - val_loss: -0.4706\n",
            "Epoch 65/100\n",
            "22/22 [==============================] - 1s 30ms/step - loss: -0.4757 - val_loss: -0.4707\n",
            "Epoch 66/100\n",
            "22/22 [==============================] - 1s 29ms/step - loss: -0.4845 - val_loss: -0.4707\n",
            "Epoch 67/100\n",
            "22/22 [==============================] - 1s 29ms/step - loss: -0.4815 - val_loss: -0.4712\n",
            "Epoch 68/100\n",
            "22/22 [==============================] - 1s 30ms/step - loss: -0.4879 - val_loss: -0.4710\n",
            "Epoch 69/100\n",
            "22/22 [==============================] - 1s 30ms/step - loss: -0.4754 - val_loss: -0.4708\n",
            "Epoch 70/100\n",
            "22/22 [==============================] - 1s 30ms/step - loss: -0.4802 - val_loss: -0.4713\n",
            "Epoch 71/100\n",
            "22/22 [==============================] - 1s 30ms/step - loss: -0.4648 - val_loss: -0.4719\n",
            "Epoch 72/100\n",
            "22/22 [==============================] - 1s 30ms/step - loss: -0.4872 - val_loss: -0.4712\n",
            "Epoch 73/100\n",
            "22/22 [==============================] - 1s 30ms/step - loss: -0.4857 - val_loss: -0.4711\n",
            "Epoch 74/100\n",
            "22/22 [==============================] - 1s 30ms/step - loss: -0.4798 - val_loss: -0.4715\n",
            "Epoch 75/100\n",
            "22/22 [==============================] - 1s 30ms/step - loss: -0.4889 - val_loss: -0.4714\n",
            "Epoch 76/100\n",
            "22/22 [==============================] - 1s 30ms/step - loss: -0.4690 - val_loss: -0.4719\n",
            "Epoch 77/100\n",
            "22/22 [==============================] - 1s 30ms/step - loss: -0.4836 - val_loss: -0.4719\n",
            "Epoch 78/100\n",
            "22/22 [==============================] - 1s 30ms/step - loss: -0.4637 - val_loss: -0.4721\n",
            "Epoch 79/100\n",
            "22/22 [==============================] - 1s 30ms/step - loss: -0.4805 - val_loss: -0.4727\n",
            "Epoch 80/100\n",
            "22/22 [==============================] - 1s 29ms/step - loss: -0.4731 - val_loss: -0.4726\n",
            "Epoch 81/100\n",
            "22/22 [==============================] - 1s 29ms/step - loss: -0.4773 - val_loss: -0.4721\n",
            "Epoch 82/100\n",
            "22/22 [==============================] - 1s 29ms/step - loss: -0.4674 - val_loss: -0.4725\n",
            "Epoch 83/100\n",
            "22/22 [==============================] - 1s 30ms/step - loss: -0.4855 - val_loss: -0.4723\n",
            "Epoch 84/100\n",
            "22/22 [==============================] - 1s 30ms/step - loss: -0.4959 - val_loss: -0.4724\n",
            "Epoch 85/100\n",
            "22/22 [==============================] - 1s 30ms/step - loss: -0.4764 - val_loss: -0.4719\n",
            "Epoch 86/100\n",
            "22/22 [==============================] - 1s 30ms/step - loss: -0.4644 - val_loss: -0.4728\n",
            "Epoch 87/100\n",
            "22/22 [==============================] - 1s 29ms/step - loss: -0.4836 - val_loss: -0.4729\n",
            "Epoch 88/100\n",
            "22/22 [==============================] - 1s 30ms/step - loss: -0.4845 - val_loss: -0.4730\n",
            "Epoch 89/100\n",
            "22/22 [==============================] - 1s 30ms/step - loss: -0.4978 - val_loss: -0.4727\n",
            "Epoch 90/100\n",
            "22/22 [==============================] - 1s 29ms/step - loss: -0.4925 - val_loss: -0.4729\n",
            "Epoch 91/100\n",
            "22/22 [==============================] - 1s 29ms/step - loss: -0.4852 - val_loss: -0.4735\n",
            "Epoch 92/100\n",
            "22/22 [==============================] - 1s 30ms/step - loss: -0.4759 - val_loss: -0.4733\n",
            "Epoch 93/100\n",
            "22/22 [==============================] - 1s 29ms/step - loss: -0.4829 - val_loss: -0.4729\n",
            "Epoch 94/100\n",
            "22/22 [==============================] - 1s 30ms/step - loss: -0.4903 - val_loss: -0.4730\n",
            "Epoch 95/100\n",
            "22/22 [==============================] - 1s 30ms/step - loss: -0.4815 - val_loss: -0.4734\n",
            "Epoch 96/100\n",
            "22/22 [==============================] - 1s 30ms/step - loss: -0.4909 - val_loss: -0.4733\n",
            "Epoch 97/100\n",
            "22/22 [==============================] - 1s 30ms/step - loss: -0.4744 - val_loss: -0.4736\n",
            "Epoch 98/100\n",
            "22/22 [==============================] - 1s 29ms/step - loss: -0.4815 - val_loss: -0.4737\n",
            "Epoch 99/100\n",
            "22/22 [==============================] - 1s 30ms/step - loss: -0.4927 - val_loss: -0.4735\n",
            "Epoch 100/100\n",
            "22/22 [==============================] - 1s 30ms/step - loss: -0.4771 - val_loss: -0.4736\n"
          ],
          "name": "stdout"
        },
        {
          "output_type": "execute_result",
          "data": {
            "text/plain": [
              "<tensorflow.python.keras.callbacks.History at 0x7f07865bc850>"
            ]
          },
          "metadata": {
            "tags": []
          },
          "execution_count": 42
        }
      ]
    },
    {
      "cell_type": "code",
      "metadata": {
        "id": "s0OxFWo3YZQs"
      },
      "source": [
        "model.save_weights('weights.h5')\n"
      ],
      "execution_count": 43,
      "outputs": []
    },
    {
      "cell_type": "code",
      "metadata": {
        "id": "3ttCdb_EYcnQ"
      },
      "source": [
        "pred = model.predict(x[:50])\n"
      ],
      "execution_count": 44,
      "outputs": []
    },
    {
      "cell_type": "code",
      "metadata": {
        "colab": {
          "base_uri": "https://localhost:8080/",
          "height": 896
        },
        "id": "1mt_jPnvYid0",
        "outputId": "b66c8f17-c417-4b2a-f93b-1e50d4d3d2b2"
      },
      "source": [
        "import random as r\n",
        "num = int(x.shape[1]/2)\n",
        "for n in range(3):\n",
        "    i = int(r.random() * pred.shape[0])\n",
        "    plt.figure(figsize=(15,10))\n",
        "\n",
        "    plt.subplot(131)\n",
        "    plt.title('Input')\n",
        "    plt.imshow(x[i, num, :, :, 0])\n",
        "\n",
        "    plt.subplot(132)\n",
        "    plt.title('Ground Truth')\n",
        "    plt.imshow(y[i, num, :, :, 0])\n",
        "\n",
        "    plt.subplot(133)\n",
        "    plt.title('Prediction')\n",
        "    plt.imshow(pred[i, num, :, :, 0])\n",
        "\n",
        "    plt.show()"
      ],
      "execution_count": 45,
      "outputs": [
        {
          "output_type": "display_data",
          "data": {
            "image/png": "[encoded data removed]",
            "text/plain": [
              "<Figure size 1080x720 with 3 Axes>"
            ]
          },
          "metadata": {
            "tags": [],
            "needs_background": "light"
          }
        },
        {
          "output_type": "display_data",
          "data": {
            "image/png": "[encoded data removed]",
            "text/plain": [
              "<Figure size 1080x720 with 3 Axes>"
            ]
          },
          "metadata": {
            "tags": [],
            "needs_background": "light"
          }
        },
        {
          "output_type": "display_data",
          "data": {
            "image/png": "[encoded data removed]",
            "text/plain": [
              "<Figure size 1080x720 with 3 Axes>"
            ]
          },
          "metadata": {
            "tags": [],
            "needs_background": "light"
          }
        }
      ]
    }
  ]
}