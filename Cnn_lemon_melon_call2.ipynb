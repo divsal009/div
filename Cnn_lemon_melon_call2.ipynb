{
  "nbformat": 4,
  "nbformat_minor": 0,
  "metadata": {
    "colab": {
      "name": "Cnn-lemon_melon_call2.ipynb",
      "provenance": [],
      "mount_file_id": "1zXbA5wxDteoPrBwnwUYQVjSZM_JB61Hb",
      "authorship_tag": "ABX9TyMaqmRqgBQQWpl92VpFqBnP",
      "include_colab_link": true
    },
    "kernelspec": {
      "name": "python3",
      "display_name": "Python 3"
    },
    "language_info": {
      "name": "python"
    }
  },
  "cells": [
    {
      "cell_type": "markdown",
      "metadata": {
        "id": "view-in-github",
        "colab_type": "text"
      },
      "source": [
        "<a href=\"https://colab.research.google.com/github/divsal009/div/blob/master/Cnn_lemon_melon_call2.ipynb\" target=\"_parent\"><img src=\"https://colab.research.google.com/assets/colab-badge.svg\" alt=\"Open In Colab\"/></a>"
      ]
    },
    {
      "cell_type": "code",
      "metadata": {
        "id": "9LC6PnYTVSP4"
      },
      "source": [
        "import os\n",
        "from PIL import Image\n",
        "import numpy as np\n",
        "import os\n",
        "import tensorflow as tf\n",
        "\n"
      ],
      "execution_count": 2,
      "outputs": []
    },
    {
      "cell_type": "code",
      "metadata": {
        "colab": {
          "base_uri": "https://localhost:8080/"
        },
        "id": "_yVvvdTP4bL9",
        "outputId": "195f3b04-3f04-4650-fd85-05596341dad5"
      },
      "source": [
        "cd /content/drive/MyDrive/CNN_Mymodel/"
      ],
      "execution_count": 5,
      "outputs": [
        {
          "output_type": "stream",
          "text": [
            "/content/drive/MyDrive/CNN_Mymodel\n"
          ],
          "name": "stdout"
        }
      ]
    },
    {
      "cell_type": "code",
      "metadata": {
        "colab": {
          "base_uri": "https://localhost:8080/"
        },
        "id": "cWMFFQg94ksM",
        "outputId": "c1590427-00f5-4a2e-bcc4-77cca02c8167"
      },
      "source": [
        "ls"
      ],
      "execution_count": 6,
      "outputs": [
        {
          "output_type": "stream",
          "text": [
            "checkpoint  \u001b[0m\u001b[01;34mlm_model\u001b[0m/  my_checkpoint.data-00000-of-00001  my_checkpoint.index\n"
          ],
          "name": "stdout"
        }
      ]
    },
    {
      "cell_type": "code",
      "metadata": {
        "id": "aGgxAIYPWTWa"
      },
      "source": [
        "new_model = tf.keras.models.load_model('lm_model') #same file path"
      ],
      "execution_count": 7,
      "outputs": []
    },
    {
      "cell_type": "code",
      "metadata": {
        "id": "juQLV9QTXBXg",
        "colab": {
          "base_uri": "https://localhost:8080/"
        },
        "outputId": "a0f3bfb6-0d19-401c-9933-eb016d322413"
      },
      "source": [
        "new_model.load_weights('my_checkpoint')"
      ],
      "execution_count": 8,
      "outputs": [
        {
          "output_type": "execute_result",
          "data": {
            "text/plain": [
              "<tensorflow.python.training.tracking.util.CheckpointLoadStatus at 0x7fa62a0f5350>"
            ]
          },
          "metadata": {
            "tags": []
          },
          "execution_count": 8
        }
      ]
    },
    {
      "cell_type": "code",
      "metadata": {
        "id": "ezsl4JsrXl_t",
        "colab": {
          "base_uri": "https://localhost:8080/"
        },
        "outputId": "e1a4d8a2-2a02-49f6-cbab-76c87c20a214"
      },
      "source": [
        "new_model.summary()"
      ],
      "execution_count": 9,
      "outputs": [
        {
          "output_type": "stream",
          "text": [
            "Model: \"sequential\"\n",
            "_________________________________________________________________\n",
            "Layer (type)                 Output Shape              Param #   \n",
            "=================================================================\n",
            "conv2d (Conv2D)              (None, 118, 118, 10)      280       \n",
            "_________________________________________________________________\n",
            "max_pooling2d (MaxPooling2D) (None, 59, 59, 10)        0         \n",
            "_________________________________________________________________\n",
            "conv2d_1 (Conv2D)            (None, 57, 57, 64)        5824      \n",
            "_________________________________________________________________\n",
            "max_pooling2d_1 (MaxPooling2 (None, 28, 28, 64)        0         \n",
            "_________________________________________________________________\n",
            "conv2d_2 (Conv2D)            (None, 26, 26, 64)        36928     \n",
            "_________________________________________________________________\n",
            "flatten (Flatten)            (None, 43264)             0         \n",
            "_________________________________________________________________\n",
            "dense (Dense)                (None, 64)                2768960   \n",
            "_________________________________________________________________\n",
            "dense_1 (Dense)              (None, 32)                2080      \n",
            "_________________________________________________________________\n",
            "dense_2 (Dense)              (None, 1)                 33        \n",
            "=================================================================\n",
            "Total params: 2,814,105\n",
            "Trainable params: 2,814,105\n",
            "Non-trainable params: 0\n",
            "_________________________________________________________________\n"
          ],
          "name": "stdout"
        }
      ]
    }
  ]
}