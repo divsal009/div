{
  "cells": [
    {
      "cell_type": "markdown",
      "metadata": {
        "id": "view-in-github",
        "colab_type": "text"
      },
      "source": [
        "<a href=\"https://colab.research.google.com/github/divsal009/div/blob/master/Dec6_HOMEAI_LLM.ipynb\" target=\"_parent\"><img src=\"https://colab.research.google.com/assets/colab-badge.svg\" alt=\"Open In Colab\"/></a>"
      ]
    },
    {
      "cell_type": "code",
      "execution_count": 37,
      "metadata": {
        "colab": {
          "base_uri": "https://localhost:8080/"
        },
        "id": "eg3ICDw_B9Op",
        "outputId": "a7401153-d1d3-4050-b199-9f074bf90311"
      },
      "outputs": [
        {
          "output_type": "stream",
          "name": "stdout",
          "text": [
            "Requirement already satisfied: fastapi in /usr/local/lib/python3.10/dist-packages (0.115.6)\n",
            "Requirement already satisfied: uvicorn in /usr/local/lib/python3.10/dist-packages (0.32.1)\n",
            "Requirement already satisfied: pyngrok in /usr/local/lib/python3.10/dist-packages (7.2.1)\n",
            "Requirement already satisfied: pandas in /usr/local/lib/python3.10/dist-packages (2.2.2)\n",
            "Requirement already satisfied: fuzzywuzzy in /usr/local/lib/python3.10/dist-packages (0.18.0)\n",
            "Requirement already satisfied: transformers in /usr/local/lib/python3.10/dist-packages (4.46.3)\n",
            "Requirement already satisfied: nest_asyncio in /usr/local/lib/python3.10/dist-packages (1.6.0)\n",
            "Requirement already satisfied: starlette<0.42.0,>=0.40.0 in /usr/local/lib/python3.10/dist-packages (from fastapi) (0.41.3)\n",
            "Requirement already satisfied: pydantic!=1.8,!=1.8.1,!=2.0.0,!=2.0.1,!=2.1.0,<3.0.0,>=1.7.4 in /usr/local/lib/python3.10/dist-packages (from fastapi) (2.10.2)\n",
            "Requirement already satisfied: typing-extensions>=4.8.0 in /usr/local/lib/python3.10/dist-packages (from fastapi) (4.12.2)\n",
            "Requirement already satisfied: click>=7.0 in /usr/local/lib/python3.10/dist-packages (from uvicorn) (8.1.7)\n",
            "Requirement already satisfied: h11>=0.8 in /usr/local/lib/python3.10/dist-packages (from uvicorn) (0.14.0)\n",
            "Requirement already satisfied: PyYAML>=5.1 in /usr/local/lib/python3.10/dist-packages (from pyngrok) (6.0.2)\n",
            "Requirement already satisfied: numpy>=1.22.4 in /usr/local/lib/python3.10/dist-packages (from pandas) (1.26.4)\n",
            "Requirement already satisfied: python-dateutil>=2.8.2 in /usr/local/lib/python3.10/dist-packages (from pandas) (2.8.2)\n",
            "Requirement already satisfied: pytz>=2020.1 in /usr/local/lib/python3.10/dist-packages (from pandas) (2024.2)\n",
            "Requirement already satisfied: tzdata>=2022.7 in /usr/local/lib/python3.10/dist-packages (from pandas) (2024.2)\n",
            "Requirement already satisfied: filelock in /usr/local/lib/python3.10/dist-packages (from transformers) (3.16.1)\n",
            "Requirement already satisfied: huggingface-hub<1.0,>=0.23.2 in /usr/local/lib/python3.10/dist-packages (from transformers) (0.26.3)\n",
            "Requirement already satisfied: packaging>=20.0 in /usr/local/lib/python3.10/dist-packages (from transformers) (24.2)\n",
            "Requirement already satisfied: regex!=2019.12.17 in /usr/local/lib/python3.10/dist-packages (from transformers) (2024.9.11)\n",
            "Requirement already satisfied: requests in /usr/local/lib/python3.10/dist-packages (from transformers) (2.32.3)\n",
            "Requirement already satisfied: tokenizers<0.21,>=0.20 in /usr/local/lib/python3.10/dist-packages (from transformers) (0.20.3)\n",
            "Requirement already satisfied: safetensors>=0.4.1 in /usr/local/lib/python3.10/dist-packages (from transformers) (0.4.5)\n",
            "Requirement already satisfied: tqdm>=4.27 in /usr/local/lib/python3.10/dist-packages (from transformers) (4.66.6)\n",
            "Requirement already satisfied: fsspec>=2023.5.0 in /usr/local/lib/python3.10/dist-packages (from huggingface-hub<1.0,>=0.23.2->transformers) (2024.10.0)\n",
            "Requirement already satisfied: annotated-types>=0.6.0 in /usr/local/lib/python3.10/dist-packages (from pydantic!=1.8,!=1.8.1,!=2.0.0,!=2.0.1,!=2.1.0,<3.0.0,>=1.7.4->fastapi) (0.7.0)\n",
            "Requirement already satisfied: pydantic-core==2.27.1 in /usr/local/lib/python3.10/dist-packages (from pydantic!=1.8,!=1.8.1,!=2.0.0,!=2.0.1,!=2.1.0,<3.0.0,>=1.7.4->fastapi) (2.27.1)\n",
            "Requirement already satisfied: six>=1.5 in /usr/local/lib/python3.10/dist-packages (from python-dateutil>=2.8.2->pandas) (1.16.0)\n",
            "Requirement already satisfied: anyio<5,>=3.4.0 in /usr/local/lib/python3.10/dist-packages (from starlette<0.42.0,>=0.40.0->fastapi) (3.7.1)\n",
            "Requirement already satisfied: charset-normalizer<4,>=2 in /usr/local/lib/python3.10/dist-packages (from requests->transformers) (3.4.0)\n",
            "Requirement already satisfied: idna<4,>=2.5 in /usr/local/lib/python3.10/dist-packages (from requests->transformers) (3.10)\n",
            "Requirement already satisfied: urllib3<3,>=1.21.1 in /usr/local/lib/python3.10/dist-packages (from requests->transformers) (2.2.3)\n",
            "Requirement already satisfied: certifi>=2017.4.17 in /usr/local/lib/python3.10/dist-packages (from requests->transformers) (2024.8.30)\n",
            "Requirement already satisfied: sniffio>=1.1 in /usr/local/lib/python3.10/dist-packages (from anyio<5,>=3.4.0->starlette<0.42.0,>=0.40.0->fastapi) (1.3.1)\n",
            "Requirement already satisfied: exceptiongroup in /usr/local/lib/python3.10/dist-packages (from anyio<5,>=3.4.0->starlette<0.42.0,>=0.40.0->fastapi) (1.2.2)\n"
          ]
        }
      ],
      "source": [
        "!pip install fastapi uvicorn pyngrok pandas fuzzywuzzy transformers nest_asyncio\n"
      ]
    },
    {
      "cell_type": "code",
      "execution_count": 38,
      "metadata": {
        "colab": {
          "base_uri": "https://localhost:8080/"
        },
        "id": "l-j8aagdB9Ro",
        "outputId": "a56ea207-3e8b-4364-ab36-6dbb02262f8f"
      },
      "outputs": [
        {
          "output_type": "stream",
          "name": "stdout",
          "text": [
            "Requirement already satisfied: transformers in /usr/local/lib/python3.10/dist-packages (4.46.3)\n",
            "Requirement already satisfied: filelock in /usr/local/lib/python3.10/dist-packages (from transformers) (3.16.1)\n",
            "Requirement already satisfied: huggingface-hub<1.0,>=0.23.2 in /usr/local/lib/python3.10/dist-packages (from transformers) (0.26.3)\n",
            "Requirement already satisfied: numpy>=1.17 in /usr/local/lib/python3.10/dist-packages (from transformers) (1.26.4)\n",
            "Requirement already satisfied: packaging>=20.0 in /usr/local/lib/python3.10/dist-packages (from transformers) (24.2)\n",
            "Requirement already satisfied: pyyaml>=5.1 in /usr/local/lib/python3.10/dist-packages (from transformers) (6.0.2)\n",
            "Requirement already satisfied: regex!=2019.12.17 in /usr/local/lib/python3.10/dist-packages (from transformers) (2024.9.11)\n",
            "Requirement already satisfied: requests in /usr/local/lib/python3.10/dist-packages (from transformers) (2.32.3)\n",
            "Requirement already satisfied: tokenizers<0.21,>=0.20 in /usr/local/lib/python3.10/dist-packages (from transformers) (0.20.3)\n",
            "Requirement already satisfied: safetensors>=0.4.1 in /usr/local/lib/python3.10/dist-packages (from transformers) (0.4.5)\n",
            "Requirement already satisfied: tqdm>=4.27 in /usr/local/lib/python3.10/dist-packages (from transformers) (4.66.6)\n",
            "Requirement already satisfied: fsspec>=2023.5.0 in /usr/local/lib/python3.10/dist-packages (from huggingface-hub<1.0,>=0.23.2->transformers) (2024.10.0)\n",
            "Requirement already satisfied: typing-extensions>=3.7.4.3 in /usr/local/lib/python3.10/dist-packages (from huggingface-hub<1.0,>=0.23.2->transformers) (4.12.2)\n",
            "Requirement already satisfied: charset-normalizer<4,>=2 in /usr/local/lib/python3.10/dist-packages (from requests->transformers) (3.4.0)\n",
            "Requirement already satisfied: idna<4,>=2.5 in /usr/local/lib/python3.10/dist-packages (from requests->transformers) (3.10)\n",
            "Requirement already satisfied: urllib3<3,>=1.21.1 in /usr/local/lib/python3.10/dist-packages (from requests->transformers) (2.2.3)\n",
            "Requirement already satisfied: certifi>=2017.4.17 in /usr/local/lib/python3.10/dist-packages (from requests->transformers) (2024.8.30)\n"
          ]
        }
      ],
      "source": [
        "!pip install transformers"
      ]
    },
    {
      "cell_type": "code",
      "execution_count": 39,
      "metadata": {
        "colab": {
          "base_uri": "https://localhost:8080/"
        },
        "id": "ZrykShtMB9YN",
        "outputId": "7fd0dcd2-5527-4aac-f7f9-696dfe45a813"
      },
      "outputs": [
        {
          "output_type": "stream",
          "name": "stdout",
          "text": [
            "Requirement already satisfied: fuzzywuzzy in /usr/local/lib/python3.10/dist-packages (0.18.0)\n"
          ]
        }
      ],
      "source": [
        "!pip install fuzzywuzzy\n"
      ]
    },
    {
      "cell_type": "code",
      "execution_count": 40,
      "metadata": {
        "colab": {
          "base_uri": "https://localhost:8080/"
        },
        "id": "tE39MxjaB9dv",
        "outputId": "3cb57959-717c-476d-f5a7-3dc734c3c6fb"
      },
      "outputs": [
        {
          "output_type": "stream",
          "name": "stdout",
          "text": [
            "Requirement already satisfied: flask in /usr/local/lib/python3.10/dist-packages (3.0.3)\n",
            "Requirement already satisfied: flask-ngrok in /usr/local/lib/python3.10/dist-packages (0.0.25)\n",
            "Requirement already satisfied: fuzzywuzzy in /usr/local/lib/python3.10/dist-packages (0.18.0)\n",
            "Requirement already satisfied: transformers in /usr/local/lib/python3.10/dist-packages (4.46.3)\n",
            "Requirement already satisfied: Werkzeug>=3.0.0 in /usr/local/lib/python3.10/dist-packages (from flask) (3.1.3)\n",
            "Requirement already satisfied: Jinja2>=3.1.2 in /usr/local/lib/python3.10/dist-packages (from flask) (3.1.4)\n",
            "Requirement already satisfied: itsdangerous>=2.1.2 in /usr/local/lib/python3.10/dist-packages (from flask) (2.2.0)\n",
            "Requirement already satisfied: click>=8.1.3 in /usr/local/lib/python3.10/dist-packages (from flask) (8.1.7)\n",
            "Requirement already satisfied: blinker>=1.6.2 in /usr/local/lib/python3.10/dist-packages (from flask) (1.9.0)\n",
            "Requirement already satisfied: requests in /usr/local/lib/python3.10/dist-packages (from flask-ngrok) (2.32.3)\n",
            "Requirement already satisfied: filelock in /usr/local/lib/python3.10/dist-packages (from transformers) (3.16.1)\n",
            "Requirement already satisfied: huggingface-hub<1.0,>=0.23.2 in /usr/local/lib/python3.10/dist-packages (from transformers) (0.26.3)\n",
            "Requirement already satisfied: numpy>=1.17 in /usr/local/lib/python3.10/dist-packages (from transformers) (1.26.4)\n",
            "Requirement already satisfied: packaging>=20.0 in /usr/local/lib/python3.10/dist-packages (from transformers) (24.2)\n",
            "Requirement already satisfied: pyyaml>=5.1 in /usr/local/lib/python3.10/dist-packages (from transformers) (6.0.2)\n",
            "Requirement already satisfied: regex!=2019.12.17 in /usr/local/lib/python3.10/dist-packages (from transformers) (2024.9.11)\n",
            "Requirement already satisfied: tokenizers<0.21,>=0.20 in /usr/local/lib/python3.10/dist-packages (from transformers) (0.20.3)\n",
            "Requirement already satisfied: safetensors>=0.4.1 in /usr/local/lib/python3.10/dist-packages (from transformers) (0.4.5)\n",
            "Requirement already satisfied: tqdm>=4.27 in /usr/local/lib/python3.10/dist-packages (from transformers) (4.66.6)\n",
            "Requirement already satisfied: fsspec>=2023.5.0 in /usr/local/lib/python3.10/dist-packages (from huggingface-hub<1.0,>=0.23.2->transformers) (2024.10.0)\n",
            "Requirement already satisfied: typing-extensions>=3.7.4.3 in /usr/local/lib/python3.10/dist-packages (from huggingface-hub<1.0,>=0.23.2->transformers) (4.12.2)\n",
            "Requirement already satisfied: MarkupSafe>=2.0 in /usr/local/lib/python3.10/dist-packages (from Jinja2>=3.1.2->flask) (3.0.2)\n",
            "Requirement already satisfied: charset-normalizer<4,>=2 in /usr/local/lib/python3.10/dist-packages (from requests->flask-ngrok) (3.4.0)\n",
            "Requirement already satisfied: idna<4,>=2.5 in /usr/local/lib/python3.10/dist-packages (from requests->flask-ngrok) (3.10)\n",
            "Requirement already satisfied: urllib3<3,>=1.21.1 in /usr/local/lib/python3.10/dist-packages (from requests->flask-ngrok) (2.2.3)\n",
            "Requirement already satisfied: certifi>=2017.4.17 in /usr/local/lib/python3.10/dist-packages (from requests->flask-ngrok) (2024.8.30)\n"
          ]
        }
      ],
      "source": [
        "!pip install flask flask-ngrok fuzzywuzzy transformers\n"
      ]
    },
    {
      "cell_type": "code",
      "execution_count": 41,
      "metadata": {
        "colab": {
          "base_uri": "https://localhost:8080/"
        },
        "id": "-OnGvYk4nPa6",
        "outputId": "64f34d4d-3dc7-4fe0-be92-377f62fa0b6a"
      },
      "outputs": [
        {
          "output_type": "stream",
          "name": "stdout",
          "text": [
            "Requirement already satisfied: pyngrok in /usr/local/lib/python3.10/dist-packages (7.2.1)\n",
            "Requirement already satisfied: PyYAML>=5.1 in /usr/local/lib/python3.10/dist-packages (from pyngrok) (6.0.2)\n"
          ]
        }
      ],
      "source": [
        "!pip install pyngrok\n"
      ]
    },
    {
      "cell_type": "code",
      "execution_count": 42,
      "metadata": {
        "colab": {
          "base_uri": "https://localhost:8080/"
        },
        "id": "ANbq_tflnPnW",
        "outputId": "fa670618-c477-4946-a661-9dccfcf78141"
      },
      "outputs": [
        {
          "output_type": "stream",
          "name": "stdout",
          "text": [
            "Requirement already satisfied: flask in /usr/local/lib/python3.10/dist-packages (3.0.3)\n",
            "Requirement already satisfied: flask-ngrok in /usr/local/lib/python3.10/dist-packages (0.0.25)\n",
            "Requirement already satisfied: pandas in /usr/local/lib/python3.10/dist-packages (2.2.2)\n",
            "Requirement already satisfied: fuzzywuzzy in /usr/local/lib/python3.10/dist-packages (0.18.0)\n",
            "Requirement already satisfied: transformers in /usr/local/lib/python3.10/dist-packages (4.46.3)\n",
            "Requirement already satisfied: Werkzeug>=3.0.0 in /usr/local/lib/python3.10/dist-packages (from flask) (3.1.3)\n",
            "Requirement already satisfied: Jinja2>=3.1.2 in /usr/local/lib/python3.10/dist-packages (from flask) (3.1.4)\n",
            "Requirement already satisfied: itsdangerous>=2.1.2 in /usr/local/lib/python3.10/dist-packages (from flask) (2.2.0)\n",
            "Requirement already satisfied: click>=8.1.3 in /usr/local/lib/python3.10/dist-packages (from flask) (8.1.7)\n",
            "Requirement already satisfied: blinker>=1.6.2 in /usr/local/lib/python3.10/dist-packages (from flask) (1.9.0)\n",
            "Requirement already satisfied: requests in /usr/local/lib/python3.10/dist-packages (from flask-ngrok) (2.32.3)\n",
            "Requirement already satisfied: numpy>=1.22.4 in /usr/local/lib/python3.10/dist-packages (from pandas) (1.26.4)\n",
            "Requirement already satisfied: python-dateutil>=2.8.2 in /usr/local/lib/python3.10/dist-packages (from pandas) (2.8.2)\n",
            "Requirement already satisfied: pytz>=2020.1 in /usr/local/lib/python3.10/dist-packages (from pandas) (2024.2)\n",
            "Requirement already satisfied: tzdata>=2022.7 in /usr/local/lib/python3.10/dist-packages (from pandas) (2024.2)\n",
            "Requirement already satisfied: filelock in /usr/local/lib/python3.10/dist-packages (from transformers) (3.16.1)\n",
            "Requirement already satisfied: huggingface-hub<1.0,>=0.23.2 in /usr/local/lib/python3.10/dist-packages (from transformers) (0.26.3)\n",
            "Requirement already satisfied: packaging>=20.0 in /usr/local/lib/python3.10/dist-packages (from transformers) (24.2)\n",
            "Requirement already satisfied: pyyaml>=5.1 in /usr/local/lib/python3.10/dist-packages (from transformers) (6.0.2)\n",
            "Requirement already satisfied: regex!=2019.12.17 in /usr/local/lib/python3.10/dist-packages (from transformers) (2024.9.11)\n",
            "Requirement already satisfied: tokenizers<0.21,>=0.20 in /usr/local/lib/python3.10/dist-packages (from transformers) (0.20.3)\n",
            "Requirement already satisfied: safetensors>=0.4.1 in /usr/local/lib/python3.10/dist-packages (from transformers) (0.4.5)\n",
            "Requirement already satisfied: tqdm>=4.27 in /usr/local/lib/python3.10/dist-packages (from transformers) (4.66.6)\n",
            "Requirement already satisfied: fsspec>=2023.5.0 in /usr/local/lib/python3.10/dist-packages (from huggingface-hub<1.0,>=0.23.2->transformers) (2024.10.0)\n",
            "Requirement already satisfied: typing-extensions>=3.7.4.3 in /usr/local/lib/python3.10/dist-packages (from huggingface-hub<1.0,>=0.23.2->transformers) (4.12.2)\n",
            "Requirement already satisfied: MarkupSafe>=2.0 in /usr/local/lib/python3.10/dist-packages (from Jinja2>=3.1.2->flask) (3.0.2)\n",
            "Requirement already satisfied: six>=1.5 in /usr/local/lib/python3.10/dist-packages (from python-dateutil>=2.8.2->pandas) (1.16.0)\n",
            "Requirement already satisfied: charset-normalizer<4,>=2 in /usr/local/lib/python3.10/dist-packages (from requests->flask-ngrok) (3.4.0)\n",
            "Requirement already satisfied: idna<4,>=2.5 in /usr/local/lib/python3.10/dist-packages (from requests->flask-ngrok) (3.10)\n",
            "Requirement already satisfied: urllib3<3,>=1.21.1 in /usr/local/lib/python3.10/dist-packages (from requests->flask-ngrok) (2.2.3)\n",
            "Requirement already satisfied: certifi>=2017.4.17 in /usr/local/lib/python3.10/dist-packages (from requests->flask-ngrok) (2024.8.30)\n"
          ]
        }
      ],
      "source": [
        "!pip install flask flask-ngrok pandas fuzzywuzzy transformers\n"
      ]
    },
    {
      "cell_type": "code",
      "execution_count": 43,
      "metadata": {
        "colab": {
          "base_uri": "https://localhost:8080/"
        },
        "id": "wdX6tQ3QzEAN",
        "outputId": "d932aefe-e9e9-4690-f699-7b699b6b053c"
      },
      "outputs": [
        {
          "output_type": "stream",
          "name": "stdout",
          "text": [
            "Requirement already satisfied: fastapi in /usr/local/lib/python3.10/dist-packages (0.115.6)\n",
            "Requirement already satisfied: uvicorn in /usr/local/lib/python3.10/dist-packages (0.32.1)\n",
            "Requirement already satisfied: nest_asyncio in /usr/local/lib/python3.10/dist-packages (1.6.0)\n",
            "Requirement already satisfied: pyngrok in /usr/local/lib/python3.10/dist-packages (7.2.1)\n",
            "Requirement already satisfied: starlette<0.42.0,>=0.40.0 in /usr/local/lib/python3.10/dist-packages (from fastapi) (0.41.3)\n",
            "Requirement already satisfied: pydantic!=1.8,!=1.8.1,!=2.0.0,!=2.0.1,!=2.1.0,<3.0.0,>=1.7.4 in /usr/local/lib/python3.10/dist-packages (from fastapi) (2.10.2)\n",
            "Requirement already satisfied: typing-extensions>=4.8.0 in /usr/local/lib/python3.10/dist-packages (from fastapi) (4.12.2)\n",
            "Requirement already satisfied: click>=7.0 in /usr/local/lib/python3.10/dist-packages (from uvicorn) (8.1.7)\n",
            "Requirement already satisfied: h11>=0.8 in /usr/local/lib/python3.10/dist-packages (from uvicorn) (0.14.0)\n",
            "Requirement already satisfied: PyYAML>=5.1 in /usr/local/lib/python3.10/dist-packages (from pyngrok) (6.0.2)\n",
            "Requirement already satisfied: annotated-types>=0.6.0 in /usr/local/lib/python3.10/dist-packages (from pydantic!=1.8,!=1.8.1,!=2.0.0,!=2.0.1,!=2.1.0,<3.0.0,>=1.7.4->fastapi) (0.7.0)\n",
            "Requirement already satisfied: pydantic-core==2.27.1 in /usr/local/lib/python3.10/dist-packages (from pydantic!=1.8,!=1.8.1,!=2.0.0,!=2.0.1,!=2.1.0,<3.0.0,>=1.7.4->fastapi) (2.27.1)\n",
            "Requirement already satisfied: anyio<5,>=3.4.0 in /usr/local/lib/python3.10/dist-packages (from starlette<0.42.0,>=0.40.0->fastapi) (3.7.1)\n",
            "Requirement already satisfied: idna>=2.8 in /usr/local/lib/python3.10/dist-packages (from anyio<5,>=3.4.0->starlette<0.42.0,>=0.40.0->fastapi) (3.10)\n",
            "Requirement already satisfied: sniffio>=1.1 in /usr/local/lib/python3.10/dist-packages (from anyio<5,>=3.4.0->starlette<0.42.0,>=0.40.0->fastapi) (1.3.1)\n",
            "Requirement already satisfied: exceptiongroup in /usr/local/lib/python3.10/dist-packages (from anyio<5,>=3.4.0->starlette<0.42.0,>=0.40.0->fastapi) (1.2.2)\n"
          ]
        }
      ],
      "source": [
        "!pip install fastapi uvicorn nest_asyncio pyngrok\n"
      ]
    },
    {
      "cell_type": "code",
      "execution_count": 44,
      "metadata": {
        "id": "Zh83vmOW7gd-",
        "colab": {
          "base_uri": "https://localhost:8080/"
        },
        "outputId": "645ecb69-b9f0-467c-80e3-672804a4c840"
      },
      "outputs": [
        {
          "output_type": "stream",
          "name": "stdout",
          "text": [
            "Requirement already satisfied: python-Levenshtein in /usr/local/lib/python3.10/dist-packages (0.26.1)\n",
            "Requirement already satisfied: Levenshtein==0.26.1 in /usr/local/lib/python3.10/dist-packages (from python-Levenshtein) (0.26.1)\n",
            "Requirement already satisfied: rapidfuzz<4.0.0,>=3.9.0 in /usr/local/lib/python3.10/dist-packages (from Levenshtein==0.26.1->python-Levenshtein) (3.10.1)\n"
          ]
        }
      ],
      "source": [
        "!pip install python-Levenshtein\n"
      ]
    },
    {
      "cell_type": "code",
      "execution_count": 44,
      "metadata": {
        "id": "BXEK_Rd-7g8q"
      },
      "outputs": [],
      "source": []
    },
    {
      "cell_type": "code",
      "execution_count": 45,
      "metadata": {
        "id": "qCPFcIxc2p9w",
        "colab": {
          "base_uri": "https://localhost:8080/"
        },
        "outputId": "153b3224-4bb1-4d96-db12-654a527ad87b"
      },
      "outputs": [
        {
          "output_type": "stream",
          "name": "stdout",
          "text": [
            "Authtoken saved to configuration file: /root/.config/ngrok/ngrok.yml\n"
          ]
        }
      ],
      "source": [
        "!ngrok config add-authtoken 2pi17RYPIkF3FyQFq4LL2dKzZCi_7c8B2Cxa8bzdg8MK8cayd\n"
      ]
    },
    {
      "cell_type": "code",
      "execution_count": 46,
      "metadata": {
        "id": "v72l6io_3hIG",
        "colab": {
          "base_uri": "https://localhost:8080/"
        },
        "outputId": "e8783048-b1df-4a9e-b576-1223de4e674a"
      },
      "outputs": [
        {
          "output_type": "stream",
          "name": "stdout",
          "text": [
            "Requirement already satisfied: python-multipart in /usr/local/lib/python3.10/dist-packages (0.0.19)\n"
          ]
        }
      ],
      "source": [
        "!pip install python-multipart\n"
      ]
    },
    {
      "cell_type": "code",
      "execution_count": 47,
      "metadata": {
        "colab": {
          "base_uri": "https://localhost:8080/"
        },
        "id": "N_weQJwI3hN6",
        "outputId": "3bd2805d-13ea-4b0d-e435-c0bfc50e4330"
      },
      "outputs": [
        {
          "output_type": "stream",
          "name": "stdout",
          "text": [
            "Requirement already satisfied: transformers in /usr/local/lib/python3.10/dist-packages (4.46.3)\n",
            "Requirement already satisfied: fastapi in /usr/local/lib/python3.10/dist-packages (0.115.6)\n",
            "Requirement already satisfied: uvicorn in /usr/local/lib/python3.10/dist-packages (0.32.1)\n",
            "Requirement already satisfied: pandas in /usr/local/lib/python3.10/dist-packages (2.2.2)\n",
            "Requirement already satisfied: fuzzywuzzy in /usr/local/lib/python3.10/dist-packages (0.18.0)\n",
            "Requirement already satisfied: filelock in /usr/local/lib/python3.10/dist-packages (from transformers) (3.16.1)\n",
            "Requirement already satisfied: huggingface-hub<1.0,>=0.23.2 in /usr/local/lib/python3.10/dist-packages (from transformers) (0.26.3)\n",
            "Requirement already satisfied: numpy>=1.17 in /usr/local/lib/python3.10/dist-packages (from transformers) (1.26.4)\n",
            "Requirement already satisfied: packaging>=20.0 in /usr/local/lib/python3.10/dist-packages (from transformers) (24.2)\n",
            "Requirement already satisfied: pyyaml>=5.1 in /usr/local/lib/python3.10/dist-packages (from transformers) (6.0.2)\n",
            "Requirement already satisfied: regex!=2019.12.17 in /usr/local/lib/python3.10/dist-packages (from transformers) (2024.9.11)\n",
            "Requirement already satisfied: requests in /usr/local/lib/python3.10/dist-packages (from transformers) (2.32.3)\n",
            "Requirement already satisfied: tokenizers<0.21,>=0.20 in /usr/local/lib/python3.10/dist-packages (from transformers) (0.20.3)\n",
            "Requirement already satisfied: safetensors>=0.4.1 in /usr/local/lib/python3.10/dist-packages (from transformers) (0.4.5)\n",
            "Requirement already satisfied: tqdm>=4.27 in /usr/local/lib/python3.10/dist-packages (from transformers) (4.66.6)\n",
            "Requirement already satisfied: starlette<0.42.0,>=0.40.0 in /usr/local/lib/python3.10/dist-packages (from fastapi) (0.41.3)\n",
            "Requirement already satisfied: pydantic!=1.8,!=1.8.1,!=2.0.0,!=2.0.1,!=2.1.0,<3.0.0,>=1.7.4 in /usr/local/lib/python3.10/dist-packages (from fastapi) (2.10.2)\n",
            "Requirement already satisfied: typing-extensions>=4.8.0 in /usr/local/lib/python3.10/dist-packages (from fastapi) (4.12.2)\n",
            "Requirement already satisfied: click>=7.0 in /usr/local/lib/python3.10/dist-packages (from uvicorn) (8.1.7)\n",
            "Requirement already satisfied: h11>=0.8 in /usr/local/lib/python3.10/dist-packages (from uvicorn) (0.14.0)\n",
            "Requirement already satisfied: python-dateutil>=2.8.2 in /usr/local/lib/python3.10/dist-packages (from pandas) (2.8.2)\n",
            "Requirement already satisfied: pytz>=2020.1 in /usr/local/lib/python3.10/dist-packages (from pandas) (2024.2)\n",
            "Requirement already satisfied: tzdata>=2022.7 in /usr/local/lib/python3.10/dist-packages (from pandas) (2024.2)\n",
            "Requirement already satisfied: fsspec>=2023.5.0 in /usr/local/lib/python3.10/dist-packages (from huggingface-hub<1.0,>=0.23.2->transformers) (2024.10.0)\n",
            "Requirement already satisfied: annotated-types>=0.6.0 in /usr/local/lib/python3.10/dist-packages (from pydantic!=1.8,!=1.8.1,!=2.0.0,!=2.0.1,!=2.1.0,<3.0.0,>=1.7.4->fastapi) (0.7.0)\n",
            "Requirement already satisfied: pydantic-core==2.27.1 in /usr/local/lib/python3.10/dist-packages (from pydantic!=1.8,!=1.8.1,!=2.0.0,!=2.0.1,!=2.1.0,<3.0.0,>=1.7.4->fastapi) (2.27.1)\n",
            "Requirement already satisfied: six>=1.5 in /usr/local/lib/python3.10/dist-packages (from python-dateutil>=2.8.2->pandas) (1.16.0)\n",
            "Requirement already satisfied: anyio<5,>=3.4.0 in /usr/local/lib/python3.10/dist-packages (from starlette<0.42.0,>=0.40.0->fastapi) (3.7.1)\n",
            "Requirement already satisfied: charset-normalizer<4,>=2 in /usr/local/lib/python3.10/dist-packages (from requests->transformers) (3.4.0)\n",
            "Requirement already satisfied: idna<4,>=2.5 in /usr/local/lib/python3.10/dist-packages (from requests->transformers) (3.10)\n",
            "Requirement already satisfied: urllib3<3,>=1.21.1 in /usr/local/lib/python3.10/dist-packages (from requests->transformers) (2.2.3)\n",
            "Requirement already satisfied: certifi>=2017.4.17 in /usr/local/lib/python3.10/dist-packages (from requests->transformers) (2024.8.30)\n",
            "Requirement already satisfied: sniffio>=1.1 in /usr/local/lib/python3.10/dist-packages (from anyio<5,>=3.4.0->starlette<0.42.0,>=0.40.0->fastapi) (1.3.1)\n",
            "Requirement already satisfied: exceptiongroup in /usr/local/lib/python3.10/dist-packages (from anyio<5,>=3.4.0->starlette<0.42.0,>=0.40.0->fastapi) (1.2.2)\n"
          ]
        }
      ],
      "source": [
        "!pip install transformers fastapi uvicorn pandas fuzzywuzzy\n"
      ]
    },
    {
      "cell_type": "code",
      "execution_count": 48,
      "metadata": {
        "colab": {
          "base_uri": "https://localhost:8080/"
        },
        "id": "SnDpKYfI3hTz",
        "outputId": "e8dd44fa-4a9d-471d-9339-4907f84b60ac"
      },
      "outputs": [
        {
          "output_type": "stream",
          "name": "stdout",
          "text": [
            "Requirement already satisfied: nest_asyncio in /usr/local/lib/python3.10/dist-packages (1.6.0)\n"
          ]
        }
      ],
      "source": [
        "!pip install nest_asyncio\n"
      ]
    },
    {
      "cell_type": "code",
      "execution_count": 49,
      "metadata": {
        "id": "mtIGPfFY3hWe"
      },
      "outputs": [],
      "source": [
        "import nest_asyncio\n",
        "nest_asyncio.apply()\n"
      ]
    },
    {
      "cell_type": "code",
      "execution_count": 50,
      "metadata": {
        "colab": {
          "base_uri": "https://localhost:8080/"
        },
        "id": "UtBdrnqT76xC",
        "outputId": "fc93267e-e6a5-4088-a818-58681eff8dfe"
      },
      "outputs": [
        {
          "output_type": "stream",
          "name": "stderr",
          "text": [
            "ERROR:asyncio:Task exception was never retrieved\n",
            "future: <Task finished name='Task-269' coro=<Server.serve() done, defined at /usr/local/lib/python3.10/dist-packages/uvicorn/server.py:67> exception=KeyboardInterrupt()>\n",
            "Traceback (most recent call last):\n",
            "  File \"/usr/local/lib/python3.10/dist-packages/uvicorn/main.py\", line 579, in run\n",
            "    server.run()\n",
            "  File \"/usr/local/lib/python3.10/dist-packages/uvicorn/server.py\", line 65, in run\n",
            "    return asyncio.run(self.serve(sockets=sockets))\n",
            "  File \"/usr/local/lib/python3.10/dist-packages/nest_asyncio.py\", line 30, in run\n",
            "    return loop.run_until_complete(task)\n",
            "  File \"/usr/local/lib/python3.10/dist-packages/nest_asyncio.py\", line 92, in run_until_complete\n",
            "    self._run_once()\n",
            "  File \"/usr/local/lib/python3.10/dist-packages/nest_asyncio.py\", line 133, in _run_once\n",
            "    handle._run()\n",
            "  File \"/usr/lib/python3.10/asyncio/events.py\", line 80, in _run\n",
            "    self._context.run(self._callback, *self._args)\n",
            "  File \"/usr/lib/python3.10/asyncio/tasks.py\", line 315, in __wakeup\n",
            "    self.__step()\n",
            "  File \"/usr/lib/python3.10/asyncio/tasks.py\", line 232, in __step\n",
            "    result = coro.send(None)\n",
            "  File \"/usr/local/lib/python3.10/dist-packages/uvicorn/server.py\", line 68, in serve\n",
            "    with self.capture_signals():\n",
            "  File \"/usr/lib/python3.10/contextlib.py\", line 142, in __exit__\n",
            "    next(self.gen)\n",
            "  File \"/usr/local/lib/python3.10/dist-packages/uvicorn/server.py\", line 332, in capture_signals\n",
            "    signal.raise_signal(captured_signal)\n",
            "KeyboardInterrupt\n"
          ]
        },
        {
          "output_type": "stream",
          "name": "stdout",
          "text": [
            "Requirement already satisfied: pyngrok in /usr/local/lib/python3.10/dist-packages (7.2.1)\n",
            "Requirement already satisfied: PyYAML>=5.1 in /usr/local/lib/python3.10/dist-packages (from pyngrok) (6.0.2)\n"
          ]
        }
      ],
      "source": [
        "!pip install pyngrok\n"
      ]
    },
    {
      "cell_type": "code",
      "execution_count": 50,
      "metadata": {
        "id": "tyFEtdl_C36G"
      },
      "outputs": [],
      "source": []
    },
    {
      "cell_type": "code",
      "source": [],
      "metadata": {
        "id": "VTb4MLoPo6b_"
      },
      "execution_count": 50,
      "outputs": []
    },
    {
      "cell_type": "code",
      "source": [],
      "metadata": {
        "id": "dqT3IGQ8o6fH"
      },
      "execution_count": 50,
      "outputs": []
    },
    {
      "cell_type": "code",
      "source": [],
      "metadata": {
        "id": "pjH8AydQo6iS"
      },
      "execution_count": 50,
      "outputs": []
    },
    {
      "cell_type": "code",
      "source": [],
      "metadata": {
        "id": "m75T1ozGo6lR"
      },
      "execution_count": 50,
      "outputs": []
    },
    {
      "cell_type": "code",
      "source": [],
      "metadata": {
        "id": "48Zh-hqro6ow"
      },
      "execution_count": 50,
      "outputs": []
    },
    {
      "cell_type": "code",
      "source": [],
      "metadata": {
        "id": "K3BdMGjmo6ra"
      },
      "execution_count": 50,
      "outputs": []
    },
    {
      "cell_type": "code",
      "source": [],
      "metadata": {
        "id": "0gnDRKl6Xl8R"
      },
      "execution_count": 50,
      "outputs": []
    },
    {
      "cell_type": "code",
      "source": [],
      "metadata": {
        "id": "HE47N4hEXmGQ"
      },
      "execution_count": 50,
      "outputs": []
    },
    {
      "cell_type": "code",
      "source": [],
      "metadata": {
        "id": "EeF0skByXmJn"
      },
      "execution_count": 50,
      "outputs": []
    },
    {
      "cell_type": "code",
      "source": [],
      "metadata": {
        "id": "jQTDmL8LXmM9"
      },
      "execution_count": 50,
      "outputs": []
    },
    {
      "cell_type": "code",
      "source": [],
      "metadata": {
        "id": "gchYZFV1XmQI"
      },
      "execution_count": 50,
      "outputs": []
    },
    {
      "cell_type": "code",
      "source": [],
      "metadata": {
        "id": "0k8xzEXTXmTg"
      },
      "execution_count": 50,
      "outputs": []
    },
    {
      "cell_type": "code",
      "source": [],
      "metadata": {
        "id": "cF-aZbqjXmWZ"
      },
      "execution_count": 50,
      "outputs": []
    },
    {
      "cell_type": "code",
      "source": [
        "#final"
      ],
      "metadata": {
        "id": "etni6igoXmZ8"
      },
      "execution_count": 51,
      "outputs": []
    },
    {
      "cell_type": "code",
      "source": [
        "import os\n",
        "import pandas as pd\n",
        "from fuzzywuzzy import fuzz, process\n",
        "from fastapi import FastAPI, Form\n",
        "from fastapi.responses import HTMLResponse\n",
        "from pyngrok import ngrok\n",
        "import uvicorn\n",
        "import nest_asyncio\n",
        "import re\n",
        "from transformers import pipeline\n",
        "import nltk\n",
        "from nltk.corpus import wordnet\n",
        "\n",
        "# Apply nest_asyncio for compatibility\n",
        "nest_asyncio.apply()\n",
        "\n",
        "# Initialize FastAPI app\n",
        "app = FastAPI()\n",
        "\n",
        "# Load the Excel data\n",
        "file_path = \"/content/Datasetfinaldivya12_11.xlsx\"\n",
        "if not os.path.exists(file_path):\n",
        "    raise FileNotFoundError(\"The dataset file was not found at the specified path.\")\n",
        "\n",
        "# Read Excel Sheets\n",
        "excel_data = pd.ExcelFile(file_path)\n",
        "disease_bodyfn_df = excel_data.parse('30-10-DISEASE VS BODYFN')\n",
        "bodyfn_assistive_df = excel_data.parse('31-10 BODYFN vs assistive techn')\n",
        "bodyfn_home_icf_df = excel_data.parse('31-10 BODYFN vs HOME ICF')\n",
        "\n",
        "\n",
        "\n",
        "\n",
        "# Load the Excel data\n",
        "file_path2 = \"/content/Musular_Distrophy19fNOV.xlsx\"\n",
        "if not os.path.exists(file_path2):\n",
        "    raise FileNotFoundError(\"The dataset file was not found at the specified path.\")\n",
        "\n",
        "# Read Excel Sheets\n",
        "excel_data = pd.ExcelFile(file_path2)\n",
        "\n",
        "# Parse the sheets into DataFrames\n",
        "md_activity_part_df = excel_data.parse('Activity_Part')\n",
        "md_housing_adapt_df = excel_data.parse('HouFac_Adapatn')\n",
        "\n",
        "# Clean the 'Activity_Part' DataFrame by removing unwanted columns\n",
        "md_activity_part_df = md_activity_part_df.drop(columns=['Unnamed: 2', 'Unnamed: 3'], errors='ignore')\n",
        "\n",
        "# Clean the column names in Activity_Part DataFrame\n",
        "md_activity_part_df.columns = md_activity_part_df.columns.str.strip()\n",
        "\n",
        "# Clean the 'HouFac_Adapatn' DataFrame by stripping extra spaces\n",
        "md_housing_adapt_df.columns = md_housing_adapt_df.columns.str.strip()\n",
        "\n",
        "# Rename columns in 'HouFac_Adapatn' to standardize them\n",
        "md_housing_adapt_df.rename(columns={\n",
        "    'HOUSING FACTORS': 'Housing Factors',\n",
        "    'Housing adaptation': 'Housing Adaptation'\n",
        "}, inplace=True)\n",
        "\n",
        "# Ensure that you select the correct columns from the cleaned DataFrame\n",
        "md_activity_part_df = md_activity_part_df[['Disease', 'Activities and participation limitations', 'Assistive Devices: Technologies']]\n",
        "md_housing_adapt_df = md_housing_adapt_df[['Disease', 'Housing Factors', 'Housing Adaptation']]\n",
        "\n",
        "\n",
        "\n",
        "\n",
        "# Preprocessing function\n",
        "def preprocess_text(text1):\n",
        "    return re.sub(r'[^a-zA-Z0-9\\s]', '', text1.strip().lower()) if text1 else \"\"\n",
        "\n",
        "# Synonym retrieval function\n",
        "def get_synonyms(word):\n",
        "    synonyms = set()\n",
        "    for syn in wordnet.synsets(word):\n",
        "        for lemma in syn.lemmas():\n",
        "            synonym = lemma.name().replace('_', ' ')\n",
        "            if synonym.lower() != word.lower():\n",
        "                synonyms.add(synonym)\n",
        "    return synonyms\n",
        "\n",
        "# Build a precomputed keyword-to-synonym map\n",
        "def build_keyword_synonym_map(keyword_list):\n",
        "    synonym_map = {}\n",
        "    for keyword in keyword_list:\n",
        "        keyword = preprocess_text(keyword)\n",
        "        synonym_map[keyword] = get_synonyms(keyword)\n",
        "    return synonym_map\n",
        "\n",
        "# Generate keyword map\n",
        "all_keywords = (\n",
        "    md_activity_part_df['Activities and participation limitations'].tolist() +\n",
        "    md_housing_adapt_df['Housing Factors'].tolist()\n",
        ")\n",
        "all_keywords = [preprocess_text(k) for k in all_keywords]\n",
        "keyword_synonym_map = build_keyword_synonym_map(all_keywords)\n",
        "\n",
        "# Fuzzy Matching Helper Function\n",
        "def find_closest_match(input_text1, text_list1, threshold=80):\n",
        "    input_text1 = preprocess_text(input_text1)\n",
        "    match = process.extractOne(input_text1, text_list1, scorer=fuzz.token_sort_ratio)\n",
        "    return match[0] if match and match[1] >= threshold else None\n",
        "\n",
        "\n",
        "\n",
        "\n",
        "\n",
        "\n",
        "\n",
        "\n",
        "\n",
        "\n",
        "\n",
        "\n",
        "\n",
        "\n",
        "\n",
        "\n",
        "\n",
        "\n",
        "\n",
        "\n",
        "\n",
        "\n",
        "\n",
        "# Download NLTK data\n",
        "nltk.download('stopwords')\n",
        "nltk.download('wordnet')\n",
        "\n",
        "from nltk.corpus import stopwords\n",
        "\n",
        "# Preprocessing helper function\n",
        "def preprocess_text(text):\n",
        "    return re.sub(r'[^a-zA-Z0-9\\s]', '', text.strip().lower()) if text else \"\"\n",
        "\n",
        "# Normalize the dataset\n",
        "disease_bodyfn_df['Disease'] = disease_bodyfn_df['Disease'].apply(preprocess_text)\n",
        "bodyfn_assistive_df['Symptoms'] = bodyfn_assistive_df['Symptoms'].apply(preprocess_text)\n",
        "bodyfn_home_icf_df['Symptoms'] = bodyfn_home_icf_df['Symptoms'].apply(preprocess_text)\n",
        "\n",
        "# Synonym retrieval function\n",
        "def get_synonyms(word):\n",
        "    synonyms = set()\n",
        "    for syn in wordnet.synsets(word):\n",
        "        for lemma in syn.lemmas():\n",
        "            synonym = lemma.name().replace('_', ' ')\n",
        "            if synonym.lower() != word.lower():\n",
        "                synonyms.add(synonym)\n",
        "    return synonyms\n",
        "\n",
        "# Build a precomputed keyword-to-synonym map\n",
        "def build_keyword_synonym_map(keyword_list):\n",
        "    synonym_map = {}\n",
        "    for keyword in keyword_list:\n",
        "        keyword = preprocess_text(keyword)\n",
        "        synonym_map[keyword] = get_synonyms(keyword)\n",
        "    return synonym_map\n",
        "\n",
        "# Generate the synonym map for all keywords\n",
        "all_keywords = (\n",
        "    disease_bodyfn_df['Disease'].tolist()\n",
        "    + bodyfn_assistive_df['Symptoms'].tolist()\n",
        "    + bodyfn_home_icf_df['Symptoms'].tolist()\n",
        ")\n",
        "all_keywords = [preprocess_text(k) for k in all_keywords]\n",
        "keyword_synonym_map = build_keyword_synonym_map(all_keywords)\n",
        "\n",
        "# Fuzzy Matching Helper Function\n",
        "def find_closest_match(input_text, text_list, threshold=90):\n",
        "    input_text = preprocess_text(input_text)\n",
        "    match = process.extractOne(input_text, text_list, scorer=fuzz.token_sort_ratio)\n",
        "    if match:\n",
        "        print(f\"Attempting to match '{input_text}' - Best match: '{match[0]}' with score: {match[1]}\")\n",
        "    return match[0] if match and match[1] >= threshold else None\n",
        "\n",
        "# Enhanced Keyword Extraction\n",
        "def extract_keyword(input_text):\n",
        "    input_text = preprocess_text(input_text)\n",
        "    tokens = input_text.split()\n",
        "\n",
        "    # Break compound words (e.g., \"parkinsonsdisease\" -> \"parkinson's disease\")\n",
        "    compound_breaks = re.findall(r'[a-zA-Z]+', input_text)\n",
        "    input_text_expanded = ' '.join(compound_breaks)\n",
        "    tokens_expanded = input_text_expanded.split()\n",
        "\n",
        "    # Combine all keywords\n",
        "    all_keywords = (\n",
        "        disease_bodyfn_df['Disease'].tolist()\n",
        "        + bodyfn_assistive_df['Symptoms'].tolist()\n",
        "        + bodyfn_home_icf_df['Symptoms'].tolist()\n",
        "    )\n",
        "    all_keywords = [preprocess_text(k) for k in all_keywords]\n",
        "\n",
        "    # Helper function to score matches\n",
        "    def score_match(input_tokens, keyword):\n",
        "        keyword_tokens = keyword.split()\n",
        "        overlap = set(input_tokens) & set(keyword_tokens)\n",
        "        return len(overlap)\n",
        "\n",
        "    # Step 1: Exact match\n",
        "    exact_match = next((keyword for keyword in all_keywords if keyword == input_text), None)\n",
        "    if exact_match:\n",
        "        print(f\"Exact match found: {exact_match}\")\n",
        "        return exact_match\n",
        "\n",
        "    exact_match_expanded = next((keyword for keyword in all_keywords if keyword == input_text_expanded), None)\n",
        "    if exact_match_expanded:\n",
        "        print(f\"Exact match (expanded) found: {exact_match_expanded}\")\n",
        "        return exact_match_expanded\n",
        "\n",
        "    # Step 2: Synonym matching with context\n",
        "    best_synonym_match = None\n",
        "    best_synonym_score = 0\n",
        "    for token in tokens + tokens_expanded:\n",
        "        for keyword, synonyms in keyword_synonym_map.items():\n",
        "            if token in synonyms or token == keyword:\n",
        "                score = score_match(tokens, keyword)\n",
        "                if score > best_synonym_score:\n",
        "                    best_synonym_match = keyword\n",
        "                    best_synonym_score = score\n",
        "    if best_synonym_match:\n",
        "        print(f\"Best synonym match found: {best_synonym_match}\")\n",
        "        return best_synonym_match\n",
        "\n",
        "    # Step 3: Contextual substring and token matching\n",
        "    best_context_match = None\n",
        "    best_context_score = 0\n",
        "    for keyword in all_keywords:\n",
        "        score = score_match(tokens + tokens_expanded, keyword)\n",
        "        if score > best_context_score:\n",
        "            best_context_match = keyword\n",
        "            best_context_score = score\n",
        "    if best_context_match:\n",
        "        print(f\"Contextual substring match found: {best_context_match}\")\n",
        "        return best_context_match\n",
        "\n",
        "    # Step 4: Fuzzy match\n",
        "    fuzzy_match = find_closest_match(input_text, all_keywords)\n",
        "    if fuzzy_match:\n",
        "        print(f\"Fuzzy match found: {fuzzy_match}\")\n",
        "        return fuzzy_match\n",
        "\n",
        "    fuzzy_match_expanded = find_closest_match(input_text_expanded, all_keywords)\n",
        "    if fuzzy_match_expanded:\n",
        "        print(f\"Fuzzy match (expanded) found: {fuzzy_match_expanded}\")\n",
        "        return fuzzy_match_expanded\n",
        "\n",
        "    print(f\"No match found for input: {input_text}\")\n",
        "    return None\n",
        "\n",
        "# Initialize Hugging Face LLM for response generation\n",
        "generator = pipeline(\"text-generation\", model=\"distilgpt2\")\n",
        "\n",
        "# Generate conversational response\n",
        "def generate_conversational_response(keyword, assistive_tech, home_adaptations):\n",
        "    prompt = (\n",
        "        f\"Provide a detailed and user-friendly explanation about '{keyword}'. \"\n",
        "        f\"Assistive technologies include: {assistive_tech}. \"\n",
        "        f\"Home adaptations include: {home_adaptations}.\"\n",
        "    )\n",
        "    response = generator(\n",
        "        prompt,\n",
        "        max_length=100,\n",
        "        num_return_sequences=1,\n",
        "        truncation=True,\n",
        "    )[0][\"generated_text\"]\n",
        "    clean_response = response.split(\".\")[0] + \".\"\n",
        "    return clean_response\n",
        "\n",
        "# Navbar and styles for web interface\n",
        "def navbar_and_styles():\n",
        "    return \"\"\"\n",
        "    <style>\n",
        "        body {\n",
        "            font-family: Arial, sans-serif;\n",
        "            background-color: #f0f8ff;\n",
        "            margin: 0;\n",
        "            padding: 0;\n",
        "        }\n",
        "        .navbar {\n",
        "            background-color: #004d00;\n",
        "            padding: 15px;\n",
        "            text-align: center;\n",
        "        }\n",
        "        .navbar a {\n",
        "            color: white;\n",
        "            text-decoration: none;\n",
        "            font-size: 18px;\n",
        "            margin: 15px;\n",
        "            font-weight: bold;  /* Makes the link names bold */\n",
        "        }\n",
        "        .navbar a:hover {\n",
        "            text-decoration: underline;\n",
        "        }\n",
        "        .container {\n",
        "            max-width: 800px;\n",
        "            margin: 50px auto;\n",
        "            text-align: left;\n",
        "            padding: 20px;\n",
        "            background-color: #ffffff;\n",
        "            border-radius: 10px;\n",
        "            box-shadow: 0px 4px 10px rgba(0, 0, 0, 0.1);\n",
        "        }\n",
        "        h1, h2 {\n",
        "            color: #004d00;\n",
        "            margin-bottom: 20px;\n",
        "        }\n",
        "        p {\n",
        "            color: #333;\n",
        "            font-size: 18px;\n",
        "            line-height: 1.8;\n",
        "        }\n",
        "        input[type=\"text\"] {\n",
        "            width: 100%;\n",
        "            padding: 10px;\n",
        "            font-size: 18px;\n",
        "            margin: 10px 0;\n",
        "        }\n",
        "        button {\n",
        "            padding: 10px 20px;\n",
        "            font-size: 18px;\n",
        "            background-color: #004d00;\n",
        "            color: white;\n",
        "            border: none;\n",
        "            border-radius: 5px;\n",
        "        }\n",
        "        button:hover {\n",
        "            background-color: #003300;\n",
        "        }\n",
        "        .result-container {\n",
        "            padding: 20px;\n",
        "            background-color: #f9f9f9;\n",
        "            border-radius: 10px;\n",
        "            box-shadow: 0 2px 6px rgba(0, 0, 0, 0.1);\n",
        "        }\n",
        "        .result-container h2 {\n",
        "            color: #004d00;\n",
        "        }\n",
        "    </style>\n",
        "    <div class='navbar'>\n",
        "        <a href=\"/\">Home</a>\n",
        "        <a href=\"/disease\">Disease/Symptom Search</a>\n",
        "        <a href=\"/muscular_dystrophy\">Muscular Dystrophy</a>\n",
        "        <a href=\"/contact\">Contact Us</a>\n",
        "    </div>\n",
        "    \"\"\"\n",
        "\n",
        "from fastapi import FastAPI\n",
        "from fastapi.responses import HTMLResponse\n",
        "from fastapi.staticfiles import StaticFiles\n",
        "\n",
        "app = FastAPI()\n",
        "\n",
        "# Serve static files (images, CSS, etc.) from the /content directory\n",
        "app.mount(\"/content\", StaticFiles(directory=\"/content\"), name=\"content\")\n",
        "\n",
        "# Home page route\n",
        "\n",
        "\n",
        "@app.get(\"/\", response_class=HTMLResponse)\n",
        "async def home():\n",
        "    return f\"\"\"\n",
        "    <!DOCTYPE html>\n",
        "    <html>\n",
        "    <head>\n",
        "        <title>HOMEAI-ENABLE</title>\n",
        "        {navbar_and_styles()}\n",
        "        <style>\n",
        "            body, html {{\n",
        "                margin: 0;\n",
        "                padding: 0;\n",
        "                height: 100%;\n",
        "                width: 100%;\n",
        "                display: flex;\n",
        "                justify-content: flex-start;\n",
        "                align-items: flex-start;\n",
        "                background: url('/content/homaiimage.jpg') no-repeat right bottom;\n",
        "                background-size: contain; /* Ensure the full image is visible */\n",
        "                background-position: right bottom; /* Align the image to the bottom right */\n",
        "                background-attachment: fixed; /* Keeps the image fixed while scrolling */\n",
        "                text-align: left; /* Ensure text is left aligned */\n",
        "                padding-top: 60px; /* Create some space between the image and navbar */\n",
        "            }}\n",
        "\n",
        "            /* Style for the navbar (green bar) */\n",
        "            .navbar {{\n",
        "                padding: 20px;\n",
        "                background-color: #006400;\n",
        "                color: white;\n",
        "                font-weight: bold;\n",
        "                text-align: center;\n",
        "                position: fixed;\n",
        "                width: 100%;\n",
        "                top: 0;\n",
        "                left: 0;\n",
        "                z-index: 10;\n",
        "            }}\n",
        "\n",
        "            /* Style for the text content */\n",
        "            .content {{\n",
        "                padding: 20px;\n",
        "                color: darkgreen; /* Dark green text */\n",
        "                font-weight: bold; /* Bold text */\n",
        "                font-size: 20px;\n",
        "                line-height: 1.6;\n",
        "                max-width: 50%; /* Limit the width of the text */\n",
        "                margin-top: 20px; /* Add some space above the text */\n",
        "                word-wrap: break-word; /* Allow the text to wrap */\n",
        "                white-space: normal; /* Allow text to wrap across multiple lines */\n",
        "            }}\n",
        "\n",
        "            h1 {{\n",
        "                text-align: center;\n",
        "                font-size: 36px;\n",
        "            }}\n",
        "\n",
        "            /* Make sure only 3 words per line */\n",
        "            .content p {{\n",
        "                width: 60%; /* Restrict the width of the text block to 60% */\n",
        "                display: inline-block;\n",
        "            }}\n",
        "        </style>\n",
        "    </head>\n",
        "    <body>\n",
        "        <div class=\"navbar\">\n",
        "            <a href=\"/\" style=\"color: white; text-decoration: none;\">Home</a>\n",
        "            <a href=\"/disease\" style=\"color: white; text-decoration: none;\">Disease/Symptom Search</a>\n",
        "            <a href=\"/muscular_dystrophy\" style=\"color: white; text-decoration: none;\">Muscular Dystrophy</a>\n",
        "            <a href=\"/contact\" style=\"color: white; text-decoration: none;\">Contact Us</a>\n",
        "        </div>\n",
        "\n",
        "        <div class=\"content\">\n",
        "            <h1 style=\"text-align: left;\">HOMEAI-ENABLE</h1>\n",
        "\n",
        "            <p>Your trusted platform for insights into diseases, symptoms, assistive technologies, and personalized home adaptations.</p>\n",
        "            <p>Start by entering a disease or symptom, and let us guide you toward solutions that enhance your well-being.</p>\n",
        "        </div>\n",
        "    </body>\n",
        "    </html>\n",
        "    \"\"\"\n",
        "\n",
        "\n",
        "\n",
        "@app.get(\"/disease\", response_class=HTMLResponse)\n",
        "async def disease_get():\n",
        "    return f\"\"\"\n",
        "    <!DOCTYPE html>\n",
        "    <html>\n",
        "    <head>\n",
        "        <title>Disease Search</title>\n",
        "        {navbar_and_styles()}\n",
        "    </head>\n",
        "    <body>\n",
        "        <div class=\"container\">\n",
        "            <h1>Search for Diseases or Symptoms</h1>\n",
        "            <form method=\"post\" action=\"/disease\">\n",
        "                <input type=\"text\" name=\"disease_name\" placeholder=\"Enter a disease or symptom\" required>\n",
        "                <button type=\"submit\" style=\"margin-top: 15px;\">Search</button>\n",
        "            </form>\n",
        "        </div>\n",
        "    </body>\n",
        "    </html>\n",
        "    \"\"\"\n",
        "\n",
        "@app.post(\"/disease\", response_class=HTMLResponse)\n",
        "async def disease_post(disease_name: str = Form(...)):\n",
        "    keyword = extract_keyword(disease_name)\n",
        "    response = navbar_and_styles()\n",
        "    response += \"<div class='container'>\"\n",
        "\n",
        "    if not keyword:\n",
        "        response += f\"<h1 style='font-size: 20px;'>Sorry, we couldn't find any information for '{disease_name}'.</h1></div>\"\n",
        "        return HTMLResponse(content=response)\n",
        "\n",
        "    matched_disease = find_closest_match(keyword, disease_bodyfn_df['Disease'].tolist())\n",
        "    matched_symptom = find_closest_match(keyword, bodyfn_assistive_df['Symptoms'].tolist() + bodyfn_home_icf_df['Symptoms'].tolist())\n",
        "\n",
        "    if matched_disease:\n",
        "        disease_info = disease_bodyfn_df[disease_bodyfn_df['Disease'] == matched_disease]\n",
        "        symptoms = disease_info['Symptoms'].values[0].split(\", \") if not disease_info.empty else []\n",
        "        response += f\"<h1>Here's what I found about the disease '{matched_disease.capitalize()}':</h1>\"\n",
        "        for symptom in symptoms:\n",
        "            assistive_tech = \"No assistive technology found\"\n",
        "            home_adaptations = \"No home adaptations found\"\n",
        "\n",
        "            tech_info = bodyfn_assistive_df[bodyfn_assistive_df['Symptoms'] == preprocess_text(symptom)]\n",
        "            home_info = bodyfn_home_icf_df[bodyfn_home_icf_df['Symptoms'] == preprocess_text(symptom)]\n",
        "\n",
        "            if not tech_info.empty:\n",
        "                assistive_tech = tech_info['Assistive Technology'].values[0]\n",
        "            if not home_info.empty:\n",
        "                home_adaptations = \", \".join(home_info['Home functions'].dropna().tolist())\n",
        "\n",
        "            response += f\"<div class='result-container'><h2>Symptom: {symptom.capitalize()}</h2><p><strong>Assistive Technologies:</strong> {assistive_tech}</p><p><strong>Home Adaptations:</strong> {home_adaptations}</p></div>\"\n",
        "\n",
        "    if matched_symptom:\n",
        "        assistive_info = bodyfn_assistive_df[bodyfn_assistive_df['Symptoms'] == matched_symptom]\n",
        "        home_info = bodyfn_home_icf_df[bodyfn_home_icf_df['Symptoms'] == matched_symptom]\n",
        "\n",
        "        assistive_tech = assistive_info['Assistive Technology'].values[0] if not assistive_info.empty else \"No assistive technology found\"\n",
        "        home_adaptations = \", \".join(home_info['Home functions'].dropna().tolist()) if not home_info.empty else \"No home adaptations found\"\n",
        "\n",
        "        response += f\"<div class='result-container'><h2>Symptom: {matched_symptom.capitalize()}</h2><p><strong>Assistive Technologies:</strong> {assistive_tech}</p><p><strong>Home Adaptations:</strong> {home_adaptations}</p></div>\"\n",
        "\n",
        "    response += \"</div>\"\n",
        "    return HTMLResponse(content=response)\n",
        "\n",
        "\n",
        "\n",
        "\n",
        "\n",
        "\n",
        "@app.post(\"/search1\", response_class=HTMLResponse)\n",
        "async def search1(activity_input: str = Form(...), search_type: str = Form(...)):\n",
        "    text1 = preprocess_text(activity_input)\n",
        "\n",
        "    if search_type == 'assistive_technology':\n",
        "        # Check if the input matches any activity\n",
        "        matching_activities = md_activity_part_df[md_activity_part_df['Activities and participation limitations'].str.contains(text1, case=False, na=False)]\n",
        "\n",
        "        if not matching_activities.empty:\n",
        "            response = \"<h2>Matching Activities and Assistive Devices:</h2><ul>\"\n",
        "            for _, row in matching_activities.iterrows():\n",
        "                activity = row['Activities and participation limitations']\n",
        "                assistive_device = row['Assistive Devices: Technologies']\n",
        "                response += f\"<li><strong>{activity}:</strong> {assistive_device}</li>\"\n",
        "            response += \"</ul>\"\n",
        "            return response\n",
        "        else:\n",
        "            return f\"<h2>No matching activities found for '{activity_input}'</h2>\"\n",
        "\n",
        "    elif search_type == 'housing_adaptation':\n",
        "        # Check if the input matches any housing factor\n",
        "        matching_housing = md_housing_adapt_df[md_housing_adapt_df['Housing Factors'].str.contains(text1, case=False, na=False)]\n",
        "\n",
        "        if not matching_housing.empty:\n",
        "            response = \"<h2>Matching Housing Factors and Adaptations:</h2><ul>\"\n",
        "            for _, row in matching_housing.iterrows():\n",
        "                housing_factor = row['Housing Factors']\n",
        "                housing_adaptation = row['Housing Adaptation']\n",
        "                response += f\"<li><strong>{housing_factor}:</strong> {housing_adaptation}</li>\"\n",
        "            response += \"</ul>\"\n",
        "            return response\n",
        "        else:\n",
        "            return f\"<h2>No matching housing factors found for '{activity_input}'</h2>\"\n",
        "\n",
        "    return f\"<h2>No matches found for '{activity_input}'</h2>\"\n",
        "\n",
        "\n",
        "\n",
        "\n",
        "\n",
        "@app.get(\"/muscular_dystrophy\", response_class=HTMLResponse)\n",
        "async def muscular_dystrophy():\n",
        "    return f\"\"\"\n",
        "    <!DOCTYPE html>\n",
        "    <html>\n",
        "    <head>\n",
        "        <title>Muscular Dystrophy</title>\n",
        "        {navbar_and_styles()}\n",
        "        <style>\n",
        "            /* Removed background color and font style here since navbar_and_styles() will handle them */\n",
        "            .container {{\n",
        "                display: flex;\n",
        "                flex-direction: row;\n",
        "                justify-content: center;         /* Centers the two columns horizontally */\n",
        "                align-items: flex-start;         /* Aligns items to the top */\n",
        "                padding: 20px;\n",
        "                background: #fff;\n",
        "                border-radius: 8px;\n",
        "                box-shadow: 0 0 15px rgba(0, 0, 0, 0.1);\n",
        "                max-width: 100%;\n",
        "                margin: 50px auto;\n",
        "            }}\n",
        "            .left-column, .right-column {{\n",
        "                flex: 1;\n",
        "                padding: 20px;\n",
        "                background-color: #fff;\n",
        "                max-width: 50%;\n",
        "                border-radius: 8px;\n",
        "                box-shadow: 0 0 5px rgba(0, 0, 0, 0.1);\n",
        "                text-align: center;\n",
        "            }}\n",
        "            h1, h2 {{\n",
        "                color: #006400;\n",
        "                text-align: center;\n",
        "            }}\n",
        "            p {{\n",
        "                color: #333;\n",
        "                font-size: 16px;\n",
        "                text-align: center;\n",
        "                max-width: 80%;\n",
        "                margin: 0 auto;\n",
        "            }}\n",
        "            .input-container {{\n",
        "                margin-bottom: 20px;\n",
        "                text-align: center;\n",
        "            }}\n",
        "            .input-container input[type=\"text\"] {{\n",
        "                padding: 10px;\n",
        "                width: 80%;\n",
        "                border: 1px solid #ccc;\n",
        "                border-radius: 4px;\n",
        "            }}\n",
        "            button {{\n",
        "                padding: 8px 16px;\n",
        "                background-color: green;\n",
        "                color: white;\n",
        "                border: none;\n",
        "                border-radius: 4px;\n",
        "                cursor: pointer;\n",
        "                margin-top: 10px;\n",
        "                width: auto;\n",
        "            }}\n",
        "            button:hover {{\n",
        "                background-color: darkgreen;\n",
        "            }}\n",
        "            #activities_output, #housing_output {{\n",
        "                text-align: justify;\n",
        "                margin: 20px;\n",
        "                padding: 10px;\n",
        "                background-color: #f1f1f1;\n",
        "                border-radius: 8px;\n",
        "                box-shadow: 0 0 5px rgba(0, 0, 0, 0.1);\n",
        "            }}\n",
        "        </style>\n",
        "    </head>\n",
        "    <body>\n",
        "\n",
        "        <div class=\"container\">\n",
        "            <div class=\"left-column\">\n",
        "                <h1>Muscular Dystrophy Overview</h1>\n",
        "                <p>Muscular dystrophy refers to a group of inherited disorders that cause progressive muscle weakness and degeneration.</p>\n",
        "\n",
        "                <h2>Enter Activities and Participation Limitations:</h2>\n",
        "                <div class=\"input-container\">\n",
        "                    <input type=\"text\" id=\"activities_limitations\" placeholder=\"Enter activities and participation limitations\" />\n",
        "                    <button onclick=\"searchAssistiveDevices()\">Assistive Technologies</button>\n",
        "                </div>\n",
        "\n",
        "                <h2>Enter Housing Factors:</h2>\n",
        "                <div class=\"input-container\">\n",
        "                    <input type=\"text\" id=\"housing\" placeholder=\"Enter housing factors\" />\n",
        "                    <button onclick=\"searchHousing()\">Housing Adaptation</button>\n",
        "                </div>\n",
        "            </div>\n",
        "\n",
        "            <div class=\"right-column\">\n",
        "                <div id=\"activities_output\"></div>\n",
        "                <div id=\"housing_output\"></div>\n",
        "            </div>\n",
        "        </div>\n",
        "\n",
        "        <script>\n",
        "            function searchAssistiveDevices() {{\n",
        "                var inputText = document.getElementById(\"activities_limitations\").value;\n",
        "                // Clear previous output\n",
        "                document.getElementById(\"activities_output\").innerHTML = '';\n",
        "                fetch('/search1', {{\n",
        "                    method: 'POST',\n",
        "                    headers: {{ 'Content-Type': 'application/x-www-form-urlencoded' }},\n",
        "                    body: 'activity_input=' + encodeURIComponent(inputText) + '&search_type=assistive_technology'\n",
        "                }}).then(response => response.text())\n",
        "                  .then(data => document.getElementById(\"activities_output\").innerHTML = data);\n",
        "            }}\n",
        "\n",
        "            function searchHousing() {{\n",
        "                var inputText = document.getElementById(\"housing\").value;\n",
        "                // Clear previous output\n",
        "                document.getElementById(\"housing_output\").innerHTML = '';\n",
        "                fetch('/search1', {{\n",
        "                    method: 'POST',\n",
        "                    headers: {{ 'Content-Type': 'application/x-www-form-urlencoded' }},\n",
        "                    body: 'activity_input=' + encodeURIComponent(inputText) + '&search_type=housing_adaptation'\n",
        "                }}).then(response => response.text())\n",
        "                  .then(data => document.getElementById(\"housing_output\").innerHTML = data);\n",
        "            }}\n",
        "        </script>\n",
        "    </body>\n",
        "    </html>\n",
        "    \"\"\"\n",
        "\n",
        "\n",
        "\n",
        "\n",
        "@app.get(\"/contact\", response_class=HTMLResponse)\n",
        "async def contact():\n",
        "    return f\"\"\"\n",
        "    <!DOCTYPE html>\n",
        "    <html>\n",
        "    <head>\n",
        "        <title>Contact Us</title>\n",
        "        {navbar_and_styles()}  <!-- Navbar with styles -->\n",
        "    </head>\n",
        "    <body>\n",
        "        <div class=\"container\">\n",
        "            <h1>Contact Us</h1>\n",
        "            <p>If you have any questions or feedback, feel free to reach out to us!</p>\n",
        "            <p>Email: contact@homeai-enable.com</p>\n",
        "            <p>Phone: +44 7442685644</p>\n",
        "        </div>\n",
        "    </body>\n",
        "    </html>\n",
        "    \"\"\"\n",
        "\n",
        "\n",
        "\n",
        "\n",
        "\n",
        "\n",
        "# Finally, the line where the FastAPI server is run:\n",
        "public_url = ngrok.connect(8000)\n",
        "print(f\"Public URL: {public_url}\")\n",
        "uvicorn.run(app, host=\"127.0.0.1\", port=8000)\n"
      ],
      "metadata": {
        "colab": {
          "base_uri": "https://localhost:8080/"
        },
        "id": "YmrpnisVXmhj",
        "outputId": "8138eb73-1998-41d9-e9f5-60eeebe5a06e"
      },
      "execution_count": null,
      "outputs": [
        {
          "output_type": "stream",
          "name": "stderr",
          "text": [
            "[nltk_data] Downloading package stopwords to /root/nltk_data...\n",
            "[nltk_data]   Package stopwords is already up-to-date!\n",
            "[nltk_data] Downloading package wordnet to /root/nltk_data...\n",
            "[nltk_data]   Package wordnet is already up-to-date!\n"
          ]
        },
        {
          "output_type": "stream",
          "name": "stdout",
          "text": [
            "Public URL: NgrokTunnel: \"https://ef54-34-46-94-253.ngrok-free.app\" -> \"http://localhost:8000\"\n"
          ]
        },
        {
          "output_type": "stream",
          "name": "stderr",
          "text": [
            "INFO:     Started server process [142190]\n",
            "INFO:     Waiting for application startup.\n",
            "INFO:     Application startup complete.\n",
            "INFO:     Uvicorn running on http://127.0.0.1:8000 (Press CTRL+C to quit)\n"
          ]
        },
        {
          "output_type": "stream",
          "name": "stdout",
          "text": [
            "INFO:     81.78.214.135:0 - \"GET / HTTP/1.1\" 200 OK\n",
            "INFO:     81.78.214.135:0 - \"GET /content/homaiimage.jpg HTTP/1.1\" 200 OK\n",
            "INFO:     81.78.214.135:0 - \"GET /favicon.ico HTTP/1.1\" 404 Not Found\n"
          ]
        }
      ]
    },
    {
      "cell_type": "code",
      "source": [],
      "metadata": {
        "id": "FmtEGEbjXmlQ"
      },
      "execution_count": null,
      "outputs": []
    }
  ],
  "metadata": {
    "colab": {
      "provenance": [],
      "include_colab_link": true
    },
    "kernelspec": {
      "display_name": "Python 3",
      "name": "python3"
    },
    "language_info": {
      "name": "python"
    }
  },
  "nbformat": 4,
  "nbformat_minor": 0
}