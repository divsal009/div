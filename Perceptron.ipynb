{
  "nbformat": 4,
  "nbformat_minor": 0,
  "metadata": {
    "colab": {
      "name": "Perceptron.ipynb",
      "provenance": [],
      "authorship_tag": "ABX9TyPiiAfmE6yujJRW7+4cgguh",
      "include_colab_link": true
    },
    "kernelspec": {
      "name": "python3",
      "display_name": "Python 3"
    },
    "language_info": {
      "name": "python"
    },
    "accelerator": "GPU"
  },
  "cells": [
    {
      "cell_type": "markdown",
      "metadata": {
        "id": "view-in-github",
        "colab_type": "text"
      },
      "source": [
        "<a href=\"https://colab.research.google.com/github/divsal009/div/blob/master/Perceptron.ipynb\" target=\"_parent\"><img src=\"https://colab.research.google.com/assets/colab-badge.svg\" alt=\"Open In Colab\"/></a>"
      ]
    },
    {
      "cell_type": "code",
      "metadata": {
        "id": "W83NVRVYr8Kb"
      },
      "source": [
        "from sklearn.linear_model import Perceptron\n",
        "X_train=[[0,0],[0,1],[1,0],[1,1]]\n",
        "y_train=[0,0,0,1]"
      ],
      "execution_count": null,
      "outputs": []
    },
    {
      "cell_type": "code",
      "metadata": {
        "colab": {
          "base_uri": "https://localhost:8080/"
        },
        "id": "bjuNVkZGsR4c",
        "outputId": "fdc25c15-8228-4632-8052-06c7234f3dfc"
      },
      "source": [
        "#model\n",
        "clf= Perceptron(tol=1e-3, random_state=2)\n",
        "clf.fit(X_train, y_train)"
      ],
      "execution_count": null,
      "outputs": [
        {
          "output_type": "execute_result",
          "data": {
            "text/plain": [
              "Perceptron(alpha=0.0001, class_weight=None, early_stopping=False, eta0=1.0,\n",
              "           fit_intercept=True, max_iter=1000, n_iter_no_change=5, n_jobs=None,\n",
              "           penalty=None, random_state=2, shuffle=True, tol=0.001,\n",
              "           validation_fraction=0.1, verbose=0, warm_start=False)"
            ]
          },
          "metadata": {
            "tags": []
          },
          "execution_count": 16
        }
      ]
    },
    {
      "cell_type": "code",
      "metadata": {
        "colab": {
          "base_uri": "https://localhost:8080/"
        },
        "id": "s1cwxcd2suLP",
        "outputId": "6e382157-fe79-43ec-d70e-f126d97a7368"
      },
      "source": [
        "y_pred=clf.predict(X_train)\n",
        "print(y_pred)"
      ],
      "execution_count": null,
      "outputs": [
        {
          "output_type": "stream",
          "text": [
            "[0 0 0 1]\n"
          ],
          "name": "stdout"
        }
      ]
    },
    {
      "cell_type": "code",
      "metadata": {
        "colab": {
          "base_uri": "https://localhost:8080/"
        },
        "id": "ScYM3D0Us8vG",
        "outputId": "03ca2789-dc58-48c0-9d7d-644b24131a57"
      },
      "source": [
        "print(clf.coef_,clf.intercept_)"
      ],
      "execution_count": null,
      "outputs": [
        {
          "output_type": "stream",
          "text": [
            "[[3. 2.]] [-3.]\n"
          ],
          "name": "stdout"
        }
      ]
    },
    {
      "cell_type": "code",
      "metadata": {
        "id": "PkwJrCtYtS1i"
      },
      "source": [
        "#desmos.com/calculator- draw line"
      ],
      "execution_count": null,
      "outputs": []
    },
    {
      "cell_type": "markdown",
      "metadata": {
        "id": "7l0tbp12tnCT"
      },
      "source": [
        "OR gate"
      ]
    },
    {
      "cell_type": "markdown",
      "metadata": {
        "id": "P4h6frm7t-Mq"
      },
      "source": [
        "# NAND"
      ]
    },
    {
      "cell_type": "code",
      "metadata": {
        "colab": {
          "base_uri": "https://localhost:8080/"
        },
        "id": "6mCb6-8OtqhT",
        "outputId": "5125049f-284b-45f3-942b-4c27c1e10664"
      },
      "source": [
        "from sklearn.linear_model import Perceptron\n",
        "X_train=[[0,0],[0,1],[1,0],[1,1]]\n",
        "y_train=[0,1,1,1]\n",
        "clf= Perceptron(tol=1e-3, random_state=2)\n",
        "clf.fit(X_train, y_train)\n",
        "y_pred=clf.predict(X_train)\n",
        "print(y_pred)\n",
        "print(clf.coef_,clf.intercept_)"
      ],
      "execution_count": null,
      "outputs": [
        {
          "output_type": "stream",
          "text": [
            "[0 1 1 1]\n",
            "[[2. 2.]] [-1.]\n"
          ],
          "name": "stdout"
        }
      ]
    },
    {
      "cell_type": "markdown",
      "metadata": {
        "id": "z10i2eLOvIXD"
      },
      "source": [
        ""
      ]
    },
    {
      "cell_type": "code",
      "metadata": {
        "colab": {
          "base_uri": "https://localhost:8080/"
        },
        "id": "WrvoGf46t87i",
        "outputId": "487cb21c-18f5-47f3-bb8f-6127ca7b88b5"
      },
      "source": [
        "from sklearn.linear_model import Perceptron\n",
        "X_train=[[0,0],[0,1],[1,0],[1,1]]\n",
        "y_train=[1,0,0,0]\n",
        "clf= Perceptron(tol=1e-3, random_state=0, max_iter=10000)\n",
        "clf.fit(X_train, y_train)\n",
        "y_pred=clf.predict(X_train)\n",
        "print(y_pred)\n",
        "print(clf.coef_,clf.intercept_)"
      ],
      "execution_count": null,
      "outputs": [
        {
          "output_type": "stream",
          "text": [
            "[1 0 0 0]\n",
            "[[-2. -2.]] [1.]\n"
          ],
          "name": "stdout"
        }
      ]
    },
    {
      "cell_type": "markdown",
      "metadata": {
        "id": "YWWUuOe5Sh6z"
      },
      "source": [
        "## **XOR**"
      ]
    },
    {
      "cell_type": "code",
      "metadata": {
        "id": "Z7dgvy7dSk-1",
        "colab": {
          "base_uri": "https://localhost:8080/"
        },
        "outputId": "17fef665-5450-4be6-db2b-6627a9978900"
      },
      "source": [
        "from sklearn.neural_network import MLPClassifier\n",
        "X_train=[[0,0],[0,1],[1,0],[1,1]]\n",
        "y_train=[0,1,1,0]\n",
        "\n",
        "clf=MLPClassifier(solver='adam', alpha=1e-5, activation='relu',hidden_layer_sizes=(200),random_state=1,max_iter=10000)\n",
        "clf.fit(X_train, y_train)\n",
        "\n",
        "y_pred=clf.predict(X_train)\n",
        "print(y_pred)\n"
      ],
      "execution_count": 4,
      "outputs": [
        {
          "output_type": "stream",
          "text": [
            "[0 1 1 0]\n"
          ],
          "name": "stdout"
        }
      ]
    },
    {
      "cell_type": "code",
      "metadata": {
        "id": "0UaU3wKYufhQ"
      },
      "source": [
        ""
      ],
      "execution_count": null,
      "outputs": []
    }
  ]
}