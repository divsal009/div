{
  "metadata": {
    "kernelspec": {
      "language": "python",
      "display_name": "Python 3",
      "name": "python3"
    },
    "language_info": {
      "pygments_lexer": "ipython3",
      "nbconvert_exporter": "python",
      "version": "3.6.4",
      "file_extension": ".py",
      "codemirror_mode": {
        "name": "ipython",
        "version": 3
      },
      "name": "python",
      "mimetype": "text/x-python"
    },
    "colab": {
      "name": "tumor-classification-with-cnn.ipynb",
      "provenance": [],
      "machine_shape": "hm",
      "include_colab_link": true
    },
    "accelerator": "GPU"
  },
  "nbformat_minor": 0,
  "nbformat": 4,
  "cells": [
    {
      "cell_type": "markdown",
      "metadata": {
        "id": "view-in-github",
        "colab_type": "text"
      },
      "source": [
        "<a href=\"https://colab.research.google.com/github/divsal009/div/blob/master/Figshare_tumor_classification_with_ML%20CLASSIFIERS.ipynb\" target=\"_parent\"><img src=\"https://colab.research.google.com/assets/colab-badge.svg\" alt=\"Open In Colab\"/></a>"
      ]
    },
    {
      "cell_type": "code",
      "source": [
        "!pip install natsort\n",
        "from natsort import natsorted, ns\n",
        "import h5py"
      ],
      "metadata": {
        "execution": {
          "iopub.status.busy": "2022-04-27T08:51:58.948362Z",
          "iopub.execute_input": "2022-04-27T08:51:58.949112Z",
          "iopub.status.idle": "2022-04-27T08:52:08.62204Z",
          "shell.execute_reply.started": "2022-04-27T08:51:58.949021Z",
          "shell.execute_reply": "2022-04-27T08:52:08.621286Z"
        },
        "trusted": true,
        "colab": {
          "base_uri": "https://localhost:8080/"
        },
        "id": "54J48ka2hNbV",
        "outputId": "a24d642b-6312-43fd-80d0-62daa2d4137d"
      },
      "execution_count": 1,
      "outputs": [
        {
          "output_type": "stream",
          "name": "stdout",
          "text": [
            "Looking in indexes: https://pypi.org/simple, https://us-python.pkg.dev/colab-wheels/public/simple/\n",
            "Requirement already satisfied: natsort in /usr/local/lib/python3.7/dist-packages (5.5.0)\n"
          ]
        }
      ]
    },
    {
      "cell_type": "code",
      "source": [
        "import os\n",
        "import shutil\n",
        "import glob\n",
        "import json\n",
        "import pickle\n",
        "import time\n",
        "import random\n",
        "import numpy as np\n",
        "import pandas as pd\n",
        "import matplotlib.pyplot as plt\n",
        "import seaborn as sns\n",
        "import cv2\n",
        "import scipy\n",
        "from PIL import Image\n",
        "import skimage.io as io\n",
        "from skimage.transform import resize\n",
        "\n",
        "from sklearn.preprocessing import MinMaxScaler, Normalizer, StandardScaler, RobustScaler, LabelEncoder, OneHotEncoder\n",
        "from sklearn.model_selection import train_test_split, RandomizedSearchCV, GridSearchCV\n",
        "from sklearn.model_selection import KFold, StratifiedKFold, cross_val_score, cross_validate\n",
        "from sklearn.utils import shuffle\n",
        "from sklearn.metrics import (confusion_matrix, classification_report, accuracy_score, f1_score, recall_score, precision_score,\n",
        "                             auc, roc_curve, roc_auc_score, cohen_kappa_score, plot_confusion_matrix, plot_roc_curve,\n",
        "                             plot_precision_recall_curve, precision_recall_fscore_support, precision_recall_curve)\n",
        "from sklearn.utils import compute_class_weight\n",
        "from sklearn.linear_model import LogisticRegression\n",
        "from sklearn.neighbors import KNeighborsClassifier\n",
        "from sklearn.svm import SVC \n",
        "from sklearn.ensemble import RandomForestClassifier, AdaBoostClassifier\n",
        "\n",
        "\n",
        "import tensorflow as tf\n",
        "from tensorflow.keras import backend as K\n",
        "from tensorflow.keras.preprocessing.image import load_img, img_to_array, array_to_img, ImageDataGenerator, save_img\n",
        "from tensorflow.keras.preprocessing import image_dataset_from_directory\n",
        "from tensorflow.keras.models import Sequential, Model, load_model, model_from_json\n",
        "from tensorflow.keras.layers import (Input, Rescaling, Resizing, InputLayer, Conv2D, MaxPooling2D, Dense, BatchNormalization, Dropout, Activation, GlobalAveragePooling2D, InputSpec, Flatten, Concatenate)\n",
        "from tensorflow.keras.callbacks import ReduceLROnPlateau, EarlyStopping, ModelCheckpoint\n",
        "from tensorflow.keras.optimizers import Adam, SGD, RMSprop, Adadelta, Adagrad\n",
        "from tensorflow.keras.losses import CategoricalCrossentropy\n",
        "from tensorflow.keras.utils import to_categorical, plot_model\n",
        "from tensorflow.keras.metrics import Accuracy, AUC, Precision, Recall\n",
        "from tensorflow.keras.wrappers.scikit_learn import KerasClassifier\n",
        "\n",
        "import warnings\n",
        "warnings.filterwarnings(\"ignore\")"
      ],
      "metadata": {
        "execution": {
          "iopub.status.busy": "2022-04-27T08:52:08.625091Z",
          "iopub.execute_input": "2022-04-27T08:52:08.625355Z",
          "iopub.status.idle": "2022-04-27T08:52:15.406985Z",
          "shell.execute_reply.started": "2022-04-27T08:52:08.625327Z",
          "shell.execute_reply": "2022-04-27T08:52:15.406208Z"
        },
        "trusted": true,
        "id": "iJ9b8i4BhNbZ"
      },
      "execution_count": 2,
      "outputs": []
    },
    {
      "cell_type": "code",
      "source": [
        "from tensorflow.keras.applications.densenet import DenseNet169\n",
        "from tensorflow.keras.applications.efficientnet import EfficientNetB5"
      ],
      "metadata": {
        "execution": {
          "iopub.status.busy": "2022-04-27T08:52:15.40827Z",
          "iopub.execute_input": "2022-04-27T08:52:15.40853Z",
          "iopub.status.idle": "2022-04-27T08:52:15.419992Z",
          "shell.execute_reply.started": "2022-04-27T08:52:15.408489Z",
          "shell.execute_reply": "2022-04-27T08:52:15.419259Z"
        },
        "trusted": true,
        "id": "P3IPJwujhNba"
      },
      "execution_count": 3,
      "outputs": []
    },
    {
      "cell_type": "code",
      "source": [
        "!pip install tensorflow_addons\n",
        "import tensorflow_addons as tfa"
      ],
      "metadata": {
        "execution": {
          "iopub.status.busy": "2022-04-27T08:52:15.422255Z",
          "iopub.execute_input": "2022-04-27T08:52:15.422639Z",
          "iopub.status.idle": "2022-04-27T08:52:22.812552Z",
          "shell.execute_reply.started": "2022-04-27T08:52:15.422601Z",
          "shell.execute_reply": "2022-04-27T08:52:22.811716Z"
        },
        "trusted": true,
        "colab": {
          "base_uri": "https://localhost:8080/"
        },
        "id": "ih_WITwchNbb",
        "outputId": "c4addb15-95bf-4b84-bbb4-6c3f0787bfae"
      },
      "execution_count": 4,
      "outputs": [
        {
          "output_type": "stream",
          "name": "stdout",
          "text": [
            "Looking in indexes: https://pypi.org/simple, https://us-python.pkg.dev/colab-wheels/public/simple/\n",
            "Collecting tensorflow_addons\n",
            "  Downloading tensorflow_addons-0.17.0-cp37-cp37m-manylinux_2_17_x86_64.manylinux2014_x86_64.whl (1.1 MB)\n",
            "\u001b[K     |████████████████████████████████| 1.1 MB 7.7 MB/s \n",
            "\u001b[?25hRequirement already satisfied: typeguard>=2.7 in /usr/local/lib/python3.7/dist-packages (from tensorflow_addons) (2.7.1)\n",
            "Requirement already satisfied: packaging in /usr/local/lib/python3.7/dist-packages (from tensorflow_addons) (21.3)\n",
            "Requirement already satisfied: pyparsing!=3.0.5,>=2.0.2 in /usr/local/lib/python3.7/dist-packages (from packaging->tensorflow_addons) (3.0.9)\n",
            "Installing collected packages: tensorflow-addons\n",
            "Successfully installed tensorflow-addons-0.17.0\n"
          ]
        }
      ]
    },
    {
      "cell_type": "code",
      "source": [
        "SEED = 42\n",
        "np.random.seed(SEED)\n",
        "random.seed(SEED)\n",
        "tf.random.set_seed(SEED)\n",
        "pd.set_option('display.max_colwidth' , 200)"
      ],
      "metadata": {
        "execution": {
          "iopub.status.busy": "2022-04-27T08:52:51.464202Z",
          "iopub.execute_input": "2022-04-27T08:52:51.464485Z",
          "iopub.status.idle": "2022-04-27T08:52:51.470396Z",
          "shell.execute_reply.started": "2022-04-27T08:52:51.464439Z",
          "shell.execute_reply": "2022-04-27T08:52:51.469443Z"
        },
        "trusted": true,
        "id": "d6npk2nQhNbc"
      },
      "execution_count": 5,
      "outputs": []
    },
    {
      "cell_type": "code",
      "source": [
        ""
      ],
      "metadata": {
        "id": "2w-lIL4nhkTz"
      },
      "execution_count": null,
      "outputs": []
    },
    {
      "cell_type": "code",
      "source": [
        "import os\n",
        "import PIL\n",
        "import zipfile\n",
        "import numpy as np\n",
        "import pandas as pd\n",
        "import matplotlib.pyplot as plt\n",
        "import pickle\n",
        "import h5py\n",
        "import cv2\n",
        "from google.colab.patches import cv2_imshow\n",
        "%matplotlib inline"
      ],
      "metadata": {
        "id": "U7zgPC_6hkWY"
      },
      "execution_count": 6,
      "outputs": []
    },
    {
      "cell_type": "code",
      "source": [
        "from google.colab import drive\n",
        "drive.mount('/content/drive')"
      ],
      "metadata": {
        "colab": {
          "base_uri": "https://localhost:8080/"
        },
        "id": "sgqO1nm1h_k5",
        "outputId": "180c4178-2501-40b3-a706-393c34c8c976"
      },
      "execution_count": 7,
      "outputs": [
        {
          "output_type": "stream",
          "name": "stdout",
          "text": [
            "Mounted at /content/drive\n"
          ]
        }
      ]
    },
    {
      "cell_type": "code",
      "source": [
        "if not os.path.exists('/content/drive/My Drive/Colab Notebooks/dataset1'):\n",
        "  os.mkdir('/content/drive/My Drive/Colab Notebooks/dataset1')"
      ],
      "metadata": {
        "id": "pFe--ABShkZD"
      },
      "execution_count": 8,
      "outputs": []
    },
    {
      "cell_type": "code",
      "source": [
        "with zipfile.ZipFile('/content/drive/My Drive/Colab Notebooks/dataset1/data.zip') as zf:\n",
        "  zip_dir = zf.namelist()[0]\n",
        "  zf.extractall('/content/drive/My Drive/Colab Notebooks/dataset1')"
      ],
      "metadata": {
        "id": "88nIYCeBiKjW"
      },
      "execution_count": 9,
      "outputs": []
    },
    {
      "cell_type": "code",
      "source": [
        "with zipfile.ZipFile('/content/drive/My Drive/Colab Notebooks/dataset1/brainTumorDataPublic_1-766.zip') as zf:\n",
        "  os.mkdir('/content/drive/My Drive/Colab Notebooks/dataset1/bt_set1')\n",
        "  zip_dir = zf.namelist()[0]\n",
        "  zf.extractall('/content/drive/My Drive/Colab Notebooks/dataset1/bt_set1')"
      ],
      "metadata": {
        "id": "A4pR5BLPiKmg"
      },
      "execution_count": 10,
      "outputs": []
    },
    {
      "cell_type": "code",
      "source": [
        "with zipfile.ZipFile('/content/drive/My Drive/Colab Notebooks/dataset1/brainTumorDataPublic_767-1532.zip') as zf:\n",
        "  os.mkdir('/content/drive/My Drive/Colab Notebooks/dataset1/bt_set2')\n",
        "  zip_dir = zf.namelist()[0]\n",
        "  zf.extractall('/content/drive/My Drive/Colab Notebooks/dataset1/bt_set2')"
      ],
      "metadata": {
        "id": "HCwqjBmiibJQ"
      },
      "execution_count": 11,
      "outputs": []
    },
    {
      "cell_type": "code",
      "source": [
        "with zipfile.ZipFile('/content/drive/My Drive/Colab Notebooks/dataset1/brainTumorDataPublic_1533-2298.zip') as zf:\n",
        "  os.mkdir('/content/drive/My Drive/Colab Notebooks/dataset1/bt_set3')\n",
        "  zip_dir = zf.namelist()[0]\n",
        "  zf.extractall('/content/drive/My Drive/Colab Notebooks/dataset1/bt_set3')"
      ],
      "metadata": {
        "id": "yy4vm75WibMP"
      },
      "execution_count": 12,
      "outputs": []
    },
    {
      "cell_type": "code",
      "source": [
        "with zipfile.ZipFile('/content/drive/My Drive/Colab Notebooks/dataset1/brainTumorDataPublic_2299-3064.zip') as zf:\n",
        "  os.mkdir('/content/drive/My Drive/Colab Notebooks/dataset1/bt_set4')\n",
        "  zip_dir = zf.namelist()[0]\n",
        "  zf.extractall('/content/drive/My Drive/Colab Notebooks/dataset1/bt_set4')"
      ],
      "metadata": {
        "id": "Ec7-oBX-ibPZ"
      },
      "execution_count": 13,
      "outputs": []
    },
    {
      "cell_type": "code",
      "source": [
        "os.mkdir('/content/drive/My Drive/Colab Notebooks/dataset1/imageData')"
      ],
      "metadata": {
        "id": "ZA0q3EWsibTR"
      },
      "execution_count": 14,
      "outputs": []
    },
    {
      "cell_type": "code",
      "source": [
        "!mv /content/drive/'My Drive'/'Colab Notebooks'/dataset1/bt_set1/*.mat '/content/drive/My Drive/Colab Notebooks/dataset1/imageData/'\n",
        "!mv /content/drive/'My Drive'/'Colab Notebooks'/dataset1/bt_set2/*.mat '/content/drive/My Drive/Colab Notebooks/dataset1/imageData/'\n",
        "!mv /content/drive/'My Drive'/'Colab Notebooks'/dataset1/bt_set3/*.mat '/content/drive/My Drive/Colab Notebooks/dataset1/imageData/'\n",
        "!mv /content/drive/'My Drive'/'Colab Notebooks'/dataset1/bt_set4/*.mat '/content/drive/My Drive/Colab Notebooks/dataset1/imageData/'"
      ],
      "metadata": {
        "id": "qjO92EJuiKpz"
      },
      "execution_count": 15,
      "outputs": []
    },
    {
      "cell_type": "code",
      "source": [
        ""
      ],
      "metadata": {
        "id": "mJEM5B8Phkcb"
      },
      "execution_count": null,
      "outputs": []
    },
    {
      "cell_type": "code",
      "source": [
        "mypath = \"../content/drive/My Drive/Colab Notebooks/dataset1/imageData\"\n",
        "fileslist = natsorted([f for f in os.listdir(mypath) if os.path.isfile(os.path.join(mypath, f))])"
      ],
      "metadata": {
        "execution": {
          "iopub.status.busy": "2022-04-27T08:52:52.394441Z",
          "iopub.execute_input": "2022-04-27T08:52:52.395167Z",
          "iopub.status.idle": "2022-04-27T08:52:54.264638Z",
          "shell.execute_reply.started": "2022-04-27T08:52:52.395127Z",
          "shell.execute_reply": "2022-04-27T08:52:54.2638Z"
        },
        "trusted": true,
        "id": "tjLqoLTShNbc"
      },
      "execution_count": 16,
      "outputs": []
    },
    {
      "cell_type": "code",
      "source": [
        "fileslist[:10]"
      ],
      "metadata": {
        "execution": {
          "iopub.status.busy": "2022-04-27T08:52:55.064893Z",
          "iopub.execute_input": "2022-04-27T08:52:55.065156Z",
          "iopub.status.idle": "2022-04-27T08:52:55.075726Z",
          "shell.execute_reply.started": "2022-04-27T08:52:55.065126Z",
          "shell.execute_reply": "2022-04-27T08:52:55.074706Z"
        },
        "trusted": true,
        "colab": {
          "base_uri": "https://localhost:8080/"
        },
        "id": "RQ2HQ6EehNbd",
        "outputId": "b57ec229-b38c-46bb-f428-569cd2edb78c"
      },
      "execution_count": 17,
      "outputs": [
        {
          "output_type": "execute_result",
          "data": {
            "text/plain": [
              "['1.mat',\n",
              " '2.mat',\n",
              " '3.mat',\n",
              " '4.mat',\n",
              " '5.mat',\n",
              " '6.mat',\n",
              " '7.mat',\n",
              " '8.mat',\n",
              " '9.mat',\n",
              " '10.mat']"
            ]
          },
          "metadata": {},
          "execution_count": 17
        }
      ]
    },
    {
      "cell_type": "code",
      "source": [
        "path = \"../content/drive/My Drive/Colab Notebooks/dataset1/imageData/\"\n",
        "f = h5py.File(path + fileslist[0], 'r')\n",
        "print(list(f['cjdata'].keys()))\n",
        "\n",
        "data = f.get('cjdata/tumorMask/')\n",
        "label = f.get('cjdata/label/')\n",
        "data = np.array(data)\n",
        "label = np.array(label)\n",
        "\n",
        "print(data.shape , label.shape)\n",
        "\n",
        "plt.imshow(data, cmap = 'gray')\n",
        "plt.axis(False);"
      ],
      "metadata": {
        "execution": {
          "iopub.status.busy": "2022-04-27T08:52:57.999651Z",
          "iopub.execute_input": "2022-04-27T08:52:58.000374Z",
          "iopub.status.idle": "2022-04-27T08:52:58.17348Z",
          "shell.execute_reply.started": "2022-04-27T08:52:58.000335Z",
          "shell.execute_reply": "2022-04-27T08:52:58.172698Z"
        },
        "trusted": true,
        "colab": {
          "base_uri": "https://localhost:8080/",
          "height": 283
        },
        "id": "YAcbtId-hNbe",
        "outputId": "87fd0eca-155b-43a1-a0db-5ebc513dba1c"
      },
      "execution_count": 18,
      "outputs": [
        {
          "output_type": "stream",
          "name": "stdout",
          "text": [
            "['PID', 'image', 'label', 'tumorBorder', 'tumorMask']\n",
            "(512, 512) (1, 1)\n"
          ]
        },
        {
          "output_type": "display_data",
          "data": {
            "text/plain": [
              "<Figure size 432x288 with 1 Axes>"
            ],
            "image/png": "[encoded data removed]"
          },
          "metadata": {
            "needs_background": "light"
          }
        }
      ]
    },
    {
      "cell_type": "code",
      "source": [
        "sample = f.get('cjdata/image/')\n",
        "sample = np.array(sample)\n",
        "plt.imshow(sample, cmap = 'gray')\n",
        "plt.axis(False);"
      ],
      "metadata": {
        "execution": {
          "iopub.status.busy": "2022-04-27T08:52:58.835756Z",
          "iopub.execute_input": "2022-04-27T08:52:58.836457Z",
          "iopub.status.idle": "2022-04-27T08:52:58.984639Z",
          "shell.execute_reply.started": "2022-04-27T08:52:58.83642Z",
          "shell.execute_reply": "2022-04-27T08:52:58.983768Z"
        },
        "trusted": true,
        "colab": {
          "base_uri": "https://localhost:8080/",
          "height": 248
        },
        "id": "BewJpiZGhNbe",
        "outputId": "3778b29c-0c4f-4bb0-857d-2967d59a7265"
      },
      "execution_count": 19,
      "outputs": [
        {
          "output_type": "display_data",
          "data": {
            "text/plain": [
              "<Figure size 432x288 with 1 Axes>"
            ],
            "image/png": "[encoded data removed]"
          },
          "metadata": {
            "needs_background": "light"
          }
        }
      ]
    },
    {
      "cell_type": "code",
      "source": [
        "# BATCH_SIZE = 32\n",
        "# NUM_EPOCHS = 75\n",
        "# IMG_SIZE = 100\n",
        "# INPUT_SHAPE = (100, 100, 3)\n",
        "\n",
        "BATCH_SIZE = 32\n",
        "NUM_EPOCHS = 75\n",
        "IMG_SIZE = 256\n",
        "INPUT_SHAPE = (512,512,3)"
      ],
      "metadata": {
        "execution": {
          "iopub.status.busy": "2022-04-27T08:53:00.529648Z",
          "iopub.execute_input": "2022-04-27T08:53:00.530451Z",
          "iopub.status.idle": "2022-04-27T08:53:00.535289Z",
          "shell.execute_reply.started": "2022-04-27T08:53:00.530394Z",
          "shell.execute_reply": "2022-04-27T08:53:00.534667Z"
        },
        "trusted": true,
        "id": "JCTr6mpshNbf"
      },
      "execution_count": 20,
      "outputs": []
    },
    {
      "cell_type": "code",
      "source": [
        "x_data = np.zeros((len(os.listdir(path)), IMG_SIZE, IMG_SIZE, 3))\n",
        "y_data = []\n",
        "\n",
        "mean_val = []\n",
        "std_val = []\n",
        "max_val = []\n",
        "min_val = []\n",
        "skew_val = []\n",
        "kurt_val = []\n",
        "entropy_val = []\n",
        "\n",
        "\n",
        "for idx in range(len(os.listdir(path))):\n",
        "    f = h5py.File(path + fileslist[idx],'r')\n",
        "\n",
        "    data = f.get('cjdata/image/')\n",
        "    label = f.get('cjdata/label/')\n",
        "    data = np.array(data)\n",
        "    label = np.array(label, dtype='int')\n",
        "    f.close()\n",
        "    im = Image.fromarray(data).convert(\"RGB\").resize((IMG_SIZE, IMG_SIZE))\n",
        "    im = np.asarray(im, dtype='float32')\n",
        "    x_data[idx] = im\n",
        "    y_data.append(label[0][0])\n",
        "    \n",
        "    mean_val.append(im.mean())\n",
        "    std_val.append(im.std())\n",
        "    max_val.append(im.max())\n",
        "    min_val.append(im.min())\n",
        "    skew_val.append(scipy.stats.skew(im.flatten()))\n",
        "    kurt_val.append(scipy.stats.kurtosis(im.flatten()))\n",
        "    entropy_val.append(scipy.stats.entropy(im.flatten()))"
      ],
      "metadata": {
        "execution": {
          "iopub.status.busy": "2022-04-27T08:59:23.633578Z",
          "iopub.execute_input": "2022-04-27T08:59:23.634369Z",
          "iopub.status.idle": "2022-04-27T09:00:37.089245Z",
          "shell.execute_reply.started": "2022-04-27T08:59:23.63432Z",
          "shell.execute_reply": "2022-04-27T09:00:37.088518Z"
        },
        "trusted": true,
        "id": "YtBl8q90hNbg"
      },
      "execution_count": 21,
      "outputs": []
    },
    {
      "cell_type": "code",
      "source": [
        "np.unique(y_data, return_counts=True)"
      ],
      "metadata": {
        "execution": {
          "iopub.status.busy": "2022-04-27T09:00:37.091871Z",
          "iopub.execute_input": "2022-04-27T09:00:37.092338Z",
          "iopub.status.idle": "2022-04-27T09:00:37.10016Z",
          "shell.execute_reply.started": "2022-04-27T09:00:37.092301Z",
          "shell.execute_reply": "2022-04-27T09:00:37.099365Z"
        },
        "trusted": true,
        "colab": {
          "base_uri": "https://localhost:8080/"
        },
        "id": "CICph71whNbg",
        "outputId": "b896ec8b-ca4b-4e2b-b0dd-42e0ea1cb702"
      },
      "execution_count": 22,
      "outputs": [
        {
          "output_type": "execute_result",
          "data": {
            "text/plain": [
              "(array([1, 2, 3]), array([ 708, 1426,  930]))"
            ]
          },
          "metadata": {},
          "execution_count": 22
        }
      ]
    },
    {
      "cell_type": "code",
      "source": [
        "y = np.array(y_data)\n",
        "y.shape"
      ],
      "metadata": {
        "execution": {
          "iopub.status.busy": "2022-04-27T09:00:50.890621Z",
          "iopub.execute_input": "2022-04-27T09:00:50.891305Z",
          "iopub.status.idle": "2022-04-27T09:00:50.897317Z",
          "shell.execute_reply.started": "2022-04-27T09:00:50.891259Z",
          "shell.execute_reply": "2022-04-27T09:00:50.89654Z"
        },
        "trusted": true,
        "colab": {
          "base_uri": "https://localhost:8080/"
        },
        "id": "WE-g2l-5hNbh",
        "outputId": "98e0e90a-4bdb-4b2a-ef18-0ef741fee1ea"
      },
      "execution_count": 23,
      "outputs": [
        {
          "output_type": "execute_result",
          "data": {
            "text/plain": [
              "(3064,)"
            ]
          },
          "metadata": {},
          "execution_count": 23
        }
      ]
    },
    {
      "cell_type": "code",
      "source": [
        "y"
      ],
      "metadata": {
        "execution": {
          "iopub.status.busy": "2022-04-27T09:00:52.497094Z",
          "iopub.execute_input": "2022-04-27T09:00:52.497351Z",
          "iopub.status.idle": "2022-04-27T09:00:52.502864Z",
          "shell.execute_reply.started": "2022-04-27T09:00:52.497323Z",
          "shell.execute_reply": "2022-04-27T09:00:52.502191Z"
        },
        "trusted": true,
        "colab": {
          "base_uri": "https://localhost:8080/"
        },
        "id": "uRH9vZwuhNbh",
        "outputId": "11f7eaf2-f348-4fa0-b9f8-97ca8611883e"
      },
      "execution_count": 24,
      "outputs": [
        {
          "output_type": "execute_result",
          "data": {
            "text/plain": [
              "array([1, 1, 1, ..., 2, 1, 1])"
            ]
          },
          "metadata": {},
          "execution_count": 24
        }
      ]
    },
    {
      "cell_type": "code",
      "source": [
        "y[y == 1] = 0"
      ],
      "metadata": {
        "execution": {
          "iopub.status.busy": "2022-04-27T09:00:54.420858Z",
          "iopub.execute_input": "2022-04-27T09:00:54.421383Z",
          "iopub.status.idle": "2022-04-27T09:00:54.425817Z",
          "shell.execute_reply.started": "2022-04-27T09:00:54.421346Z",
          "shell.execute_reply": "2022-04-27T09:00:54.425119Z"
        },
        "trusted": true,
        "id": "I0zP4TX2hNbh"
      },
      "execution_count": 25,
      "outputs": []
    },
    {
      "cell_type": "code",
      "source": [
        "y[y == 2] = 1"
      ],
      "metadata": {
        "execution": {
          "iopub.status.busy": "2022-04-27T09:00:54.976336Z",
          "iopub.execute_input": "2022-04-27T09:00:54.97702Z",
          "iopub.status.idle": "2022-04-27T09:00:54.980859Z",
          "shell.execute_reply.started": "2022-04-27T09:00:54.976978Z",
          "shell.execute_reply": "2022-04-27T09:00:54.980139Z"
        },
        "trusted": true,
        "id": "77sSoenlhNbi"
      },
      "execution_count": 26,
      "outputs": []
    },
    {
      "cell_type": "code",
      "source": [
        "y[y == 3] = 2"
      ],
      "metadata": {
        "execution": {
          "iopub.status.busy": "2022-04-27T09:00:55.496126Z",
          "iopub.execute_input": "2022-04-27T09:00:55.496598Z",
          "iopub.status.idle": "2022-04-27T09:00:55.501034Z",
          "shell.execute_reply.started": "2022-04-27T09:00:55.496557Z",
          "shell.execute_reply": "2022-04-27T09:00:55.500108Z"
        },
        "trusted": true,
        "id": "DP1VzZENhNbi"
      },
      "execution_count": 27,
      "outputs": []
    },
    {
      "cell_type": "code",
      "source": [
        "data = pd.DataFrame(list(zip(mean_val, std_val, skew_val, kurt_val, entropy_val)))\n",
        "data.columns = ['mean_val', 'std_val', 'skew_val', 'kurt_val', 'entropy_val']\n",
        "data.sample(10 , random_state = SEED)"
      ],
      "metadata": {
        "execution": {
          "iopub.status.busy": "2022-04-27T09:00:58.192591Z",
          "iopub.execute_input": "2022-04-27T09:00:58.193383Z",
          "iopub.status.idle": "2022-04-27T09:00:58.220233Z",
          "shell.execute_reply.started": "2022-04-27T09:00:58.193336Z",
          "shell.execute_reply": "2022-04-27T09:00:58.219499Z"
        },
        "trusted": true,
        "colab": {
          "base_uri": "https://localhost:8080/",
          "height": 363
        },
        "id": "ir4S-6cPhNbi",
        "outputId": "c66887a2-e621-4a41-a1f3-f53680e776e4"
      },
      "execution_count": 28,
      "outputs": [
        {
          "output_type": "execute_result",
          "data": {
            "text/plain": [
              "        mean_val     std_val  skew_val  kurt_val  entropy_val\n",
              "1241  157.001404   94.106644 -0.429650 -1.450014    11.958207\n",
              "203   115.448975  113.194702  0.340547 -1.758148    11.620768\n",
              "1260  199.152512   91.102303 -1.142222 -0.544276    12.044051\n",
              "1626  186.384521   97.479431 -0.847949 -1.077242    11.995905\n",
              "1578  192.910767   91.093353 -1.034977 -0.544180    12.025488\n",
              "102   130.339310  115.396324  0.066043 -1.868261    11.683544\n",
              "2925  129.832031  101.125504  0.347105 -1.760610    11.869749\n",
              "1582  188.901352   94.990166 -0.899181 -0.920563    12.008367\n",
              "485   140.995407  108.224609 -0.180953 -1.786086    11.810524\n",
              "1437  137.993271  116.364815 -0.070205 -1.885779    11.714902"
            ],
            "text/html": [
              "\n",
              "  <div id=\"df-70ee9061-5784-432b-a852-f0f191106893\">\n",
              "    <div class=\"colab-df-container\">\n",
              "      <div>\n",
              "<style scoped>\n",
              "    .dataframe tbody tr th:only-of-type {\n",
              "        vertical-align: middle;\n",
              "    }\n",
              "\n",
              "    .dataframe tbody tr th {\n",
              "        vertical-align: top;\n",
              "    }\n",
              "\n",
              "    .dataframe thead th {\n",
              "        text-align: right;\n",
              "    }\n",
              "</style>\n",
              "<table border=\"1\" class=\"dataframe\">\n",
              "  <thead>\n",
              "    <tr style=\"text-align: right;\">\n",
              "      <th></th>\n",
              "      <th>mean_val</th>\n",
              "      <th>std_val</th>\n",
              "      <th>skew_val</th>\n",
              "      <th>kurt_val</th>\n",
              "      <th>entropy_val</th>\n",
              "    </tr>\n",
              "  </thead>\n",
              "  <tbody>\n",
              "    <tr>\n",
              "      <th>1241</th>\n",
              "      <td>157.001404</td>\n",
              "      <td>94.106644</td>\n",
              "      <td>-0.429650</td>\n",
              "      <td>-1.450014</td>\n",
              "      <td>11.958207</td>\n",
              "    </tr>\n",
              "    <tr>\n",
              "      <th>203</th>\n",
              "      <td>115.448975</td>\n",
              "      <td>113.194702</td>\n",
              "      <td>0.340547</td>\n",
              "      <td>-1.758148</td>\n",
              "      <td>11.620768</td>\n",
              "    </tr>\n",
              "    <tr>\n",
              "      <th>1260</th>\n",
              "      <td>199.152512</td>\n",
              "      <td>91.102303</td>\n",
              "      <td>-1.142222</td>\n",
              "      <td>-0.544276</td>\n",
              "      <td>12.044051</td>\n",
              "    </tr>\n",
              "    <tr>\n",
              "      <th>1626</th>\n",
              "      <td>186.384521</td>\n",
              "      <td>97.479431</td>\n",
              "      <td>-0.847949</td>\n",
              "      <td>-1.077242</td>\n",
              "      <td>11.995905</td>\n",
              "    </tr>\n",
              "    <tr>\n",
              "      <th>1578</th>\n",
              "      <td>192.910767</td>\n",
              "      <td>91.093353</td>\n",
              "      <td>-1.034977</td>\n",
              "      <td>-0.544180</td>\n",
              "      <td>12.025488</td>\n",
              "    </tr>\n",
              "    <tr>\n",
              "      <th>102</th>\n",
              "      <td>130.339310</td>\n",
              "      <td>115.396324</td>\n",
              "      <td>0.066043</td>\n",
              "      <td>-1.868261</td>\n",
              "      <td>11.683544</td>\n",
              "    </tr>\n",
              "    <tr>\n",
              "      <th>2925</th>\n",
              "      <td>129.832031</td>\n",
              "      <td>101.125504</td>\n",
              "      <td>0.347105</td>\n",
              "      <td>-1.760610</td>\n",
              "      <td>11.869749</td>\n",
              "    </tr>\n",
              "    <tr>\n",
              "      <th>1582</th>\n",
              "      <td>188.901352</td>\n",
              "      <td>94.990166</td>\n",
              "      <td>-0.899181</td>\n",
              "      <td>-0.920563</td>\n",
              "      <td>12.008367</td>\n",
              "    </tr>\n",
              "    <tr>\n",
              "      <th>485</th>\n",
              "      <td>140.995407</td>\n",
              "      <td>108.224609</td>\n",
              "      <td>-0.180953</td>\n",
              "      <td>-1.786086</td>\n",
              "      <td>11.810524</td>\n",
              "    </tr>\n",
              "    <tr>\n",
              "      <th>1437</th>\n",
              "      <td>137.993271</td>\n",
              "      <td>116.364815</td>\n",
              "      <td>-0.070205</td>\n",
              "      <td>-1.885779</td>\n",
              "      <td>11.714902</td>\n",
              "    </tr>\n",
              "  </tbody>\n",
              "</table>\n",
              "</div>\n",
              "      <button class=\"colab-df-convert\" onclick=\"convertToInteractive('df-70ee9061-5784-432b-a852-f0f191106893')\"\n",
              "              title=\"Convert this dataframe to an interactive table.\"\n",
              "              style=\"display:none;\">\n",
              "        \n",
              "  <svg xmlns=\"http://www.w3.org/2000/svg\" height=\"24px\"viewBox=\"0 0 24 24\"\n",
              "       width=\"24px\">\n",
              "    <path d=\"M0 0h24v24H0V0z\" fill=\"none\"/>\n",
              "    <path d=\"M18.56 5.44l.94 2.06.94-2.06 2.06-.94-2.06-.94-.94-2.06-.94 2.06-2.06.94zm-11 1L8.5 8.5l.94-2.06 2.06-.94-2.06-.94L8.5 2.5l-.94 2.06-2.06.94zm10 10l.94 2.06.94-2.06 2.06-.94-2.06-.94-.94-2.06-.94 2.06-2.06.94z\"/><path d=\"M17.41 7.96l-1.37-1.37c-.4-.4-.92-.59-1.43-.59-.52 0-1.04.2-1.43.59L10.3 9.45l-7.72 7.72c-.78.78-.78 2.05 0 2.83L4 21.41c.39.39.9.59 1.41.59.51 0 1.02-.2 1.41-.59l7.78-7.78 2.81-2.81c.8-.78.8-2.07 0-2.86zM5.41 20L4 18.59l7.72-7.72 1.47 1.35L5.41 20z\"/>\n",
              "  </svg>\n",
              "      </button>\n",
              "      \n",
              "  <style>\n",
              "    .colab-df-container {\n",
              "      display:flex;\n",
              "      flex-wrap:wrap;\n",
              "      gap: 12px;\n",
              "    }\n",
              "\n",
              "    .colab-df-convert {\n",
              "      background-color: #E8F0FE;\n",
              "      border: none;\n",
              "      border-radius: 50%;\n",
              "      cursor: pointer;\n",
              "      display: none;\n",
              "      fill: #1967D2;\n",
              "      height: 32px;\n",
              "      padding: 0 0 0 0;\n",
              "      width: 32px;\n",
              "    }\n",
              "\n",
              "    .colab-df-convert:hover {\n",
              "      background-color: #E2EBFA;\n",
              "      box-shadow: 0px 1px 2px rgba(60, 64, 67, 0.3), 0px 1px 3px 1px rgba(60, 64, 67, 0.15);\n",
              "      fill: #174EA6;\n",
              "    }\n",
              "\n",
              "    [theme=dark] .colab-df-convert {\n",
              "      background-color: #3B4455;\n",
              "      fill: #D2E3FC;\n",
              "    }\n",
              "\n",
              "    [theme=dark] .colab-df-convert:hover {\n",
              "      background-color: #434B5C;\n",
              "      box-shadow: 0px 1px 3px 1px rgba(0, 0, 0, 0.15);\n",
              "      filter: drop-shadow(0px 1px 2px rgba(0, 0, 0, 0.3));\n",
              "      fill: #FFFFFF;\n",
              "    }\n",
              "  </style>\n",
              "\n",
              "      <script>\n",
              "        const buttonEl =\n",
              "          document.querySelector('#df-70ee9061-5784-432b-a852-f0f191106893 button.colab-df-convert');\n",
              "        buttonEl.style.display =\n",
              "          google.colab.kernel.accessAllowed ? 'block' : 'none';\n",
              "\n",
              "        async function convertToInteractive(key) {\n",
              "          const element = document.querySelector('#df-70ee9061-5784-432b-a852-f0f191106893');\n",
              "          const dataTable =\n",
              "            await google.colab.kernel.invokeFunction('convertToInteractive',\n",
              "                                                     [key], {});\n",
              "          if (!dataTable) return;\n",
              "\n",
              "          const docLinkHtml = 'Like what you see? Visit the ' +\n",
              "            '<a target=\"_blank\" href=https://colab.research.google.com/notebooks/data_table.ipynb>data table notebook</a>'\n",
              "            + ' to learn more about interactive tables.';\n",
              "          element.innerHTML = '';\n",
              "          dataTable['output_type'] = 'display_data';\n",
              "          await google.colab.output.renderOutput(dataTable, element);\n",
              "          const docLink = document.createElement('div');\n",
              "          docLink.innerHTML = docLinkHtml;\n",
              "          element.appendChild(docLink);\n",
              "        }\n",
              "      </script>\n",
              "    </div>\n",
              "  </div>\n",
              "  "
            ]
          },
          "metadata": {},
          "execution_count": 28
        }
      ]
    },
    {
      "cell_type": "code",
      "source": [
        "X = data.iloc[:, :].values\n",
        "X.shape"
      ],
      "metadata": {
        "execution": {
          "iopub.status.busy": "2022-04-27T09:01:01.537656Z",
          "iopub.execute_input": "2022-04-27T09:01:01.538284Z",
          "iopub.status.idle": "2022-04-27T09:01:01.549023Z",
          "shell.execute_reply.started": "2022-04-27T09:01:01.538242Z",
          "shell.execute_reply": "2022-04-27T09:01:01.548288Z"
        },
        "trusted": true,
        "colab": {
          "base_uri": "https://localhost:8080/"
        },
        "id": "6PMQvGknhNbj",
        "outputId": "8174ad30-4a79-407d-baa2-57188a072d24"
      },
      "execution_count": 29,
      "outputs": [
        {
          "output_type": "execute_result",
          "data": {
            "text/plain": [
              "(3064, 5)"
            ]
          },
          "metadata": {},
          "execution_count": 29
        }
      ]
    },
    {
      "cell_type": "code",
      "source": [
        "x_train, x_test, y_train, y_test = train_test_split(X, y, random_state=42, test_size=0.1, stratify=y_data)\n",
        "x_train.shape, x_test.shape, y_train.shape, y_test.shape"
      ],
      "metadata": {
        "execution": {
          "iopub.status.busy": "2022-04-27T09:01:03.479128Z",
          "iopub.execute_input": "2022-04-27T09:01:03.47939Z",
          "iopub.status.idle": "2022-04-27T09:01:03.491309Z",
          "shell.execute_reply.started": "2022-04-27T09:01:03.47936Z",
          "shell.execute_reply": "2022-04-27T09:01:03.490525Z"
        },
        "trusted": true,
        "colab": {
          "base_uri": "https://localhost:8080/"
        },
        "id": "M6U5lRsYhNbj",
        "outputId": "9b7efc20-97d4-49a5-e9f3-167d6381a9ec"
      },
      "execution_count": 30,
      "outputs": [
        {
          "output_type": "execute_result",
          "data": {
            "text/plain": [
              "((2757, 5), (307, 5), (2757,), (307,))"
            ]
          },
          "metadata": {},
          "execution_count": 30
        }
      ]
    },
    {
      "cell_type": "code",
      "source": [
        "y_test"
      ],
      "metadata": {
        "id": "z33AtIq9JG56",
        "outputId": "6c33a13b-00e8-4d8c-faf2-997092fa755f",
        "colab": {
          "base_uri": "https://localhost:8080/"
        }
      },
      "execution_count": 31,
      "outputs": [
        {
          "output_type": "execute_result",
          "data": {
            "text/plain": [
              "array([1, 0, 1, 2, 2, 2, 2, 1, 0, 0, 2, 0, 1, 2, 2, 2, 1, 0, 2, 0, 1, 1,\n",
              "       1, 0, 1, 2, 1, 2, 2, 1, 0, 1, 1, 1, 2, 1, 1, 2, 0, 1, 1, 2, 2, 1,\n",
              "       2, 1, 2, 2, 2, 0, 2, 1, 1, 2, 0, 1, 0, 1, 1, 2, 2, 2, 1, 1, 0, 0,\n",
              "       1, 0, 1, 2, 1, 0, 0, 2, 2, 1, 0, 1, 2, 0, 1, 1, 1, 2, 1, 1, 1, 0,\n",
              "       0, 1, 1, 1, 1, 1, 0, 2, 0, 1, 1, 2, 2, 2, 0, 1, 1, 1, 2, 1, 1, 0,\n",
              "       1, 1, 2, 2, 2, 1, 2, 2, 0, 2, 1, 1, 0, 1, 1, 0, 2, 2, 2, 1, 0, 1,\n",
              "       1, 1, 2, 1, 1, 1, 1, 0, 0, 0, 1, 1, 1, 1, 0, 1, 0, 1, 1, 2, 2, 1,\n",
              "       1, 2, 0, 2, 2, 1, 1, 1, 1, 0, 1, 2, 0, 0, 2, 2, 2, 1, 1, 1, 1, 1,\n",
              "       1, 2, 1, 0, 1, 2, 1, 1, 2, 1, 0, 1, 2, 0, 0, 1, 1, 2, 2, 1, 1, 2,\n",
              "       1, 2, 1, 0, 2, 0, 1, 0, 1, 0, 1, 0, 2, 2, 1, 1, 0, 0, 0, 1, 2, 0,\n",
              "       1, 2, 1, 0, 1, 1, 1, 1, 1, 0, 0, 0, 1, 2, 0, 1, 1, 0, 2, 1, 1, 1,\n",
              "       2, 0, 2, 2, 2, 2, 1, 1, 1, 0, 1, 1, 2, 2, 0, 1, 2, 1, 1, 1, 2, 2,\n",
              "       1, 2, 2, 0, 1, 0, 1, 2, 1, 1, 1, 1, 2, 2, 2, 0, 2, 1, 0, 2, 0, 2,\n",
              "       0, 2, 2, 0, 1, 0, 1, 2, 2, 1, 0, 1, 1, 2, 1, 1, 0, 1, 0, 1, 1])"
            ]
          },
          "metadata": {},
          "execution_count": 31
        }
      ]
    },
    {
      "cell_type": "markdown",
      "source": [
        "## SVM"
      ],
      "metadata": {
        "id": "ha5uZcNlNcGf"
      }
    },
    {
      "cell_type": "code",
      "source": [
        "def SVMModel(X, Y, x, y):\n",
        "    # constants\n",
        "    n_iter_search = 10\n",
        "    param_dist = {\n",
        "        'C': [1, 10, 100, 1000, 10000],\n",
        "        'gamma': [0.0001, 0.001, 0.01, 0.1, 1],\n",
        "    }\n",
        "    \n",
        "    print(X.shape, Y.shape)\n",
        "    print(x.shape, y.shape)\n",
        "    \n",
        "    # random search\n",
        "    estimator = SVC(kernel='rbf', decision_function_shape='ovo')\n",
        "    random_search = RandomizedSearchCV(estimator = estimator,\n",
        "                                       param_distributions = param_dist,\n",
        "                                       n_iter = n_iter_search,\n",
        "                                       n_jobs = -1,\n",
        "                                       refit = True,\n",
        "                                       cv = 3,\n",
        "                                       verbose = 2\n",
        "                                      )\n",
        "    random_search.fit(X, Y)\n",
        "    bp = random_search.best_params_\n",
        "\n",
        "    # model fit\n",
        "    svc = SVC(C = bp['C'], kernel = 'rbf', gamma = bp['gamma'], decision_function_shape = \"ovo\")\n",
        "    svc.fit(X, Y)\n",
        "    \n",
        "    # prediction\n",
        "    preds = svc.predict(x)\n",
        "    print(classification_report(y, preds))\n"
      ],
      "metadata": {
        "execution": {
          "iopub.status.busy": "2022-04-27T09:01:05.900424Z",
          "iopub.execute_input": "2022-04-27T09:01:05.900852Z",
          "iopub.status.idle": "2022-04-27T09:01:05.909766Z",
          "shell.execute_reply.started": "2022-04-27T09:01:05.900816Z",
          "shell.execute_reply": "2022-04-27T09:01:05.908807Z"
        },
        "trusted": true,
        "id": "NLqXX29bhNbj"
      },
      "execution_count": 46,
      "outputs": []
    },
    {
      "cell_type": "code",
      "source": [
        "SVMModel(x_train, y_train, x_test, y_test)"
      ],
      "metadata": {
        "execution": {
          "iopub.status.busy": "2022-04-27T09:01:07.144038Z",
          "iopub.execute_input": "2022-04-27T09:01:07.144828Z",
          "iopub.status.idle": "2022-04-27T09:01:31.254888Z",
          "shell.execute_reply.started": "2022-04-27T09:01:07.144787Z",
          "shell.execute_reply": "2022-04-27T09:01:31.253422Z"
        },
        "trusted": true,
        "colab": {
          "base_uri": "https://localhost:8080/"
        },
        "id": "0FwTXawshNbk",
        "outputId": "dbeab1bd-edd3-40b3-a3aa-ce3f9d164823"
      },
      "execution_count": 47,
      "outputs": [
        {
          "output_type": "stream",
          "name": "stdout",
          "text": [
            "(2757, 5) (2757,)\n",
            "(307, 5) (307,)\n",
            "Fitting 3 folds for each of 10 candidates, totalling 30 fits\n",
            "              precision    recall  f1-score   support\n",
            "\n",
            "           0       0.66      0.52      0.58        71\n",
            "           1       0.80      0.80      0.80       143\n",
            "           2       0.85      0.98      0.91        93\n",
            "\n",
            "    accuracy                           0.79       307\n",
            "   macro avg       0.77      0.77      0.76       307\n",
            "weighted avg       0.78      0.79      0.78       307\n",
            "\n"
          ]
        }
      ]
    },
    {
      "cell_type": "markdown",
      "source": [
        "## RandomForest"
      ],
      "metadata": {
        "id": "DL7UJBAINgXS"
      }
    },
    {
      "cell_type": "code",
      "source": [
        "def RandomForestModel(X, Y, x, y):\n",
        "    # constants\n",
        "    n_iter_search = 10\n",
        "    param_dist = {\n",
        "        'max_depth': [10, 20, 30, 40],\n",
        "        'min_samples_leaf': [2, 4, 5],\n",
        "        'min_samples_split': [2, 5, 10],\n",
        "        'n_estimators': [200, 400, 600, 800, 1000, 1200, 1400]\n",
        "    }\n",
        "    \n",
        "    print(X.shape, Y.shape)\n",
        "    print(x.shape, y.shape)\n",
        "    \n",
        "    estimator = RandomForestClassifier()\n",
        "    random_search = RandomizedSearchCV(estimator = estimator,\n",
        "                                       param_distributions = param_dist,\n",
        "                                       n_iter = n_iter_search,\n",
        "                                       n_jobs = -1,\n",
        "                                       refit = True,\n",
        "                                       cv = 2,\n",
        "                                       verbose = 2\n",
        "                                      )\n",
        "    random_search.fit(X, Y)\n",
        "    bp = random_search.best_params_\n",
        "\n",
        "    # model fit\n",
        "    rfc = RandomForestClassifier(bootstrap=True, criterion='gini', max_depth=bp['max_depth'], max_features='auto', min_samples_leaf=bp['min_samples_leaf'],\n",
        "                           min_samples_split=bp['min_samples_split'], n_estimators=bp['n_estimators'], n_jobs=-1, random_state=42, verbose=0)\n",
        "    rfc.fit(X, Y)\n",
        "    \n",
        "    # prediction\n",
        "    preds = rfc.predict(x)\n",
        "    print(classification_report(y, preds))"
      ],
      "metadata": {
        "execution": {
          "iopub.status.busy": "2022-04-27T09:01:31.256497Z",
          "iopub.execute_input": "2022-04-27T09:01:31.257095Z",
          "iopub.status.idle": "2022-04-27T09:01:31.266646Z",
          "shell.execute_reply.started": "2022-04-27T09:01:31.257054Z",
          "shell.execute_reply": "2022-04-27T09:01:31.265961Z"
        },
        "trusted": true,
        "id": "Ff75dszphNbk"
      },
      "execution_count": 34,
      "outputs": []
    },
    {
      "cell_type": "code",
      "source": [
        "RandomForestModel(x_train, y_train, x_test, y_test)"
      ],
      "metadata": {
        "execution": {
          "iopub.status.busy": "2022-04-27T09:01:31.267954Z",
          "iopub.execute_input": "2022-04-27T09:01:31.268277Z",
          "iopub.status.idle": "2022-04-27T09:02:04.992129Z",
          "shell.execute_reply.started": "2022-04-27T09:01:31.268244Z",
          "shell.execute_reply": "2022-04-27T09:02:04.99135Z"
        },
        "trusted": true,
        "colab": {
          "base_uri": "https://localhost:8080/"
        },
        "id": "GcdUDMH0hNbl",
        "outputId": "10050613-d007-4c36-f0c9-0bd8fd4a1f3c"
      },
      "execution_count": 35,
      "outputs": [
        {
          "output_type": "stream",
          "name": "stdout",
          "text": [
            "(2757, 5) (2757,)\n",
            "(307, 5) (307,)\n",
            "Fitting 2 folds for each of 10 candidates, totalling 20 fits\n",
            "              precision    recall  f1-score   support\n",
            "\n",
            "           0       0.66      0.65      0.65        71\n",
            "           1       0.87      0.78      0.82       143\n",
            "           2       0.84      0.99      0.91        93\n",
            "\n",
            "    accuracy                           0.81       307\n",
            "   macro avg       0.79      0.80      0.79       307\n",
            "weighted avg       0.81      0.81      0.81       307\n",
            "\n"
          ]
        }
      ]
    },
    {
      "cell_type": "markdown",
      "source": [
        "## NAIVE BAYES"
      ],
      "metadata": {
        "id": "aHKctu6ZNn9p"
      }
    },
    {
      "cell_type": "code",
      "source": [
        "from sklearn.naive_bayes import GaussianNB\n",
        "classifier = GaussianNB()\n",
        "classifier.fit(x_train, y_train)"
      ],
      "metadata": {
        "id": "bRvpPdvYl-Mr",
        "outputId": "9d1e0067-34db-4a97-ce93-68eb13f012b5",
        "colab": {
          "base_uri": "https://localhost:8080/"
        }
      },
      "execution_count": 39,
      "outputs": [
        {
          "output_type": "execute_result",
          "data": {
            "text/plain": [
              "GaussianNB()"
            ]
          },
          "metadata": {},
          "execution_count": 39
        }
      ]
    },
    {
      "cell_type": "code",
      "source": [
        "Y_pred = classifier.predict(x_test)"
      ],
      "metadata": {
        "id": "WCcIVxsLKq_0"
      },
      "execution_count": 40,
      "outputs": []
    },
    {
      "cell_type": "code",
      "source": [
        "from sklearn.metrics import confusion_matrix\n",
        "cm = confusion_matrix(y_test, Y_pred)"
      ],
      "metadata": {
        "id": "xJccTcvXKw_S"
      },
      "execution_count": 41,
      "outputs": []
    },
    {
      "cell_type": "code",
      "source": [
        " print(classification_report(y_test, Y_pred))"
      ],
      "metadata": {
        "id": "G700Wp3eMiXv",
        "outputId": "9d13c87d-2e67-44e7-f210-37e98d716afd",
        "colab": {
          "base_uri": "https://localhost:8080/"
        }
      },
      "execution_count": 42,
      "outputs": [
        {
          "output_type": "stream",
          "name": "stdout",
          "text": [
            "              precision    recall  f1-score   support\n",
            "\n",
            "           0       0.47      0.10      0.16        71\n",
            "           1       0.56      0.78      0.65       143\n",
            "           2       0.69      0.70      0.70        93\n",
            "\n",
            "    accuracy                           0.60       307\n",
            "   macro avg       0.57      0.52      0.50       307\n",
            "weighted avg       0.58      0.60      0.55       307\n",
            "\n"
          ]
        }
      ]
    },
    {
      "cell_type": "markdown",
      "source": [
        "## DECISION TREE"
      ],
      "metadata": {
        "id": "jDVxj4YbNvH2"
      }
    },
    {
      "cell_type": "code",
      "source": [
        "from sklearn.tree import DecisionTreeClassifier\n",
        "classifier = DecisionTreeClassifier(criterion = 'entropy', random_state = 0)\n",
        "classifier.fit(x_train, y_train)"
      ],
      "metadata": {
        "id": "wCzVrGWbM1Ae",
        "outputId": "99528929-932f-4211-908f-60f0b986db6d",
        "colab": {
          "base_uri": "https://localhost:8080/"
        }
      },
      "execution_count": 43,
      "outputs": [
        {
          "output_type": "execute_result",
          "data": {
            "text/plain": [
              "DecisionTreeClassifier(criterion='entropy', random_state=0)"
            ]
          },
          "metadata": {},
          "execution_count": 43
        }
      ]
    },
    {
      "cell_type": "code",
      "source": [
        "Y_pred = classifier.predict(x_test)\n"
      ],
      "metadata": {
        "id": "aHlOGYQXNAje"
      },
      "execution_count": 44,
      "outputs": []
    },
    {
      "cell_type": "code",
      "source": [
        " print(classification_report(y_test, Y_pred))"
      ],
      "metadata": {
        "id": "pW96QRPaNKU2",
        "outputId": "501a4737-2036-4448-a0b1-1a87e0231905",
        "colab": {
          "base_uri": "https://localhost:8080/"
        }
      },
      "execution_count": 45,
      "outputs": [
        {
          "output_type": "stream",
          "name": "stdout",
          "text": [
            "              precision    recall  f1-score   support\n",
            "\n",
            "           0       0.59      0.55      0.57        71\n",
            "           1       0.77      0.74      0.76       143\n",
            "           2       0.84      0.94      0.88        93\n",
            "\n",
            "    accuracy                           0.76       307\n",
            "   macro avg       0.73      0.74      0.74       307\n",
            "weighted avg       0.75      0.76      0.75       307\n",
            "\n"
          ]
        }
      ]
    },
    {
      "cell_type": "markdown",
      "source": [
        "REF \n",
        "https://towardsdatascience.com/building-a-simple-machine-learning-model-on-breast-cancer-data-eca4b3b99fa3"
      ],
      "metadata": {
        "id": "S9BnKlSUN9Te"
      }
    }
  ]
}