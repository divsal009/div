{
  "nbformat": 4,
  "nbformat_minor": 0,
  "metadata": {
    "colab": {
      "name": "Tensorflow.ipynb",
      "provenance": [],
      "authorship_tag": "ABX9TyMz/z3RyHT9hxn1Y+jXgsFR",
      "include_colab_link": true
    },
    "kernelspec": {
      "name": "python3",
      "display_name": "Python 3"
    }
  },
  "cells": [
    {
      "cell_type": "markdown",
      "metadata": {
        "id": "view-in-github",
        "colab_type": "text"
      },
      "source": [
        "<a href=\"https://colab.research.google.com/github/divsal009/div/blob/master/Tensorflow.ipynb\" target=\"_parent\"><img src=\"https://colab.research.google.com/assets/colab-badge.svg\" alt=\"Open In Colab\"/></a>"
      ]
    },
    {
      "cell_type": "markdown",
      "metadata": {
        "id": "JSmtFVkb2FV0",
        "colab_type": "text"
      },
      "source": [
        "Tensor is mathematical representation of scalar,vector, matrixof N-D & rank"
      ]
    },
    {
      "cell_type": "code",
      "metadata": {
        "id": "W91-jicU4QYM",
        "colab_type": "code",
        "colab": {}
      },
      "source": [
        "import tensorflow as tf"
      ],
      "execution_count": 1,
      "outputs": []
    },
    {
      "cell_type": "code",
      "metadata": {
        "id": "UwZfwQ4r4Vdb",
        "colab_type": "code",
        "colab": {
          "base_uri": "https://localhost:8080/",
          "height": 34
        },
        "outputId": "cee92dd9-d97a-4df8-a1e3-01f9c54e98d3"
      },
      "source": [
        "print(tf.__version__)"
      ],
      "execution_count": 3,
      "outputs": [
        {
          "output_type": "stream",
          "text": [
            "2.2.0\n"
          ],
          "name": "stdout"
        }
      ]
    },
    {
      "cell_type": "markdown",
      "metadata": {
        "id": "B8XjQrTT9GN4",
        "colab_type": "text"
      },
      "source": [
        "**constant**"
      ]
    },
    {
      "cell_type": "code",
      "metadata": {
        "id": "tyUqTlha4nqB",
        "colab_type": "code",
        "colab": {
          "base_uri": "https://localhost:8080/",
          "height": 34
        },
        "outputId": "dee2c905-6794-4015-fb3b-cee25ff759bb"
      },
      "source": [
        "tf.constant(2)"
      ],
      "execution_count": 4,
      "outputs": [
        {
          "output_type": "execute_result",
          "data": {
            "text/plain": [
              "<tf.Tensor: shape=(), dtype=int32, numpy=2>"
            ]
          },
          "metadata": {
            "tags": []
          },
          "execution_count": 4
        }
      ]
    },
    {
      "cell_type": "markdown",
      "metadata": {
        "id": "oBRicSI54_jd",
        "colab_type": "text"
      },
      "source": [
        "**vectorrepresentation**"
      ]
    },
    {
      "cell_type": "code",
      "metadata": {
        "id": "AWhl2kt54wlp",
        "colab_type": "code",
        "colab": {
          "base_uri": "https://localhost:8080/",
          "height": 34
        },
        "outputId": "afd10303-7f0a-43bc-b030-8c8abab5eae0"
      },
      "source": [
        "tf.constant([1,2,3,4,5])"
      ],
      "execution_count": 8,
      "outputs": [
        {
          "output_type": "execute_result",
          "data": {
            "text/plain": [
              "<tf.Tensor: shape=(5,), dtype=int32, numpy=array([1, 2, 3, 4, 5], dtype=int32)>"
            ]
          },
          "metadata": {
            "tags": []
          },
          "execution_count": 8
        }
      ]
    },
    {
      "cell_type": "code",
      "metadata": {
        "colab_type": "code",
        "id": "a5Dr13vj5jeM",
        "colab": {
          "base_uri": "https://localhost:8080/",
          "height": 34
        },
        "outputId": "963b114b-c6d4-4616-bdd3-0feedfd2befa"
      },
      "source": [
        "tf.constant([1,2,3,4,5],dtype='int8')"
      ],
      "execution_count": 9,
      "outputs": [
        {
          "output_type": "execute_result",
          "data": {
            "text/plain": [
              "<tf.Tensor: shape=(5,), dtype=int8, numpy=array([1, 2, 3, 4, 5], dtype=int8)>"
            ]
          },
          "metadata": {
            "tags": []
          },
          "execution_count": 9
        }
      ]
    },
    {
      "cell_type": "code",
      "metadata": {
        "id": "8VV2eWRi5tm0",
        "colab_type": "code",
        "colab": {}
      },
      "source": [
        "const_1 = tf.constant([1,2,3,4,5,6], dtype='int8')\n"
      ],
      "execution_count": 11,
      "outputs": []
    },
    {
      "cell_type": "code",
      "metadata": {
        "id": "d_vIDlVj6SZq",
        "colab_type": "code",
        "colab": {
          "base_uri": "https://localhost:8080/",
          "height": 34
        },
        "outputId": "6f0a1b50-8d76-4913-9928-4b3d7d50bd3a"
      },
      "source": [
        "const_1.numpy()\n"
      ],
      "execution_count": 12,
      "outputs": [
        {
          "output_type": "execute_result",
          "data": {
            "text/plain": [
              "array([1, 2, 3, 4, 5, 6], dtype=int8)"
            ]
          },
          "metadata": {
            "tags": []
          },
          "execution_count": 12
        }
      ]
    },
    {
      "cell_type": "code",
      "metadata": {
        "id": "fOAU2pZH6hNL",
        "colab_type": "code",
        "colab": {
          "base_uri": "https://localhost:8080/",
          "height": 34
        },
        "outputId": "902f674c-2b35-47ed-8093-aa912c4c7ca9"
      },
      "source": [
        "const_1.shape\n"
      ],
      "execution_count": 13,
      "outputs": [
        {
          "output_type": "execute_result",
          "data": {
            "text/plain": [
              "TensorShape([6])"
            ]
          },
          "metadata": {
            "tags": []
          },
          "execution_count": 13
        }
      ]
    },
    {
      "cell_type": "code",
      "metadata": {
        "id": "O6P5yJ2N6nQy",
        "colab_type": "code",
        "colab": {
          "base_uri": "https://localhost:8080/",
          "height": 105
        },
        "outputId": "5d7e23a5-07c1-4233-b4f3-ea68bf2dc2fa"
      },
      "source": [
        "#matrix\n",
        "tf.constant([[1,2,3],[4,5,6],[7,8,9],[9,0,9]])"
      ],
      "execution_count": 17,
      "outputs": [
        {
          "output_type": "execute_result",
          "data": {
            "text/plain": [
              "<tf.Tensor: shape=(4, 3), dtype=int32, numpy=\n",
              "array([[1, 2, 3],\n",
              "       [4, 5, 6],\n",
              "       [7, 8, 9],\n",
              "       [9, 0, 9]], dtype=int32)>"
            ]
          },
          "metadata": {
            "tags": []
          },
          "execution_count": 17
        }
      ]
    },
    {
      "cell_type": "code",
      "metadata": {
        "id": "wMFYGrCo80XH",
        "colab_type": "code",
        "colab": {}
      },
      "source": [
        ""
      ],
      "execution_count": null,
      "outputs": []
    },
    {
      "cell_type": "code",
      "metadata": {
        "id": "7ztuR90d684K",
        "colab_type": "code",
        "colab": {
          "base_uri": "https://localhost:8080/",
          "height": 158
        },
        "outputId": "ed3432c1-cf04-4f2f-a266-37784be37ff0"
      },
      "source": [
        "tf.constant([[[5, 7, 10],\n",
        "             [10, 11, 12],\n",
        "             [22, 23, 24]],\n",
        "            [[15, 17, 20],\n",
        "             [21, 15, 22],\n",
        "             [22, 25, 34]]])"
      ],
      "execution_count": 19,
      "outputs": [
        {
          "output_type": "execute_result",
          "data": {
            "text/plain": [
              "<tf.Tensor: shape=(2, 3, 3), dtype=int32, numpy=\n",
              "array([[[ 5,  7, 10],\n",
              "        [10, 11, 12],\n",
              "        [22, 23, 24]],\n",
              "\n",
              "       [[15, 17, 20],\n",
              "        [21, 15, 22],\n",
              "        [22, 25, 34]]], dtype=int32)>"
            ]
          },
          "metadata": {
            "tags": []
          },
          "execution_count": 19
        }
      ]
    },
    {
      "cell_type": "markdown",
      "metadata": {
        "id": "WMViwyDt9JmC",
        "colab_type": "text"
      },
      "source": [
        "**variable datatype**"
      ]
    },
    {
      "cell_type": "code",
      "metadata": {
        "id": "SrtHesq97mVa",
        "colab_type": "code",
        "colab": {}
      },
      "source": [
        "var_1 = tf.Variable(100 , dtype = 'float16')\n"
      ],
      "execution_count": 25,
      "outputs": []
    },
    {
      "cell_type": "code",
      "metadata": {
        "id": "OICdrjmN9dqn",
        "colab_type": "code",
        "colab": {
          "base_uri": "https://localhost:8080/",
          "height": 34
        },
        "outputId": "23642f2e-acfa-4536-809b-ed714214623e"
      },
      "source": [
        "var_1.numpy()"
      ],
      "execution_count": 26,
      "outputs": [
        {
          "output_type": "execute_result",
          "data": {
            "text/plain": [
              "100.0"
            ]
          },
          "metadata": {
            "tags": []
          },
          "execution_count": 26
        }
      ]
    },
    {
      "cell_type": "code",
      "metadata": {
        "colab_type": "code",
        "id": "OWLgf7b29voe",
        "colab": {}
      },
      "source": [
        "var_2 = tf.Variable([1,2,3,4,5 ], dtype = 'float16')\n"
      ],
      "execution_count": 28,
      "outputs": []
    },
    {
      "cell_type": "code",
      "metadata": {
        "id": "OCIq-RW193Gi",
        "colab_type": "code",
        "colab": {
          "base_uri": "https://localhost:8080/",
          "height": 34
        },
        "outputId": "e2f466e1-79f4-4107-9f18-a20d4eb6c908"
      },
      "source": [
        "var_2.numpy()"
      ],
      "execution_count": 29,
      "outputs": [
        {
          "output_type": "execute_result",
          "data": {
            "text/plain": [
              "array([1., 2., 3., 4., 5.], dtype=float16)"
            ]
          },
          "metadata": {
            "tags": []
          },
          "execution_count": 29
        }
      ]
    },
    {
      "cell_type": "code",
      "metadata": {
        "id": "R0xvShFE-QOM",
        "colab_type": "code",
        "colab": {}
      },
      "source": [
        "var_3 = tf.Variable([1,2,3,4,5 ])"
      ],
      "execution_count": 31,
      "outputs": []
    },
    {
      "cell_type": "code",
      "metadata": {
        "id": "8cgkeop1-Xsc",
        "colab_type": "code",
        "colab": {
          "base_uri": "https://localhost:8080/",
          "height": 34
        },
        "outputId": "c80f80cf-ff1f-4da9-e764-43c7560413e1"
      },
      "source": [
        "var_3.numpy()"
      ],
      "execution_count": 32,
      "outputs": [
        {
          "output_type": "execute_result",
          "data": {
            "text/plain": [
              "array([1, 2, 3, 4, 5], dtype=int32)"
            ]
          },
          "metadata": {
            "tags": []
          },
          "execution_count": 32
        }
      ]
    },
    {
      "cell_type": "code",
      "metadata": {
        "id": "ug124i16Alvm",
        "colab_type": "code",
        "colab": {
          "base_uri": "https://localhost:8080/",
          "height": 34
        },
        "outputId": "fd6a8154-f7a8-4cf2-9580-e1d3fe3046f2"
      },
      "source": [
        " tf.Variable([1,2,3,4,5 ]).shape"
      ],
      "execution_count": 33,
      "outputs": [
        {
          "output_type": "execute_result",
          "data": {
            "text/plain": [
              "TensorShape([5])"
            ]
          },
          "metadata": {
            "tags": []
          },
          "execution_count": 33
        }
      ]
    },
    {
      "cell_type": "markdown",
      "metadata": {
        "id": "5GKyKatO9oBH",
        "colab_type": "text"
      },
      "source": [
        "mathematical representation"
      ]
    },
    {
      "cell_type": "code",
      "metadata": {
        "id": "6GNOvctCA25D",
        "colab_type": "code",
        "colab": {}
      },
      "source": [
        "x=tf.constant([[3,4]])"
      ],
      "execution_count": 38,
      "outputs": []
    },
    {
      "cell_type": "code",
      "metadata": {
        "id": "NCj1pMfIBAYU",
        "colab_type": "code",
        "colab": {
          "base_uri": "https://localhost:8080/",
          "height": 34
        },
        "outputId": "3a8c41f8-995b-4225-9646-aff85a10b5b3"
      },
      "source": [
        "x"
      ],
      "execution_count": 39,
      "outputs": [
        {
          "output_type": "execute_result",
          "data": {
            "text/plain": [
              "<tf.Tensor: shape=(1, 2), dtype=int32, numpy=array([[3, 4]], dtype=int32)>"
            ]
          },
          "metadata": {
            "tags": []
          },
          "execution_count": 39
        }
      ]
    },
    {
      "cell_type": "code",
      "metadata": {
        "id": "7MslIXHlBHs1",
        "colab_type": "code",
        "colab": {}
      },
      "source": [
        "weights=tf.Variable([[2],\n",
        "                    [4]]\n",
        "                    )"
      ],
      "execution_count": 40,
      "outputs": []
    },
    {
      "cell_type": "code",
      "metadata": {
        "id": "oR_huG1DBtHI",
        "colab_type": "code",
        "colab": {
          "base_uri": "https://localhost:8080/",
          "height": 70
        },
        "outputId": "5c1f287c-2157-415f-d2ce-293b4c6f9a8f"
      },
      "source": [
        "tf.matmul(weights,x)"
      ],
      "execution_count": 41,
      "outputs": [
        {
          "output_type": "execute_result",
          "data": {
            "text/plain": [
              "<tf.Tensor: shape=(2, 2), dtype=int32, numpy=\n",
              "array([[ 6,  8],\n",
              "       [12, 16]], dtype=int32)>"
            ]
          },
          "metadata": {
            "tags": []
          },
          "execution_count": 41
        }
      ]
    },
    {
      "cell_type": "code",
      "metadata": {
        "id": "Ua_z19eTB_EF",
        "colab_type": "code",
        "colab": {
          "base_uri": "https://localhost:8080/",
          "height": 52
        },
        "outputId": "e36d005c-249a-4c08-dd5e-d22d3151ae0c"
      },
      "source": [
        "tf.matmul(weights,x).numpy()"
      ],
      "execution_count": 42,
      "outputs": [
        {
          "output_type": "execute_result",
          "data": {
            "text/plain": [
              "array([[ 6,  8],\n",
              "       [12, 16]], dtype=int32)"
            ]
          },
          "metadata": {
            "tags": []
          },
          "execution_count": 42
        }
      ]
    },
    {
      "cell_type": "markdown",
      "metadata": {
        "id": "suUx3LPBCm-F",
        "colab_type": "text"
      },
      "source": [
        ""
      ]
    }
  ]
}