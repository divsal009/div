{
  "nbformat": 4,
  "nbformat_minor": 0,
  "metadata": {
    "colab": {
      "name": "DataPreparation.ipynb",
      "provenance": [],
      "collapsed_sections": [],
      "include_colab_link": true
    },
    "kernelspec": {
      "name": "python3",
      "display_name": "Python 3"
    },
    "accelerator": "GPU",
    "widgets": {
      "application/vnd.jupyter.widget-state+json": {
        "2acce3c3e0174db4b521c44e709105c5": {
          "model_module": "@jupyter-widgets/controls",
          "model_name": "HBoxModel",
          "state": {
            "_view_name": "HBoxView",
            "_dom_classes": [],
            "_model_name": "HBoxModel",
            "_view_module": "@jupyter-widgets/controls",
            "_model_module_version": "1.5.0",
            "_view_count": null,
            "_view_module_version": "1.5.0",
            "box_style": "",
            "layout": "IPY_MODEL_bf41f561ddfb4c5eb563f38e4049a8ab",
            "_model_module": "@jupyter-widgets/controls",
            "children": [
              "IPY_MODEL_c6a41b281aab4b45bb915693c2f23d53",
              "IPY_MODEL_c07e620b58f4454b8733c156c736d994"
            ]
          }
        },
        "bf41f561ddfb4c5eb563f38e4049a8ab": {
          "model_module": "@jupyter-widgets/base",
          "model_name": "LayoutModel",
          "state": {
            "_view_name": "LayoutView",
            "grid_template_rows": null,
            "right": null,
            "justify_content": null,
            "_view_module": "@jupyter-widgets/base",
            "overflow": null,
            "_model_module_version": "1.2.0",
            "_view_count": null,
            "flex_flow": null,
            "width": null,
            "min_width": null,
            "border": null,
            "align_items": null,
            "bottom": null,
            "_model_module": "@jupyter-widgets/base",
            "top": null,
            "grid_column": null,
            "overflow_y": null,
            "overflow_x": null,
            "grid_auto_flow": null,
            "grid_area": null,
            "grid_template_columns": null,
            "flex": null,
            "_model_name": "LayoutModel",
            "justify_items": null,
            "grid_row": null,
            "max_height": null,
            "align_content": null,
            "visibility": null,
            "align_self": null,
            "height": null,
            "min_height": null,
            "padding": null,
            "grid_auto_rows": null,
            "grid_gap": null,
            "max_width": null,
            "order": null,
            "_view_module_version": "1.2.0",
            "grid_template_areas": null,
            "object_position": null,
            "object_fit": null,
            "grid_auto_columns": null,
            "margin": null,
            "display": null,
            "left": null
          }
        },
        "c6a41b281aab4b45bb915693c2f23d53": {
          "model_module": "@jupyter-widgets/controls",
          "model_name": "FloatProgressModel",
          "state": {
            "_view_name": "ProgressView",
            "style": "IPY_MODEL_e9ab4661dd4f4f608ebf63e338f5ef1e",
            "_dom_classes": [],
            "description": "100%",
            "_model_name": "FloatProgressModel",
            "bar_style": "success",
            "max": 102502400,
            "_view_module": "@jupyter-widgets/controls",
            "_model_module_version": "1.5.0",
            "value": 102502400,
            "_view_count": null,
            "_view_module_version": "1.5.0",
            "orientation": "horizontal",
            "min": 0,
            "description_tooltip": null,
            "_model_module": "@jupyter-widgets/controls",
            "layout": "IPY_MODEL_03564b1cad2c4b9482ace41a691806fe"
          }
        },
        "c07e620b58f4454b8733c156c736d994": {
          "model_module": "@jupyter-widgets/controls",
          "model_name": "HTMLModel",
          "state": {
            "_view_name": "HTMLView",
            "style": "IPY_MODEL_f09d1a9564d94f96a361b94a6b3d1bfd",
            "_dom_classes": [],
            "description": "",
            "_model_name": "HTMLModel",
            "placeholder": "​",
            "_view_module": "@jupyter-widgets/controls",
            "_model_module_version": "1.5.0",
            "value": " 97.8M/97.8M [00:00&lt;00:00, 149MB/s]",
            "_view_count": null,
            "_view_module_version": "1.5.0",
            "description_tooltip": null,
            "_model_module": "@jupyter-widgets/controls",
            "layout": "IPY_MODEL_7d708952e867400cb89985cbe8a6ea69"
          }
        },
        "e9ab4661dd4f4f608ebf63e338f5ef1e": {
          "model_module": "@jupyter-widgets/controls",
          "model_name": "ProgressStyleModel",
          "state": {
            "_view_name": "StyleView",
            "_model_name": "ProgressStyleModel",
            "description_width": "initial",
            "_view_module": "@jupyter-widgets/base",
            "_model_module_version": "1.5.0",
            "_view_count": null,
            "_view_module_version": "1.2.0",
            "bar_color": null,
            "_model_module": "@jupyter-widgets/controls"
          }
        },
        "03564b1cad2c4b9482ace41a691806fe": {
          "model_module": "@jupyter-widgets/base",
          "model_name": "LayoutModel",
          "state": {
            "_view_name": "LayoutView",
            "grid_template_rows": null,
            "right": null,
            "justify_content": null,
            "_view_module": "@jupyter-widgets/base",
            "overflow": null,
            "_model_module_version": "1.2.0",
            "_view_count": null,
            "flex_flow": null,
            "width": null,
            "min_width": null,
            "border": null,
            "align_items": null,
            "bottom": null,
            "_model_module": "@jupyter-widgets/base",
            "top": null,
            "grid_column": null,
            "overflow_y": null,
            "overflow_x": null,
            "grid_auto_flow": null,
            "grid_area": null,
            "grid_template_columns": null,
            "flex": null,
            "_model_name": "LayoutModel",
            "justify_items": null,
            "grid_row": null,
            "max_height": null,
            "align_content": null,
            "visibility": null,
            "align_self": null,
            "height": null,
            "min_height": null,
            "padding": null,
            "grid_auto_rows": null,
            "grid_gap": null,
            "max_width": null,
            "order": null,
            "_view_module_version": "1.2.0",
            "grid_template_areas": null,
            "object_position": null,
            "object_fit": null,
            "grid_auto_columns": null,
            "margin": null,
            "display": null,
            "left": null
          }
        },
        "f09d1a9564d94f96a361b94a6b3d1bfd": {
          "model_module": "@jupyter-widgets/controls",
          "model_name": "DescriptionStyleModel",
          "state": {
            "_view_name": "StyleView",
            "_model_name": "DescriptionStyleModel",
            "description_width": "",
            "_view_module": "@jupyter-widgets/base",
            "_model_module_version": "1.5.0",
            "_view_count": null,
            "_view_module_version": "1.2.0",
            "_model_module": "@jupyter-widgets/controls"
          }
        },
        "7d708952e867400cb89985cbe8a6ea69": {
          "model_module": "@jupyter-widgets/base",
          "model_name": "LayoutModel",
          "state": {
            "_view_name": "LayoutView",
            "grid_template_rows": null,
            "right": null,
            "justify_content": null,
            "_view_module": "@jupyter-widgets/base",
            "overflow": null,
            "_model_module_version": "1.2.0",
            "_view_count": null,
            "flex_flow": null,
            "width": null,
            "min_width": null,
            "border": null,
            "align_items": null,
            "bottom": null,
            "_model_module": "@jupyter-widgets/base",
            "top": null,
            "grid_column": null,
            "overflow_y": null,
            "overflow_x": null,
            "grid_auto_flow": null,
            "grid_area": null,
            "grid_template_columns": null,
            "flex": null,
            "_model_name": "LayoutModel",
            "justify_items": null,
            "grid_row": null,
            "max_height": null,
            "align_content": null,
            "visibility": null,
            "align_self": null,
            "height": null,
            "min_height": null,
            "padding": null,
            "grid_auto_rows": null,
            "grid_gap": null,
            "max_width": null,
            "order": null,
            "_view_module_version": "1.2.0",
            "grid_template_areas": null,
            "object_position": null,
            "object_fit": null,
            "grid_auto_columns": null,
            "margin": null,
            "display": null,
            "left": null
          }
        }
      }
    }
  },
  "cells": [
    {
      "cell_type": "markdown",
      "metadata": {
        "id": "view-in-github",
        "colab_type": "text"
      },
      "source": [
        "<a href=\"https://colab.research.google.com/github/divsal009/div/blob/master/Multigrade_Braintumor_Classification.ipynb\" target=\"_parent\"><img src=\"https://colab.research.google.com/assets/colab-badge.svg\" alt=\"Open In Colab\"/></a>"
      ]
    },
    {
      "cell_type": "code",
      "metadata": {
        "id": "1bblFz_amJQ4",
        "colab_type": "code",
        "colab": {}
      },
      "source": [
        "import os\n",
        "import PIL\n",
        "import zipfile\n",
        "import numpy as np\n",
        "import pandas as pd\n",
        "import matplotlib.pyplot as plt\n",
        "import pickle\n",
        "import h5py\n",
        "import cv2\n",
        "from google.colab.patches import cv2_imshow\n",
        "%matplotlib inline"
      ],
      "execution_count": 0,
      "outputs": []
    },
    {
      "cell_type": "code",
      "metadata": {
        "id": "6ewz0N4HmVjl",
        "colab_type": "code",
        "outputId": "b42a8d52-a241-45b5-9bff-4c4b83b1ac38",
        "colab": {
          "base_uri": "https://localhost:8080/",
          "height": 124
        }
      },
      "source": [
        "from google.colab import drive\n",
        "drive.mount('/content/drive')"
      ],
      "execution_count": 4,
      "outputs": [
        {
          "output_type": "stream",
          "text": [
            "Go to this URL in a browser: https://accounts.google.com/o/oauth2/auth?client_id=947318989803-6bn6qk8qdgf4n4g3pfee6491hc0brc4i.apps.googleusercontent.com&redirect_uri=urn%3aietf%3awg%3aoauth%3a2.0%3aoob&response_type=code&scope=email%20https%3a%2f%2fwww.googleapis.com%2fauth%2fdocs.test%20https%3a%2f%2fwww.googleapis.com%2fauth%2fdrive%20https%3a%2f%2fwww.googleapis.com%2fauth%2fdrive.photos.readonly%20https%3a%2f%2fwww.googleapis.com%2fauth%2fpeopleapi.readonly\n",
            "\n",
            "Enter your authorization code:\n",
            "··········\n",
            "Mounted at /content/drive\n"
          ],
          "name": "stdout"
        }
      ]
    },
    {
      "cell_type": "code",
      "metadata": {
        "id": "BEOpPEdVmoUX",
        "colab_type": "code",
        "colab": {}
      },
      "source": [
        "if not os.path.exists('/content/drive/My Drive/Colab Notebooks/dataset1'):\n",
        "  os.mkdir('/content/drive/My Drive/Colab Notebooks/dataset1')"
      ],
      "execution_count": 0,
      "outputs": []
    },
    {
      "cell_type": "code",
      "metadata": {
        "id": "H_x5wMU1muZW",
        "colab_type": "code",
        "colab": {}
      },
      "source": [
        "with zipfile.ZipFile('/content/drive/My Drive/Colab Notebooks/dataset1/data.zip') as zf:\n",
        "  zip_dir = zf.namelist()[0]\n",
        "  zf.extractall('/content/drive/My Drive/Colab Notebooks/dataset1')"
      ],
      "execution_count": 0,
      "outputs": []
    },
    {
      "cell_type": "code",
      "metadata": {
        "id": "CA4vV2IBnnBt",
        "colab_type": "code",
        "outputId": "db5ec33e-b791-4d43-d911-ace336e953ca",
        "colab": {
          "base_uri": "https://localhost:8080/",
          "height": 86
        }
      },
      "source": [
        "!ls '/content/drive/My Drive/Colab Notebooks/dataset1/'"
      ],
      "execution_count": 8,
      "outputs": [
        {
          "output_type": "stream",
          "text": [
            "brainTumorDataPublic_1533-2298.zip  cvind.mat\n",
            "brainTumorDataPublic_1-766.zip\t    data.zip\n",
            "brainTumorDataPublic_2299-3064.zip  README.txt\n",
            "brainTumorDataPublic_767-1532.zip\n"
          ],
          "name": "stdout"
        }
      ]
    },
    {
      "cell_type": "code",
      "metadata": {
        "id": "mNXo7pVloAx2",
        "colab_type": "code",
        "outputId": "bd92e484-efc8-475a-fae5-ad1d4cbc09cf",
        "colab": {
          "base_uri": "https://localhost:8080/",
          "height": 606
        }
      },
      "source": [
        "!cat '/content/drive/My Drive/Colab Notebooks/dataset1/README.txt'"
      ],
      "execution_count": 9,
      "outputs": [
        {
          "output_type": "stream",
          "text": [
            "This brain tumor dataset containing 3064 T1-weighted contrast-inhanced images\r\n",
            "from 233 patients with three kinds of brain tumor: meningioma (708 slices), \r\n",
            "glioma (1426 slices), and pituitary tumor (930 slices). Due to the file size\r\n",
            "limit of repository, we split the whole dataset into 4 subsets, and achive \r\n",
            "them in 4 .zip files with each .zip file containing 766 slices.The 5-fold\r\n",
            "cross-validation indices are also provided.\r\n",
            "\r\n",
            "-----\r\n",
            "This data is organized in matlab data format (.mat file). Each file stores a struct\r\n",
            "containing the following fields for an image:\r\n",
            "\r\n",
            "cjdata.label: 1 for meningioma, 2 for glioma, 3 for pituitary tumor\r\n",
            "cjdata.PID: patient ID\r\n",
            "cjdata.image: image data\r\n",
            "cjdata.tumorBorder: a vector storing the coordinates of discrete points on tumor border.\r\n",
            "\t\tFor example, [x1, y1, x2, y2,...] in which x1, y1 are planar coordinates on tumor border.\r\n",
            "\t\tIt was generated by manually delineating the tumor border. So we can use it to generate\r\n",
            "\t\tbinary image of tumor mask.\r\n",
            "cjdata.tumorMask: a binary image with 1s indicating tumor region\r\n",
            "\r\n",
            "-----\r\n",
            "This data was used in the following paper:\r\n",
            "1. Cheng, Jun, et al. \"Enhanced Performance of Brain Tumor Classification via Tumor Region Augmentation\r\n",
            "and Partition.\" PloS one 10.10 (2015).\r\n",
            "2. Cheng, Jun, et al. \"Retrieval of Brain Tumors by Adaptive Spatial Pooling and Fisher Vector \r\n",
            "Representation.\" PloS one 11.6 (2016). Matlab source codes are available on github \r\n",
            "https://github.com/chengjun583/brainTumorRetrieval\r\n",
            "\r\n",
            "-----\r\n",
            "Jun Cheng\r\n",
            "School of Biomedical Engineering\r\n",
            "Southern Medical University, Guangzhou, China\r\n",
            "Email: chengjun583@qq.com\r\n",
            "\r\n"
          ],
          "name": "stdout"
        }
      ]
    },
    {
      "cell_type": "code",
      "metadata": {
        "id": "vqKHwZlmoPcZ",
        "colab_type": "code",
        "colab": {}
      },
      "source": [
        "with zipfile.ZipFile('/content/drive/My Drive/Colab Notebooks/dataset1/brainTumorDataPublic_1-766.zip') as zf:\n",
        "  os.mkdir('/content/drive/My Drive/Colab Notebooks/dataset1/bt_set1')\n",
        "  zip_dir = zf.namelist()[0]\n",
        "  zf.extractall('/content/drive/My Drive/Colab Notebooks/dataset1/bt_set1')"
      ],
      "execution_count": 0,
      "outputs": []
    },
    {
      "cell_type": "code",
      "metadata": {
        "id": "DwpJT3wNoawp",
        "colab_type": "code",
        "colab": {}
      },
      "source": [
        "with zipfile.ZipFile('/content/drive/My Drive/Colab Notebooks/dataset1/brainTumorDataPublic_767-1532.zip') as zf:\n",
        "  os.mkdir('/content/drive/My Drive/Colab Notebooks/dataset1/bt_set2')\n",
        "  zip_dir = zf.namelist()[0]\n",
        "  zf.extractall('/content/drive/My Drive/Colab Notebooks/dataset1/bt_set2')"
      ],
      "execution_count": 0,
      "outputs": []
    },
    {
      "cell_type": "code",
      "metadata": {
        "id": "j25pQW7yonFd",
        "colab_type": "code",
        "colab": {}
      },
      "source": [
        "with zipfile.ZipFile('/content/drive/My Drive/Colab Notebooks/dataset1/brainTumorDataPublic_1533-2298.zip') as zf:\n",
        "  os.mkdir('/content/drive/My Drive/Colab Notebooks/dataset1/bt_set3')\n",
        "  zip_dir = zf.namelist()[0]\n",
        "  zf.extractall('/content/drive/My Drive/Colab Notebooks/dataset1/bt_set3')"
      ],
      "execution_count": 0,
      "outputs": []
    },
    {
      "cell_type": "code",
      "metadata": {
        "id": "qKe-SIQRoxkq",
        "colab_type": "code",
        "colab": {}
      },
      "source": [
        "with zipfile.ZipFile('/content/drive/My Drive/Colab Notebooks/dataset1/brainTumorDataPublic_2299-3064.zip') as zf:\n",
        "  os.mkdir('/content/drive/My Drive/Colab Notebooks/dataset1/bt_set4')\n",
        "  zip_dir = zf.namelist()[0]\n",
        "  zf.extractall('/content/drive/My Drive/Colab Notebooks/dataset1/bt_set4')"
      ],
      "execution_count": 0,
      "outputs": []
    },
    {
      "cell_type": "code",
      "metadata": {
        "id": "BwpzMWnio-G7",
        "colab_type": "code",
        "colab": {}
      },
      "source": [
        "os.mkdir('/content/drive/My Drive/Colab Notebooks/dataset1/imageData')"
      ],
      "execution_count": 0,
      "outputs": []
    },
    {
      "cell_type": "code",
      "metadata": {
        "id": "JsMckgVXpG-G",
        "colab_type": "code",
        "colab": {}
      },
      "source": [
        "!mv /content/drive/'My Drive'/'Colab Notebooks'/dataset1/bt_set1/*.mat '/content/drive/My Drive/Colab Notebooks/dataset1/imageData/'\n",
        "!mv /content/drive/'My Drive'/'Colab Notebooks'/dataset1/bt_set2/*.mat '/content/drive/My Drive/Colab Notebooks/dataset1/imageData/'\n",
        "!mv /content/drive/'My Drive'/'Colab Notebooks'/dataset1/bt_set3/*.mat '/content/drive/My Drive/Colab Notebooks/dataset1/imageData/'\n",
        "!mv /content/drive/'My Drive'/'Colab Notebooks'/dataset1/bt_set4/*.mat '/content/drive/My Drive/Colab Notebooks/dataset1/imageData/'"
      ],
      "execution_count": 0,
      "outputs": []
    },
    {
      "cell_type": "code",
      "metadata": {
        "id": "9FAeQq34pjnq",
        "colab_type": "code",
        "colab": {}
      },
      "source": [
        "arrays = {}\n",
        "img = None"
      ],
      "execution_count": 0,
      "outputs": []
    },
    {
      "cell_type": "code",
      "metadata": {
        "id": "C_rXJYc4pqhn",
        "colab_type": "code",
        "outputId": "c5a4134f-19be-4791-85aa-5fb88d4a89d6",
        "colab": {
          "base_uri": "https://localhost:8080/",
          "height": 790
        }
      },
      "source": [
        "with h5py.File('/content/drive/My Drive/Colab Notebooks/dataset1/imageData/1.mat', 'r') as f:\n",
        "    for key in f.keys():\n",
        "      print(key)\n",
        "    for item in f.items():\n",
        "      print(item)\n",
        "    for key, val in f['cjdata'].items():\n",
        "      print(key, val)\n",
        "    img = f['cjdata']['image']\n",
        "    label = f['cjdata']['label'][0][0]\n",
        "    tumorBorder = f['cjdata']['tumorBorder'][0]\n",
        "    mask = f['cjdata']['tumorMask']\n",
        "    fig = plt.figure(2)\n",
        "    img = np.array(img, dtype=np.float32)\n",
        "    img = img/127.5 - 1\n",
        "    mask = np.array(mask, dtype=np.float32)\n",
        "    mask = mask/127.5 - 1\n",
        "    plt.axis('off')\n",
        "    plt.imshow(img, cmap='gray')\n",
        "    print(\"Image shape: \", img.shape)\n",
        "    print(\"Label\", label)\n",
        "    print(\"Coords: \", tumorBorder)\n",
        "    print(\"Mask shape: \", mask.shape)\n",
        "    fig = plt.figure(3)\n",
        "    plt.axis('off')\n",
        "    plt.imshow(mask, cmap='gray')"
      ],
      "execution_count": 17,
      "outputs": [
        {
          "output_type": "stream",
          "text": [
            "cjdata\n",
            "('cjdata', <HDF5 group \"/cjdata\" (5 members)>)\n",
            "PID <HDF5 dataset \"PID\": shape (6, 1), type \"<u2\">\n",
            "image <HDF5 dataset \"image\": shape (512, 512), type \"<i2\">\n",
            "label <HDF5 dataset \"label\": shape (1, 1), type \"<f8\">\n",
            "tumorBorder <HDF5 dataset \"tumorBorder\": shape (1, 38), type \"<f8\">\n",
            "tumorMask <HDF5 dataset \"tumorMask\": shape (512, 512), type \"|u1\">\n",
            "Image shape:  (512, 512)\n",
            "Label 1.0\n",
            "Coords:  [267.61524501 231.37568058 277.83666062 248.10163339 289.91651543\n",
            " 250.8892922  305.71324864 253.676951   318.72232305 249.9600726\n",
            " 321.50998185 237.88021779 354.96188748 234.16333938 367.97096189\n",
            " 227.65880218 380.9800363  210.93284936 372.61705989 195.13611615\n",
            " 363.32486388 177.48094374 350.31578947 176.55172414 336.37749546\n",
            " 183.98548094 317.79310345 196.06533575 305.71324864 207.21597096\n",
            " 295.49183303 217.43738657 288.98729583 222.08348457 273.19056261\n",
            " 223.94192377 268.54446461 228.58802178]\n",
            "Mask shape:  (512, 512)\n"
          ],
          "name": "stdout"
        },
        {
          "output_type": "display_data",
          "data": {
            "image/png": "[encoded data removed]",
            "text/plain": [
              "<Figure size 432x288 with 1 Axes>"
            ]
          },
          "metadata": {
            "tags": [],
            "needs_background": "light"
          }
        },
        {
          "output_type": "display_data",
          "data": {
            "image/png": "[encoded data removed]",
            "text/plain": [
              "<Figure size 432x288 with 1 Axes>"
            ]
          },
          "metadata": {
            "tags": [],
            "needs_background": "light"
          }
        }
      ]
    },
    {
      "cell_type": "code",
      "metadata": {
        "id": "lf1GHBkapzJz",
        "colab_type": "code",
        "colab": {}
      },
      "source": [
        "os.mkdir('/content/drive/My Drive/Colab Notebooks/new_dataset')\n",
        "os.mkdir('/content/drive/My Drive/Colab Notebooks/new_dataset/bt_images')"
      ],
      "execution_count": 0,
      "outputs": []
    },
    {
      "cell_type": "code",
      "metadata": {
        "id": "BEIITLK8p8hQ",
        "colab_type": "code",
        "colab": {}
      },
      "source": [
        "labels = []"
      ],
      "execution_count": 0,
      "outputs": []
    },
    {
      "cell_type": "code",
      "metadata": {
        "id": "ocTeCB1mq28-",
        "colab_type": "code",
        "colab": {}
      },
      "source": [
        "from openpyxl.styles import Border, Side"
      ],
      "execution_count": 0,
      "outputs": []
    },
    {
      "cell_type": "code",
      "metadata": {
        "id": "qU6e7Bi4qE95",
        "colab_type": "code",
        "outputId": "34147400-e4af-40d4-c3e6-faa5e37647fb",
        "colab": {
          "base_uri": "https://localhost:8080/",
          "height": 265
        }
      },
      "source": [
        "filename = None\n",
        "\n",
        "for filename in range(1, 3065):\n",
        "  with h5py.File('/content/drive/My Drive/Colab Notebooks/dataset1/imageData/{}.mat'.format(filename), 'r') as f:\n",
        "      img = f['cjdata']['image']\n",
        "      label = f['cjdata']['label'][0][0]\n",
        "     \n",
        "     \n",
        "      labels.append(int(label))\n",
        "      \n",
        "     # border.append(coord)\n",
        "      img = np.array(img, dtype=np.float32)\n",
        "      \n",
        "      plt.axis('off')\n",
        "      plt.imsave(\"/content/drive/My Drive/Colab Notebooks/new_dataset/bt_images/{}.jpg\".format(filename), img, cmap='gray')\n",
        "      \n",
        "      \n",
        "print(\"{} files successfully saved\".format(filename))"
      ],
      "execution_count": 21,
      "outputs": [
        {
          "output_type": "stream",
          "text": [
            "3064 files successfully saved\n"
          ],
          "name": "stdout"
        },
        {
          "output_type": "display_data",
          "data": {
            "image/png": "[encoded data removed]",
            "text/plain": [
              "<Figure size 432x288 with 1 Axes>"
            ]
          },
          "metadata": {
            "tags": [],
            "needs_background": "light"
          }
        }
      ]
    },
    {
      "cell_type": "code",
      "metadata": {
        "id": "j0kZ5_tXw2m4",
        "colab_type": "code",
        "colab": {}
      },
      "source": [
        "label_names = np.array(labels, dtype=np.int64)"
      ],
      "execution_count": 0,
      "outputs": []
    },
    {
      "cell_type": "code",
      "metadata": {
        "id": "V_2XA-kVxDdu",
        "colab_type": "code",
        "outputId": "e20dd7db-4e0b-439e-a339-05de4b83fada",
        "colab": {
          "base_uri": "https://localhost:8080/",
          "height": 34
        }
      },
      "source": [
        "label_names.shape"
      ],
      "execution_count": 23,
      "outputs": [
        {
          "output_type": "execute_result",
          "data": {
            "text/plain": [
              "(3064,)"
            ]
          },
          "metadata": {
            "tags": []
          },
          "execution_count": 23
        }
      ]
    },
    {
      "cell_type": "code",
      "metadata": {
        "id": "M3B6lVohxSH-",
        "colab_type": "code",
        "colab": {}
      },
      "source": [
        "pickle_out = open(\"/content/drive/My Drive/Colab Notebooks/new_dataset/labels.pickle\",\"wb\")                    \n",
        "pickle.dump(label_names, pickle_out)\n",
        "pickle_out.close()"
      ],
      "execution_count": 0,
      "outputs": []
    },
    {
      "cell_type": "code",
      "metadata": {
        "id": "Mr7iF2XyxV3o",
        "colab_type": "code",
        "colab": {}
      },
      "source": [
        "training_data = []\n",
        "img = None\n",
        "label = None\n",
        "i = None"
      ],
      "execution_count": 0,
      "outputs": []
    },
    {
      "cell_type": "code",
      "metadata": {
        "id": "GMSqfgPzxbh9",
        "colab_type": "code",
        "outputId": "4d236b3f-d38a-4dff-ecd0-067e4d879b8f",
        "colab": {
          "base_uri": "https://localhost:8080/",
          "height": 34
        }
      },
      "source": [
        "for i in range(1, 3065):\n",
        "  img = cv2.imread(\"/content/drive/My Drive/Colab Notebooks/new_dataset/bt_images/{}.jpg\".format(i), cv2.IMREAD_GRAYSCALE)\n",
        "  img = cv2.cvtColor(img, cv2.COLOR_GRAY2RGB)\n",
        "  img = cv2.resize(img, (512, 512))\n",
        "  label = labels[i-1]\n",
        "  training_data.append([img, label])\n",
        "\n",
        "print(\"shape: {} label: {} | {} samples successfully preprocessed\".format(img.shape, label, i))\n",
        "\n",
        "pickle_out = open(\"/content/drive/My Drive/Colab Notebooks/new_dataset/training_data.pickle\",\"wb\")                    \n",
        "pickle.dump(training_data, pickle_out)\n",
        "pickle_out.close()"
      ],
      "execution_count": 26,
      "outputs": [
        {
          "output_type": "stream",
          "text": [
            "shape: (512, 512, 3) label: 1 | 3064 samples successfully preprocessed\n"
          ],
          "name": "stdout"
        }
      ]
    },
    {
      "cell_type": "markdown",
      "metadata": {
        "id": "ZHSLZFRGOPGS",
        "colab_type": "text"
      },
      "source": [
        "####################################BRAIN TUMOR#################################################################################"
      ]
    },
    {
      "cell_type": "code",
      "metadata": {
        "id": "64CrcWuOONuV",
        "colab_type": "code",
        "colab": {
          "base_uri": "https://localhost:8080/",
          "height": 72
        },
        "outputId": "34053d10-8642-4968-ba67-59b011b97212"
      },
      "source": [
        "import torch\n",
        "import torch.nn as nn\n",
        "import torch.nn.functional as F\n",
        "from torch.utils.data import DataLoader, Dataset\n",
        "from torchvision import transforms, models\n",
        "import os\n",
        "import random\n",
        "import numpy as np\n",
        "import pandas as pd\n",
        "import pickle\n",
        "import time\n",
        "import matplotlib.pyplot as plt\n",
        "import seaborn as sns\n",
        "from sklearn.model_selection import train_test_split\n",
        "from sklearn.metrics import confusion_matrix, classification_report, jaccard_similarity_score\n",
        "from google.colab import drive"
      ],
      "execution_count": 27,
      "outputs": [
        {
          "output_type": "stream",
          "text": [
            "/usr/local/lib/python3.6/dist-packages/statsmodels/tools/_testing.py:19: FutureWarning: pandas.util.testing is deprecated. Use the functions in the public API at pandas.testing instead.\n",
            "  import pandas.util.testing as tm\n"
          ],
          "name": "stderr"
        }
      ]
    },
    {
      "cell_type": "code",
      "metadata": {
        "id": "YYz7QDZmOONl",
        "colab_type": "code",
        "colab": {}
      },
      "source": [
        "torch.cuda.empty_cache()"
      ],
      "execution_count": 0,
      "outputs": []
    },
    {
      "cell_type": "code",
      "metadata": {
        "id": "SlwQ5MjOOOK1",
        "colab_type": "code",
        "colab": {}
      },
      "source": [
        "class BrainTumorDataset(Dataset):\n",
        "  def __init__(self, images, labels):\n",
        "    # images\n",
        "    self.X = images\n",
        "    # labels\n",
        "    self.y = labels\n",
        "    \n",
        "    # Transformation for converting original image array to an image and then convert it to a tensor\n",
        "    self.transform = transforms.Compose([transforms.ToPILImage(),\n",
        "        transforms.ToTensor()\n",
        "    ])\n",
        "\n",
        "    # Transformation for converting original image array to an image, rotate it randomly between -45 degrees and 45 degrees, and then convert it to a tensor\n",
        "    self.transform1 = transforms.Compose([\n",
        "        transforms.ToPILImage(),                                          \n",
        "        transforms.RandomRotation(45),\n",
        "        transforms.ToTensor()                                  \n",
        "    ])\n",
        "\n",
        "    # Transformation for converting original image array to an image, rotate it randomly between -90 degrees and 90 degrees, and then convert it to a tensor\n",
        "    self.transform2 = transforms.Compose([\n",
        "        transforms.ToPILImage(),\n",
        "        transforms.RandomRotation(90),\n",
        "        transforms.ToTensor()                                  \n",
        "    ])\n",
        "\n",
        "    # Transformation for converting original image array to an image, rotate it randomly between -120 degrees and 120 degrees, and then convert it to a tensor\n",
        "    self.transform3 = transforms.Compose([\n",
        "        transforms.ToPILImage(),\n",
        "        transforms.RandomRotation(120),\n",
        "        transforms.ToTensor()                                  \n",
        "    ])\n",
        "\n",
        "    # Transformation for converting original image array to an image, rotate it randomly between -180 degrees and 180 degrees, and then convert it to a tensor\n",
        "    self.transform4 = transforms.Compose([\n",
        "        transforms.ToPILImage(),\n",
        "        transforms.RandomRotation(180),\n",
        "        transforms.ToTensor()                                  \n",
        "    ])\n",
        "\n",
        "    # Transformation for converting original image array to an image, rotate it randomly between -270 degrees and 270 degrees, and then convert it to a tensor\n",
        "    self.transform5 = transforms.Compose([\n",
        "        transforms.ToPILImage(),\n",
        "        transforms.RandomRotation(270),\n",
        "        transforms.ToTensor()                                  \n",
        "    ])\n",
        "\n",
        "    # Transformation for converting original image array to an image, rotate it randomly between -300 degrees and 300 degrees, and then convert it to a tensor\n",
        "    self.transform6 = transforms.Compose([\n",
        "        transforms.ToPILImage(),\n",
        "        transforms.RandomRotation(300),\n",
        "        transforms.ToTensor()                                  \n",
        "    ])\n",
        "\n",
        "    # Transformation for converting original image array to an image, rotate it randomly between -330 degrees and 330 degrees, and then convert it to a tensor\n",
        "    self.transform7 = transforms.Compose([\n",
        "        transforms.ToPILImage(),\n",
        "        transforms.RandomRotation(330),\n",
        "        transforms.ToTensor()                                  \n",
        "    ])\n",
        "\n",
        "  def __len__(self):\n",
        "    # return length of image samples\n",
        "    return len(self.X)\n",
        "\n",
        "  def __getitem__(self, idx):\n",
        "    # perform transformations on one instance of X\n",
        "    # Original image as a tensor\n",
        "    data = self.transform(self.X[idx])\n",
        "\n",
        "    # Augmented image at 45 degrees as a tensor\n",
        "    aug45 = self.transform1(self.X[idx])\n",
        "\n",
        "    # Augmented image at 90 degrees as a tensor\n",
        "    aug90 = self.transform2(self.X[idx])\n",
        "\n",
        "    # Augmented image at 120 degrees as a tensor\n",
        "    aug120 = self.transform3(self.X[idx])\n",
        "\n",
        "    # Augmented image at 180 degrees as a tensor\n",
        "    aug180 = self.transform4(self.X[idx])\n",
        "\n",
        "    # Augmented image at 270 degrees as a tensor\n",
        "    aug270 = self.transform5(self.X[idx])\n",
        "\n",
        "    # Augmented image at 300 degrees as a tensor\n",
        "    aug300 = self.transform6(self.X[idx])\n",
        "\n",
        "    # Augmented image at 330 degrees as a tensor\n",
        "    aug330 = self.transform7(self.X[idx])      \n",
        "    \n",
        "    # store the transformed images in a list\n",
        "    new_batch = [data, aug45, aug90, aug120, aug180, aug270, aug300, aug330]\n",
        "\n",
        "    # convert labels to the format output by our classifier\n",
        "    # 1, 2, 3 = 0, 1, 2\n",
        "    # store the network's understandable label as a tensor\n",
        "    labels = torch.tensor((self.y[idx]-1))\n",
        "\n",
        "    # return the label and list of augmented images a tuple\n",
        "    # 8 augmented images per sample will be returned\n",
        "    return (labels, new_batch)"
      ],
      "execution_count": 0,
      "outputs": []
    },
    {
      "cell_type": "code",
      "metadata": {
        "id": "CWPMiL-bO5M4",
        "colab_type": "code",
        "colab": {}
      },
      "source": [
        "training_data = pickle.load(open('/content/drive/My Drive/Colab Notebooks/new_dataset/training_data.pickle', 'rb'))"
      ],
      "execution_count": 0,
      "outputs": []
    },
    {
      "cell_type": "code",
      "metadata": {
        "id": "JqgiIEzzO7gt",
        "colab_type": "code",
        "colab": {}
      },
      "source": [
        "Xt = []\n",
        "yt = []\n",
        "features = None\n",
        "labels = None\n",
        "label = []"
      ],
      "execution_count": 0,
      "outputs": []
    },
    {
      "cell_type": "code",
      "metadata": {
        "id": "GGiDEKjoO7ce",
        "colab_type": "code",
        "colab": {}
      },
      "source": [
        "for features,labels in training_data:\n",
        "  Xt.append(features)\n",
        "  yt.append(labels)"
      ],
      "execution_count": 0,
      "outputs": []
    },
    {
      "cell_type": "code",
      "metadata": {
        "id": "caUCpgMcO7ae",
        "colab_type": "code",
        "colab": {}
      },
      "source": [
        "# 70 % training, 15% validating, 15% testing\n",
        "random.seed(51)\n",
        "X_train, X_test, y_train, y_test = train_test_split(Xt, yt, test_size=0.3, shuffle=True, random_state=33)  # 70% training, 30% testing\n",
        "X_valid, X_test, y_valid, y_test = train_test_split(X_test, y_test, test_size=0.5, shuffle=True, random_state=33)  # split testing set into 50% validation , 50% testing"
      ],
      "execution_count": 0,
      "outputs": []
    },
    {
      "cell_type": "code",
      "metadata": {
        "id": "xi1R76AVO7Xs",
        "colab_type": "code",
        "colab": {}
      },
      "source": [
        "Xt = None\n",
        "yt = None\n",
        "features = None\n",
        "labels = None\n",
        "label = None\n",
        "training_data = None"
      ],
      "execution_count": 0,
      "outputs": []
    },
    {
      "cell_type": "code",
      "metadata": {
        "id": "CLmgU7d1O7VR",
        "colab_type": "code",
        "colab": {}
      },
      "source": [
        "train_set = BrainTumorDataset(X_train, y_train)\n",
        "valid_set = BrainTumorDataset(X_valid, y_valid)\n",
        "test_set = BrainTumorDataset(X_test, y_test)"
      ],
      "execution_count": 0,
      "outputs": []
    },
    {
      "cell_type": "code",
      "metadata": {
        "id": "ukLwIXruOOHx",
        "colab_type": "code",
        "colab": {
          "base_uri": "https://localhost:8080/",
          "height": 69
        },
        "outputId": "f15db9fc-4ccc-4fae-8067-54e3327aa817"
      },
      "source": [
        "print(f\"Number of training samples: {len(X_train)}\")\n",
        "print(f\"Number of validation samples: {len(X_valid)}\")\n",
        "print(f\"Number of testing samples: {len(X_test)}\")"
      ],
      "execution_count": 36,
      "outputs": [
        {
          "output_type": "stream",
          "text": [
            "Number of training samples: 2144\n",
            "Number of validation samples: 460\n",
            "Number of testing samples: 460\n"
          ],
          "name": "stdout"
        }
      ]
    },
    {
      "cell_type": "code",
      "metadata": {
        "id": "P9R5dnxqPWo6",
        "colab_type": "code",
        "colab": {
          "base_uri": "https://localhost:8080/",
          "height": 69
        },
        "outputId": "45c9c637-fa26-40f9-9a78-5f92a50dcaed"
      },
      "source": [
        "print(f\"Number of augmented training samples: {len(X_train) * 8}\")\n",
        "print(f\"Number of augmented validation samples: {len(X_valid)* 8}\")\n",
        "print(f\"Number of augmented testing samples: {len(X_test)* 8}\")"
      ],
      "execution_count": 37,
      "outputs": [
        {
          "output_type": "stream",
          "text": [
            "Number of augmented training samples: 17152\n",
            "Number of augmented validation samples: 3680\n",
            "Number of augmented testing samples: 3680\n"
          ],
          "name": "stdout"
        }
      ]
    },
    {
      "cell_type": "code",
      "metadata": {
        "id": "GfbglYG9PbDh",
        "colab_type": "code",
        "colab": {}
      },
      "source": [
        "train_gen = DataLoader(train_set, batch_size=4, shuffle=True, pin_memory=True, num_workers=8)\n",
        "valid_gen = DataLoader(valid_set, batch_size=4, shuffle=True, pin_memory=True, num_workers=8)\n",
        "test_gen = DataLoader(test_set, batch_size=10, shuffle=True, pin_memory=True, num_workers=8)"
      ],
      "execution_count": 0,
      "outputs": []
    },
    {
      "cell_type": "code",
      "metadata": {
        "id": "uP7C1m55Pdub",
        "colab_type": "code",
        "colab": {}
      },
      "source": [
        "device_name = \"cuda:0:\" if torch.cuda.is_available() else \"cpu\"\n",
        "device = torch.device(device_name)"
      ],
      "execution_count": 0,
      "outputs": []
    },
    {
      "cell_type": "code",
      "metadata": {
        "id": "R5p8JUYFPhSn",
        "colab_type": "code",
        "colab": {
          "base_uri": "https://localhost:8080/",
          "height": 1000,
          "referenced_widgets": [
            "2acce3c3e0174db4b521c44e709105c5",
            "bf41f561ddfb4c5eb563f38e4049a8ab",
            "c6a41b281aab4b45bb915693c2f23d53",
            "c07e620b58f4454b8733c156c736d994",
            "e9ab4661dd4f4f608ebf63e338f5ef1e",
            "03564b1cad2c4b9482ace41a691806fe",
            "f09d1a9564d94f96a361b94a6b3d1bfd",
            "7d708952e867400cb89985cbe8a6ea69"
          ]
        },
        "outputId": "94d819b5-c416-4783-e392-66374dd9d919"
      },
      "source": [
        "# instantiate transfer learning model\n",
        "resnet_model = models.resnet50(pretrained=True)\n",
        "\n",
        "# set all paramters as trainable\n",
        "for param in resnet_model.parameters():\n",
        "    param.requires_grad = True\n",
        "\n",
        "# get input of fc layer\n",
        "n_inputs = resnet_model.fc.in_features\n",
        "\n",
        "# redefine fc layer / top layer/ head for our classification problem\n",
        "resnet_model.fc = nn.Sequential(nn.Linear(n_inputs, 2048),\n",
        "                                nn.LeakyReLU(negative_slope=0.2),\n",
        "                                nn.Dropout(p=0.4),\n",
        "                                nn.Linear(2048, 2048),\n",
        "                                nn.LeakyReLU(negative_slope=0.2),\n",
        "                                nn.Dropout(p=0.4),\n",
        "                                nn.Linear(2048, 3),\n",
        "                                nn.LogSoftmax(dim=1))\n",
        "\n",
        "# set all paramters of the model as trainable\n",
        "for name, child in resnet_model.named_children():\n",
        "  for name2, params in child.named_parameters():\n",
        "    params.requires_grad = True\n",
        "\n",
        "# set model to run on GPU or CPU absed on availibility\n",
        "resnet_model.to(device)\n",
        "\n",
        "# print the trasnfer learning NN model's architecture\n",
        "resnet_model"
      ],
      "execution_count": 40,
      "outputs": [
        {
          "output_type": "stream",
          "text": [
            "Downloading: \"https://download.pytorch.org/models/resnet50-19c8e357.pth\" to /root/.cache/torch/checkpoints/resnet50-19c8e357.pth\n"
          ],
          "name": "stderr"
        },
        {
          "output_type": "display_data",
          "data": {
            "application/vnd.jupyter.widget-view+json": {
              "model_id": "2acce3c3e0174db4b521c44e709105c5",
              "version_minor": 0,
              "version_major": 2
            },
            "text/plain": [
              "HBox(children=(FloatProgress(value=0.0, max=102502400.0), HTML(value='')))"
            ]
          },
          "metadata": {
            "tags": []
          }
        },
        {
          "output_type": "stream",
          "text": [
            "\n"
          ],
          "name": "stdout"
        },
        {
          "output_type": "execute_result",
          "data": {
            "text/plain": [
              "ResNet(\n",
              "  (conv1): Conv2d(3, 64, kernel_size=(7, 7), stride=(2, 2), padding=(3, 3), bias=False)\n",
              "  (bn1): BatchNorm2d(64, eps=1e-05, momentum=0.1, affine=True, track_running_stats=True)\n",
              "  (relu): ReLU(inplace=True)\n",
              "  (maxpool): MaxPool2d(kernel_size=3, stride=2, padding=1, dilation=1, ceil_mode=False)\n",
              "  (layer1): Sequential(\n",
              "    (0): Bottleneck(\n",
              "      (conv1): Conv2d(64, 64, kernel_size=(1, 1), stride=(1, 1), bias=False)\n",
              "      (bn1): BatchNorm2d(64, eps=1e-05, momentum=0.1, affine=True, track_running_stats=True)\n",
              "      (conv2): Conv2d(64, 64, kernel_size=(3, 3), stride=(1, 1), padding=(1, 1), bias=False)\n",
              "      (bn2): BatchNorm2d(64, eps=1e-05, momentum=0.1, affine=True, track_running_stats=True)\n",
              "      (conv3): Conv2d(64, 256, kernel_size=(1, 1), stride=(1, 1), bias=False)\n",
              "      (bn3): BatchNorm2d(256, eps=1e-05, momentum=0.1, affine=True, track_running_stats=True)\n",
              "      (relu): ReLU(inplace=True)\n",
              "      (downsample): Sequential(\n",
              "        (0): Conv2d(64, 256, kernel_size=(1, 1), stride=(1, 1), bias=False)\n",
              "        (1): BatchNorm2d(256, eps=1e-05, momentum=0.1, affine=True, track_running_stats=True)\n",
              "      )\n",
              "    )\n",
              "    (1): Bottleneck(\n",
              "      (conv1): Conv2d(256, 64, kernel_size=(1, 1), stride=(1, 1), bias=False)\n",
              "      (bn1): BatchNorm2d(64, eps=1e-05, momentum=0.1, affine=True, track_running_stats=True)\n",
              "      (conv2): Conv2d(64, 64, kernel_size=(3, 3), stride=(1, 1), padding=(1, 1), bias=False)\n",
              "      (bn2): BatchNorm2d(64, eps=1e-05, momentum=0.1, affine=True, track_running_stats=True)\n",
              "      (conv3): Conv2d(64, 256, kernel_size=(1, 1), stride=(1, 1), bias=False)\n",
              "      (bn3): BatchNorm2d(256, eps=1e-05, momentum=0.1, affine=True, track_running_stats=True)\n",
              "      (relu): ReLU(inplace=True)\n",
              "    )\n",
              "    (2): Bottleneck(\n",
              "      (conv1): Conv2d(256, 64, kernel_size=(1, 1), stride=(1, 1), bias=False)\n",
              "      (bn1): BatchNorm2d(64, eps=1e-05, momentum=0.1, affine=True, track_running_stats=True)\n",
              "      (conv2): Conv2d(64, 64, kernel_size=(3, 3), stride=(1, 1), padding=(1, 1), bias=False)\n",
              "      (bn2): BatchNorm2d(64, eps=1e-05, momentum=0.1, affine=True, track_running_stats=True)\n",
              "      (conv3): Conv2d(64, 256, kernel_size=(1, 1), stride=(1, 1), bias=False)\n",
              "      (bn3): BatchNorm2d(256, eps=1e-05, momentum=0.1, affine=True, track_running_stats=True)\n",
              "      (relu): ReLU(inplace=True)\n",
              "    )\n",
              "  )\n",
              "  (layer2): Sequential(\n",
              "    (0): Bottleneck(\n",
              "      (conv1): Conv2d(256, 128, kernel_size=(1, 1), stride=(1, 1), bias=False)\n",
              "      (bn1): BatchNorm2d(128, eps=1e-05, momentum=0.1, affine=True, track_running_stats=True)\n",
              "      (conv2): Conv2d(128, 128, kernel_size=(3, 3), stride=(2, 2), padding=(1, 1), bias=False)\n",
              "      (bn2): BatchNorm2d(128, eps=1e-05, momentum=0.1, affine=True, track_running_stats=True)\n",
              "      (conv3): Conv2d(128, 512, kernel_size=(1, 1), stride=(1, 1), bias=False)\n",
              "      (bn3): BatchNorm2d(512, eps=1e-05, momentum=0.1, affine=True, track_running_stats=True)\n",
              "      (relu): ReLU(inplace=True)\n",
              "      (downsample): Sequential(\n",
              "        (0): Conv2d(256, 512, kernel_size=(1, 1), stride=(2, 2), bias=False)\n",
              "        (1): BatchNorm2d(512, eps=1e-05, momentum=0.1, affine=True, track_running_stats=True)\n",
              "      )\n",
              "    )\n",
              "    (1): Bottleneck(\n",
              "      (conv1): Conv2d(512, 128, kernel_size=(1, 1), stride=(1, 1), bias=False)\n",
              "      (bn1): BatchNorm2d(128, eps=1e-05, momentum=0.1, affine=True, track_running_stats=True)\n",
              "      (conv2): Conv2d(128, 128, kernel_size=(3, 3), stride=(1, 1), padding=(1, 1), bias=False)\n",
              "      (bn2): BatchNorm2d(128, eps=1e-05, momentum=0.1, affine=True, track_running_stats=True)\n",
              "      (conv3): Conv2d(128, 512, kernel_size=(1, 1), stride=(1, 1), bias=False)\n",
              "      (bn3): BatchNorm2d(512, eps=1e-05, momentum=0.1, affine=True, track_running_stats=True)\n",
              "      (relu): ReLU(inplace=True)\n",
              "    )\n",
              "    (2): Bottleneck(\n",
              "      (conv1): Conv2d(512, 128, kernel_size=(1, 1), stride=(1, 1), bias=False)\n",
              "      (bn1): BatchNorm2d(128, eps=1e-05, momentum=0.1, affine=True, track_running_stats=True)\n",
              "      (conv2): Conv2d(128, 128, kernel_size=(3, 3), stride=(1, 1), padding=(1, 1), bias=False)\n",
              "      (bn2): BatchNorm2d(128, eps=1e-05, momentum=0.1, affine=True, track_running_stats=True)\n",
              "      (conv3): Conv2d(128, 512, kernel_size=(1, 1), stride=(1, 1), bias=False)\n",
              "      (bn3): BatchNorm2d(512, eps=1e-05, momentum=0.1, affine=True, track_running_stats=True)\n",
              "      (relu): ReLU(inplace=True)\n",
              "    )\n",
              "    (3): Bottleneck(\n",
              "      (conv1): Conv2d(512, 128, kernel_size=(1, 1), stride=(1, 1), bias=False)\n",
              "      (bn1): BatchNorm2d(128, eps=1e-05, momentum=0.1, affine=True, track_running_stats=True)\n",
              "      (conv2): Conv2d(128, 128, kernel_size=(3, 3), stride=(1, 1), padding=(1, 1), bias=False)\n",
              "      (bn2): BatchNorm2d(128, eps=1e-05, momentum=0.1, affine=True, track_running_stats=True)\n",
              "      (conv3): Conv2d(128, 512, kernel_size=(1, 1), stride=(1, 1), bias=False)\n",
              "      (bn3): BatchNorm2d(512, eps=1e-05, momentum=0.1, affine=True, track_running_stats=True)\n",
              "      (relu): ReLU(inplace=True)\n",
              "    )\n",
              "  )\n",
              "  (layer3): Sequential(\n",
              "    (0): Bottleneck(\n",
              "      (conv1): Conv2d(512, 256, kernel_size=(1, 1), stride=(1, 1), bias=False)\n",
              "      (bn1): BatchNorm2d(256, eps=1e-05, momentum=0.1, affine=True, track_running_stats=True)\n",
              "      (conv2): Conv2d(256, 256, kernel_size=(3, 3), stride=(2, 2), padding=(1, 1), bias=False)\n",
              "      (bn2): BatchNorm2d(256, eps=1e-05, momentum=0.1, affine=True, track_running_stats=True)\n",
              "      (conv3): Conv2d(256, 1024, kernel_size=(1, 1), stride=(1, 1), bias=False)\n",
              "      (bn3): BatchNorm2d(1024, eps=1e-05, momentum=0.1, affine=True, track_running_stats=True)\n",
              "      (relu): ReLU(inplace=True)\n",
              "      (downsample): Sequential(\n",
              "        (0): Conv2d(512, 1024, kernel_size=(1, 1), stride=(2, 2), bias=False)\n",
              "        (1): BatchNorm2d(1024, eps=1e-05, momentum=0.1, affine=True, track_running_stats=True)\n",
              "      )\n",
              "    )\n",
              "    (1): Bottleneck(\n",
              "      (conv1): Conv2d(1024, 256, kernel_size=(1, 1), stride=(1, 1), bias=False)\n",
              "      (bn1): BatchNorm2d(256, eps=1e-05, momentum=0.1, affine=True, track_running_stats=True)\n",
              "      (conv2): Conv2d(256, 256, kernel_size=(3, 3), stride=(1, 1), padding=(1, 1), bias=False)\n",
              "      (bn2): BatchNorm2d(256, eps=1e-05, momentum=0.1, affine=True, track_running_stats=True)\n",
              "      (conv3): Conv2d(256, 1024, kernel_size=(1, 1), stride=(1, 1), bias=False)\n",
              "      (bn3): BatchNorm2d(1024, eps=1e-05, momentum=0.1, affine=True, track_running_stats=True)\n",
              "      (relu): ReLU(inplace=True)\n",
              "    )\n",
              "    (2): Bottleneck(\n",
              "      (conv1): Conv2d(1024, 256, kernel_size=(1, 1), stride=(1, 1), bias=False)\n",
              "      (bn1): BatchNorm2d(256, eps=1e-05, momentum=0.1, affine=True, track_running_stats=True)\n",
              "      (conv2): Conv2d(256, 256, kernel_size=(3, 3), stride=(1, 1), padding=(1, 1), bias=False)\n",
              "      (bn2): BatchNorm2d(256, eps=1e-05, momentum=0.1, affine=True, track_running_stats=True)\n",
              "      (conv3): Conv2d(256, 1024, kernel_size=(1, 1), stride=(1, 1), bias=False)\n",
              "      (bn3): BatchNorm2d(1024, eps=1e-05, momentum=0.1, affine=True, track_running_stats=True)\n",
              "      (relu): ReLU(inplace=True)\n",
              "    )\n",
              "    (3): Bottleneck(\n",
              "      (conv1): Conv2d(1024, 256, kernel_size=(1, 1), stride=(1, 1), bias=False)\n",
              "      (bn1): BatchNorm2d(256, eps=1e-05, momentum=0.1, affine=True, track_running_stats=True)\n",
              "      (conv2): Conv2d(256, 256, kernel_size=(3, 3), stride=(1, 1), padding=(1, 1), bias=False)\n",
              "      (bn2): BatchNorm2d(256, eps=1e-05, momentum=0.1, affine=True, track_running_stats=True)\n",
              "      (conv3): Conv2d(256, 1024, kernel_size=(1, 1), stride=(1, 1), bias=False)\n",
              "      (bn3): BatchNorm2d(1024, eps=1e-05, momentum=0.1, affine=True, track_running_stats=True)\n",
              "      (relu): ReLU(inplace=True)\n",
              "    )\n",
              "    (4): Bottleneck(\n",
              "      (conv1): Conv2d(1024, 256, kernel_size=(1, 1), stride=(1, 1), bias=False)\n",
              "      (bn1): BatchNorm2d(256, eps=1e-05, momentum=0.1, affine=True, track_running_stats=True)\n",
              "      (conv2): Conv2d(256, 256, kernel_size=(3, 3), stride=(1, 1), padding=(1, 1), bias=False)\n",
              "      (bn2): BatchNorm2d(256, eps=1e-05, momentum=0.1, affine=True, track_running_stats=True)\n",
              "      (conv3): Conv2d(256, 1024, kernel_size=(1, 1), stride=(1, 1), bias=False)\n",
              "      (bn3): BatchNorm2d(1024, eps=1e-05, momentum=0.1, affine=True, track_running_stats=True)\n",
              "      (relu): ReLU(inplace=True)\n",
              "    )\n",
              "    (5): Bottleneck(\n",
              "      (conv1): Conv2d(1024, 256, kernel_size=(1, 1), stride=(1, 1), bias=False)\n",
              "      (bn1): BatchNorm2d(256, eps=1e-05, momentum=0.1, affine=True, track_running_stats=True)\n",
              "      (conv2): Conv2d(256, 256, kernel_size=(3, 3), stride=(1, 1), padding=(1, 1), bias=False)\n",
              "      (bn2): BatchNorm2d(256, eps=1e-05, momentum=0.1, affine=True, track_running_stats=True)\n",
              "      (conv3): Conv2d(256, 1024, kernel_size=(1, 1), stride=(1, 1), bias=False)\n",
              "      (bn3): BatchNorm2d(1024, eps=1e-05, momentum=0.1, affine=True, track_running_stats=True)\n",
              "      (relu): ReLU(inplace=True)\n",
              "    )\n",
              "  )\n",
              "  (layer4): Sequential(\n",
              "    (0): Bottleneck(\n",
              "      (conv1): Conv2d(1024, 512, kernel_size=(1, 1), stride=(1, 1), bias=False)\n",
              "      (bn1): BatchNorm2d(512, eps=1e-05, momentum=0.1, affine=True, track_running_stats=True)\n",
              "      (conv2): Conv2d(512, 512, kernel_size=(3, 3), stride=(2, 2), padding=(1, 1), bias=False)\n",
              "      (bn2): BatchNorm2d(512, eps=1e-05, momentum=0.1, affine=True, track_running_stats=True)\n",
              "      (conv3): Conv2d(512, 2048, kernel_size=(1, 1), stride=(1, 1), bias=False)\n",
              "      (bn3): BatchNorm2d(2048, eps=1e-05, momentum=0.1, affine=True, track_running_stats=True)\n",
              "      (relu): ReLU(inplace=True)\n",
              "      (downsample): Sequential(\n",
              "        (0): Conv2d(1024, 2048, kernel_size=(1, 1), stride=(2, 2), bias=False)\n",
              "        (1): BatchNorm2d(2048, eps=1e-05, momentum=0.1, affine=True, track_running_stats=True)\n",
              "      )\n",
              "    )\n",
              "    (1): Bottleneck(\n",
              "      (conv1): Conv2d(2048, 512, kernel_size=(1, 1), stride=(1, 1), bias=False)\n",
              "      (bn1): BatchNorm2d(512, eps=1e-05, momentum=0.1, affine=True, track_running_stats=True)\n",
              "      (conv2): Conv2d(512, 512, kernel_size=(3, 3), stride=(1, 1), padding=(1, 1), bias=False)\n",
              "      (bn2): BatchNorm2d(512, eps=1e-05, momentum=0.1, affine=True, track_running_stats=True)\n",
              "      (conv3): Conv2d(512, 2048, kernel_size=(1, 1), stride=(1, 1), bias=False)\n",
              "      (bn3): BatchNorm2d(2048, eps=1e-05, momentum=0.1, affine=True, track_running_stats=True)\n",
              "      (relu): ReLU(inplace=True)\n",
              "    )\n",
              "    (2): Bottleneck(\n",
              "      (conv1): Conv2d(2048, 512, kernel_size=(1, 1), stride=(1, 1), bias=False)\n",
              "      (bn1): BatchNorm2d(512, eps=1e-05, momentum=0.1, affine=True, track_running_stats=True)\n",
              "      (conv2): Conv2d(512, 512, kernel_size=(3, 3), stride=(1, 1), padding=(1, 1), bias=False)\n",
              "      (bn2): BatchNorm2d(512, eps=1e-05, momentum=0.1, affine=True, track_running_stats=True)\n",
              "      (conv3): Conv2d(512, 2048, kernel_size=(1, 1), stride=(1, 1), bias=False)\n",
              "      (bn3): BatchNorm2d(2048, eps=1e-05, momentum=0.1, affine=True, track_running_stats=True)\n",
              "      (relu): ReLU(inplace=True)\n",
              "    )\n",
              "  )\n",
              "  (avgpool): AdaptiveAvgPool2d(output_size=(1, 1))\n",
              "  (fc): Sequential(\n",
              "    (0): Linear(in_features=2048, out_features=2048, bias=True)\n",
              "    (1): LeakyReLU(negative_slope=0.2)\n",
              "    (2): Dropout(p=0.4, inplace=False)\n",
              "    (3): Linear(in_features=2048, out_features=2048, bias=True)\n",
              "    (4): LeakyReLU(negative_slope=0.2)\n",
              "    (5): Dropout(p=0.4, inplace=False)\n",
              "    (6): Linear(in_features=2048, out_features=3, bias=True)\n",
              "    (7): LogSoftmax()\n",
              "  )\n",
              ")"
            ]
          },
          "metadata": {
            "tags": []
          },
          "execution_count": 40
        }
      ]
    },
    {
      "cell_type": "code",
      "metadata": {
        "id": "MASieYp-PlBU",
        "colab_type": "code",
        "colab": {}
      },
      "source": [
        "# loss function\n",
        "# if GPU is available set loss function to use GPU\n",
        "if device_name==\"cuda:0:\":\n",
        "  criterion = nn.CrossEntropyLoss().cuda()\n",
        "else:\n",
        "  criterion = nn.CrossEntropyLoss()  \n",
        "\n",
        "# optimizer\n",
        "optimizer = torch.optim.SGD(resnet_model.parameters(), momentum=0.9, lr=0.0003)\n",
        "\n",
        "# number of training iterations\n",
        "epochs = 10\n",
        "\n",
        "# empty lists to store losses and accuracies\n",
        "train_losses = []\n",
        "test_losses = []\n",
        "train_correct = []\n",
        "test_correct = []"
      ],
      "execution_count": 0,
      "outputs": []
    },
    {
      "cell_type": "code",
      "metadata": {
        "id": "mhU069IyPs4a",
        "colab_type": "code",
        "colab": {}
      },
      "source": [
        "def save_checkpoint(state, is_best, filename='/content/drive/My Drive/bt_total_resnet_checkpoint.pth.tar'):\n",
        "    torch.save(state, filename)"
      ],
      "execution_count": 0,
      "outputs": []
    },
    {
      "cell_type": "code",
      "metadata": {
        "id": "fnfd45JePzoA",
        "colab_type": "code",
        "colab": {
          "base_uri": "https://localhost:8080/",
          "height": 780
        },
        "outputId": "2b6fb3c8-e51a-4dff-eb56-a25d7c636109"
      },
      "source": [
        "# set training start time\n",
        "start_time = time.time()\n",
        "\n",
        "# set best_prec loss value as 2 for checkpoint threshold\n",
        "best_prec1 = 2\n",
        "\n",
        "# empty batch variables\n",
        "b = None\n",
        "train_b = None\n",
        "test_b = None\n",
        "\n",
        "# start training\n",
        "for i in range(epochs):\n",
        "    # empty training correct and test correct counter as 0 during every iteration\n",
        "    trn_corr = 0\n",
        "    tst_corr = 0\n",
        "    \n",
        "    # set epoch's starting time\n",
        "    e_start = time.time()\n",
        "    \n",
        "    # train in batches\n",
        "    for b, (y, X) in enumerate(train_gen):\n",
        "        # set label as cuda if device is cuda\n",
        "        if device_name==\"cuda:0:\":\n",
        "          y = y.cuda()\n",
        "\n",
        "        # for images present in list of augmented images\n",
        "        for images in X:\n",
        "          # set image as cuda if device is cuda\n",
        "          if device_name==\"cuda:0:\":\n",
        "            images = images.cuda()\n",
        "\n",
        "          # forward pass image sample\n",
        "          y_pred = resnet_model(images)\n",
        "          # calculate loss\n",
        "          loss = criterion(y_pred, y)\n",
        "  \n",
        "          # get argmax of predicted tensor, which is our label\n",
        "          predicted = torch.max(y_pred.data, 1)[1]\n",
        "          # if predicted label is correct as true label, calculate the sum for samples\n",
        "          batch_corr = (predicted == y).sum()\n",
        "          # increment train correct with correcly predicted labels per batch\n",
        "          trn_corr += batch_corr\n",
        "          \n",
        "          # set optimizer gradients to zero\n",
        "          optimizer.zero_grad()\n",
        "          # back propagate with loss\n",
        "          loss.backward()\n",
        "          # perform optimizer step\n",
        "          optimizer.step()\n",
        "\n",
        "    # set epoch's end time\n",
        "    e_end = time.time()\n",
        "    # print training metrics\n",
        "    print(f'Epoch {(i+1)} Batch {(b+1)*4}\\nAccuracy: {trn_corr.item()*100/(4*8*b):2.2f} %  Loss: {loss.item():2.4f}  Duration: {((e_end-e_start)/60):.2f} minutes') # 4 images per batch * 8 augmentations per image * batch length\n",
        "\n",
        "    # some metrics storage for visualization\n",
        "    train_b = b\n",
        "    train_losses.append(loss)\n",
        "    train_correct.append(trn_corr)\n",
        "\n",
        "    # validate using validation generator\n",
        "    # do not perform any gradient updates while validation\n",
        "    with torch.no_grad():\n",
        "        for b, (y, X) in enumerate(valid_gen):\n",
        "            # set label as cuda if device is cuda\n",
        "            if device_name==\"cuda:0:\":            \n",
        "              y = y.cuda()\n",
        "\n",
        "            # for images present in list of augmented images\n",
        "            for images in X:\n",
        "                # set image as cuda if device is cuda\n",
        "                if device_name==\"cuda:0:\":\n",
        "                  images = images.cuda()\n",
        "                \n",
        "                # forward pass image\n",
        "                y_val = resnet_model(images)\n",
        "\n",
        "                # get argmax of predicted tensor, which is our label\n",
        "                predicted = torch.max(y_val.data, 1)[1] \n",
        "\n",
        "                # increment test correct with correcly predicted labels per batch\n",
        "                tst_corr += (predicted == y).sum()\n",
        "\n",
        "    # get loss of validation set\n",
        "    loss = criterion(y_val, y)\n",
        "    # print validation metrics\n",
        "    print(f'Validation Accuracy {tst_corr.item()*100/(4*8*b):2.2f} Validation Loss: {loss.item():2.4f}\\n')\n",
        "\n",
        "    # if current validation loss is less than previous iteration's validatin loss create and save a checkpoint\n",
        "    is_best = loss < best_prec1\n",
        "    best_prec1 = min(loss, best_prec1)\n",
        "    save_checkpoint({\n",
        "            'epoch': i + 1,\n",
        "            'state_dict': resnet_model.state_dict(),\n",
        "            'best_prec1': best_prec1,\n",
        "        }, is_best, filename=os.path.join('/content/drive/My Drive/', 'bt_total_resnet_checkpoint_{}.pth.tar'.format(i)))\n",
        "\n",
        "    # some metrics storage for visualization\n",
        "    test_b  = b\n",
        "    test_losses.append(loss)\n",
        "    test_correct.append(tst_corr)\n",
        "# set total training's end time\n",
        "end_time = time.time() - start_time    \n",
        "\n",
        "# print training summary\n",
        "print(\"\\nTraining Duration {:.2f} minutes\".format(end_time/60))\n",
        "print(\"GPU memory used : {} kb\".format(torch.cuda.memory_allocated()))\n",
        "print(\"GPU memory cached : {} kb\".format(torch.cuda.memory_cached()))"
      ],
      "execution_count": 44,
      "outputs": [
        {
          "output_type": "stream",
          "text": [
            "Epoch 1 Batch 2144\n",
            "Accuracy: 89.49 %  Loss: 0.0090  Duration: 19.03 minutes\n",
            "Validation Accuracy 88.79 Validation Loss: 0.1898\n",
            "\n",
            "Epoch 2 Batch 2144\n",
            "Accuracy: 94.24 %  Loss: 0.0062  Duration: 19.03 minutes\n",
            "Validation Accuracy 76.62 Validation Loss: 0.2847\n",
            "\n",
            "Epoch 3 Batch 2144\n",
            "Accuracy: 95.06 %  Loss: 0.9854  Duration: 19.03 minutes\n",
            "Validation Accuracy 92.49 Validation Loss: 0.0018\n",
            "\n",
            "Epoch 4 Batch 2144\n",
            "Accuracy: 96.93 %  Loss: 0.0340  Duration: 19.03 minutes\n",
            "Validation Accuracy 94.71 Validation Loss: 0.0105\n",
            "\n",
            "Epoch 5 Batch 2144\n",
            "Accuracy: 97.47 %  Loss: 0.0005  Duration: 19.03 minutes\n",
            "Validation Accuracy 95.70 Validation Loss: 0.6911\n",
            "\n",
            "Epoch 6 Batch 2144\n",
            "Accuracy: 98.25 %  Loss: 0.0006  Duration: 19.06 minutes\n",
            "Validation Accuracy 95.75 Validation Loss: 2.7371\n",
            "\n",
            "Epoch 7 Batch 2144\n",
            "Accuracy: 99.19 %  Loss: 0.0061  Duration: 19.07 minutes\n",
            "Validation Accuracy 95.34 Validation Loss: 1.5238\n",
            "\n",
            "Epoch 8 Batch 2144\n",
            "Accuracy: 99.20 %  Loss: 0.0023  Duration: 19.08 minutes\n",
            "Validation Accuracy 96.00 Validation Loss: 0.4030\n",
            "\n",
            "Epoch 9 Batch 2144\n",
            "Accuracy: 99.45 %  Loss: 0.0052  Duration: 19.08 minutes\n",
            "Validation Accuracy 96.46 Validation Loss: 0.0002\n",
            "\n",
            "Epoch 10 Batch 2144\n",
            "Accuracy: 99.64 %  Loss: 0.0000  Duration: 19.06 minutes\n",
            "Validation Accuracy 98.66 Validation Loss: 0.0001\n",
            "\n",
            "\n",
            "Training Duration 203.41 minutes\n",
            "GPU memory used : 400202752 kb\n",
            "GPU memory cached : 2350907392 kb\n"
          ],
          "name": "stdout"
        }
      ]
    },
    {
      "cell_type": "code",
      "metadata": {
        "id": "J6ntdqKDP4bg",
        "colab_type": "code",
        "colab": {}
      },
      "source": [
        "torch.save(resnet_model.state_dict(), '/content/drive/My Drive/bt_total_resnet_torch.pt')"
      ],
      "execution_count": 0,
      "outputs": []
    },
    {
      "cell_type": "code",
      "metadata": {
        "id": "L9fcJo8zP7U4",
        "colab_type": "code",
        "colab": {
          "base_uri": "https://localhost:8080/",
          "height": 34
        },
        "outputId": "e70ab2c3-d6d6-4881-f4bd-73f68156fec3"
      },
      "source": [
        "print(f'Validation accuracy: {test_correct[-1].item()*100/(test_b*8*4):.2f}%')"
      ],
      "execution_count": 46,
      "outputs": [
        {
          "output_type": "stream",
          "text": [
            "Validation accuracy: 98.66%\n"
          ],
          "name": "stdout"
        }
      ]
    },
    {
      "cell_type": "code",
      "metadata": {
        "id": "JT9JnY_WP9h7",
        "colab_type": "code",
        "colab": {
          "base_uri": "https://localhost:8080/",
          "height": 294
        },
        "outputId": "04d10758-31db-4987-af89-65f74514c7e9"
      },
      "source": [
        "plt.plot(train_losses, label='Training loss')\n",
        "plt.plot(test_losses, label='Validation loss')\n",
        "plt.title('Loss Metrics')\n",
        "plt.ylabel('Loss')\n",
        "plt.xlabel('Epochs')\n",
        "plt.legend()\n",
        "plt.show()"
      ],
      "execution_count": 47,
      "outputs": [
        {
          "output_type": "display_data",
          "data": {
            "image/png": "[encoded data removed]",
            "text/plain": [
              "<Figure size 432x288 with 1 Axes>"
            ]
          },
          "metadata": {
            "tags": [],
            "needs_background": "light"
          }
        }
      ]
    },
    {
      "cell_type": "code",
      "metadata": {
        "id": "i2AIKIAPQAhh",
        "colab_type": "code",
        "colab": {
          "base_uri": "https://localhost:8080/",
          "height": 332
        },
        "outputId": "4f6e137a-cfc7-4c1e-c352-c49d0e4a2454"
      },
      "source": [
        "plt.plot([t/171 for t in train_correct], label='Training accuracy')\n",
        "plt.plot([t/36 for t in test_correct], label='Validation accuracy')\n",
        "plt.title('Accuracy Metrics')\n",
        "plt.ylabel('Accuracy')\n",
        "plt.xlabel('Epochs')\n",
        "plt.legend()\n",
        "plt.show()"
      ],
      "execution_count": 48,
      "outputs": [
        {
          "output_type": "stream",
          "text": [
            "/pytorch/aten/src/ATen/native/BinaryOps.cpp:81: UserWarning: Integer division of tensors using div or / is deprecated, and in a future release div will perform true division as in Python 3. Use true_divide or floor_divide (// in Python) instead.\n"
          ],
          "name": "stderr"
        },
        {
          "output_type": "display_data",
          "data": {
            "image/png": "[encoded data removed]",
            "text/plain": [
              "<Figure size 432x288 with 1 Axes>"
            ]
          },
          "metadata": {
            "tags": [],
            "needs_background": "light"
          }
        }
      ]
    },
    {
      "cell_type": "code",
      "metadata": {
        "id": "R1fwNS4-QEj9",
        "colab_type": "code",
        "colab": {}
      },
      "source": [
        "# resnet_model.load_state_dict(torch.load('/content/drive/My Drive/bt_resnet_torch.pt'))\n",
        "train_gen = None\n",
        "valid_gen = None\n",
        "train_set = None\n",
        "valid_set = None"
      ],
      "execution_count": 0,
      "outputs": []
    },
    {
      "cell_type": "code",
      "metadata": {
        "id": "s3uTaWedN6cP",
        "colab_type": "code",
        "outputId": "11f51a41-8c29-41d4-ec3a-d575d809dcd3",
        "colab": {
          "base_uri": "https://localhost:8080/",
          "height": 34
        }
      },
      "source": [
        "# set model to evaluation mode\n",
        "resnet_model.eval()\n",
        "\n",
        "# perform no gradient updates\n",
        "with torch.no_grad():\n",
        "    # soem metrics storage for visualization and analysis\n",
        "    correct = 0\n",
        "    test_loss = []\n",
        "    test_corr = []\n",
        "    labels = []\n",
        "    pred = []\n",
        "    # perform test set evaluation batch wise\n",
        "    for (y, X) in test_gen:\n",
        "        # set label to use CUDA if available\n",
        "        if device_name==\"cuda:0:\":\n",
        "          y = y.cuda()\n",
        "\n",
        "        # for images present in list of augmented images  \n",
        "        for images in X:\n",
        "        # set image as cuda if device is cuda\n",
        "          if device_name==\"cuda:0:\":\n",
        "            images = images.cuda()\n",
        "          \n",
        "          # append original labels\n",
        "          labels.append(y)\n",
        "\n",
        "          # perform forward pass\n",
        "          y_val = resnet_model(images)\n",
        "\n",
        "          # get argmax of predicted values, which is our label\n",
        "          predicted = torch.max(y_val,1)[1]\n",
        "          # append predicted label\n",
        "          pred.append(predicted)\n",
        "\n",
        "          # calculate loss\n",
        "          loss = criterion(y_val, y)\n",
        "\n",
        "          # increment correct with correcly predicted labels per batch\n",
        "          correct += (predicted == y).sum()\n",
        "\n",
        "          # append correct samples labels and losses\n",
        "          test_corr.append(correct)\n",
        "          test_loss.append(loss)\n",
        "          # print(f\"True: {y.cpu().numpy()}  Pred: {predicted.cpu().numpy()}\")\n",
        "          \n",
        "print(f\"Test Loss: {test_loss[-1].item():.4f}\")"
      ],
      "execution_count": 50,
      "outputs": [
        {
          "output_type": "stream",
          "text": [
            "Test Loss: 0.0169\n"
          ],
          "name": "stdout"
        }
      ]
    },
    {
      "cell_type": "code",
      "metadata": {
        "id": "-8SZZe7_QRai",
        "colab_type": "code",
        "colab": {
          "base_uri": "https://localhost:8080/",
          "height": 34
        },
        "outputId": "8a23a2d2-20f0-4718-b917-1df29f4af1c7"
      },
      "source": [
        "print(f'Test accuracy: {test_corr[-1].item()*100/(460*8):.2f}%')"
      ],
      "execution_count": 51,
      "outputs": [
        {
          "output_type": "stream",
          "text": [
            "Test accuracy: 97.58%\n"
          ],
          "name": "stdout"
        }
      ]
    },
    {
      "cell_type": "code",
      "metadata": {
        "id": "Ei8wQuzBFTQ-",
        "colab_type": "code",
        "colab": {}
      },
      "source": [
        "labels = torch.stack(labels)\n",
        "pred = torch.stack(pred)"
      ],
      "execution_count": 0,
      "outputs": []
    },
    {
      "cell_type": "code",
      "metadata": {
        "id": "8Z5xXClVQYEg",
        "colab_type": "code",
        "colab": {}
      },
      "source": [
        "LABELS = ['Meningioma', 'Glioma', 'Pitutary']"
      ],
      "execution_count": 0,
      "outputs": []
    },
    {
      "cell_type": "code",
      "metadata": {
        "id": "1dBLYCc7Ohx9",
        "colab_type": "code",
        "outputId": "0d25133d-7011-438a-8b96-62d28ee58720",
        "colab": {
          "base_uri": "https://localhost:8080/",
          "height": 388
        }
      },
      "source": [
        "arr = confusion_matrix(pred.view(-1).cpu(), labels.view(-1).cpu())\n",
        "df_cm = pd.DataFrame(arr, LABELS, LABELS)\n",
        "plt.figure(figsize = (9,6))\n",
        "sns.heatmap(df_cm, annot=True, fmt=\"d\", cmap='viridis')\n",
        "plt.xlabel(\"Prediction\")\n",
        "plt.ylabel(\"Target\")\n",
        "plt.show()"
      ],
      "execution_count": 55,
      "outputs": [
        {
          "output_type": "display_data",
          "data": {
            "image/png": "[encoded data removed]",
            "text/plain": [
              "<Figure size 648x432 with 2 Axes>"
            ]
          },
          "metadata": {
            "tags": [],
            "needs_background": "light"
          }
        }
      ]
    },
    {
      "cell_type": "code",
      "metadata": {
        "id": "kZJ6Ptx-QfzR",
        "colab_type": "code",
        "colab": {
          "base_uri": "https://localhost:8080/",
          "height": 225
        },
        "outputId": "918c2c9c-42ec-45d0-d175-12a10340a4b2"
      },
      "source": [
        "print(f\"Clasification Report\\n\\n{classification_report(pred.view(-1).cpu(), labels.view(-1).cpu())}\")"
      ],
      "execution_count": 56,
      "outputs": [
        {
          "output_type": "stream",
          "text": [
            "Clasification Report\n",
            "\n",
            "              precision    recall  f1-score   support\n",
            "\n",
            "           0       0.90      1.00      0.95       825\n",
            "           1       1.00      0.97      0.98      1755\n",
            "           2       1.00      0.97      0.98      1100\n",
            "\n",
            "    accuracy                           0.98      3680\n",
            "   macro avg       0.97      0.98      0.97      3680\n",
            "weighted avg       0.98      0.98      0.98      3680\n",
            "\n"
          ],
          "name": "stdout"
        }
      ]
    },
    {
      "cell_type": "code",
      "metadata": {
        "id": "7xksHJj0Qjyi",
        "colab_type": "code",
        "colab": {
          "base_uri": "https://localhost:8080/",
          "height": 124
        },
        "outputId": "b315ab53-e67a-4fbb-9bc5-605b149f1780"
      },
      "source": [
        "print(f\"Jaccard Index\\n\\n{round(jaccard_similarity_score(pred.view(-1).cpu(), labels.view(-1).cpu()), 2)}\")"
      ],
      "execution_count": 57,
      "outputs": [
        {
          "output_type": "stream",
          "text": [
            "Jaccard Index\n",
            "\n",
            "0.98\n"
          ],
          "name": "stdout"
        },
        {
          "output_type": "stream",
          "text": [
            "/usr/local/lib/python3.6/dist-packages/sklearn/metrics/_classification.py:664: FutureWarning: jaccard_similarity_score has been deprecated and replaced with jaccard_score. It will be removed in version 0.23. This implementation has surprising behavior for binary and multiclass classification tasks.\n",
            "  FutureWarning)\n"
          ],
          "name": "stderr"
        }
      ]
    },
    {
      "cell_type": "code",
      "metadata": {
        "id": "QNZC1LzkQm5d",
        "colab_type": "code",
        "colab": {}
      },
      "source": [
        ""
      ],
      "execution_count": 0,
      "outputs": []
    }
  ]
}