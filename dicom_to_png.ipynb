{
  "nbformat": 4,
  "nbformat_minor": 0,
  "metadata": {
    "colab": {
      "name": "dicom to png.ipynb",
      "provenance": [],
      "authorship_tag": "ABX9TyMNyV93XEzEoipYEcguH1/v",
      "include_colab_link": true
    },
    "kernelspec": {
      "name": "python3",
      "display_name": "Python 3"
    }
  },
  "cells": [
    {
      "cell_type": "markdown",
      "metadata": {
        "id": "view-in-github",
        "colab_type": "text"
      },
      "source": [
        "<a href=\"https://colab.research.google.com/github/divsal009/div/blob/master/dicom_to_png.ipynb\" target=\"_parent\"><img src=\"https://colab.research.google.com/assets/colab-badge.svg\" alt=\"Open In Colab\"/></a>"
      ]
    },
    {
      "cell_type": "code",
      "metadata": {
        "id": "RmH-q8WURYKb",
        "colab_type": "code",
        "colab": {
          "base_uri": "https://localhost:8080/",
          "height": 104
        },
        "outputId": "3104e06b-4c9f-4450-e3dd-9ec755e377ed"
      },
      "source": [
        "pip install pydicom"
      ],
      "execution_count": 3,
      "outputs": [
        {
          "output_type": "stream",
          "text": [
            "Collecting pydicom\n",
            "\u001b[?25l  Downloading https://files.pythonhosted.org/packages/53/e6/4cae2b4b2fdbea5e2ddd188361139606d8f10f710ba1abecd6600da099c3/pydicom-1.4.2-py2.py3-none-any.whl (35.3MB)\n",
            "\u001b[K     |████████████████████████████████| 35.3MB 122kB/s \n",
            "\u001b[?25hInstalling collected packages: pydicom\n",
            "Successfully installed pydicom-1.4.2\n"
          ],
          "name": "stdout"
        }
      ]
    },
    {
      "cell_type": "code",
      "metadata": {
        "id": "3jiuUu_SR1Br",
        "colab_type": "code",
        "colab": {
          "base_uri": "https://localhost:8080/",
          "height": 190
        },
        "outputId": "72cc3957-e06d-4906-fdbf-bc77bcf7caac"
      },
      "source": [
        "pip install pypng"
      ],
      "execution_count": 6,
      "outputs": [
        {
          "output_type": "stream",
          "text": [
            "Collecting pypng\n",
            "\u001b[?25l  Downloading https://files.pythonhosted.org/packages/bc/fb/f719f1ac965e2101aa6ea6f54ef8b40f8fbb033f6ad07c017663467f5147/pypng-0.0.20.tar.gz (649kB)\n",
            "\r\u001b[K     |▌                               | 10kB 16.3MB/s eta 0:00:01\r\u001b[K     |█                               | 20kB 3.2MB/s eta 0:00:01\r\u001b[K     |█▌                              | 30kB 3.9MB/s eta 0:00:01\r\u001b[K     |██                              | 40kB 4.2MB/s eta 0:00:01\r\u001b[K     |██▌                             | 51kB 3.6MB/s eta 0:00:01\r\u001b[K     |███                             | 61kB 4.1MB/s eta 0:00:01\r\u001b[K     |███▌                            | 71kB 4.3MB/s eta 0:00:01\r\u001b[K     |████                            | 81kB 4.7MB/s eta 0:00:01\r\u001b[K     |████▌                           | 92kB 5.0MB/s eta 0:00:01\r\u001b[K     |█████                           | 102kB 4.9MB/s eta 0:00:01\r\u001b[K     |█████▌                          | 112kB 4.9MB/s eta 0:00:01\r\u001b[K     |██████                          | 122kB 4.9MB/s eta 0:00:01\r\u001b[K     |██████▋                         | 133kB 4.9MB/s eta 0:00:01\r\u001b[K     |███████                         | 143kB 4.9MB/s eta 0:00:01\r\u001b[K     |███████▋                        | 153kB 4.9MB/s eta 0:00:01\r\u001b[K     |████████                        | 163kB 4.9MB/s eta 0:00:01\r\u001b[K     |████████▋                       | 174kB 4.9MB/s eta 0:00:01\r\u001b[K     |█████████                       | 184kB 4.9MB/s eta 0:00:01\r\u001b[K     |█████████▋                      | 194kB 4.9MB/s eta 0:00:01\r\u001b[K     |██████████                      | 204kB 4.9MB/s eta 0:00:01\r\u001b[K     |██████████▋                     | 215kB 4.9MB/s eta 0:00:01\r\u001b[K     |███████████                     | 225kB 4.9MB/s eta 0:00:01\r\u001b[K     |███████████▋                    | 235kB 4.9MB/s eta 0:00:01\r\u001b[K     |████████████                    | 245kB 4.9MB/s eta 0:00:01\r\u001b[K     |████████████▋                   | 256kB 4.9MB/s eta 0:00:01\r\u001b[K     |█████████████▏                  | 266kB 4.9MB/s eta 0:00:01\r\u001b[K     |█████████████▋                  | 276kB 4.9MB/s eta 0:00:01\r\u001b[K     |██████████████▏                 | 286kB 4.9MB/s eta 0:00:01\r\u001b[K     |██████████████▋                 | 296kB 4.9MB/s eta 0:00:01\r\u001b[K     |███████████████▏                | 307kB 4.9MB/s eta 0:00:01\r\u001b[K     |███████████████▋                | 317kB 4.9MB/s eta 0:00:01\r\u001b[K     |████████████████▏               | 327kB 4.9MB/s eta 0:00:01\r\u001b[K     |████████████████▋               | 337kB 4.9MB/s eta 0:00:01\r\u001b[K     |█████████████████▏              | 348kB 4.9MB/s eta 0:00:01\r\u001b[K     |█████████████████▋              | 358kB 4.9MB/s eta 0:00:01\r\u001b[K     |██████████████████▏             | 368kB 4.9MB/s eta 0:00:01\r\u001b[K     |██████████████████▋             | 378kB 4.9MB/s eta 0:00:01\r\u001b[K     |███████████████████▏            | 389kB 4.9MB/s eta 0:00:01\r\u001b[K     |███████████████████▊            | 399kB 4.9MB/s eta 0:00:01\r\u001b[K     |████████████████████▏           | 409kB 4.9MB/s eta 0:00:01\r\u001b[K     |████████████████████▊           | 419kB 4.9MB/s eta 0:00:01\r\u001b[K     |█████████████████████▏          | 430kB 4.9MB/s eta 0:00:01\r\u001b[K     |█████████████████████▊          | 440kB 4.9MB/s eta 0:00:01\r\u001b[K     |██████████████████████▏         | 450kB 4.9MB/s eta 0:00:01\r\u001b[K     |██████████████████████▊         | 460kB 4.9MB/s eta 0:00:01\r\u001b[K     |███████████████████████▏        | 471kB 4.9MB/s eta 0:00:01\r\u001b[K     |███████████████████████▊        | 481kB 4.9MB/s eta 0:00:01\r\u001b[K     |████████████████████████▏       | 491kB 4.9MB/s eta 0:00:01\r\u001b[K     |████████████████████████▊       | 501kB 4.9MB/s eta 0:00:01\r\u001b[K     |█████████████████████████▎      | 512kB 4.9MB/s eta 0:00:01\r\u001b[K     |█████████████████████████▊      | 522kB 4.9MB/s eta 0:00:01\r\u001b[K     |██████████████████████████▎     | 532kB 4.9MB/s eta 0:00:01\r\u001b[K     |██████████████████████████▊     | 542kB 4.9MB/s eta 0:00:01\r\u001b[K     |███████████████████████████▎    | 552kB 4.9MB/s eta 0:00:01\r\u001b[K     |███████████████████████████▊    | 563kB 4.9MB/s eta 0:00:01\r\u001b[K     |████████████████████████████▎   | 573kB 4.9MB/s eta 0:00:01\r\u001b[K     |████████████████████████████▊   | 583kB 4.9MB/s eta 0:00:01\r\u001b[K     |█████████████████████████████▎  | 593kB 4.9MB/s eta 0:00:01\r\u001b[K     |█████████████████████████████▊  | 604kB 4.9MB/s eta 0:00:01\r\u001b[K     |██████████████████████████████▎ | 614kB 4.9MB/s eta 0:00:01\r\u001b[K     |██████████████████████████████▊ | 624kB 4.9MB/s eta 0:00:01\r\u001b[K     |███████████████████████████████▎| 634kB 4.9MB/s eta 0:00:01\r\u001b[K     |███████████████████████████████▉| 645kB 4.9MB/s eta 0:00:01\r\u001b[K     |████████████████████████████████| 655kB 4.9MB/s \n",
            "\u001b[?25hBuilding wheels for collected packages: pypng\n",
            "  Building wheel for pypng (setup.py) ... \u001b[?25l\u001b[?25hdone\n",
            "  Created wheel for pypng: filename=pypng-0.0.20-cp36-none-any.whl size=67161 sha256=e89c6c2ccca14b3bec736f35ee6836600eba2f0fd25f10a7968cd191daea013b\n",
            "  Stored in directory: /root/.cache/pip/wheels/41/6b/ef/0493b536b6d4722c2ae9486691b1d49b922b9877922beeabb3\n",
            "Successfully built pypng\n",
            "Installing collected packages: pypng\n",
            "Successfully installed pypng-0.0.20\n"
          ],
          "name": "stdout"
        }
      ]
    },
    {
      "cell_type": "code",
      "metadata": {
        "id": "KA32Sr6tSjso",
        "colab_type": "code",
        "colab": {}
      },
      "source": [
        ""
      ],
      "execution_count": 0,
      "outputs": []
    },
    {
      "cell_type": "code",
      "metadata": {
        "id": "SN7hl4K8SqmM",
        "colab_type": "code",
        "colab": {}
      },
      "source": [
        ""
      ],
      "execution_count": 0,
      "outputs": []
    },
    {
      "cell_type": "code",
      "metadata": {
        "id": "_RCr29-QSqq6",
        "colab_type": "code",
        "colab": {}
      },
      "source": [
        "import pydicom as dicom\n",
        "import matplotlib.pyplot as plt\n",
        "import os\n",
        "import cv2\n",
        "import PIL # optional\n",
        "import pandas as pd\n",
        "import csv\n",
        "# make it True if you want in PNG format\n",
        "PNG = False"
      ],
      "execution_count": 0,
      "outputs": []
    },
    {
      "cell_type": "code",
      "metadata": {
        "id": "i0mkO14rS0iJ",
        "colab_type": "code",
        "colab": {}
      },
      "source": [
        "# Specify the .dcm folder path\n",
        "folder_path = \"stage_1_test_images\""
      ],
      "execution_count": 0,
      "outputs": []
    },
    {
      "cell_type": "code",
      "metadata": {
        "id": "tYH0Yh1mTFDc",
        "colab_type": "code",
        "colab": {}
      },
      "source": [
        "# Specify the .jpg/.png folder path\n",
        "jpg_folder_path = \"JPG_test\"\n",
        "images_path = os.listdir(folder_path)"
      ],
      "execution_count": 0,
      "outputs": []
    },
    {
      "cell_type": "code",
      "metadata": {
        "id": "aCxAajE6TTGd",
        "colab_type": "code",
        "colab": {
          "base_uri": "https://localhost:8080/",
          "height": 52
        },
        "outputId": "fc0ad911-c8ea-48ef-efdd-03f825bd7c2f"
      },
      "source": [
        "!git clone https://github.com/vivek8981/DICOM-to-JP"
      ],
      "execution_count": 13,
      "outputs": [
        {
          "output_type": "stream",
          "text": [
            "Cloning into 'DICOM-to-JP'...\n",
            "fatal: could not read Username for 'https://github.com': No such device or address\n"
          ],
          "name": "stdout"
        }
      ]
    },
    {
      "cell_type": "code",
      "metadata": {
        "id": "7OfHogFRVyqM",
        "colab_type": "code",
        "colab": {}
      },
      "source": [
        "from imageio import mimwrite, imwrite\n",
        "from skimage.transform import resize\n",
        "import matplotlib.pyplot as plt\n",
        "import nibabel as nib\n",
        "import pydicom as pdc\n",
        "import numpy as np\n",
        "import math\n",
        "import sys\n",
        "import os"
      ],
      "execution_count": 0,
      "outputs": []
    },
    {
      "cell_type": "code",
      "metadata": {
        "id": "z4y8JWUxV28V",
        "colab_type": "code",
        "colab": {}
      },
      "source": [
        "%matplotlib inline\n"
      ],
      "execution_count": 0,
      "outputs": []
    },
    {
      "cell_type": "code",
      "metadata": {
        "id": "gtGRA2X0W4xB",
        "colab_type": "code",
        "colab": {}
      },
      "source": [
        "import numpy as np\n",
        "import png, os, pydicom\n",
        "\n",
        "source_folder = '/content/di'\n",
        "output_folder = '/content/jp'\n"
      ],
      "execution_count": 0,
      "outputs": []
    },
    {
      "cell_type": "code",
      "metadata": {
        "id": "nhA6s1lGV572",
        "colab_type": "code",
        "colab": {
          "base_uri": "https://localhost:8080/",
          "height": 34
        },
        "outputId": "eaf9dfad-6186-41c6-a4d2-418edc703652"
      },
      "source": [
        "\n",
        "\n",
        "def dicom2png(source_folder, output_folder):\n",
        "    list_of_files = os.listdir(source_folder)\n",
        "    for file in list_of_files:\n",
        "        try:\n",
        "            ds = pydicom.dcmread(os.path.join(source_folder,file))\n",
        "            shape = ds.pixel_array.shape\n",
        "\n",
        "            # Convert to float to avoid overflow or underflow losses.\n",
        "            image_2d = ds.pixel_array.astype(float)\n",
        "\n",
        "            # Rescaling grey scale between 0-255\n",
        "            image_2d_scaled = (np.maximum(image_2d,0) / image_2d.max()) * 255.0\n",
        "\n",
        "            # Convert to uint\n",
        "            image_2d_scaled = np.uint8(image_2d_scaled)\n",
        "\n",
        "            # Write the PNG file\n",
        "            with open(os.path.join(output_folder,file)+'.png' , 'wb') as png_file:\n",
        "                w = png.Writer(shape[1], shape[0], greyscale=True)\n",
        "                w.write(png_file, image_2d_scaled)\n",
        "        except:\n",
        "            print('Could not convert: ', file)\n",
        "\n",
        "\n",
        "dicom2png(source_folder, output_folder)"
      ],
      "execution_count": 27,
      "outputs": [
        {
          "output_type": "stream",
          "text": [
            "Could not convert:  .ipynb_checkpoints\n"
          ],
          "name": "stdout"
        }
      ]
    }
  ]
}