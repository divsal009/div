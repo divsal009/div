{
  "nbformat": 4,
  "nbformat_minor": 0,
  "metadata": {
    "colab": {
      "name": "Brats.ipynb",
      "provenance": [],
      "mount_file_id": "1FefRRcYRNt6ZKGzSlB_EcLhn2JgScVqg",
      "authorship_tag": "ABX9TyOqSkS72jqUrNWxnIQThlgn",
      "include_colab_link": true
    },
    "kernelspec": {
      "name": "python3",
      "display_name": "Python 3"
    },
    "language_info": {
      "name": "python"
    },
    "accelerator": "GPU"
  },
  "cells": [
    {
      "cell_type": "markdown",
      "metadata": {
        "id": "view-in-github",
        "colab_type": "text"
      },
      "source": [
        "<a href=\"https://colab.research.google.com/github/divsal009/div/blob/master/Brats2013_EPOCH_1.ipynb\" target=\"_parent\"><img src=\"https://colab.research.google.com/assets/colab-badge.svg\" alt=\"Open In Colab\"/></a>"
      ]
    },
    {
      "cell_type": "code",
      "metadata": {
        "id": "ih5-UKw_G99o"
      },
      "source": [
        "\n",
        "import numpy as np\n",
        "import pandas as pd\n",
        "import matplotlib.pyplot as plt\n",
        "import skimage.io as io\n",
        "import skimage.transform as trans\n",
        "import random as r\n",
        "from keras.optimizers import Adam"
      ],
      "execution_count": 25,
      "outputs": []
    },
    {
      "cell_type": "code",
      "metadata": {
        "id": "xv1sEn9EHFWc"
      },
      "source": [
        "import glob\n",
        "def create_data(src, mask, label=False, resize=(128,128,128)):\n",
        "    files = glob.glob(src + mask, recursive=True)\n",
        "    imgs = []\n",
        "    for file in files:\n",
        "        img = io.imread(file, plugin='simpleitk')\n",
        "        if label:\n",
        "            img[img == 4] = 1\n",
        "            img[img != 1] = 0\n",
        "            img = img.astype('float32')\n",
        "        else:\n",
        "            img = (img-img.mean()) / img.std()\n",
        "        img = trans.resize(img, resize, mode='constant')\n",
        "        imgs.append(img)\n",
        "    name = 'y' if label else 'x'\n",
        "    np.save(name, np.array(imgs)[..., np.newaxis].astype('float32'))\n",
        "    print('Saved', len(files), 'to', name)"
      ],
      "execution_count": 26,
      "outputs": []
    },
    {
      "cell_type": "code",
      "metadata": {
        "id": "tdvg4MiwHLhU"
      },
      "source": [
        "from keras.models import Input, Model\n",
        "from keras.layers import Conv2D, Concatenate, MaxPooling2D, Reshape\n",
        "from keras.layers import UpSampling2D, Activation, Permute\n",
        "\n",
        "def level_block(m, dim, depth, factor, acti):\n",
        "    if depth > 0:\n",
        "        n = Conv2D(dim, 3, activation=acti, padding='same')(m)\n",
        "        n = Conv2D(dim, 3, activation=acti, padding='same')(n)\n",
        "        m = MaxPooling2D()(n)\n",
        "        m = level_block(m, int(factor*dim), depth-1, factor, acti)\n",
        "        m = UpSampling2D()(m)\n",
        "        m = Conv2D(dim, 2, activation=acti, padding='same')(m)\n",
        "        m = Concatenate(axis=3)([n, m])\n",
        "    m = Conv2D(dim, 3, activation=acti, padding='same')(m)\n",
        "    return Conv2D(dim, 3, activation=acti, padding='same')(m)\n",
        "\n",
        "def UNet(img_shape, n_out=1, dim=64, depth=4, factor=2, acti='elu', flatten=False):\n",
        "    i = Input(shape=img_shape)\n",
        "    o = level_block(i, dim, depth, factor, acti)\n",
        "    o = Conv2D(n_out, (1, 1))(o)\n",
        "    if flatten:\n",
        "        o = Reshape(n_out, img_shape[0] * img_shape[1])(o)\n",
        "        o = Permute((2, 1))(o)\n",
        "    o = Activation('sigmoid')(o)\n",
        "    return Model(inputs=i, outputs=o)"
      ],
      "execution_count": 27,
      "outputs": []
    },
    {
      "cell_type": "code",
      "metadata": {
        "id": "PnUT7n4ZHPtl"
      },
      "source": [
        "from keras.models import Input, Model\n",
        "from keras.layers import Conv3D, Concatenate, MaxPooling3D, Reshape\n",
        "from keras.layers import UpSampling3D, Activation, Permute\n",
        "\n",
        "def level_block_3d(m, dim, depth, factor, acti):\n",
        "    if depth > 0:\n",
        "        n = Conv3D(dim, 3, activation=acti, padding='same')(m)\n",
        "        m = MaxPooling3D()(n)\n",
        "        m = level_block_3d(m, int(factor*dim), depth-1, factor, acti)\n",
        "        m = UpSampling3D()(m)\n",
        "        m = Concatenate(axis=4)([n, m])\n",
        "    return Conv3D(dim, 3, activation=acti, padding='same')(m)\n",
        "\n",
        "def UNet_3D(img_shape, n_out=1, dim=64, depth=4, factor=2, acti='elu'):\n",
        "    i = Input(shape=img_shape)\n",
        "    o = level_block_3d(i, dim, depth, factor, acti)\n",
        "    o = Conv3D(n_out, 1, activation='sigmoid')(o)\n",
        "    return Model(inputs=i, outputs=o)"
      ],
      "execution_count": 28,
      "outputs": []
    },
    {
      "cell_type": "code",
      "metadata": {
        "id": "pr7cHIGNHUxR"
      },
      "source": [
        "import keras.backend as K\n",
        "def f1_score(y_true, y_pred):\n",
        "    y_true_f = K.flatten(y_true)\n",
        "    y_pred_f = K.flatten(y_pred)\n",
        "    intersection = K.sum(y_true_f * y_pred_f)\n",
        "    return (2. * intersection + 1.) / (K.sum(y_true_f) + K.sum(y_pred_f) + 1.)\n",
        "\n",
        "def f1_loss(y_true, y_pred):\n",
        "    return -f1_score(y_true, y_pred)"
      ],
      "execution_count": 29,
      "outputs": []
    },
    {
      "cell_type": "code",
      "metadata": {
        "colab": {
          "base_uri": "https://localhost:8080/"
        },
        "id": "NonSFPmZOvmB",
        "outputId": "269f00c2-ff41-457a-9fd5-8e1279519166"
      },
      "source": [
        "pip install simpleitk"
      ],
      "execution_count": 30,
      "outputs": [
        {
          "output_type": "stream",
          "text": [
            "Requirement already satisfied: simpleitk in /usr/local/lib/python3.7/dist-packages (2.0.2)\n"
          ],
          "name": "stdout"
        }
      ]
    },
    {
      "cell_type": "code",
      "metadata": {
        "colab": {
          "base_uri": "https://localhost:8080/"
        },
        "id": "YnjE8YHIHYbd",
        "outputId": "4fcc62ca-6c6b-42f8-a1da-35fb57f8cf6e"
      },
      "source": [
        "create_data('/content/drive/MyDrive/HGG/', '**/*T1c*.mha', label=False, resize=(32,32,32))\n",
        "create_data('/content/drive/MyDrive/HGG/', '**/*OT*.mha', label=True, resize=(32,32,32))"
      ],
      "execution_count": 31,
      "outputs": [
        {
          "output_type": "stream",
          "text": [
            "Saved 220 to x\n",
            "Saved 220 to y\n"
          ],
          "name": "stdout"
        }
      ]
    },
    {
      "cell_type": "code",
      "metadata": {
        "colab": {
          "base_uri": "https://localhost:8080/"
        },
        "id": "S6m9qMbEI6VF",
        "outputId": "75b710aa-5d57-4e79-ac31-110a32c5a397"
      },
      "source": [
        "x = np.load('x.npy')\n",
        "print('x: ', x.shape)\n",
        "y = np.load('y.npy')\n",
        "print('y:', y.shape)"
      ],
      "execution_count": 32,
      "outputs": [
        {
          "output_type": "stream",
          "text": [
            "x:  (220, 32, 32, 32, 1)\n",
            "y: (220, 32, 32, 32, 1)\n"
          ],
          "name": "stdout"
        }
      ]
    },
    {
      "cell_type": "code",
      "metadata": {
        "colab": {
          "base_uri": "https://localhost:8080/",
          "height": 318
        },
        "id": "Rvz089fxI8Fv",
        "outputId": "5c494c24-7ce3-4322-e6c1-93f7636dbeda"
      },
      "source": [
        "\n",
        "import random as r\n",
        "i = int(r.random() * x.shape[0])\n",
        "plt.figure(figsize=(10,10))\n",
        "plt.subplot(121)\n",
        "plt.imshow(x[i, int(x.shape[1]/2), :, :, 0])\n"
      ],
      "execution_count": 33,
      "outputs": [
        {
          "output_type": "execute_result",
          "data": {
            "text/plain": [
              "<matplotlib.image.AxesImage at 0x7f0796c39e10>"
            ]
          },
          "metadata": {
            "tags": []
          },
          "execution_count": 33
        },
        {
          "output_type": "display_data",
          "data": {
            "image/png": "[encoded data removed]",
            "text/plain": [
              "<Figure size 720x720 with 1 Axes>"
            ]
          },
          "metadata": {
            "tags": [],
            "needs_background": "light"
          }
        }
      ]
    },
    {
      "cell_type": "code",
      "metadata": {
        "colab": {
          "base_uri": "https://localhost:8080/",
          "height": 202
        },
        "id": "Hv_SYB5VPXov",
        "outputId": "4a21bf6e-552d-4029-a5c9-222ca244f57e"
      },
      "source": [
        "plt.subplot(122)\n",
        "plt.imshow(y[i, int(y.shape[1]/2), :, :, 0])\n",
        "plt.show()"
      ],
      "execution_count": 34,
      "outputs": [
        {
          "output_type": "display_data",
          "data": {
            "image/png": "[encoded data removed]",
            "text/plain": [
              "<Figure size 432x288 with 1 Axes>"
            ]
          },
          "metadata": {
            "tags": [],
            "needs_background": "light"
          }
        }
      ]
    },
    {
      "cell_type": "code",
      "metadata": {
        "id": "JPSOT1WYJC77"
      },
      "source": [
        "model = UNet_3D(x.shape[1:], dim=16, factor=1)\n"
      ],
      "execution_count": 35,
      "outputs": []
    },
    {
      "cell_type": "code",
      "metadata": {
        "id": "opvxKZZMVv-j"
      },
      "source": [
        "model.load_weights('/content/weights.h5')\n"
      ],
      "execution_count": 36,
      "outputs": []
    },
    {
      "cell_type": "code",
      "metadata": {
        "id": "6D9zagwjXHq9"
      },
      "source": [
        "model.compile(optimizer=Adam(lr=0.000001), loss=f1_loss)\n"
      ],
      "execution_count": 37,
      "outputs": []
    },
    {
      "cell_type": "code",
      "metadata": {
        "colab": {
          "base_uri": "https://localhost:8080/"
        },
        "id": "17kgi_pSYU6s",
        "outputId": "7867e2e4-bc3f-4fa9-89af-2816242c47f6"
      },
      "source": [
        "model.fit(x, y, validation_split=0.2, epochs=1, batch_size=8)\n"
      ],
      "execution_count": 38,
      "outputs": [
        {
          "output_type": "stream",
          "text": [
            "22/22 [==============================] - 2s 39ms/step - loss: -0.3797 - val_loss: -0.4168\n"
          ],
          "name": "stdout"
        },
        {
          "output_type": "execute_result",
          "data": {
            "text/plain": [
              "<tensorflow.python.keras.callbacks.History at 0x7f0796bb1610>"
            ]
          },
          "metadata": {
            "tags": []
          },
          "execution_count": 38
        }
      ]
    },
    {
      "cell_type": "code",
      "metadata": {
        "id": "s0OxFWo3YZQs"
      },
      "source": [
        "model.save_weights('weights.h5')\n"
      ],
      "execution_count": 39,
      "outputs": []
    },
    {
      "cell_type": "code",
      "metadata": {
        "id": "3ttCdb_EYcnQ"
      },
      "source": [
        "pred = model.predict(x[:50])\n"
      ],
      "execution_count": 40,
      "outputs": []
    },
    {
      "cell_type": "code",
      "metadata": {
        "colab": {
          "base_uri": "https://localhost:8080/",
          "height": 896
        },
        "id": "1mt_jPnvYid0",
        "outputId": "0188ae99-7eca-4d09-838a-d12455ed6360"
      },
      "source": [
        "import random as r\n",
        "num = int(x.shape[1]/2)\n",
        "for n in range(3):\n",
        "    i = int(r.random() * pred.shape[0])\n",
        "    plt.figure(figsize=(15,10))\n",
        "\n",
        "    plt.subplot(131)\n",
        "    plt.title('Input')\n",
        "    plt.imshow(x[i, num, :, :, 0])\n",
        "\n",
        "    plt.subplot(132)\n",
        "    plt.title('Ground Truth')\n",
        "    plt.imshow(y[i, num, :, :, 0])\n",
        "\n",
        "    plt.subplot(133)\n",
        "    plt.title('Prediction')\n",
        "    plt.imshow(pred[i, num, :, :, 0])\n",
        "\n",
        "    plt.show()"
      ],
      "execution_count": 41,
      "outputs": [
        {
          "output_type": "display_data",
          "data": {
            "image/png": "[encoded data removed]",
            "text/plain": [
              "<Figure size 1080x720 with 3 Axes>"
            ]
          },
          "metadata": {
            "tags": [],
            "needs_background": "light"
          }
        },
        {
          "output_type": "display_data",
          "data": {
            "image/png": "[encoded data removed]",
            "text/plain": [
              "<Figure size 1080x720 with 3 Axes>"
            ]
          },
          "metadata": {
            "tags": [],
            "needs_background": "light"
          }
        },
        {
          "output_type": "display_data",
          "data": {
            "image/png": "[encoded data removed]",
            "text/plain": [
              "<Figure size 1080x720 with 3 Axes>"
            ]
          },
          "metadata": {
            "tags": [],
            "needs_background": "light"
          }
        }
      ]
    }
  ]
}