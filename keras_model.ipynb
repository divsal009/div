{
  "nbformat": 4,
  "nbformat_minor": 0,
  "metadata": {
    "colab": {
      "name": "keras_model.ipynb",
      "provenance": [],
      "authorship_tag": "ABX9TyMG8Wm0uJGYbQAxZrueLkOM",
      "include_colab_link": true
    },
    "kernelspec": {
      "name": "python3",
      "display_name": "Python 3"
    }
  },
  "cells": [
    {
      "cell_type": "markdown",
      "metadata": {
        "id": "view-in-github",
        "colab_type": "text"
      },
      "source": [
        "<a href=\"https://colab.research.google.com/github/divsal009/div/blob/master/keras_model.ipynb\" target=\"_parent\"><img src=\"https://colab.research.google.com/assets/colab-badge.svg\" alt=\"Open In Colab\"/></a>"
      ]
    },
    {
      "cell_type": "code",
      "metadata": {
        "id": "2KJVAVhaLAyX",
        "colab_type": "code",
        "colab": {}
      },
      "source": [
        "from keras import Sequential\n",
        "from keras.layers import Dense\n",
        "\n",
        "# Dense Layer \n",
        "def build_model():\n",
        "  model = Sequential()\n",
        "  # input layer\n",
        "  # units = no of neurons, input_shape = 5(length of columns)\n",
        "  model.add(Dense(units=128, activation='relu', input_shape = (5)))\n",
        "  model.add(Dense(units=256, activation='relu'))\n",
        "  \n",
        "  # compile - optimizer = , metrics = 'accuracy'(for classification)\n",
        "  model.compile(optimizer = 'Adam', metrics = ['accuracy'])\n",
        "  return model\n",
        "\n",
        "# epochs = num of iterations , batch = \n",
        "model.fit(X_train, Y_train, batch = 100, epochs = 500)\n",
        "             \n"
      ],
      "execution_count": null,
      "outputs": []
    }
  ]
}