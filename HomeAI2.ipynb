{
  "nbformat": 4,
  "nbformat_minor": 0,
  "metadata": {
    "colab": {
      "provenance": [],
      "authorship_tag": "ABX9TyPbooc4bHe5d4+o+uM4LTY+",
      "include_colab_link": true
    },
    "kernelspec": {
      "name": "python3",
      "display_name": "Python 3"
    },
    "language_info": {
      "name": "python"
    }
  },
  "cells": [
    {
      "cell_type": "markdown",
      "metadata": {
        "id": "view-in-github",
        "colab_type": "text"
      },
      "source": [
        "<a href=\"https://colab.research.google.com/github/divsal009/div/blob/master/HomeAI2.ipynb\" target=\"_parent\"><img src=\"https://colab.research.google.com/assets/colab-badge.svg\" alt=\"Open In Colab\"/></a>"
      ]
    },
    {
      "cell_type": "code",
      "source": [
        "import pandas as pd\n",
        "from sklearn.feature_extraction.text import TfidfVectorizer\n",
        "from sklearn.metrics.pairwise import cosine_similarity\n",
        "\n",
        "# Load data\n",
        "file_path = '/content/Dataset-3.xlsx'\n",
        "sheet1_df = pd.read_excel(file_path, sheet_name='30-10-DISEASE VS BODYFN')\n",
        "sheet2_df = pd.read_excel(file_path, sheet_name='31-10 BODYFN vs assistive techn')\n",
        "sheet3_df = pd.read_excel(file_path, sheet_name='31-10 BODYFN vs HOME ICF')\n",
        "\n",
        "# Preprocess: Lowercase and strip whitespace for consistent matching\n",
        "for df in [sheet1_df, sheet2_df, sheet3_df]:\n",
        "    df['Symptoms'] = df['Symptoms'].str.lower().str.strip()\n",
        "sheet1_df['Disease'] = sheet1_df['Disease'].str.lower().str.strip()\n",
        "\n",
        "# Combine symptoms from all sheets to fit the TF-IDF vectorizer\n",
        "all_symptoms = pd.concat([sheet1_df['Symptoms'], sheet2_df['Symptoms'], sheet3_df['Symptoms']]).unique()\n",
        "\n",
        "# Create TF-IDF matrix for all symptoms\n",
        "vectorizer = TfidfVectorizer()\n",
        "tfidf_matrix = vectorizer.fit_transform(all_symptoms)\n",
        "\n",
        "# Convert the TF-IDF matrix back into individual DataFrames for each sheet\n",
        "sheet1_vectors = vectorizer.transform(sheet1_df['Symptoms'])\n",
        "sheet2_vectors = vectorizer.transform(sheet2_df['Symptoms'])\n",
        "sheet3_vectors = vectorizer.transform(sheet3_df['Symptoms'])\n",
        "\n",
        "# Function to get symptoms, assistive technology, and home functions for a disease\n",
        "def get_disease_info(disease_name, similarity_threshold=0.5):\n",
        "    disease_name = disease_name.lower().strip()\n",
        "\n",
        "    # Step 1: Find symptoms related to the disease in sheet 1\n",
        "    symptoms = sheet1_df[sheet1_df['Disease'] == disease_name]['Symptoms'].tolist()\n",
        "\n",
        "    if not symptoms:\n",
        "        return f\"No data found for disease: {disease_name}\"\n",
        "\n",
        "    assistive_tech_matches = []\n",
        "    home_function_matches = []\n",
        "\n",
        "    for symptom in symptoms:\n",
        "        # Vectorize the symptom\n",
        "        symptom_vector = vectorizer.transform([symptom])\n",
        "\n",
        "        # Step 2: Compute similarity with all symptoms in sheet2 and sheet3\n",
        "        similarity_to_sheet2 = cosine_similarity(symptom_vector, sheet2_vectors).flatten()\n",
        "        similarity_to_sheet3 = cosine_similarity(symptom_vector, sheet3_vectors).flatten()\n",
        "\n",
        "        # Find the most similar symptom in sheet2 (Assistive Technology)\n",
        "        max_sim_idx_2 = similarity_to_sheet2.argmax()\n",
        "        if similarity_to_sheet2[max_sim_idx_2] >= similarity_threshold:\n",
        "            assistive_tech_matches.append({\n",
        "                \"Symptom\": sheet2_df['Symptoms'].iloc[max_sim_idx_2],\n",
        "                \"Assistive Technology\": sheet2_df['Assistive Technology'].iloc[max_sim_idx_2]\n",
        "            })\n",
        "\n",
        "        # Find the most similar symptom in sheet3 (Home Functions)\n",
        "        max_sim_idx_3 = similarity_to_sheet3.argmax()\n",
        "        if similarity_to_sheet3[max_sim_idx_3] >= similarity_threshold:\n",
        "            home_function_matches.append({\n",
        "                \"Symptom\": sheet3_df['Symptoms'].iloc[max_sim_idx_3],\n",
        "                \"Home Function\": sheet3_df['Home functions'].iloc[max_sim_idx_3]\n",
        "            })\n",
        "\n",
        "    # Display results\n",
        "    print(f\"Disease: {disease_name.capitalize()}\\n\")\n",
        "\n",
        "    print(\"Symptoms:\")\n",
        "    for symptom in symptoms:\n",
        "        print(f\"  - {symptom.capitalize()}\")\n",
        "\n",
        "    print(\"\\nAssistive Technology:\")\n",
        "    if assistive_tech_matches:\n",
        "        for match in assistive_tech_matches:\n",
        "            print(f\"  - Symptom: {match['Symptom'].capitalize()}, Assistive Technology: {match['Assistive Technology']}\")\n",
        "    else:\n",
        "        print(\"  No matching assistive technology found.\")\n",
        "\n",
        "    print(\"\\nHome Functions:\")\n",
        "    if home_function_matches:\n",
        "        for match in home_function_matches:\n",
        "            print(f\"  - Symptom: {match['Symptom'].capitalize()}, Home Function: {match['Home Function']}\")\n",
        "    else:\n",
        "        print(\"  No matching home function found.\")\n",
        "\n",
        "# Example usage: Input the disease name\n",
        "disease_name = input(\"Enter the disease name: \")\n",
        "get_disease_info(disease_name)\n"
      ],
      "metadata": {
        "colab": {
          "base_uri": "https://localhost:8080/"
        },
        "id": "IQAGpvXF85Km",
        "outputId": "1a92c5b4-67ab-40cd-9e99-10147f0d268a"
      },
      "execution_count": 1,
      "outputs": [
        {
          "output_type": "stream",
          "name": "stdout",
          "text": [
            "Enter the disease name: asthma\n",
            "Disease: Asthma\n",
            "\n",
            "Symptoms:\n",
            "  - Shortness of breath, wheezing, coughing, chest tightness\n",
            "\n",
            "Assistive Technology:\n",
            "  - Symptom: Shortness of breath, Assistive Technology: Oxygen therapy devices\n",
            "\n",
            "Home Functions:\n",
            "  - Symptom: Shortness of breath, Home Function: Open spaces for better airflow\n"
          ]
        }
      ]
    }
  ]
}