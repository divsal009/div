{
  "nbformat": 4,
  "nbformat_minor": 0,
  "metadata": {
    "colab": {
      "name": "Tensorflow_tutorial.ipynb",
      "provenance": [],
      "authorship_tag": "ABX9TyNgpvBlKKTHby1i53MnFeGR",
      "include_colab_link": true
    },
    "kernelspec": {
      "name": "python3",
      "display_name": "Python 3"
    },
    "language_info": {
      "name": "python"
    }
  },
  "cells": [
    {
      "cell_type": "markdown",
      "metadata": {
        "id": "view-in-github",
        "colab_type": "text"
      },
      "source": [
        "<a href=\"https://colab.research.google.com/github/divsal009/div/blob/master/Tensorflow_tutorial.ipynb\" target=\"_parent\"><img src=\"https://colab.research.google.com/assets/colab-badge.svg\" alt=\"Open In Colab\"/></a>"
      ]
    },
    {
      "cell_type": "code",
      "metadata": {
        "colab": {
          "base_uri": "https://localhost:8080/"
        },
        "id": "tttLbb1E27r2",
        "outputId": "2cc2c43f-a797-4c9e-cb38-8a6f802d9983"
      },
      "source": [
        "import tensorflow as tf\n",
        "rank_0_tensor = tf.constant(4)\n",
        "print(rank_0_tensor)"
      ],
      "execution_count": 1,
      "outputs": [
        {
          "output_type": "stream",
          "text": [
            "tf.Tensor(4, shape=(), dtype=int32)\n"
          ],
          "name": "stdout"
        }
      ]
    },
    {
      "cell_type": "code",
      "metadata": {
        "colab": {
          "base_uri": "https://localhost:8080/"
        },
        "id": "MxvJ1mq03Iuz",
        "outputId": "36ff1739-2fcd-48a6-92bc-4331b0c9df73"
      },
      "source": [
        "rank_1_tensor = tf.constant([2,3,4])\n",
        "print(rank_1_tensor)"
      ],
      "execution_count": 3,
      "outputs": [
        {
          "output_type": "stream",
          "text": [
            "tf.Tensor([2 3 4], shape=(3,), dtype=int32)\n"
          ],
          "name": "stdout"
        }
      ]
    },
    {
      "cell_type": "code",
      "metadata": {
        "colab": {
          "base_uri": "https://localhost:8080/"
        },
        "id": "G27RFnR-3jfL",
        "outputId": "9ed2a6fe-82f7-4551-8ee7-c00c5ee4af62"
      },
      "source": [
        "rank_2_tensor = tf.constant([[2.6,3,4],[1,2,1],[5,6,7]])\n",
        "print(rank_2_tensor)"
      ],
      "execution_count": 8,
      "outputs": [
        {
          "output_type": "stream",
          "text": [
            "tf.Tensor(\n",
            "[[2.6 3.  4. ]\n",
            " [1.  2.  1. ]\n",
            " [5.  6.  7. ]], shape=(3, 3), dtype=float32)\n"
          ],
          "name": "stdout"
        }
      ]
    },
    {
      "cell_type": "code",
      "metadata": {
        "colab": {
          "base_uri": "https://localhost:8080/"
        },
        "id": "sH4W6PZH3-XG",
        "outputId": "8cb807a6-aaa3-4b5b-8e2b-fc54a3969b78"
      },
      "source": [
        "rank_2_tensor = tf.constant([[2,3,4],[1,2,1],[5,6,7]],dtype=tf.float16)\n",
        "print(rank_2_tensor)"
      ],
      "execution_count": 7,
      "outputs": [
        {
          "output_type": "stream",
          "text": [
            "tf.Tensor(\n",
            "[[2. 3. 4.]\n",
            " [1. 2. 1.]\n",
            " [5. 6. 7.]], shape=(3, 3), dtype=float16)\n"
          ],
          "name": "stdout"
        }
      ]
    },
    {
      "cell_type": "code",
      "metadata": {
        "colab": {
          "base_uri": "https://localhost:8080/"
        },
        "id": "Dqx_WUiK4xQr",
        "outputId": "2d324541-14ee-4672-a322-d3e80aac0e67"
      },
      "source": [
        "my_variable=tf.Variable([5+4j,6+1j])\n",
        "print(my_variable)"
      ],
      "execution_count": 12,
      "outputs": [
        {
          "output_type": "stream",
          "text": [
            "<tf.Variable 'Variable:0' shape=(2,) dtype=complex128, numpy=array([5.+4.j, 6.+1.j])>\n"
          ],
          "name": "stdout"
        }
      ]
    },
    {
      "cell_type": "code",
      "metadata": {
        "id": "1q-LzoMv5hRB"
      },
      "source": [
        ""
      ],
      "execution_count": null,
      "outputs": []
    }
  ]
}